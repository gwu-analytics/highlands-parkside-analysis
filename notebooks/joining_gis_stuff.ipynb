{
 "cells": [
  {
   "cell_type": "code",
   "execution_count": 1,
   "id": "initial_id",
   "metadata": {
    "collapsed": true,
    "ExecuteTime": {
     "end_time": "2023-09-21T16:20:02.549498200Z",
     "start_time": "2023-09-21T16:20:00.673945500Z"
    }
   },
   "outputs": [],
   "source": [
    "# Dependencies\n",
    "import pandas as pd\n",
    "import pyodbc\n",
    "\n",
    "# SQL Alchemy imports\n",
    "from sqlalchemy import create_engine"
   ]
  },
  {
   "cell_type": "code",
   "execution_count": 2,
   "outputs": [],
   "source": [
    "gis_conn = (\n",
    "    'mssql+pyodbc:///?odbc_connect='\n",
    "    'DRIVER={ODBC Driver 17 for SQL Server};'\n",
    "    'SERVER=srvvmsdeprod;'\n",
    "    'DATABASE=MAP;'\n",
    "    'Trusted_Connection=yes;'\n",
    ")"
   ],
   "metadata": {
    "collapsed": false,
    "ExecuteTime": {
     "end_time": "2023-09-21T16:20:37.815594300Z",
     "start_time": "2023-09-21T16:20:37.792596400Z"
    }
   },
   "id": "62a2726d5cfc711f"
  },
  {
   "cell_type": "code",
   "execution_count": 35,
   "outputs": [],
   "source": [
    "eam_conn = (\n",
    "    'mssql+pyodbc:///?odbc_connect='\n",
    "    'DRIVER={ODBC Driver 17 for SQL Server};'\n",
    "    'SERVER=srvvmeamproddb;'\n",
    "    'DATABASE=EAMDB;'\n",
    "    'Trusted_Connection=yes;'\n",
    ")"
   ],
   "metadata": {
    "collapsed": false,
    "ExecuteTime": {
     "end_time": "2023-09-21T16:56:05.755598300Z",
     "start_time": "2023-09-21T16:56:05.749604600Z"
    }
   },
   "id": "a1db40161339a97d"
  },
  {
   "cell_type": "code",
   "execution_count": 6,
   "outputs": [],
   "source": [
    "# Create the gis engine\n",
    "gis_engine = create_engine(gis_conn, echo=True)"
   ],
   "metadata": {
    "collapsed": false,
    "ExecuteTime": {
     "end_time": "2023-09-21T16:32:30.483950400Z",
     "start_time": "2023-09-21T16:32:30.445954100Z"
    }
   },
   "id": "8b3c117a98c38564"
  },
  {
   "cell_type": "code",
   "execution_count": 36,
   "outputs": [],
   "source": [
    "eam_engine = create_engine(eam_conn, echo=True)"
   ],
   "metadata": {
    "collapsed": false,
    "ExecuteTime": {
     "end_time": "2023-09-21T16:56:07.521600500Z",
     "start_time": "2023-09-21T16:56:07.509601300Z"
    }
   },
   "id": "3d25116c24220a67"
  },
  {
   "cell_type": "code",
   "execution_count": 27,
   "outputs": [],
   "source": [
    "df = pd.read_csv('../data/master3.csv')"
   ],
   "metadata": {
    "collapsed": false,
    "ExecuteTime": {
     "end_time": "2023-09-21T16:51:31.709109600Z",
     "start_time": "2023-09-21T16:51:31.662111Z"
    }
   },
   "id": "f8b787701d28cf06"
  },
  {
   "cell_type": "code",
   "execution_count": 28,
   "outputs": [
    {
     "data": {
      "text/plain": "      code                                               comm        date  \\\n0  2455996  added sandy loam to area and placed sod to com...   3/25/2022   \n1  1632062  The leak was at the male thread adapter that w...   10/8/2019   \n2  2459319  Excavated down about 3 ft to find a leak in th...   3/30/2022   \n3  1943595  Line was about 2 feet on the inside of fence. ...  10/12/2020   \n4  2037670  leak coming from straight stop. replaced strai...    2/1/2021   \n\n                   obj  water-loss      lead    cost  bkd-hrs label  \\\n0  Water at PRM0025614         0.0  HRANDALL   38.83      1.0  LEAK   \n1  Water at PRM0015407         0.0  EVIDAURE  503.97      9.0  LEAK   \n2  Water at PRM0016406        50.0  HRANDALL   33.53      1.0  LEAK   \n3  Water at PRM0026165         0.0  HRANDALL   33.53      1.0  LEAK   \n4  Water at PRM0020618       250.0  HRANDALL  105.89      3.0  LEAK   \n\n         conf  gis_id      object        lat       long       start  \\\n0   99.407047     NaN  SER0084995  30.597904 -97.660831  01-11-2013   \n1  100.000000     NaN  SER0098328  30.635433 -97.681256  11-02-2007   \n2  100.000000     NaN  SER0065572  30.629817 -97.677648  07-19-2011   \n3  100.000000     NaN  SER0111053  30.716708 -97.776366  01-31-2002   \n4  100.000000     NaN  SER0105203  30.700294 -97.783750  03-31-2002   \n\n            sub  \n0   LA CONTERRA  \n1      OLD TOWN  \n2      OLD TOWN  \n3    NORTH LAKE  \n4  TWIN SPRINGS  ",
      "text/html": "<div>\n<style scoped>\n    .dataframe tbody tr th:only-of-type {\n        vertical-align: middle;\n    }\n\n    .dataframe tbody tr th {\n        vertical-align: top;\n    }\n\n    .dataframe thead th {\n        text-align: right;\n    }\n</style>\n<table border=\"1\" class=\"dataframe\">\n  <thead>\n    <tr style=\"text-align: right;\">\n      <th></th>\n      <th>code</th>\n      <th>comm</th>\n      <th>date</th>\n      <th>obj</th>\n      <th>water-loss</th>\n      <th>lead</th>\n      <th>cost</th>\n      <th>bkd-hrs</th>\n      <th>label</th>\n      <th>conf</th>\n      <th>gis_id</th>\n      <th>object</th>\n      <th>lat</th>\n      <th>long</th>\n      <th>start</th>\n      <th>sub</th>\n    </tr>\n  </thead>\n  <tbody>\n    <tr>\n      <th>0</th>\n      <td>2455996</td>\n      <td>added sandy loam to area and placed sod to com...</td>\n      <td>3/25/2022</td>\n      <td>Water at PRM0025614</td>\n      <td>0.0</td>\n      <td>HRANDALL</td>\n      <td>38.83</td>\n      <td>1.0</td>\n      <td>LEAK</td>\n      <td>99.407047</td>\n      <td>NaN</td>\n      <td>SER0084995</td>\n      <td>30.597904</td>\n      <td>-97.660831</td>\n      <td>01-11-2013</td>\n      <td>LA CONTERRA</td>\n    </tr>\n    <tr>\n      <th>1</th>\n      <td>1632062</td>\n      <td>The leak was at the male thread adapter that w...</td>\n      <td>10/8/2019</td>\n      <td>Water at PRM0015407</td>\n      <td>0.0</td>\n      <td>EVIDAURE</td>\n      <td>503.97</td>\n      <td>9.0</td>\n      <td>LEAK</td>\n      <td>100.000000</td>\n      <td>NaN</td>\n      <td>SER0098328</td>\n      <td>30.635433</td>\n      <td>-97.681256</td>\n      <td>11-02-2007</td>\n      <td>OLD TOWN</td>\n    </tr>\n    <tr>\n      <th>2</th>\n      <td>2459319</td>\n      <td>Excavated down about 3 ft to find a leak in th...</td>\n      <td>3/30/2022</td>\n      <td>Water at PRM0016406</td>\n      <td>50.0</td>\n      <td>HRANDALL</td>\n      <td>33.53</td>\n      <td>1.0</td>\n      <td>LEAK</td>\n      <td>100.000000</td>\n      <td>NaN</td>\n      <td>SER0065572</td>\n      <td>30.629817</td>\n      <td>-97.677648</td>\n      <td>07-19-2011</td>\n      <td>OLD TOWN</td>\n    </tr>\n    <tr>\n      <th>3</th>\n      <td>1943595</td>\n      <td>Line was about 2 feet on the inside of fence. ...</td>\n      <td>10/12/2020</td>\n      <td>Water at PRM0026165</td>\n      <td>0.0</td>\n      <td>HRANDALL</td>\n      <td>33.53</td>\n      <td>1.0</td>\n      <td>LEAK</td>\n      <td>100.000000</td>\n      <td>NaN</td>\n      <td>SER0111053</td>\n      <td>30.716708</td>\n      <td>-97.776366</td>\n      <td>01-31-2002</td>\n      <td>NORTH LAKE</td>\n    </tr>\n    <tr>\n      <th>4</th>\n      <td>2037670</td>\n      <td>leak coming from straight stop. replaced strai...</td>\n      <td>2/1/2021</td>\n      <td>Water at PRM0020618</td>\n      <td>250.0</td>\n      <td>HRANDALL</td>\n      <td>105.89</td>\n      <td>3.0</td>\n      <td>LEAK</td>\n      <td>100.000000</td>\n      <td>NaN</td>\n      <td>SER0105203</td>\n      <td>30.700294</td>\n      <td>-97.783750</td>\n      <td>03-31-2002</td>\n      <td>TWIN SPRINGS</td>\n    </tr>\n  </tbody>\n</table>\n</div>"
     },
     "execution_count": 28,
     "metadata": {},
     "output_type": "execute_result"
    }
   ],
   "source": [
    "df.head()"
   ],
   "metadata": {
    "collapsed": false,
    "ExecuteTime": {
     "end_time": "2023-09-21T16:51:53.032046300Z",
     "start_time": "2023-09-21T16:51:53.013056Z"
    }
   },
   "id": "2abf63094a09af63"
  },
  {
   "cell_type": "code",
   "execution_count": 16,
   "outputs": [
    {
     "name": "stdout",
     "output_type": "stream",
     "text": [
      "2023-09-21 11:45:29,884 INFO sqlalchemy.engine.Engine \n",
      "    SELECT OBJECTID as obj_id, \n",
      "           COGEAMID as addr_id, \n",
      "           PREMISESID as prem_id, \n",
      "           SERVICEID as serv_id, \n",
      "           LATITUDE as lat, \n",
      "           LONGITUDE as lon\n",
      "     FROM gtown.CIS_SERVICEINFO_LOCATION\n",
      "     WHERE LATITUDE IS NOT NULL\n",
      "     AND LONGITUDE IS NOT NULL\n",
      "\n",
      "2023-09-21 11:45:29,884 INFO sqlalchemy.engine.Engine [raw sql] ()\n"
     ]
    }
   ],
   "source": [
    "serv_query = '''\n",
    "    SELECT OBJECTID as obj_id, \n",
    "           COGEAMID as addr_id, \n",
    "           PREMISESID as prem_id, \n",
    "           SERVICEID as serv_id, \n",
    "           LATITUDE as lat, \n",
    "           LONGITUDE as lon\n",
    "     FROM gtown.CIS_SERVICEINFO_LOCATION\n",
    "     WHERE LATITUDE IS NOT NULL\n",
    "     AND LONGITUDE IS NOT NULL\n",
    "'''\n",
    "serv_df = pd.read_sql_query(serv_query, gis_engine)"
   ],
   "metadata": {
    "collapsed": false,
    "ExecuteTime": {
     "end_time": "2023-09-21T16:45:31.695117600Z",
     "start_time": "2023-09-21T16:45:29.884316200Z"
    }
   },
   "id": "6a2b35045ce9c3bd"
  },
  {
   "cell_type": "code",
   "execution_count": 20,
   "outputs": [
    {
     "data": {
      "text/plain": "   obj_id   addr_id     prem_id     serv_id        lat        lon\n0  132752  3A0D0135  PRM0000014  SER0044209  30.628857 -97.701489\n1  132753  FECB9107  PRM0000015  SER0063214  30.625065 -97.871154\n2  132754  B9D8CED6  PRM0000016  SER0084013  30.694406 -97.749660\n3  132755  C340768E  PRM0000017  SER0011309  30.664667 -97.679375\n4  132756  C340768E  PRM0000017  SER0011334  30.664667 -97.679375",
      "text/html": "<div>\n<style scoped>\n    .dataframe tbody tr th:only-of-type {\n        vertical-align: middle;\n    }\n\n    .dataframe tbody tr th {\n        vertical-align: top;\n    }\n\n    .dataframe thead th {\n        text-align: right;\n    }\n</style>\n<table border=\"1\" class=\"dataframe\">\n  <thead>\n    <tr style=\"text-align: right;\">\n      <th></th>\n      <th>obj_id</th>\n      <th>addr_id</th>\n      <th>prem_id</th>\n      <th>serv_id</th>\n      <th>lat</th>\n      <th>lon</th>\n    </tr>\n  </thead>\n  <tbody>\n    <tr>\n      <th>0</th>\n      <td>132752</td>\n      <td>3A0D0135</td>\n      <td>PRM0000014</td>\n      <td>SER0044209</td>\n      <td>30.628857</td>\n      <td>-97.701489</td>\n    </tr>\n    <tr>\n      <th>1</th>\n      <td>132753</td>\n      <td>FECB9107</td>\n      <td>PRM0000015</td>\n      <td>SER0063214</td>\n      <td>30.625065</td>\n      <td>-97.871154</td>\n    </tr>\n    <tr>\n      <th>2</th>\n      <td>132754</td>\n      <td>B9D8CED6</td>\n      <td>PRM0000016</td>\n      <td>SER0084013</td>\n      <td>30.694406</td>\n      <td>-97.749660</td>\n    </tr>\n    <tr>\n      <th>3</th>\n      <td>132755</td>\n      <td>C340768E</td>\n      <td>PRM0000017</td>\n      <td>SER0011309</td>\n      <td>30.664667</td>\n      <td>-97.679375</td>\n    </tr>\n    <tr>\n      <th>4</th>\n      <td>132756</td>\n      <td>C340768E</td>\n      <td>PRM0000017</td>\n      <td>SER0011334</td>\n      <td>30.664667</td>\n      <td>-97.679375</td>\n    </tr>\n  </tbody>\n</table>\n</div>"
     },
     "execution_count": 20,
     "metadata": {},
     "output_type": "execute_result"
    }
   ],
   "source": [
    "serv_df.head()"
   ],
   "metadata": {
    "collapsed": false,
    "ExecuteTime": {
     "end_time": "2023-09-21T16:45:54.651683900Z",
     "start_time": "2023-09-21T16:45:54.627681Z"
    }
   },
   "id": "4d1855f1999ca06b"
  },
  {
   "cell_type": "code",
   "execution_count": 17,
   "outputs": [
    {
     "name": "stdout",
     "output_type": "stream",
     "text": [
      "<class 'pandas.core.frame.DataFrame'>\n",
      "RangeIndex: 223498 entries, 0 to 223497\n",
      "Data columns (total 6 columns):\n",
      " #   Column   Non-Null Count   Dtype  \n",
      "---  ------   --------------   -----  \n",
      " 0   obj_id   223498 non-null  int64  \n",
      " 1   addr_id  223498 non-null  object \n",
      " 2   prem_id  223498 non-null  object \n",
      " 3   serv_id  223498 non-null  object \n",
      " 4   lat      223498 non-null  float64\n",
      " 5   lon      223498 non-null  float64\n",
      "dtypes: float64(2), int64(1), object(3)\n",
      "memory usage: 10.2+ MB\n"
     ]
    }
   ],
   "source": [
    "serv_df.info()"
   ],
   "metadata": {
    "collapsed": false,
    "ExecuteTime": {
     "end_time": "2023-09-21T16:45:38.616704200Z",
     "start_time": "2023-09-21T16:45:38.573711600Z"
    }
   },
   "id": "de3d393153d82451"
  },
  {
   "cell_type": "code",
   "execution_count": 42,
   "outputs": [],
   "source": [
    "eam_obj_query = '''\n",
    "    SELECT *\n",
    "    FROM R5OBJECTS\n",
    "'''"
   ],
   "metadata": {
    "collapsed": false,
    "ExecuteTime": {
     "end_time": "2023-09-21T17:05:53.671753Z",
     "start_time": "2023-09-21T17:05:53.661755200Z"
    }
   },
   "id": "16975c2f6b55d781"
  },
  {
   "cell_type": "code",
   "execution_count": 43,
   "outputs": [
    {
     "name": "stdout",
     "output_type": "stream",
     "text": [
      "2023-09-21 12:05:55,824 INFO sqlalchemy.engine.Engine SELECT CAST(SERVERPROPERTY('ProductVersion') AS VARCHAR)\n",
      "2023-09-21 12:05:55,825 INFO sqlalchemy.engine.Engine [raw sql] ()\n",
      "2023-09-21 12:05:55,827 INFO sqlalchemy.engine.Engine SELECT schema_name()\n",
      "2023-09-21 12:05:55,827 INFO sqlalchemy.engine.Engine [generated in 0.00057s] ()\n",
      "2023-09-21 12:05:55,844 INFO sqlalchemy.engine.Engine SELECT CAST('test max support' AS NVARCHAR(max))\n",
      "2023-09-21 12:05:55,844 INFO sqlalchemy.engine.Engine [generated in 0.00083s] ()\n",
      "2023-09-21 12:05:55,847 INFO sqlalchemy.engine.Engine \n",
      "    SELECT *\n",
      "    FROM R5OBJECTS\n",
      "\n",
      "2023-09-21 12:05:55,847 INFO sqlalchemy.engine.Engine [raw sql] ()\n"
     ]
    }
   ],
   "source": [
    "eam_obj_df = pd.read_sql_query(eam_obj_query, eam_engine)"
   ],
   "metadata": {
    "collapsed": false,
    "ExecuteTime": {
     "end_time": "2023-09-21T17:08:43.213355800Z",
     "start_time": "2023-09-21T17:05:55.741304700Z"
    }
   },
   "id": "60d1a822fbd25a74"
  },
  {
   "cell_type": "code",
   "execution_count": 46,
   "outputs": [
    {
     "data": {
      "text/plain": "  OBJ_OBTYPE OBJ_OBRTYPE        OBJ_CODE        OBJ_DESC OBJ_CLASS  \\\n0          *           *               *      ANY OBJECT      None   \n1          A           A  (512) 931-2018  9-1-1 'admin'      PHONE   \n2          A           A  (512) 931-2080  9-1-1 'admin'      PHONE   \n3          A           A  (512) 931-2137  9-1-1 'admin'      PHONE   \n4          A           A  (512) 931-2147  9-1-1 'admin'      PHONE   \n\n  OBJ_CATEGORY             OBJ_COSTCODE OBJ_LTYPE OBJ_LOCATION OBJ_TAG  ...  \\\n0         None                     None      None         None    None  ...   \n1         None  52501-100-CC0202-SC0286      None         None    None  ...   \n2         None  52501-100-CC0202-SC0286      None         None    None  ...   \n3         None  52501-100-CC0202-SC0286      None         None    None  ...   \n4         None  52501-100-CC0202-SC0286      None         None    None  ...   \n\n  OBJ_UDFCHAR49 OBJ_UDFCHAR50 OBJ_UDFCHAR51 OBJ_UDFCHAR52 OBJ_UDFCHAR53  \\\n0          None          None          None          None          None   \n1          None          None          None          None          None   \n2          None          None          None          None          None   \n3          None          None          None          None          None   \n4          None          None          None          None          None   \n\n  OBJ_UDFCHAR54 OBJ_UDFCHAR55 OBJ_SEGMENTVALUE OBJ_DEVICETOLFROM_DECIMALS  \\\n0          None          None             None                       None   \n1          None          None             None                       None   \n2          None          None             None                       None   \n3          None          None             None                       None   \n4          None          None             None                       None   \n\n  OBJ_DEVICETOLTO_DECIMALS  \n0                     None  \n1                     None  \n2                     None  \n3                     None  \n4                     None  \n\n[5 rows x 448 columns]",
      "text/html": "<div>\n<style scoped>\n    .dataframe tbody tr th:only-of-type {\n        vertical-align: middle;\n    }\n\n    .dataframe tbody tr th {\n        vertical-align: top;\n    }\n\n    .dataframe thead th {\n        text-align: right;\n    }\n</style>\n<table border=\"1\" class=\"dataframe\">\n  <thead>\n    <tr style=\"text-align: right;\">\n      <th></th>\n      <th>OBJ_OBTYPE</th>\n      <th>OBJ_OBRTYPE</th>\n      <th>OBJ_CODE</th>\n      <th>OBJ_DESC</th>\n      <th>OBJ_CLASS</th>\n      <th>OBJ_CATEGORY</th>\n      <th>OBJ_COSTCODE</th>\n      <th>OBJ_LTYPE</th>\n      <th>OBJ_LOCATION</th>\n      <th>OBJ_TAG</th>\n      <th>...</th>\n      <th>OBJ_UDFCHAR49</th>\n      <th>OBJ_UDFCHAR50</th>\n      <th>OBJ_UDFCHAR51</th>\n      <th>OBJ_UDFCHAR52</th>\n      <th>OBJ_UDFCHAR53</th>\n      <th>OBJ_UDFCHAR54</th>\n      <th>OBJ_UDFCHAR55</th>\n      <th>OBJ_SEGMENTVALUE</th>\n      <th>OBJ_DEVICETOLFROM_DECIMALS</th>\n      <th>OBJ_DEVICETOLTO_DECIMALS</th>\n    </tr>\n  </thead>\n  <tbody>\n    <tr>\n      <th>0</th>\n      <td>*</td>\n      <td>*</td>\n      <td>*</td>\n      <td>ANY OBJECT</td>\n      <td>None</td>\n      <td>None</td>\n      <td>None</td>\n      <td>None</td>\n      <td>None</td>\n      <td>None</td>\n      <td>...</td>\n      <td>None</td>\n      <td>None</td>\n      <td>None</td>\n      <td>None</td>\n      <td>None</td>\n      <td>None</td>\n      <td>None</td>\n      <td>None</td>\n      <td>None</td>\n      <td>None</td>\n    </tr>\n    <tr>\n      <th>1</th>\n      <td>A</td>\n      <td>A</td>\n      <td>(512) 931-2018</td>\n      <td>9-1-1 'admin'</td>\n      <td>PHONE</td>\n      <td>None</td>\n      <td>52501-100-CC0202-SC0286</td>\n      <td>None</td>\n      <td>None</td>\n      <td>None</td>\n      <td>...</td>\n      <td>None</td>\n      <td>None</td>\n      <td>None</td>\n      <td>None</td>\n      <td>None</td>\n      <td>None</td>\n      <td>None</td>\n      <td>None</td>\n      <td>None</td>\n      <td>None</td>\n    </tr>\n    <tr>\n      <th>2</th>\n      <td>A</td>\n      <td>A</td>\n      <td>(512) 931-2080</td>\n      <td>9-1-1 'admin'</td>\n      <td>PHONE</td>\n      <td>None</td>\n      <td>52501-100-CC0202-SC0286</td>\n      <td>None</td>\n      <td>None</td>\n      <td>None</td>\n      <td>...</td>\n      <td>None</td>\n      <td>None</td>\n      <td>None</td>\n      <td>None</td>\n      <td>None</td>\n      <td>None</td>\n      <td>None</td>\n      <td>None</td>\n      <td>None</td>\n      <td>None</td>\n    </tr>\n    <tr>\n      <th>3</th>\n      <td>A</td>\n      <td>A</td>\n      <td>(512) 931-2137</td>\n      <td>9-1-1 'admin'</td>\n      <td>PHONE</td>\n      <td>None</td>\n      <td>52501-100-CC0202-SC0286</td>\n      <td>None</td>\n      <td>None</td>\n      <td>None</td>\n      <td>...</td>\n      <td>None</td>\n      <td>None</td>\n      <td>None</td>\n      <td>None</td>\n      <td>None</td>\n      <td>None</td>\n      <td>None</td>\n      <td>None</td>\n      <td>None</td>\n      <td>None</td>\n    </tr>\n    <tr>\n      <th>4</th>\n      <td>A</td>\n      <td>A</td>\n      <td>(512) 931-2147</td>\n      <td>9-1-1 'admin'</td>\n      <td>PHONE</td>\n      <td>None</td>\n      <td>52501-100-CC0202-SC0286</td>\n      <td>None</td>\n      <td>None</td>\n      <td>None</td>\n      <td>...</td>\n      <td>None</td>\n      <td>None</td>\n      <td>None</td>\n      <td>None</td>\n      <td>None</td>\n      <td>None</td>\n      <td>None</td>\n      <td>None</td>\n      <td>None</td>\n      <td>None</td>\n    </tr>\n  </tbody>\n</table>\n<p>5 rows × 448 columns</p>\n</div>"
     },
     "execution_count": 46,
     "metadata": {},
     "output_type": "execute_result"
    }
   ],
   "source": [
    "eam_obj_df.head()"
   ],
   "metadata": {
    "collapsed": false,
    "ExecuteTime": {
     "end_time": "2023-09-21T17:10:03.079467500Z",
     "start_time": "2023-09-21T17:10:03.032467500Z"
    }
   },
   "id": "53aa46652c123845"
  },
  {
   "cell_type": "code",
   "execution_count": 56,
   "outputs": [
    {
     "data": {
      "text/plain": "       OBJ_OBTYPE OBJ_OBRTYPE    OBJ_CODE                           OBJ_DESC  \\\n74905           A           A       13566   Hydrant Near, 301 MILL POND PATH   \n74926           A           A       13567  Hydrant Near, 115 GRANITE PEAK CV   \n74947           A           A       13568       Valve Near, 132 LONE STAR DR   \n74968           A           A       13569    Valve Near, 102 DOUBLE FIRE TRL   \n74989           A           A       13570       Water Main Near, 1370 SH 195   \n...           ...         ...         ...                                ...   \n699841        PRM           S  PRM0076321                      245_TRAVIS_LN   \n699842        PRM           S  PRM0076322                      249_TRAVIS_LN   \n699843        PRM           S  PRM0076323                      232_TRAVIS_LN   \n699844        PRM           S  PRM0076324                108_SHADY HILL_LOOP   \n699845        PRM           S  PRM0076325                   316_CASTILLO_BND   \n\n       OBJ_CLASS       OBJ_CATEGORY             OBJ_COSTCODE OBJ_LTYPE  \\\n74905        HYD            UNKNOWN  52509-660-CC0528-SC0314      None   \n74926        HYD            UNKNOWN  52509-660-CC0528-SC0314      None   \n74947   PRCSVALV  PRESSURE REDUCING        660-5-0528-51-542      None   \n74968   PRCSVALV  PRESSURE REDUCING        660-5-0528-51-542      None   \n74989    WTRMAIN    DISTRIBUTION 06  52509-660-CC0528-SC0314      None   \n...          ...                ...                      ...       ...   \n699841  PREMISES               None                     None      None   \n699842  PREMISES               None                     None      None   \n699843  PREMISES               None                     None      None   \n699844  PREMISES               None                     None      None   \n699845  PREMISES               None                     None      None   \n\n       OBJ_LOCATION OBJ_TAG  ... OBJ_UDFCHAR49 OBJ_UDFCHAR50 OBJ_UDFCHAR51  \\\n74905          None    None  ...          None          None          None   \n74926          None    None  ...          None          None          None   \n74947          None    None  ...          None          None          None   \n74968          None    None  ...          None          None          None   \n74989          None    None  ...          None          None          None   \n...             ...     ...  ...           ...           ...           ...   \n699841         None    None  ...          None          None          None   \n699842         None    None  ...          None          None          None   \n699843         None    None  ...          None          None          None   \n699844         None    None  ...          None          None          None   \n699845         None    None  ...          None          None          None   \n\n       OBJ_UDFCHAR52 OBJ_UDFCHAR53 OBJ_UDFCHAR54 OBJ_UDFCHAR55  \\\n74905           None          None          None          None   \n74926           None          None          None          None   \n74947           None          None          None          None   \n74968           None          None          None          None   \n74989           None          None          None          None   \n...              ...           ...           ...           ...   \n699841          None          None          None          None   \n699842          None          None          None          None   \n699843          None          None          None          None   \n699844          None          None          None          None   \n699845          None          None          None          None   \n\n       OBJ_SEGMENTVALUE OBJ_DEVICETOLFROM_DECIMALS OBJ_DEVICETOLTO_DECIMALS  \n74905              None                       None                     None  \n74926              None                       None                     None  \n74947              None                       None                     None  \n74968              None                       None                     None  \n74989              None                       None                     None  \n...                 ...                        ...                      ...  \n699841             None                       None                     None  \n699842             None                       None                     None  \n699843             None                       None                     None  \n699844             None                       None                     None  \n699845             None                       None                     None  \n\n[223696 rows x 448 columns]",
      "text/html": "<div>\n<style scoped>\n    .dataframe tbody tr th:only-of-type {\n        vertical-align: middle;\n    }\n\n    .dataframe tbody tr th {\n        vertical-align: top;\n    }\n\n    .dataframe thead th {\n        text-align: right;\n    }\n</style>\n<table border=\"1\" class=\"dataframe\">\n  <thead>\n    <tr style=\"text-align: right;\">\n      <th></th>\n      <th>OBJ_OBTYPE</th>\n      <th>OBJ_OBRTYPE</th>\n      <th>OBJ_CODE</th>\n      <th>OBJ_DESC</th>\n      <th>OBJ_CLASS</th>\n      <th>OBJ_CATEGORY</th>\n      <th>OBJ_COSTCODE</th>\n      <th>OBJ_LTYPE</th>\n      <th>OBJ_LOCATION</th>\n      <th>OBJ_TAG</th>\n      <th>...</th>\n      <th>OBJ_UDFCHAR49</th>\n      <th>OBJ_UDFCHAR50</th>\n      <th>OBJ_UDFCHAR51</th>\n      <th>OBJ_UDFCHAR52</th>\n      <th>OBJ_UDFCHAR53</th>\n      <th>OBJ_UDFCHAR54</th>\n      <th>OBJ_UDFCHAR55</th>\n      <th>OBJ_SEGMENTVALUE</th>\n      <th>OBJ_DEVICETOLFROM_DECIMALS</th>\n      <th>OBJ_DEVICETOLTO_DECIMALS</th>\n    </tr>\n  </thead>\n  <tbody>\n    <tr>\n      <th>74905</th>\n      <td>A</td>\n      <td>A</td>\n      <td>13566</td>\n      <td>Hydrant Near, 301 MILL POND PATH</td>\n      <td>HYD</td>\n      <td>UNKNOWN</td>\n      <td>52509-660-CC0528-SC0314</td>\n      <td>None</td>\n      <td>None</td>\n      <td>None</td>\n      <td>...</td>\n      <td>None</td>\n      <td>None</td>\n      <td>None</td>\n      <td>None</td>\n      <td>None</td>\n      <td>None</td>\n      <td>None</td>\n      <td>None</td>\n      <td>None</td>\n      <td>None</td>\n    </tr>\n    <tr>\n      <th>74926</th>\n      <td>A</td>\n      <td>A</td>\n      <td>13567</td>\n      <td>Hydrant Near, 115 GRANITE PEAK CV</td>\n      <td>HYD</td>\n      <td>UNKNOWN</td>\n      <td>52509-660-CC0528-SC0314</td>\n      <td>None</td>\n      <td>None</td>\n      <td>None</td>\n      <td>...</td>\n      <td>None</td>\n      <td>None</td>\n      <td>None</td>\n      <td>None</td>\n      <td>None</td>\n      <td>None</td>\n      <td>None</td>\n      <td>None</td>\n      <td>None</td>\n      <td>None</td>\n    </tr>\n    <tr>\n      <th>74947</th>\n      <td>A</td>\n      <td>A</td>\n      <td>13568</td>\n      <td>Valve Near, 132 LONE STAR DR</td>\n      <td>PRCSVALV</td>\n      <td>PRESSURE REDUCING</td>\n      <td>660-5-0528-51-542</td>\n      <td>None</td>\n      <td>None</td>\n      <td>None</td>\n      <td>...</td>\n      <td>None</td>\n      <td>None</td>\n      <td>None</td>\n      <td>None</td>\n      <td>None</td>\n      <td>None</td>\n      <td>None</td>\n      <td>None</td>\n      <td>None</td>\n      <td>None</td>\n    </tr>\n    <tr>\n      <th>74968</th>\n      <td>A</td>\n      <td>A</td>\n      <td>13569</td>\n      <td>Valve Near, 102 DOUBLE FIRE TRL</td>\n      <td>PRCSVALV</td>\n      <td>PRESSURE REDUCING</td>\n      <td>660-5-0528-51-542</td>\n      <td>None</td>\n      <td>None</td>\n      <td>None</td>\n      <td>...</td>\n      <td>None</td>\n      <td>None</td>\n      <td>None</td>\n      <td>None</td>\n      <td>None</td>\n      <td>None</td>\n      <td>None</td>\n      <td>None</td>\n      <td>None</td>\n      <td>None</td>\n    </tr>\n    <tr>\n      <th>74989</th>\n      <td>A</td>\n      <td>A</td>\n      <td>13570</td>\n      <td>Water Main Near, 1370 SH 195</td>\n      <td>WTRMAIN</td>\n      <td>DISTRIBUTION 06</td>\n      <td>52509-660-CC0528-SC0314</td>\n      <td>None</td>\n      <td>None</td>\n      <td>None</td>\n      <td>...</td>\n      <td>None</td>\n      <td>None</td>\n      <td>None</td>\n      <td>None</td>\n      <td>None</td>\n      <td>None</td>\n      <td>None</td>\n      <td>None</td>\n      <td>None</td>\n      <td>None</td>\n    </tr>\n    <tr>\n      <th>...</th>\n      <td>...</td>\n      <td>...</td>\n      <td>...</td>\n      <td>...</td>\n      <td>...</td>\n      <td>...</td>\n      <td>...</td>\n      <td>...</td>\n      <td>...</td>\n      <td>...</td>\n      <td>...</td>\n      <td>...</td>\n      <td>...</td>\n      <td>...</td>\n      <td>...</td>\n      <td>...</td>\n      <td>...</td>\n      <td>...</td>\n      <td>...</td>\n      <td>...</td>\n      <td>...</td>\n    </tr>\n    <tr>\n      <th>699841</th>\n      <td>PRM</td>\n      <td>S</td>\n      <td>PRM0076321</td>\n      <td>245_TRAVIS_LN</td>\n      <td>PREMISES</td>\n      <td>None</td>\n      <td>None</td>\n      <td>None</td>\n      <td>None</td>\n      <td>None</td>\n      <td>...</td>\n      <td>None</td>\n      <td>None</td>\n      <td>None</td>\n      <td>None</td>\n      <td>None</td>\n      <td>None</td>\n      <td>None</td>\n      <td>None</td>\n      <td>None</td>\n      <td>None</td>\n    </tr>\n    <tr>\n      <th>699842</th>\n      <td>PRM</td>\n      <td>S</td>\n      <td>PRM0076322</td>\n      <td>249_TRAVIS_LN</td>\n      <td>PREMISES</td>\n      <td>None</td>\n      <td>None</td>\n      <td>None</td>\n      <td>None</td>\n      <td>None</td>\n      <td>...</td>\n      <td>None</td>\n      <td>None</td>\n      <td>None</td>\n      <td>None</td>\n      <td>None</td>\n      <td>None</td>\n      <td>None</td>\n      <td>None</td>\n      <td>None</td>\n      <td>None</td>\n    </tr>\n    <tr>\n      <th>699843</th>\n      <td>PRM</td>\n      <td>S</td>\n      <td>PRM0076323</td>\n      <td>232_TRAVIS_LN</td>\n      <td>PREMISES</td>\n      <td>None</td>\n      <td>None</td>\n      <td>None</td>\n      <td>None</td>\n      <td>None</td>\n      <td>...</td>\n      <td>None</td>\n      <td>None</td>\n      <td>None</td>\n      <td>None</td>\n      <td>None</td>\n      <td>None</td>\n      <td>None</td>\n      <td>None</td>\n      <td>None</td>\n      <td>None</td>\n    </tr>\n    <tr>\n      <th>699844</th>\n      <td>PRM</td>\n      <td>S</td>\n      <td>PRM0076324</td>\n      <td>108_SHADY HILL_LOOP</td>\n      <td>PREMISES</td>\n      <td>None</td>\n      <td>None</td>\n      <td>None</td>\n      <td>None</td>\n      <td>None</td>\n      <td>...</td>\n      <td>None</td>\n      <td>None</td>\n      <td>None</td>\n      <td>None</td>\n      <td>None</td>\n      <td>None</td>\n      <td>None</td>\n      <td>None</td>\n      <td>None</td>\n      <td>None</td>\n    </tr>\n    <tr>\n      <th>699845</th>\n      <td>PRM</td>\n      <td>S</td>\n      <td>PRM0076325</td>\n      <td>316_CASTILLO_BND</td>\n      <td>PREMISES</td>\n      <td>None</td>\n      <td>None</td>\n      <td>None</td>\n      <td>None</td>\n      <td>None</td>\n      <td>...</td>\n      <td>None</td>\n      <td>None</td>\n      <td>None</td>\n      <td>None</td>\n      <td>None</td>\n      <td>None</td>\n      <td>None</td>\n      <td>None</td>\n      <td>None</td>\n      <td>None</td>\n    </tr>\n  </tbody>\n</table>\n<p>223696 rows × 448 columns</p>\n</div>"
     },
     "execution_count": 56,
     "metadata": {},
     "output_type": "execute_result"
    }
   ],
   "source": [
    "eam_obj_df[eam_obj_df.OBJ_GISOBJID.notna()]"
   ],
   "metadata": {
    "collapsed": false,
    "ExecuteTime": {
     "end_time": "2023-09-21T17:22:33.600148600Z",
     "start_time": "2023-09-21T17:22:32.461207600Z"
    }
   },
   "id": "664b1336943c4bb6"
  },
  {
   "cell_type": "code",
   "execution_count": 18,
   "outputs": [
    {
     "data": {
      "text/plain": "      code                                               comm        date  \\\n0  2455996  added sandy loam to area and placed sod to com...   3/25/2022   \n1  1632062  The leak was at the male thread adapter that w...   10/8/2019   \n2  2459319  Excavated down about 3 ft to find a leak in th...   3/30/2022   \n3  1943595  Line was about 2 feet on the inside of fence. ...  10/12/2020   \n4  2037670  leak coming from straight stop. replaced strai...    2/1/2021   \n\n                   obj  water-loss      lead    cost  bkd-hrs label  \\\n0  Water at PRM0025614         0.0  HRANDALL   38.83      1.0  LEAK   \n1  Water at PRM0015407         0.0  EVIDAURE  503.97      9.0  LEAK   \n2  Water at PRM0016406        50.0  HRANDALL   33.53      1.0  LEAK   \n3  Water at PRM0026165         0.0  HRANDALL   33.53      1.0  LEAK   \n4  Water at PRM0020618       250.0  HRANDALL  105.89      3.0  LEAK   \n\n         conf  gis_id      object        lat       long       start  \\\n0   99.407047     NaN  SER0084995  30.597904 -97.660831  01-11-2013   \n1  100.000000     NaN  SER0098328  30.635433 -97.681256  11-02-2007   \n2  100.000000     NaN  SER0065572  30.629817 -97.677648  07-19-2011   \n3  100.000000     NaN  SER0111053  30.716708 -97.776366  01-31-2002   \n4  100.000000     NaN  SER0105203  30.700294 -97.783750  03-31-2002   \n\n            sub  \n0   LA CONTERRA  \n1      OLD TOWN  \n2      OLD TOWN  \n3    NORTH LAKE  \n4  TWIN SPRINGS  ",
      "text/html": "<div>\n<style scoped>\n    .dataframe tbody tr th:only-of-type {\n        vertical-align: middle;\n    }\n\n    .dataframe tbody tr th {\n        vertical-align: top;\n    }\n\n    .dataframe thead th {\n        text-align: right;\n    }\n</style>\n<table border=\"1\" class=\"dataframe\">\n  <thead>\n    <tr style=\"text-align: right;\">\n      <th></th>\n      <th>code</th>\n      <th>comm</th>\n      <th>date</th>\n      <th>obj</th>\n      <th>water-loss</th>\n      <th>lead</th>\n      <th>cost</th>\n      <th>bkd-hrs</th>\n      <th>label</th>\n      <th>conf</th>\n      <th>gis_id</th>\n      <th>object</th>\n      <th>lat</th>\n      <th>long</th>\n      <th>start</th>\n      <th>sub</th>\n    </tr>\n  </thead>\n  <tbody>\n    <tr>\n      <th>0</th>\n      <td>2455996</td>\n      <td>added sandy loam to area and placed sod to com...</td>\n      <td>3/25/2022</td>\n      <td>Water at PRM0025614</td>\n      <td>0.0</td>\n      <td>HRANDALL</td>\n      <td>38.83</td>\n      <td>1.0</td>\n      <td>LEAK</td>\n      <td>99.407047</td>\n      <td>NaN</td>\n      <td>SER0084995</td>\n      <td>30.597904</td>\n      <td>-97.660831</td>\n      <td>01-11-2013</td>\n      <td>LA CONTERRA</td>\n    </tr>\n    <tr>\n      <th>1</th>\n      <td>1632062</td>\n      <td>The leak was at the male thread adapter that w...</td>\n      <td>10/8/2019</td>\n      <td>Water at PRM0015407</td>\n      <td>0.0</td>\n      <td>EVIDAURE</td>\n      <td>503.97</td>\n      <td>9.0</td>\n      <td>LEAK</td>\n      <td>100.000000</td>\n      <td>NaN</td>\n      <td>SER0098328</td>\n      <td>30.635433</td>\n      <td>-97.681256</td>\n      <td>11-02-2007</td>\n      <td>OLD TOWN</td>\n    </tr>\n    <tr>\n      <th>2</th>\n      <td>2459319</td>\n      <td>Excavated down about 3 ft to find a leak in th...</td>\n      <td>3/30/2022</td>\n      <td>Water at PRM0016406</td>\n      <td>50.0</td>\n      <td>HRANDALL</td>\n      <td>33.53</td>\n      <td>1.0</td>\n      <td>LEAK</td>\n      <td>100.000000</td>\n      <td>NaN</td>\n      <td>SER0065572</td>\n      <td>30.629817</td>\n      <td>-97.677648</td>\n      <td>07-19-2011</td>\n      <td>OLD TOWN</td>\n    </tr>\n    <tr>\n      <th>3</th>\n      <td>1943595</td>\n      <td>Line was about 2 feet on the inside of fence. ...</td>\n      <td>10/12/2020</td>\n      <td>Water at PRM0026165</td>\n      <td>0.0</td>\n      <td>HRANDALL</td>\n      <td>33.53</td>\n      <td>1.0</td>\n      <td>LEAK</td>\n      <td>100.000000</td>\n      <td>NaN</td>\n      <td>SER0111053</td>\n      <td>30.716708</td>\n      <td>-97.776366</td>\n      <td>01-31-2002</td>\n      <td>NORTH LAKE</td>\n    </tr>\n    <tr>\n      <th>4</th>\n      <td>2037670</td>\n      <td>leak coming from straight stop. replaced strai...</td>\n      <td>2/1/2021</td>\n      <td>Water at PRM0020618</td>\n      <td>250.0</td>\n      <td>HRANDALL</td>\n      <td>105.89</td>\n      <td>3.0</td>\n      <td>LEAK</td>\n      <td>100.000000</td>\n      <td>NaN</td>\n      <td>SER0105203</td>\n      <td>30.700294</td>\n      <td>-97.783750</td>\n      <td>03-31-2002</td>\n      <td>TWIN SPRINGS</td>\n    </tr>\n  </tbody>\n</table>\n</div>"
     },
     "execution_count": 18,
     "metadata": {},
     "output_type": "execute_result"
    }
   ],
   "source": [
    "df.head()"
   ],
   "metadata": {
    "collapsed": false,
    "ExecuteTime": {
     "end_time": "2023-09-21T16:45:41.654779400Z",
     "start_time": "2023-09-21T16:45:41.634654800Z"
    }
   },
   "id": "11d64a8a76040ced"
  },
  {
   "cell_type": "code",
   "execution_count": 44,
   "outputs": [],
   "source": [
    "df1 = df"
   ],
   "metadata": {
    "collapsed": false,
    "ExecuteTime": {
     "end_time": "2023-09-21T17:08:43.227355300Z",
     "start_time": "2023-09-21T17:08:43.220369600Z"
    }
   },
   "id": "ec3bf49a5632f2d0"
  },
  {
   "cell_type": "code",
   "execution_count": 49,
   "outputs": [
    {
     "data": {
      "text/plain": "         code                                               comm        date  \\\n129    519842  Repaired the service_comma_ sectioned in a bra...   9/13/2016   \n648    789435  This is a city leak on the 3/4 inch poly just ...    5/1/2018   \n950    537777  put grass seed outgrass seed neededclean up fi...   12/1/2016   \n1912   485428  CALLER REPORTS WATER LEAK ON THE RIGHT SIDE OF...   6/30/2016   \n2528   272773  The 1/4 ball valve inside the cover for the fl...    7/8/2015   \n3243   339521  There was no leak. A contractor was pumping wa...  11/13/2015   \n3384   164507  fix the separation on the city side_comma_ pul...  10/23/2014   \n3488   215645  Asset needs updating there was a gate valve th...   3/10/2015   \n4026   784697  Water leak reported by Pete.Locate Ticket # 58...   4/19/2018   \n4067   811529  Went back to check again. Locates are on the g...    7/3/2018   \n4090  1261817  Ground is wet.  Got pulled off for an emergenc...   8/13/2018   \n4156  1348497  verify if the repair has been made or what the...   11/6/2018   \n4252  1488641  water spotted in road and in ditch same side a...    4/9/2019   \n4524  1812575  The crack was to long for a full circle clamp ...    5/2/2020   \n4664  1970943  Customer had is burmuds grass we could not lay...    2/5/2021   \n4733  2079499  loactes have been called in LEAK DETECTION DET...    3/2/2021   \n4941  2299875  customer angle stop was off Jason Ellis turned...  10/31/2021   \n\n                           obj  water-loss      lead     cost  bkd-hrs label  \\\n129       71 WILDWOOD DR - 202    233000.0  CPOUSSON    69.71      2.0  LEAK   \n648          508 RIVER DOWN RD         0.0   CGRAHAM    67.06      2.0  LEAK   \n950           2009 JIM HOGG RD         0.0  HRANDALL    38.83      1.0  LEAK   \n1912          5405 WILLIAMS DR         0.0  JMCELROY    44.93      1.0  LEAK   \n2528       1319 INDIAN LAKE RD         0.0  JMCELROY    33.53      1.0  LEAK   \n3243          5405 WILLIAMS DR         0.0  JMCELROY    38.83      1.0  LEAK   \n3384  210 PRAIRIE SPRINGS LOOP         0.0   CGRAHAM   502.56     12.0  LEAK   \n3488             301 E 19TH ST         0.0  CPOUSSON  1022.34     28.0  LEAK   \n4026    150 PEACEFUL VALLEY RD         0.0  HRANDALL   179.72      4.0  LEAK   \n4067         508 RIVER DOWN RD         0.0  HRANDALL   289.44      8.0  LEAK   \n4090    150 PEACEFUL VALLEY RD         0.0  EVIDAURE    38.83      1.0  LEAK   \n4156            305 SHANNON LN         0.0   CGRAHAM   100.59      3.0  LEAK   \n4252       30318 BUMBLE BEE DR         0.0  EVIDAURE      NaN      NaN  LEAK   \n4524                785 CR 255     78000.0  AHAMMACK  3238.92     57.0  LEAK   \n4664    136 WHISPERING WIND DR     25000.0    ICONDE   111.19      3.0  LEAK   \n4733            201 INNWOOD DR         0.0    ICONDE      NaN      NaN  LEAK   \n4941               1510 ASH ST         0.0   CGRAHAM    38.83      1.0  LEAK   \n\n            conf       gis_id     object        lat       long start  sub  \n129   100.000000  100012398.0  1.44E+245        NaN -97.718864   NaN  NaN  \n648   100.000000  100027665.0   3.42E+14        NaN -97.706831   NaN  NaN  \n950   100.000000  100007105.0   3.06E+14        NaN -97.753802   NaN  NaN  \n1912   99.166709  100034678.0   9.62E+82        NaN -97.743840   NaN  NaN  \n2528   99.891174  100077396.0   5.45E+29        NaN -97.750566   NaN  NaN  \n3243   56.555057  100034678.0   9.62E+82        NaN -97.743840   NaN  NaN  \n3384   60.447884  100026645.0   6.71E+12        NaN -97.653578   NaN  NaN  \n3488  100.000000  100015574.0    3933254        NaN -97.675733   NaN  NaN  \n4026  100.000000  100074957.0   3.37E+09        NaN -97.939771   NaN  NaN  \n4067   99.986219  100027665.0   3.42E+14        NaN -97.706831   NaN  NaN  \n4090  100.000000  100074957.0   3.37E+09        NaN -97.939771   NaN  NaN  \n4156   99.448204  100031987.0   2.12E+10        NaN -97.683008   NaN  NaN  \n4252   99.998915  100016766.0       1318        NaN -97.659449   NaN  NaN  \n4524  100.000000  100072576.0   4.43E+08  30.660019 -97.856843   NaN  NaN  \n4664   99.977356  100019470.0   2.20E+12        NaN -97.717580   NaN  NaN  \n4733   99.815589  100033099.0   4.76E+05        NaN        NaN   NaN  NaN  \n4941   98.814011  100018679.0   5.02E+75        NaN -97.673177   NaN  NaN  ",
      "text/html": "<div>\n<style scoped>\n    .dataframe tbody tr th:only-of-type {\n        vertical-align: middle;\n    }\n\n    .dataframe tbody tr th {\n        vertical-align: top;\n    }\n\n    .dataframe thead th {\n        text-align: right;\n    }\n</style>\n<table border=\"1\" class=\"dataframe\">\n  <thead>\n    <tr style=\"text-align: right;\">\n      <th></th>\n      <th>code</th>\n      <th>comm</th>\n      <th>date</th>\n      <th>obj</th>\n      <th>water-loss</th>\n      <th>lead</th>\n      <th>cost</th>\n      <th>bkd-hrs</th>\n      <th>label</th>\n      <th>conf</th>\n      <th>gis_id</th>\n      <th>object</th>\n      <th>lat</th>\n      <th>long</th>\n      <th>start</th>\n      <th>sub</th>\n    </tr>\n  </thead>\n  <tbody>\n    <tr>\n      <th>129</th>\n      <td>519842</td>\n      <td>Repaired the service_comma_ sectioned in a bra...</td>\n      <td>9/13/2016</td>\n      <td>71 WILDWOOD DR - 202</td>\n      <td>233000.0</td>\n      <td>CPOUSSON</td>\n      <td>69.71</td>\n      <td>2.0</td>\n      <td>LEAK</td>\n      <td>100.000000</td>\n      <td>100012398.0</td>\n      <td>1.44E+245</td>\n      <td>NaN</td>\n      <td>-97.718864</td>\n      <td>NaN</td>\n      <td>NaN</td>\n    </tr>\n    <tr>\n      <th>648</th>\n      <td>789435</td>\n      <td>This is a city leak on the 3/4 inch poly just ...</td>\n      <td>5/1/2018</td>\n      <td>508 RIVER DOWN RD</td>\n      <td>0.0</td>\n      <td>CGRAHAM</td>\n      <td>67.06</td>\n      <td>2.0</td>\n      <td>LEAK</td>\n      <td>100.000000</td>\n      <td>100027665.0</td>\n      <td>3.42E+14</td>\n      <td>NaN</td>\n      <td>-97.706831</td>\n      <td>NaN</td>\n      <td>NaN</td>\n    </tr>\n    <tr>\n      <th>950</th>\n      <td>537777</td>\n      <td>put grass seed outgrass seed neededclean up fi...</td>\n      <td>12/1/2016</td>\n      <td>2009 JIM HOGG RD</td>\n      <td>0.0</td>\n      <td>HRANDALL</td>\n      <td>38.83</td>\n      <td>1.0</td>\n      <td>LEAK</td>\n      <td>100.000000</td>\n      <td>100007105.0</td>\n      <td>3.06E+14</td>\n      <td>NaN</td>\n      <td>-97.753802</td>\n      <td>NaN</td>\n      <td>NaN</td>\n    </tr>\n    <tr>\n      <th>1912</th>\n      <td>485428</td>\n      <td>CALLER REPORTS WATER LEAK ON THE RIGHT SIDE OF...</td>\n      <td>6/30/2016</td>\n      <td>5405 WILLIAMS DR</td>\n      <td>0.0</td>\n      <td>JMCELROY</td>\n      <td>44.93</td>\n      <td>1.0</td>\n      <td>LEAK</td>\n      <td>99.166709</td>\n      <td>100034678.0</td>\n      <td>9.62E+82</td>\n      <td>NaN</td>\n      <td>-97.743840</td>\n      <td>NaN</td>\n      <td>NaN</td>\n    </tr>\n    <tr>\n      <th>2528</th>\n      <td>272773</td>\n      <td>The 1/4 ball valve inside the cover for the fl...</td>\n      <td>7/8/2015</td>\n      <td>1319 INDIAN LAKE RD</td>\n      <td>0.0</td>\n      <td>JMCELROY</td>\n      <td>33.53</td>\n      <td>1.0</td>\n      <td>LEAK</td>\n      <td>99.891174</td>\n      <td>100077396.0</td>\n      <td>5.45E+29</td>\n      <td>NaN</td>\n      <td>-97.750566</td>\n      <td>NaN</td>\n      <td>NaN</td>\n    </tr>\n    <tr>\n      <th>3243</th>\n      <td>339521</td>\n      <td>There was no leak. A contractor was pumping wa...</td>\n      <td>11/13/2015</td>\n      <td>5405 WILLIAMS DR</td>\n      <td>0.0</td>\n      <td>JMCELROY</td>\n      <td>38.83</td>\n      <td>1.0</td>\n      <td>LEAK</td>\n      <td>56.555057</td>\n      <td>100034678.0</td>\n      <td>9.62E+82</td>\n      <td>NaN</td>\n      <td>-97.743840</td>\n      <td>NaN</td>\n      <td>NaN</td>\n    </tr>\n    <tr>\n      <th>3384</th>\n      <td>164507</td>\n      <td>fix the separation on the city side_comma_ pul...</td>\n      <td>10/23/2014</td>\n      <td>210 PRAIRIE SPRINGS LOOP</td>\n      <td>0.0</td>\n      <td>CGRAHAM</td>\n      <td>502.56</td>\n      <td>12.0</td>\n      <td>LEAK</td>\n      <td>60.447884</td>\n      <td>100026645.0</td>\n      <td>6.71E+12</td>\n      <td>NaN</td>\n      <td>-97.653578</td>\n      <td>NaN</td>\n      <td>NaN</td>\n    </tr>\n    <tr>\n      <th>3488</th>\n      <td>215645</td>\n      <td>Asset needs updating there was a gate valve th...</td>\n      <td>3/10/2015</td>\n      <td>301 E 19TH ST</td>\n      <td>0.0</td>\n      <td>CPOUSSON</td>\n      <td>1022.34</td>\n      <td>28.0</td>\n      <td>LEAK</td>\n      <td>100.000000</td>\n      <td>100015574.0</td>\n      <td>3933254</td>\n      <td>NaN</td>\n      <td>-97.675733</td>\n      <td>NaN</td>\n      <td>NaN</td>\n    </tr>\n    <tr>\n      <th>4026</th>\n      <td>784697</td>\n      <td>Water leak reported by Pete.Locate Ticket # 58...</td>\n      <td>4/19/2018</td>\n      <td>150 PEACEFUL VALLEY RD</td>\n      <td>0.0</td>\n      <td>HRANDALL</td>\n      <td>179.72</td>\n      <td>4.0</td>\n      <td>LEAK</td>\n      <td>100.000000</td>\n      <td>100074957.0</td>\n      <td>3.37E+09</td>\n      <td>NaN</td>\n      <td>-97.939771</td>\n      <td>NaN</td>\n      <td>NaN</td>\n    </tr>\n    <tr>\n      <th>4067</th>\n      <td>811529</td>\n      <td>Went back to check again. Locates are on the g...</td>\n      <td>7/3/2018</td>\n      <td>508 RIVER DOWN RD</td>\n      <td>0.0</td>\n      <td>HRANDALL</td>\n      <td>289.44</td>\n      <td>8.0</td>\n      <td>LEAK</td>\n      <td>99.986219</td>\n      <td>100027665.0</td>\n      <td>3.42E+14</td>\n      <td>NaN</td>\n      <td>-97.706831</td>\n      <td>NaN</td>\n      <td>NaN</td>\n    </tr>\n    <tr>\n      <th>4090</th>\n      <td>1261817</td>\n      <td>Ground is wet.  Got pulled off for an emergenc...</td>\n      <td>8/13/2018</td>\n      <td>150 PEACEFUL VALLEY RD</td>\n      <td>0.0</td>\n      <td>EVIDAURE</td>\n      <td>38.83</td>\n      <td>1.0</td>\n      <td>LEAK</td>\n      <td>100.000000</td>\n      <td>100074957.0</td>\n      <td>3.37E+09</td>\n      <td>NaN</td>\n      <td>-97.939771</td>\n      <td>NaN</td>\n      <td>NaN</td>\n    </tr>\n    <tr>\n      <th>4156</th>\n      <td>1348497</td>\n      <td>verify if the repair has been made or what the...</td>\n      <td>11/6/2018</td>\n      <td>305 SHANNON LN</td>\n      <td>0.0</td>\n      <td>CGRAHAM</td>\n      <td>100.59</td>\n      <td>3.0</td>\n      <td>LEAK</td>\n      <td>99.448204</td>\n      <td>100031987.0</td>\n      <td>2.12E+10</td>\n      <td>NaN</td>\n      <td>-97.683008</td>\n      <td>NaN</td>\n      <td>NaN</td>\n    </tr>\n    <tr>\n      <th>4252</th>\n      <td>1488641</td>\n      <td>water spotted in road and in ditch same side a...</td>\n      <td>4/9/2019</td>\n      <td>30318 BUMBLE BEE DR</td>\n      <td>0.0</td>\n      <td>EVIDAURE</td>\n      <td>NaN</td>\n      <td>NaN</td>\n      <td>LEAK</td>\n      <td>99.998915</td>\n      <td>100016766.0</td>\n      <td>1318</td>\n      <td>NaN</td>\n      <td>-97.659449</td>\n      <td>NaN</td>\n      <td>NaN</td>\n    </tr>\n    <tr>\n      <th>4524</th>\n      <td>1812575</td>\n      <td>The crack was to long for a full circle clamp ...</td>\n      <td>5/2/2020</td>\n      <td>785 CR 255</td>\n      <td>78000.0</td>\n      <td>AHAMMACK</td>\n      <td>3238.92</td>\n      <td>57.0</td>\n      <td>LEAK</td>\n      <td>100.000000</td>\n      <td>100072576.0</td>\n      <td>4.43E+08</td>\n      <td>30.660019</td>\n      <td>-97.856843</td>\n      <td>NaN</td>\n      <td>NaN</td>\n    </tr>\n    <tr>\n      <th>4664</th>\n      <td>1970943</td>\n      <td>Customer had is burmuds grass we could not lay...</td>\n      <td>2/5/2021</td>\n      <td>136 WHISPERING WIND DR</td>\n      <td>25000.0</td>\n      <td>ICONDE</td>\n      <td>111.19</td>\n      <td>3.0</td>\n      <td>LEAK</td>\n      <td>99.977356</td>\n      <td>100019470.0</td>\n      <td>2.20E+12</td>\n      <td>NaN</td>\n      <td>-97.717580</td>\n      <td>NaN</td>\n      <td>NaN</td>\n    </tr>\n    <tr>\n      <th>4733</th>\n      <td>2079499</td>\n      <td>loactes have been called in LEAK DETECTION DET...</td>\n      <td>3/2/2021</td>\n      <td>201 INNWOOD DR</td>\n      <td>0.0</td>\n      <td>ICONDE</td>\n      <td>NaN</td>\n      <td>NaN</td>\n      <td>LEAK</td>\n      <td>99.815589</td>\n      <td>100033099.0</td>\n      <td>4.76E+05</td>\n      <td>NaN</td>\n      <td>NaN</td>\n      <td>NaN</td>\n      <td>NaN</td>\n    </tr>\n    <tr>\n      <th>4941</th>\n      <td>2299875</td>\n      <td>customer angle stop was off Jason Ellis turned...</td>\n      <td>10/31/2021</td>\n      <td>1510 ASH ST</td>\n      <td>0.0</td>\n      <td>CGRAHAM</td>\n      <td>38.83</td>\n      <td>1.0</td>\n      <td>LEAK</td>\n      <td>98.814011</td>\n      <td>100018679.0</td>\n      <td>5.02E+75</td>\n      <td>NaN</td>\n      <td>-97.673177</td>\n      <td>NaN</td>\n      <td>NaN</td>\n    </tr>\n  </tbody>\n</table>\n</div>"
     },
     "execution_count": 49,
     "metadata": {},
     "output_type": "execute_result"
    }
   ],
   "source": [
    "df1.loc[(~df1.object.isin(serv_df.addr_id)) & (~df1.object.isin(serv_df.serv_id)) & (~df1.object.isin(serv_df.prem_id)) & (~df1.object.isin(eam_obj_df.OBJ_CODE)), :]"
   ],
   "metadata": {
    "collapsed": false,
    "ExecuteTime": {
     "end_time": "2023-09-21T17:12:01.660225200Z",
     "start_time": "2023-09-21T17:12:01.398170Z"
    }
   },
   "id": "fe6d8e83e3a8e741"
  },
  {
   "cell_type": "code",
   "execution_count": 31,
   "outputs": [],
   "source": [
    "df1.lat = serv_df.loc[(serv_df.addr_id.isin(df.object)) | (serv_df.prem_id.isin(df.object)) | (serv_df.serv_id.isin(df.object)), 'lat']"
   ],
   "metadata": {
    "collapsed": false,
    "ExecuteTime": {
     "end_time": "2023-09-21T16:55:19.079999800Z",
     "start_time": "2023-09-21T16:55:19.046000100Z"
    }
   },
   "id": "bc3a0f4971d2e249"
  },
  {
   "cell_type": "code",
   "execution_count": 32,
   "outputs": [
    {
     "name": "stdout",
     "output_type": "stream",
     "text": [
      "<class 'pandas.core.frame.DataFrame'>\n",
      "RangeIndex: 5471 entries, 0 to 5470\n",
      "Data columns (total 16 columns):\n",
      " #   Column      Non-Null Count  Dtype  \n",
      "---  ------      --------------  -----  \n",
      " 0   code        5471 non-null   int64  \n",
      " 1   comm        5471 non-null   object \n",
      " 2   date        5471 non-null   object \n",
      " 3   obj         5471 non-null   object \n",
      " 4   water-loss  5471 non-null   float64\n",
      " 5   lead        5380 non-null   object \n",
      " 6   cost        5069 non-null   float64\n",
      " 7   bkd-hrs     5069 non-null   float64\n",
      " 8   label       5471 non-null   object \n",
      " 9   conf        5471 non-null   float64\n",
      " 10  gis_id      3408 non-null   float64\n",
      " 11  object      5471 non-null   object \n",
      " 12  lat         348 non-null    float64\n",
      " 13  long        4344 non-null   float64\n",
      " 14  start       1290 non-null   object \n",
      " 15  sub         1285 non-null   object \n",
      "dtypes: float64(7), int64(1), object(8)\n",
      "memory usage: 684.0+ KB\n"
     ]
    }
   ],
   "source": [
    "df1.info()"
   ],
   "metadata": {
    "collapsed": false,
    "ExecuteTime": {
     "end_time": "2023-09-21T16:55:20.707956300Z",
     "start_time": "2023-09-21T16:55:20.692960800Z"
    }
   },
   "id": "cdef3d619e069bba"
  }
 ],
 "metadata": {
  "kernelspec": {
   "display_name": "Python 3",
   "language": "python",
   "name": "python3"
  },
  "language_info": {
   "codemirror_mode": {
    "name": "ipython",
    "version": 2
   },
   "file_extension": ".py",
   "mimetype": "text/x-python",
   "name": "python",
   "nbconvert_exporter": "python",
   "pygments_lexer": "ipython2",
   "version": "2.7.6"
  }
 },
 "nbformat": 4,
 "nbformat_minor": 5
}
