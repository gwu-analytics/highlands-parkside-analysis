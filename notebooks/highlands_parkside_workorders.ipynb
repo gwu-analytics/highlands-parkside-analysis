{
 "cells": [
  {
   "cell_type": "markdown",
   "source": [
    "# Analysis of Highlands at Mayfield and Parkside at Mayfield work orders"
   ],
   "metadata": {
    "collapsed": false
   }
  },
  {
   "cell_type": "code",
   "execution_count": 5,
   "outputs": [],
   "source": [
    "# Dependencies\n",
    "import pandas as pd\n",
    "import pyodbc\n",
    "\n",
    "# SQL Alchemy imports\n",
    "from sqlalchemy import create_engine"
   ],
   "metadata": {
    "collapsed": false,
    "ExecuteTime": {
     "end_time": "2023-09-18T17:29:15.108740200Z",
     "start_time": "2023-09-18T17:29:15.091594600Z"
    }
   }
  },
  {
   "cell_type": "code",
   "execution_count": 26,
   "outputs": [],
   "source": [
    "gis_conn = (\n",
    "    'mssql+pyodbc:///?odbc_connect='\n",
    "    'DRIVER={ODBC Driver 17 for SQL Server};'\n",
    "    'SERVER=srvvmsdeprod;'\n",
    "    'DATABASE=MAP;'\n",
    "    'Trusted_Connection=yes;'\n",
    ")"
   ],
   "metadata": {
    "collapsed": false,
    "ExecuteTime": {
     "end_time": "2023-09-18T17:59:51.163844Z",
     "start_time": "2023-09-18T17:59:51.147115700Z"
    }
   }
  },
  {
   "cell_type": "code",
   "execution_count": 80,
   "outputs": [],
   "source": [
    "eam_conn = (\n",
    "    'mssql+pyodbc:///?odbc_connect='\n",
    "    'DRIVER={ODBC Driver 17 for SQL Server};'\n",
    "    'SERVER=srvvmeamproddb;'\n",
    "    'DATABASE=EAMDB;'\n",
    "    'Trusted_Connection=yes;'\n",
    ")"
   ],
   "metadata": {
    "collapsed": false,
    "ExecuteTime": {
     "end_time": "2023-09-18T19:44:34.434051Z",
     "start_time": "2023-09-18T19:44:34.424786Z"
    }
   }
  },
  {
   "cell_type": "code",
   "execution_count": 27,
   "outputs": [],
   "source": [
    "# Create the gis engine\n",
    "gis_engine = create_engine(gis_conn, echo=True)"
   ],
   "metadata": {
    "collapsed": false,
    "ExecuteTime": {
     "end_time": "2023-09-18T17:59:53.219063800Z",
     "start_time": "2023-09-18T17:59:53.212054400Z"
    }
   }
  },
  {
   "cell_type": "code",
   "execution_count": 76,
   "outputs": [],
   "source": [
    "# GIS queries\n",
    "\n",
    "gravity_mains_query = '''\n",
    "        SELECT GISOBJID,\n",
    "               ADDRESS,\n",
    "               OWNER \n",
    "        FROM gtown.GRAVITYMAIN\n",
    "        WHERE ADDRESS IN (SELECT Label_Name from gtown.P3_PREMISESPT WHERE SUB_NAME LIKE ('%MAYFIELD%'));\n",
    "        '''\n",
    "\n",
    "force_mains_query = '''\n",
    "        SELECT GISOBJID,\n",
    "               ADDRESS,\n",
    "               OWNER \n",
    "        FROM gtown.PRESSURIZEDMAIN\n",
    "        WHERE ADDRESS IN (SELECT Label_Name from gtown.P3_PREMISESPT WHERE SUB_NAME LIKE ('%MAYFIELD%'));\n",
    "        '''\n",
    "\n",
    "premises_query = '''\n",
    "        SELECT COGEAMID,\n",
    "               PREMISESID,\n",
    "               Label_Name,\n",
    "               SUB_NAME\n",
    "        FROM gtown.P3_PREMISESPT\n",
    "        WHERE SUB_NAME LIKE ('%MAYFIELD%')\n",
    "'''\n",
    "\n",
    "manhole_query = '''\n",
    "        SELECT GISOBJID,\n",
    "               ADDRESS,\n",
    "               OWNER\n",
    "        FROM gtown.WASTEWATERMANHOLE\n",
    "        WHERE ADDRESS IN (SELECT Label_Name from gtown.P3_PREMISESPT WHERE SUB_NAME LIKE ('%MAYFIELD%'));\n",
    "'''\n",
    "\n",
    "ls_query = '''\n",
    "        SELECT OBJECTID,\n",
    "               NAME,\n",
    "               ADDRESS,\n",
    "               OWNER\n",
    "        FROM gtown.WastewaterNetworkStructure\n",
    "        WHERE EAM_CAT = 'Lift Station'\n",
    "        AND OWNER = 'PARKSIDE';\n",
    "'''"
   ],
   "metadata": {
    "collapsed": false,
    "ExecuteTime": {
     "end_time": "2023-09-18T19:40:32.021410500Z",
     "start_time": "2023-09-18T19:40:32.013401900Z"
    }
   }
  },
  {
   "cell_type": "code",
   "execution_count": 77,
   "outputs": [
    {
     "name": "stdout",
     "output_type": "stream",
     "text": [
      "2023-09-18 14:40:34,364 INFO sqlalchemy.engine.Engine \n",
      "        SELECT GISOBJID,\n",
      "               ADDRESS,\n",
      "               OWNER \n",
      "        FROM gtown.GRAVITYMAIN\n",
      "        WHERE ADDRESS IN (SELECT Label_Name from gtown.P3_PREMISESPT WHERE SUB_NAME LIKE ('%MAYFIELD%'));\n",
      "        \n",
      "2023-09-18 14:40:34,365 INFO sqlalchemy.engine.Engine [raw sql] ()\n",
      "2023-09-18 14:40:34,463 INFO sqlalchemy.engine.Engine \n",
      "        SELECT GISOBJID,\n",
      "               ADDRESS,\n",
      "               OWNER \n",
      "        FROM gtown.PRESSURIZEDMAIN\n",
      "        WHERE ADDRESS IN (SELECT Label_Name from gtown.P3_PREMISESPT WHERE SUB_NAME LIKE ('%MAYFIELD%'));\n",
      "        \n",
      "2023-09-18 14:40:34,463 INFO sqlalchemy.engine.Engine [raw sql] ()\n",
      "2023-09-18 14:40:34,562 INFO sqlalchemy.engine.Engine \n",
      "        SELECT COGEAMID,\n",
      "               PREMISESID,\n",
      "               Label_Name,\n",
      "               SUB_NAME\n",
      "        FROM gtown.P3_PREMISESPT\n",
      "        WHERE SUB_NAME LIKE ('%MAYFIELD%')\n",
      "\n",
      "2023-09-18 14:40:34,562 INFO sqlalchemy.engine.Engine [raw sql] ()\n",
      "2023-09-18 14:40:34,649 INFO sqlalchemy.engine.Engine \n",
      "        SELECT GISOBJID,\n",
      "               ADDRESS,\n",
      "               OWNER\n",
      "        FROM gtown.WASTEWATERMANHOLE\n",
      "        WHERE ADDRESS IN (SELECT Label_Name from gtown.P3_PREMISESPT WHERE SUB_NAME LIKE ('%MAYFIELD%'));\n",
      "\n",
      "2023-09-18 14:40:34,650 INFO sqlalchemy.engine.Engine [raw sql] ()\n",
      "2023-09-18 14:40:34,699 INFO sqlalchemy.engine.Engine \n",
      "        SELECT OBJECTID,\n",
      "               NAME,\n",
      "               ADDRESS,\n",
      "               OWNER\n",
      "        FROM gtown.WastewaterNetworkStructure\n",
      "        WHERE EAM_CAT = 'Lift Station'\n",
      "        AND OWNER = 'PARKSIDE';\n",
      "\n",
      "2023-09-18 14:40:34,700 INFO sqlalchemy.engine.Engine [raw sql] ()\n"
     ]
    }
   ],
   "source": [
    "grav_mains = pd.read_sql_query(gravity_mains_query, gis_engine)\n",
    "force_mains = pd.read_sql_query(force_mains_query, gis_engine)\n",
    "premises = pd.read_sql_query(premises_query, gis_engine)\n",
    "manholes = pd.read_sql_query(manhole_query, gis_engine)\n",
    "lift_stations = pd.read_sql_query(ls_query, gis_engine)"
   ],
   "metadata": {
    "collapsed": false,
    "ExecuteTime": {
     "end_time": "2023-09-18T19:40:34.711162700Z",
     "start_time": "2023-09-18T19:40:34.365080400Z"
    }
   }
  },
  {
   "cell_type": "code",
   "execution_count": 66,
   "outputs": [
    {
     "data": {
      "text/plain": "    GISOBJID               ADDRESS     OWNER\n0  100069244     264 CADDO LAKE DR  PARKSIDE\n1  100069253     113 BATTLESHIP DR  PARKSIDE\n2  100069256  112 MISSION TEJAS ST  PARKSIDE\n3  100068446      216 WESTFIELD DR  PARKSIDE\n4  100068447                  3736  PARKSIDE",
      "text/html": "<div>\n<style scoped>\n    .dataframe tbody tr th:only-of-type {\n        vertical-align: middle;\n    }\n\n    .dataframe tbody tr th {\n        vertical-align: top;\n    }\n\n    .dataframe thead th {\n        text-align: right;\n    }\n</style>\n<table border=\"1\" class=\"dataframe\">\n  <thead>\n    <tr style=\"text-align: right;\">\n      <th></th>\n      <th>GISOBJID</th>\n      <th>ADDRESS</th>\n      <th>OWNER</th>\n    </tr>\n  </thead>\n  <tbody>\n    <tr>\n      <th>0</th>\n      <td>100069244</td>\n      <td>264 CADDO LAKE DR</td>\n      <td>PARKSIDE</td>\n    </tr>\n    <tr>\n      <th>1</th>\n      <td>100069253</td>\n      <td>113 BATTLESHIP DR</td>\n      <td>PARKSIDE</td>\n    </tr>\n    <tr>\n      <th>2</th>\n      <td>100069256</td>\n      <td>112 MISSION TEJAS ST</td>\n      <td>PARKSIDE</td>\n    </tr>\n    <tr>\n      <th>3</th>\n      <td>100068446</td>\n      <td>216 WESTFIELD DR</td>\n      <td>PARKSIDE</td>\n    </tr>\n    <tr>\n      <th>4</th>\n      <td>100068447</td>\n      <td>3736</td>\n      <td>PARKSIDE</td>\n    </tr>\n  </tbody>\n</table>\n</div>"
     },
     "execution_count": 66,
     "metadata": {},
     "output_type": "execute_result"
    }
   ],
   "source": [
    "grav_mains.head()"
   ],
   "metadata": {
    "collapsed": false,
    "ExecuteTime": {
     "end_time": "2023-09-18T19:35:18.774438900Z",
     "start_time": "2023-09-18T19:35:18.765430200Z"
    }
   }
  },
  {
   "cell_type": "code",
   "execution_count": 67,
   "outputs": [
    {
     "data": {
      "text/plain": "    GISOBJID                 ADDRESS     OWNER\n0  100015392  336 LAKE LIVINGSTON DR  PARKSIDE",
      "text/html": "<div>\n<style scoped>\n    .dataframe tbody tr th:only-of-type {\n        vertical-align: middle;\n    }\n\n    .dataframe tbody tr th {\n        vertical-align: top;\n    }\n\n    .dataframe thead th {\n        text-align: right;\n    }\n</style>\n<table border=\"1\" class=\"dataframe\">\n  <thead>\n    <tr style=\"text-align: right;\">\n      <th></th>\n      <th>GISOBJID</th>\n      <th>ADDRESS</th>\n      <th>OWNER</th>\n    </tr>\n  </thead>\n  <tbody>\n    <tr>\n      <th>0</th>\n      <td>100015392</td>\n      <td>336 LAKE LIVINGSTON DR</td>\n      <td>PARKSIDE</td>\n    </tr>\n  </tbody>\n</table>\n</div>"
     },
     "execution_count": 67,
     "metadata": {},
     "output_type": "execute_result"
    }
   ],
   "source": [
    "force_mains.head()"
   ],
   "metadata": {
    "collapsed": false,
    "ExecuteTime": {
     "end_time": "2023-09-18T19:35:21.227792400Z",
     "start_time": "2023-09-18T19:35:21.205782600Z"
    }
   }
  },
  {
   "cell_type": "code",
   "execution_count": 68,
   "outputs": [
    {
     "data": {
      "text/plain": "   COGEAMID  PREMISESID              Label_Name                    SUB_NAME\n0  9C17774E  PRM0036729       208 BATTLESHIP DR  PARKSIDE AT MAYFIELD RANCH\n1  25C4F4FA  PRM0037946  209 SEMINOLE CANYON DR  PARKSIDE AT MAYFIELD RANCH\n2  59A1AE5B  PRM0038929     409 PURTIS CREEK LN  PARKSIDE AT MAYFIELD RANCH\n3  E8CBB05D  PRM0032829      128 COPPER LAKE LN  PARKSIDE AT MAYFIELD RANCH\n4  7D003D2D  PRM0032131       272 CADDO LAKE DR  PARKSIDE AT MAYFIELD RANCH",
      "text/html": "<div>\n<style scoped>\n    .dataframe tbody tr th:only-of-type {\n        vertical-align: middle;\n    }\n\n    .dataframe tbody tr th {\n        vertical-align: top;\n    }\n\n    .dataframe thead th {\n        text-align: right;\n    }\n</style>\n<table border=\"1\" class=\"dataframe\">\n  <thead>\n    <tr style=\"text-align: right;\">\n      <th></th>\n      <th>COGEAMID</th>\n      <th>PREMISESID</th>\n      <th>Label_Name</th>\n      <th>SUB_NAME</th>\n    </tr>\n  </thead>\n  <tbody>\n    <tr>\n      <th>0</th>\n      <td>9C17774E</td>\n      <td>PRM0036729</td>\n      <td>208 BATTLESHIP DR</td>\n      <td>PARKSIDE AT MAYFIELD RANCH</td>\n    </tr>\n    <tr>\n      <th>1</th>\n      <td>25C4F4FA</td>\n      <td>PRM0037946</td>\n      <td>209 SEMINOLE CANYON DR</td>\n      <td>PARKSIDE AT MAYFIELD RANCH</td>\n    </tr>\n    <tr>\n      <th>2</th>\n      <td>59A1AE5B</td>\n      <td>PRM0038929</td>\n      <td>409 PURTIS CREEK LN</td>\n      <td>PARKSIDE AT MAYFIELD RANCH</td>\n    </tr>\n    <tr>\n      <th>3</th>\n      <td>E8CBB05D</td>\n      <td>PRM0032829</td>\n      <td>128 COPPER LAKE LN</td>\n      <td>PARKSIDE AT MAYFIELD RANCH</td>\n    </tr>\n    <tr>\n      <th>4</th>\n      <td>7D003D2D</td>\n      <td>PRM0032131</td>\n      <td>272 CADDO LAKE DR</td>\n      <td>PARKSIDE AT MAYFIELD RANCH</td>\n    </tr>\n  </tbody>\n</table>\n</div>"
     },
     "execution_count": 68,
     "metadata": {},
     "output_type": "execute_result"
    }
   ],
   "source": [
    "premises.head()"
   ],
   "metadata": {
    "collapsed": false,
    "ExecuteTime": {
     "end_time": "2023-09-18T19:35:23.214276Z",
     "start_time": "2023-09-18T19:35:23.206270100Z"
    }
   }
  },
  {
   "cell_type": "code",
   "execution_count": 73,
   "outputs": [
    {
     "data": {
      "text/plain": "    GISOBJID                 ADDRESS     OWNER\n0  100060209  348 LAKE LIVINGSTON DR  PARKSIDE\n1  100060214     224 CHOKE CANYON LN  PARKSIDE\n2  100060245                    3821  PARKSIDE\n3  100061824  101 GUADALUPE RIVER CV  PARKSIDE\n4  100061826  101 GUADALUPE RIVER CV  PARKSIDE",
      "text/html": "<div>\n<style scoped>\n    .dataframe tbody tr th:only-of-type {\n        vertical-align: middle;\n    }\n\n    .dataframe tbody tr th {\n        vertical-align: top;\n    }\n\n    .dataframe thead th {\n        text-align: right;\n    }\n</style>\n<table border=\"1\" class=\"dataframe\">\n  <thead>\n    <tr style=\"text-align: right;\">\n      <th></th>\n      <th>GISOBJID</th>\n      <th>ADDRESS</th>\n      <th>OWNER</th>\n    </tr>\n  </thead>\n  <tbody>\n    <tr>\n      <th>0</th>\n      <td>100060209</td>\n      <td>348 LAKE LIVINGSTON DR</td>\n      <td>PARKSIDE</td>\n    </tr>\n    <tr>\n      <th>1</th>\n      <td>100060214</td>\n      <td>224 CHOKE CANYON LN</td>\n      <td>PARKSIDE</td>\n    </tr>\n    <tr>\n      <th>2</th>\n      <td>100060245</td>\n      <td>3821</td>\n      <td>PARKSIDE</td>\n    </tr>\n    <tr>\n      <th>3</th>\n      <td>100061824</td>\n      <td>101 GUADALUPE RIVER CV</td>\n      <td>PARKSIDE</td>\n    </tr>\n    <tr>\n      <th>4</th>\n      <td>100061826</td>\n      <td>101 GUADALUPE RIVER CV</td>\n      <td>PARKSIDE</td>\n    </tr>\n  </tbody>\n</table>\n</div>"
     },
     "execution_count": 73,
     "metadata": {},
     "output_type": "execute_result"
    }
   ],
   "source": [
    "manholes.head()"
   ],
   "metadata": {
    "collapsed": false,
    "ExecuteTime": {
     "end_time": "2023-09-18T19:35:53.715281800Z",
     "start_time": "2023-09-18T19:35:53.692283400Z"
    }
   }
  },
  {
   "cell_type": "code",
   "execution_count": 70,
   "outputs": [
    {
     "data": {
      "text/plain": "   OBJECTID               NAME      ADDRESS     OWNER\n0        71  MAYFIELD RANCH LS  1577 CR 176  PARKSIDE\n1        76       HIGHLANDS LS         5421  PARKSIDE",
      "text/html": "<div>\n<style scoped>\n    .dataframe tbody tr th:only-of-type {\n        vertical-align: middle;\n    }\n\n    .dataframe tbody tr th {\n        vertical-align: top;\n    }\n\n    .dataframe thead th {\n        text-align: right;\n    }\n</style>\n<table border=\"1\" class=\"dataframe\">\n  <thead>\n    <tr style=\"text-align: right;\">\n      <th></th>\n      <th>OBJECTID</th>\n      <th>NAME</th>\n      <th>ADDRESS</th>\n      <th>OWNER</th>\n    </tr>\n  </thead>\n  <tbody>\n    <tr>\n      <th>0</th>\n      <td>71</td>\n      <td>MAYFIELD RANCH LS</td>\n      <td>1577 CR 176</td>\n      <td>PARKSIDE</td>\n    </tr>\n    <tr>\n      <th>1</th>\n      <td>76</td>\n      <td>HIGHLANDS LS</td>\n      <td>5421</td>\n      <td>PARKSIDE</td>\n    </tr>\n  </tbody>\n</table>\n</div>"
     },
     "execution_count": 70,
     "metadata": {},
     "output_type": "execute_result"
    }
   ],
   "source": [
    "lift_stations.head()"
   ],
   "metadata": {
    "collapsed": false,
    "ExecuteTime": {
     "end_time": "2023-09-18T19:35:27.631463Z",
     "start_time": "2023-09-18T19:35:27.605462600Z"
    }
   }
  },
  {
   "cell_type": "markdown",
   "source": [
    "Collect the work orders from EAM that have at least one of the object IDs from above."
   ],
   "metadata": {
    "collapsed": false
   }
  },
  {
   "cell_type": "code",
   "execution_count": 82,
   "outputs": [],
   "source": [
    "# Create the eam engine\n",
    "eam_engine = create_engine(eam_conn, echo=True)"
   ],
   "metadata": {
    "collapsed": false,
    "ExecuteTime": {
     "end_time": "2023-09-18T19:45:37.623844Z",
     "start_time": "2023-09-18T19:45:37.599829600Z"
    }
   }
  },
  {
   "cell_type": "code",
   "execution_count": 329,
   "outputs": [
    {
     "name": "stdout",
     "output_type": "stream",
     "text": [
      "2023-09-22 12:32:29,919 INFO sqlalchemy.engine.Engine \n",
      "    SELECT wo.EVT_CODE,\n",
      "           EVT_DATE as date,\n",
      "           EVT_LOCATION as location,\n",
      "           obj.OBJ_CODE as obj_code,\n",
      "           OBJ.OBJ_GISOBJID as gis_id,\n",
      "           obj.OBJ_CLASS as obj_class,\n",
      "           hrs.BOO_OCTYPE as labor_type, \n",
      "           SUM(hrs.BOO_HOURS) as booked_labor\n",
      "    FROM R5EVENTS AS wo\n",
      "    JOIN R5BOOKEDHOURS AS hrs\n",
      "        ON wo.EVT_CODE = hrs.BOO_EVENT\n",
      "    JOIN R5OBJECTS as obj\n",
      "        ON wo.EVT_OBJECT = obj.OBJ_CODE\n",
      "    WHERE EVT_TYPE = 'JOB'\n",
      "    AND EVT_STATUS NOT IN ('CANC', 'REJ')\n",
      "    --AND EVT_LOCATION IN ('HML', 'MFL')\n",
      "    --OR obj.OBJ_GISOBJID IN (%mh, %grav_mains, %force_mains) -- Gravity Mains, Force Mains, Manholes\n",
      "    --OR EVT_OBJECT IN (%premises) -- Premises\n",
      "    --OR EVT_OBJECT IN (%addresses) -- Addresses\n",
      "    \n",
      "    GROUP BY wo.EVT_DATE, EVT_CODE, EVT_LOCATION, obj.OBJ_CODE, obj.OBJ_GISOBJID, obj.OBJ_CLASS, hrs.BOO_OCTYPE\n",
      "    ORDER BY wo.EVT_DATE\n",
      "\n",
      "2023-09-22 12:32:29,920 INFO sqlalchemy.engine.Engine [raw sql] ()\n"
     ]
    }
   ],
   "source": [
    "query = '''\n",
    "    SELECT wo.EVT_CODE,\n",
    "           EVT_DATE as date,\n",
    "           EVT_LOCATION as location,\n",
    "           obj.OBJ_CODE as obj_code,\n",
    "           OBJ.OBJ_GISOBJID as gis_id,\n",
    "           obj.OBJ_CLASS as obj_class,\n",
    "           hrs.BOO_OCTYPE as labor_type, \n",
    "           SUM(hrs.BOO_HOURS) as booked_labor\n",
    "    FROM R5EVENTS AS wo\n",
    "    JOIN R5BOOKEDHOURS AS hrs\n",
    "        ON wo.EVT_CODE = hrs.BOO_EVENT\n",
    "    JOIN R5OBJECTS as obj\n",
    "        ON wo.EVT_OBJECT = obj.OBJ_CODE\n",
    "    WHERE EVT_TYPE = 'JOB'\n",
    "    AND EVT_STATUS NOT IN ('CANC', 'REJ')\n",
    "    --AND EVT_LOCATION IN ('HML', 'MFL')\n",
    "    --OR obj.OBJ_GISOBJID IN (%mh, %grav_mains, %force_mains) -- Gravity Mains, Force Mains, Manholes\n",
    "    --OR EVT_OBJECT IN (%premises) -- Premises\n",
    "    --OR EVT_OBJECT IN (%addresses) -- Addresses\n",
    "    \n",
    "    GROUP BY wo.EVT_DATE, EVT_CODE, EVT_LOCATION, obj.OBJ_CODE, obj.OBJ_GISOBJID, obj.OBJ_CLASS, hrs.BOO_OCTYPE\n",
    "    ORDER BY wo.EVT_DATE\n",
    "'''\n",
    "\n",
    "work_orders = pd.read_sql_query(query, eam_engine)\n",
    "\n",
    "# work_orders = pd.read_sql_query(\n",
    "#     query, \n",
    "#     eam_engine, \n",
    "#      params={\n",
    "#         'mh': manholes.GISOBJID,\n",
    "#         'grav_mains': grav_mains.GISOBJID,\n",
    "#         'force_mains': force_mains.GISOBJID,\n",
    "#         'premises': premises.PREMISESID,\n",
    "#         'addresses': premises.COGEAMID\n",
    "#     }\n",
    "# )"
   ],
   "metadata": {
    "collapsed": false,
    "ExecuteTime": {
     "end_time": "2023-09-22T17:33:18.905210900Z",
     "start_time": "2023-09-22T17:32:29.920434400Z"
    }
   }
  },
  {
   "cell_type": "code",
   "execution_count": 330,
   "outputs": [
    {
     "data": {
      "text/plain": "  EVT_CODE                date location  obj_code       gis_id obj_class  \\\n0   238095 2012-07-26 17:06:00     None  5FCFD134  100082930.0   ADDRESS   \n1   164535 2014-09-22 00:00:00      RHP  W-DS-RHP          NaN   STATION   \n2   161227 2014-10-09 10:15:00     None       COG          NaN      None   \n3   162521 2014-10-09 14:49:00     None       COG          NaN      None   \n4   162567 2014-10-09 16:47:00     None       COG          NaN      None   \n\n  labor_type  booked_labor  \n0          N          22.0  \n1          N           2.0  \n2          N           2.0  \n3          N           4.0  \n4          N          14.0  ",
      "text/html": "<div>\n<style scoped>\n    .dataframe tbody tr th:only-of-type {\n        vertical-align: middle;\n    }\n\n    .dataframe tbody tr th {\n        vertical-align: top;\n    }\n\n    .dataframe thead th {\n        text-align: right;\n    }\n</style>\n<table border=\"1\" class=\"dataframe\">\n  <thead>\n    <tr style=\"text-align: right;\">\n      <th></th>\n      <th>EVT_CODE</th>\n      <th>date</th>\n      <th>location</th>\n      <th>obj_code</th>\n      <th>gis_id</th>\n      <th>obj_class</th>\n      <th>labor_type</th>\n      <th>booked_labor</th>\n    </tr>\n  </thead>\n  <tbody>\n    <tr>\n      <th>0</th>\n      <td>238095</td>\n      <td>2012-07-26 17:06:00</td>\n      <td>None</td>\n      <td>5FCFD134</td>\n      <td>100082930.0</td>\n      <td>ADDRESS</td>\n      <td>N</td>\n      <td>22.0</td>\n    </tr>\n    <tr>\n      <th>1</th>\n      <td>164535</td>\n      <td>2014-09-22 00:00:00</td>\n      <td>RHP</td>\n      <td>W-DS-RHP</td>\n      <td>NaN</td>\n      <td>STATION</td>\n      <td>N</td>\n      <td>2.0</td>\n    </tr>\n    <tr>\n      <th>2</th>\n      <td>161227</td>\n      <td>2014-10-09 10:15:00</td>\n      <td>None</td>\n      <td>COG</td>\n      <td>NaN</td>\n      <td>None</td>\n      <td>N</td>\n      <td>2.0</td>\n    </tr>\n    <tr>\n      <th>3</th>\n      <td>162521</td>\n      <td>2014-10-09 14:49:00</td>\n      <td>None</td>\n      <td>COG</td>\n      <td>NaN</td>\n      <td>None</td>\n      <td>N</td>\n      <td>4.0</td>\n    </tr>\n    <tr>\n      <th>4</th>\n      <td>162567</td>\n      <td>2014-10-09 16:47:00</td>\n      <td>None</td>\n      <td>COG</td>\n      <td>NaN</td>\n      <td>None</td>\n      <td>N</td>\n      <td>14.0</td>\n    </tr>\n  </tbody>\n</table>\n</div>"
     },
     "execution_count": 330,
     "metadata": {},
     "output_type": "execute_result"
    }
   ],
   "source": [
    "work_orders.head()"
   ],
   "metadata": {
    "collapsed": false,
    "ExecuteTime": {
     "end_time": "2023-09-22T17:38:05.804186600Z",
     "start_time": "2023-09-22T17:38:05.773846800Z"
    }
   }
  },
  {
   "cell_type": "code",
   "execution_count": 649,
   "outputs": [
    {
     "name": "stdout",
     "output_type": "stream",
     "text": [
      "<class 'pandas.core.frame.DataFrame'>\n",
      "RangeIndex: 182187 entries, 0 to 182186\n",
      "Data columns (total 8 columns):\n",
      " #   Column        Non-Null Count   Dtype         \n",
      "---  ------        --------------   -----         \n",
      " 0   EVT_CODE      182187 non-null  object        \n",
      " 1   date          182187 non-null  datetime64[ns]\n",
      " 2   location      12166 non-null   object        \n",
      " 3   obj_code      182187 non-null  object        \n",
      " 4   gis_id        182187 non-null  object        \n",
      " 5   obj_class     174396 non-null  object        \n",
      " 6   labor_type    182187 non-null  object        \n",
      " 7   booked_labor  182187 non-null  float64       \n",
      "dtypes: datetime64[ns](1), float64(1), object(6)\n",
      "memory usage: 11.1+ MB\n"
     ]
    }
   ],
   "source": [
    "work_orders.info()"
   ],
   "metadata": {
    "collapsed": false,
    "ExecuteTime": {
     "end_time": "2023-09-25T18:01:48.722901700Z",
     "start_time": "2023-09-25T18:01:48.597904700Z"
    }
   }
  },
  {
   "cell_type": "code",
   "execution_count": 531,
   "outputs": [],
   "source": [
    "def is_after_hours(timestamp):\n",
    "    time = timestamp.time()\n",
    "    day_of_week = timestamp.dayofweek\n",
    "    return (time > pd.to_datetime('16:00').time() or\n",
    "            time < pd.to_datetime('07:00').time() or\n",
    "            day_of_week in [0, 7])"
   ],
   "metadata": {
    "collapsed": false
   }
  },
  {
   "cell_type": "code",
   "execution_count": 651,
   "outputs": [],
   "source": [
    "work_orders['after-hours'] = work_orders.date.apply(is_after_hours)"
   ],
   "metadata": {
    "collapsed": false,
    "ExecuteTime": {
     "end_time": "2023-09-25T18:04:02.175168600Z",
     "start_time": "2023-09-25T18:02:45.176919600Z"
    }
   }
  },
  {
   "cell_type": "code",
   "execution_count": 331,
   "outputs": [],
   "source": [
    "work_orders.gis_id = work_orders.gis_id.astype(str)"
   ],
   "metadata": {
    "collapsed": false,
    "ExecuteTime": {
     "end_time": "2023-09-22T17:38:06.880018700Z",
     "start_time": "2023-09-22T17:38:06.779027200Z"
    }
   }
  },
  {
   "cell_type": "code",
   "execution_count": 332,
   "outputs": [],
   "source": [
    "work_orders.gis_id = work_orders.gis_id.str.replace('.0', '')"
   ],
   "metadata": {
    "collapsed": false,
    "ExecuteTime": {
     "end_time": "2023-09-22T17:38:07.267223100Z",
     "start_time": "2023-09-22T17:38:07.179142500Z"
    }
   }
  },
  {
   "cell_type": "code",
   "execution_count": 333,
   "outputs": [
    {
     "name": "stdout",
     "output_type": "stream",
     "text": [
      "<class 'pandas.core.frame.DataFrame'>\n",
      "RangeIndex: 182187 entries, 0 to 182186\n",
      "Data columns (total 8 columns):\n",
      " #   Column        Non-Null Count   Dtype         \n",
      "---  ------        --------------   -----         \n",
      " 0   EVT_CODE      182187 non-null  object        \n",
      " 1   date          182187 non-null  datetime64[ns]\n",
      " 2   location      12166 non-null   object        \n",
      " 3   obj_code      182187 non-null  object        \n",
      " 4   gis_id        182187 non-null  object        \n",
      " 5   obj_class     174396 non-null  object        \n",
      " 6   labor_type    182187 non-null  object        \n",
      " 7   booked_labor  182187 non-null  float64       \n",
      "dtypes: datetime64[ns](1), float64(1), object(6)\n",
      "memory usage: 11.1+ MB\n"
     ]
    }
   ],
   "source": [
    "work_orders.info()"
   ],
   "metadata": {
    "collapsed": false,
    "ExecuteTime": {
     "end_time": "2023-09-22T17:38:08.071152300Z",
     "start_time": "2023-09-22T17:38:07.934150100Z"
    }
   }
  },
  {
   "cell_type": "code",
   "execution_count": 334,
   "outputs": [
    {
     "data": {
      "text/plain": "  EVT_CODE                date location  obj_code     gis_id obj_class  \\\n0   238095 2012-07-26 17:06:00     None  5FCFD134  100082930   ADDRESS   \n1   164535 2014-09-22 00:00:00      RHP  W-DS-RHP        nan   STATION   \n2   161227 2014-10-09 10:15:00     None       COG        nan      None   \n3   162521 2014-10-09 14:49:00     None       COG        nan      None   \n4   162567 2014-10-09 16:47:00     None       COG        nan      None   \n\n  labor_type  booked_labor  \n0          N          22.0  \n1          N           2.0  \n2          N           2.0  \n3          N           4.0  \n4          N          14.0  ",
      "text/html": "<div>\n<style scoped>\n    .dataframe tbody tr th:only-of-type {\n        vertical-align: middle;\n    }\n\n    .dataframe tbody tr th {\n        vertical-align: top;\n    }\n\n    .dataframe thead th {\n        text-align: right;\n    }\n</style>\n<table border=\"1\" class=\"dataframe\">\n  <thead>\n    <tr style=\"text-align: right;\">\n      <th></th>\n      <th>EVT_CODE</th>\n      <th>date</th>\n      <th>location</th>\n      <th>obj_code</th>\n      <th>gis_id</th>\n      <th>obj_class</th>\n      <th>labor_type</th>\n      <th>booked_labor</th>\n    </tr>\n  </thead>\n  <tbody>\n    <tr>\n      <th>0</th>\n      <td>238095</td>\n      <td>2012-07-26 17:06:00</td>\n      <td>None</td>\n      <td>5FCFD134</td>\n      <td>100082930</td>\n      <td>ADDRESS</td>\n      <td>N</td>\n      <td>22.0</td>\n    </tr>\n    <tr>\n      <th>1</th>\n      <td>164535</td>\n      <td>2014-09-22 00:00:00</td>\n      <td>RHP</td>\n      <td>W-DS-RHP</td>\n      <td>nan</td>\n      <td>STATION</td>\n      <td>N</td>\n      <td>2.0</td>\n    </tr>\n    <tr>\n      <th>2</th>\n      <td>161227</td>\n      <td>2014-10-09 10:15:00</td>\n      <td>None</td>\n      <td>COG</td>\n      <td>nan</td>\n      <td>None</td>\n      <td>N</td>\n      <td>2.0</td>\n    </tr>\n    <tr>\n      <th>3</th>\n      <td>162521</td>\n      <td>2014-10-09 14:49:00</td>\n      <td>None</td>\n      <td>COG</td>\n      <td>nan</td>\n      <td>None</td>\n      <td>N</td>\n      <td>4.0</td>\n    </tr>\n    <tr>\n      <th>4</th>\n      <td>162567</td>\n      <td>2014-10-09 16:47:00</td>\n      <td>None</td>\n      <td>COG</td>\n      <td>nan</td>\n      <td>None</td>\n      <td>N</td>\n      <td>14.0</td>\n    </tr>\n  </tbody>\n</table>\n</div>"
     },
     "execution_count": 334,
     "metadata": {},
     "output_type": "execute_result"
    }
   ],
   "source": [
    "work_orders.head()"
   ],
   "metadata": {
    "collapsed": false,
    "ExecuteTime": {
     "end_time": "2023-09-22T17:38:09.137425100Z",
     "start_time": "2023-09-22T17:38:09.055423800Z"
    }
   }
  },
  {
   "cell_type": "code",
   "execution_count": 335,
   "outputs": [
    {
     "data": {
      "text/plain": "obj_class\nSRVCPNT     106778\nADDRESS      19487\nWATER        11689\nPREMISES      3818\nDRYUTIL       3561\n             ...  \nVENTIL           1\nODRCNTRL         1\nRECLOSUR         1\nHEATER           1\nDTPN             1\nName: count, Length: 106, dtype: int64"
     },
     "execution_count": 335,
     "metadata": {},
     "output_type": "execute_result"
    }
   ],
   "source": [
    "work_orders.obj_class.value_counts()"
   ],
   "metadata": {
    "collapsed": false,
    "ExecuteTime": {
     "end_time": "2023-09-22T17:38:10.056424800Z",
     "start_time": "2023-09-22T17:38:09.962423100Z"
    }
   }
  },
  {
   "cell_type": "code",
   "execution_count": 336,
   "outputs": [
    {
     "data": {
      "text/plain": "       EVT_CODE                    date location obj_code     gis_id  \\\n12       162626 2014-10-10 19:54:09.330     None    25936  100057586   \n13       162627 2014-10-10 20:00:32.900     None    31035  100062685   \n62       162826 2014-10-12 16:24:13.873     None    29464  100061114   \n363      165027 2014-10-27 11:40:00.000     None    31600  100063250   \n1200     174067 2014-12-10 10:25:00.000     None    32871  100064521   \n...         ...                     ...      ...      ...        ...   \n181206  2647053 2023-08-01 06:02:00.000     None    41640  100084370   \n181287  2648307 2023-08-04 12:51:00.000     None   539749  100226048   \n181518  2649916 2023-08-17 06:12:00.000     None    26299  100057949   \n181733  2651495 2023-08-29 06:31:00.000     None    26208  100057858   \n181767  2651725 2023-08-30 14:39:00.000     None    31716  100063366   \n\n       obj_class labor_type  booked_labor  \n12            MH          N          32.0  \n13            MH          N           8.0  \n62            MH          N          10.0  \n363           MH          N           8.0  \n1200          MH          N           8.0  \n...          ...        ...           ...  \n181206        MH          N          41.0  \n181287        MH          N           8.0  \n181518        MH          N           2.0  \n181733        MH          N           2.0  \n181767        MH          N           4.0  \n\n[1063 rows x 8 columns]",
      "text/html": "<div>\n<style scoped>\n    .dataframe tbody tr th:only-of-type {\n        vertical-align: middle;\n    }\n\n    .dataframe tbody tr th {\n        vertical-align: top;\n    }\n\n    .dataframe thead th {\n        text-align: right;\n    }\n</style>\n<table border=\"1\" class=\"dataframe\">\n  <thead>\n    <tr style=\"text-align: right;\">\n      <th></th>\n      <th>EVT_CODE</th>\n      <th>date</th>\n      <th>location</th>\n      <th>obj_code</th>\n      <th>gis_id</th>\n      <th>obj_class</th>\n      <th>labor_type</th>\n      <th>booked_labor</th>\n    </tr>\n  </thead>\n  <tbody>\n    <tr>\n      <th>12</th>\n      <td>162626</td>\n      <td>2014-10-10 19:54:09.330</td>\n      <td>None</td>\n      <td>25936</td>\n      <td>100057586</td>\n      <td>MH</td>\n      <td>N</td>\n      <td>32.0</td>\n    </tr>\n    <tr>\n      <th>13</th>\n      <td>162627</td>\n      <td>2014-10-10 20:00:32.900</td>\n      <td>None</td>\n      <td>31035</td>\n      <td>100062685</td>\n      <td>MH</td>\n      <td>N</td>\n      <td>8.0</td>\n    </tr>\n    <tr>\n      <th>62</th>\n      <td>162826</td>\n      <td>2014-10-12 16:24:13.873</td>\n      <td>None</td>\n      <td>29464</td>\n      <td>100061114</td>\n      <td>MH</td>\n      <td>N</td>\n      <td>10.0</td>\n    </tr>\n    <tr>\n      <th>363</th>\n      <td>165027</td>\n      <td>2014-10-27 11:40:00.000</td>\n      <td>None</td>\n      <td>31600</td>\n      <td>100063250</td>\n      <td>MH</td>\n      <td>N</td>\n      <td>8.0</td>\n    </tr>\n    <tr>\n      <th>1200</th>\n      <td>174067</td>\n      <td>2014-12-10 10:25:00.000</td>\n      <td>None</td>\n      <td>32871</td>\n      <td>100064521</td>\n      <td>MH</td>\n      <td>N</td>\n      <td>8.0</td>\n    </tr>\n    <tr>\n      <th>...</th>\n      <td>...</td>\n      <td>...</td>\n      <td>...</td>\n      <td>...</td>\n      <td>...</td>\n      <td>...</td>\n      <td>...</td>\n      <td>...</td>\n    </tr>\n    <tr>\n      <th>181206</th>\n      <td>2647053</td>\n      <td>2023-08-01 06:02:00.000</td>\n      <td>None</td>\n      <td>41640</td>\n      <td>100084370</td>\n      <td>MH</td>\n      <td>N</td>\n      <td>41.0</td>\n    </tr>\n    <tr>\n      <th>181287</th>\n      <td>2648307</td>\n      <td>2023-08-04 12:51:00.000</td>\n      <td>None</td>\n      <td>539749</td>\n      <td>100226048</td>\n      <td>MH</td>\n      <td>N</td>\n      <td>8.0</td>\n    </tr>\n    <tr>\n      <th>181518</th>\n      <td>2649916</td>\n      <td>2023-08-17 06:12:00.000</td>\n      <td>None</td>\n      <td>26299</td>\n      <td>100057949</td>\n      <td>MH</td>\n      <td>N</td>\n      <td>2.0</td>\n    </tr>\n    <tr>\n      <th>181733</th>\n      <td>2651495</td>\n      <td>2023-08-29 06:31:00.000</td>\n      <td>None</td>\n      <td>26208</td>\n      <td>100057858</td>\n      <td>MH</td>\n      <td>N</td>\n      <td>2.0</td>\n    </tr>\n    <tr>\n      <th>181767</th>\n      <td>2651725</td>\n      <td>2023-08-30 14:39:00.000</td>\n      <td>None</td>\n      <td>31716</td>\n      <td>100063366</td>\n      <td>MH</td>\n      <td>N</td>\n      <td>4.0</td>\n    </tr>\n  </tbody>\n</table>\n<p>1063 rows × 8 columns</p>\n</div>"
     },
     "execution_count": 336,
     "metadata": {},
     "output_type": "execute_result"
    }
   ],
   "source": [
    "work_orders.loc[work_orders['obj_class'] == 'MH', :]"
   ],
   "metadata": {
    "collapsed": false,
    "ExecuteTime": {
     "end_time": "2023-09-22T17:38:11.123029600Z",
     "start_time": "2023-09-22T17:38:11.008027400Z"
    }
   }
  },
  {
   "cell_type": "code",
   "execution_count": 337,
   "outputs": [],
   "source": [
    "grav_mains.GISOBJID = grav_mains.GISOBJID.astype(str)"
   ],
   "metadata": {
    "collapsed": false,
    "ExecuteTime": {
     "end_time": "2023-09-22T17:38:12.178085700Z",
     "start_time": "2023-09-22T17:38:12.114080400Z"
    }
   }
  },
  {
   "cell_type": "code",
   "execution_count": 338,
   "outputs": [],
   "source": [
    "mayfield_addr = work_orders.loc[work_orders.obj_code.isin(premises.COGEAMID), :]"
   ],
   "metadata": {
    "collapsed": false,
    "ExecuteTime": {
     "end_time": "2023-09-22T17:38:13.852872300Z",
     "start_time": "2023-09-22T17:38:13.771873200Z"
    }
   }
  },
  {
   "cell_type": "code",
   "execution_count": 339,
   "outputs": [
    {
     "name": "stdout",
     "output_type": "stream",
     "text": [
      "<class 'pandas.core.frame.DataFrame'>\n",
      "Index: 264 entries, 143 to 151422\n",
      "Data columns (total 8 columns):\n",
      " #   Column        Non-Null Count  Dtype         \n",
      "---  ------        --------------  -----         \n",
      " 0   EVT_CODE      264 non-null    object        \n",
      " 1   date          264 non-null    datetime64[ns]\n",
      " 2   location      0 non-null      object        \n",
      " 3   obj_code      264 non-null    object        \n",
      " 4   gis_id        264 non-null    object        \n",
      " 5   obj_class     264 non-null    object        \n",
      " 6   labor_type    264 non-null    object        \n",
      " 7   booked_labor  264 non-null    float64       \n",
      "dtypes: datetime64[ns](1), float64(1), object(6)\n",
      "memory usage: 18.6+ KB\n"
     ]
    }
   ],
   "source": [
    "mayfield_addr.info()"
   ],
   "metadata": {
    "collapsed": false,
    "ExecuteTime": {
     "end_time": "2023-09-22T17:38:14.728201500Z",
     "start_time": "2023-09-22T17:38:14.654202300Z"
    }
   }
  },
  {
   "cell_type": "code",
   "execution_count": 340,
   "outputs": [
    {
     "data": {
      "text/plain": "    GISOBJID             ADDRESS       OWNER\n0  100069356                3726    PARKSIDE\n1  100102110                3885    PARKSIDE\n2  100102134  400 GARNER PARK DR  GEORGETOWN\n3  100102137  701 GARNER PARK DR  GEORGETOWN\n4  100102138   300 FORT COBB WAY  GEORGETOWN",
      "text/html": "<div>\n<style scoped>\n    .dataframe tbody tr th:only-of-type {\n        vertical-align: middle;\n    }\n\n    .dataframe tbody tr th {\n        vertical-align: top;\n    }\n\n    .dataframe thead th {\n        text-align: right;\n    }\n</style>\n<table border=\"1\" class=\"dataframe\">\n  <thead>\n    <tr style=\"text-align: right;\">\n      <th></th>\n      <th>GISOBJID</th>\n      <th>ADDRESS</th>\n      <th>OWNER</th>\n    </tr>\n  </thead>\n  <tbody>\n    <tr>\n      <th>0</th>\n      <td>100069356</td>\n      <td>3726</td>\n      <td>PARKSIDE</td>\n    </tr>\n    <tr>\n      <th>1</th>\n      <td>100102110</td>\n      <td>3885</td>\n      <td>PARKSIDE</td>\n    </tr>\n    <tr>\n      <th>2</th>\n      <td>100102134</td>\n      <td>400 GARNER PARK DR</td>\n      <td>GEORGETOWN</td>\n    </tr>\n    <tr>\n      <th>3</th>\n      <td>100102137</td>\n      <td>701 GARNER PARK DR</td>\n      <td>GEORGETOWN</td>\n    </tr>\n    <tr>\n      <th>4</th>\n      <td>100102138</td>\n      <td>300 FORT COBB WAY</td>\n      <td>GEORGETOWN</td>\n    </tr>\n  </tbody>\n</table>\n</div>"
     },
     "execution_count": 340,
     "metadata": {},
     "output_type": "execute_result"
    }
   ],
   "source": [
    "grav_mains.head()"
   ],
   "metadata": {
    "collapsed": false,
    "ExecuteTime": {
     "end_time": "2023-09-22T17:38:15.488791700Z",
     "start_time": "2023-09-22T17:38:15.399774900Z"
    }
   }
  },
  {
   "cell_type": "code",
   "execution_count": 341,
   "outputs": [
    {
     "name": "stdout",
     "output_type": "stream",
     "text": [
      "<class 'pandas.core.frame.DataFrame'>\n",
      "RangeIndex: 524 entries, 0 to 523\n",
      "Data columns (total 3 columns):\n",
      " #   Column    Non-Null Count  Dtype \n",
      "---  ------    --------------  ----- \n",
      " 0   GISOBJID  524 non-null    object\n",
      " 1   ADDRESS   524 non-null    object\n",
      " 2   OWNER     524 non-null    object\n",
      "dtypes: object(3)\n",
      "memory usage: 12.4+ KB\n"
     ]
    }
   ],
   "source": [
    "grav_mains.info()"
   ],
   "metadata": {
    "collapsed": false,
    "ExecuteTime": {
     "end_time": "2023-09-22T17:38:16.247871200Z",
     "start_time": "2023-09-22T17:38:16.182771Z"
    }
   }
  },
  {
   "cell_type": "code",
   "execution_count": 342,
   "outputs": [],
   "source": [
    "mayfield_grav = work_orders.assign(result=work_orders.gis_id.isin(grav_mains['GISOBJID']))"
   ],
   "metadata": {
    "collapsed": false,
    "ExecuteTime": {
     "end_time": "2023-09-22T17:38:17.454841100Z",
     "start_time": "2023-09-22T17:38:17.340836800Z"
    }
   }
  },
  {
   "cell_type": "code",
   "execution_count": 343,
   "outputs": [
    {
     "data": {
      "text/plain": "  EVT_CODE                date location  obj_code     gis_id obj_class  \\\n0   238095 2012-07-26 17:06:00     None  5FCFD134  100082930   ADDRESS   \n1   164535 2014-09-22 00:00:00      RHP  W-DS-RHP        nan   STATION   \n2   161227 2014-10-09 10:15:00     None       COG        nan      None   \n3   162521 2014-10-09 14:49:00     None       COG        nan      None   \n4   162567 2014-10-09 16:47:00     None       COG        nan      None   \n\n  labor_type  booked_labor  result  \n0          N          22.0   False  \n1          N           2.0   False  \n2          N           2.0   False  \n3          N           4.0   False  \n4          N          14.0   False  ",
      "text/html": "<div>\n<style scoped>\n    .dataframe tbody tr th:only-of-type {\n        vertical-align: middle;\n    }\n\n    .dataframe tbody tr th {\n        vertical-align: top;\n    }\n\n    .dataframe thead th {\n        text-align: right;\n    }\n</style>\n<table border=\"1\" class=\"dataframe\">\n  <thead>\n    <tr style=\"text-align: right;\">\n      <th></th>\n      <th>EVT_CODE</th>\n      <th>date</th>\n      <th>location</th>\n      <th>obj_code</th>\n      <th>gis_id</th>\n      <th>obj_class</th>\n      <th>labor_type</th>\n      <th>booked_labor</th>\n      <th>result</th>\n    </tr>\n  </thead>\n  <tbody>\n    <tr>\n      <th>0</th>\n      <td>238095</td>\n      <td>2012-07-26 17:06:00</td>\n      <td>None</td>\n      <td>5FCFD134</td>\n      <td>100082930</td>\n      <td>ADDRESS</td>\n      <td>N</td>\n      <td>22.0</td>\n      <td>False</td>\n    </tr>\n    <tr>\n      <th>1</th>\n      <td>164535</td>\n      <td>2014-09-22 00:00:00</td>\n      <td>RHP</td>\n      <td>W-DS-RHP</td>\n      <td>nan</td>\n      <td>STATION</td>\n      <td>N</td>\n      <td>2.0</td>\n      <td>False</td>\n    </tr>\n    <tr>\n      <th>2</th>\n      <td>161227</td>\n      <td>2014-10-09 10:15:00</td>\n      <td>None</td>\n      <td>COG</td>\n      <td>nan</td>\n      <td>None</td>\n      <td>N</td>\n      <td>2.0</td>\n      <td>False</td>\n    </tr>\n    <tr>\n      <th>3</th>\n      <td>162521</td>\n      <td>2014-10-09 14:49:00</td>\n      <td>None</td>\n      <td>COG</td>\n      <td>nan</td>\n      <td>None</td>\n      <td>N</td>\n      <td>4.0</td>\n      <td>False</td>\n    </tr>\n    <tr>\n      <th>4</th>\n      <td>162567</td>\n      <td>2014-10-09 16:47:00</td>\n      <td>None</td>\n      <td>COG</td>\n      <td>nan</td>\n      <td>None</td>\n      <td>N</td>\n      <td>14.0</td>\n      <td>False</td>\n    </tr>\n  </tbody>\n</table>\n</div>"
     },
     "execution_count": 343,
     "metadata": {},
     "output_type": "execute_result"
    }
   ],
   "source": [
    "mayfield_grav.head()"
   ],
   "metadata": {
    "collapsed": false,
    "ExecuteTime": {
     "end_time": "2023-09-22T17:38:18.070167600Z",
     "start_time": "2023-09-22T17:38:18.008162100Z"
    }
   }
  },
  {
   "cell_type": "code",
   "execution_count": 344,
   "outputs": [],
   "source": [
    "mayfield_force = work_orders.assign(result=work_orders.gis_id.isin(force_mains['GISOBJID']))"
   ],
   "metadata": {
    "collapsed": false,
    "ExecuteTime": {
     "end_time": "2023-09-22T17:38:19.134014800Z",
     "start_time": "2023-09-22T17:38:19.023953800Z"
    }
   }
  },
  {
   "cell_type": "code",
   "execution_count": 345,
   "outputs": [
    {
     "data": {
      "text/plain": "result\nFalse    182187\nName: count, dtype: int64"
     },
     "execution_count": 345,
     "metadata": {},
     "output_type": "execute_result"
    }
   ],
   "source": [
    "mayfield_force.result.value_counts()"
   ],
   "metadata": {
    "collapsed": false,
    "ExecuteTime": {
     "end_time": "2023-09-22T17:38:19.882334900Z",
     "start_time": "2023-09-22T17:38:19.849333300Z"
    }
   }
  },
  {
   "cell_type": "code",
   "execution_count": 346,
   "outputs": [],
   "source": [
    "mayfield_ls = work_orders.loc[work_orders.location.isin(['HML', 'MFL']), :]"
   ],
   "metadata": {
    "collapsed": false,
    "ExecuteTime": {
     "end_time": "2023-09-22T17:38:20.948300300Z",
     "start_time": "2023-09-22T17:38:20.896294800Z"
    }
   }
  },
  {
   "cell_type": "code",
   "execution_count": 347,
   "outputs": [
    {
     "name": "stdout",
     "output_type": "stream",
     "text": [
      "<class 'pandas.core.frame.DataFrame'>\n",
      "Index: 263 entries, 48 to 181703\n",
      "Data columns (total 8 columns):\n",
      " #   Column        Non-Null Count  Dtype         \n",
      "---  ------        --------------  -----         \n",
      " 0   EVT_CODE      263 non-null    object        \n",
      " 1   date          263 non-null    datetime64[ns]\n",
      " 2   location      263 non-null    object        \n",
      " 3   obj_code      263 non-null    object        \n",
      " 4   gis_id        263 non-null    object        \n",
      " 5   obj_class     263 non-null    object        \n",
      " 6   labor_type    263 non-null    object        \n",
      " 7   booked_labor  263 non-null    float64       \n",
      "dtypes: datetime64[ns](1), float64(1), object(6)\n",
      "memory usage: 18.5+ KB\n"
     ]
    }
   ],
   "source": [
    "mayfield_ls.info()"
   ],
   "metadata": {
    "collapsed": false,
    "ExecuteTime": {
     "end_time": "2023-09-22T17:38:22.202051900Z",
     "start_time": "2023-09-22T17:38:22.171022Z"
    }
   }
  },
  {
   "cell_type": "code",
   "execution_count": 348,
   "outputs": [
    {
     "name": "stdout",
     "output_type": "stream",
     "text": [
      "<class 'pandas.core.frame.DataFrame'>\n",
      "RangeIndex: 2211 entries, 0 to 2210\n",
      "Data columns (total 4 columns):\n",
      " #   Column      Non-Null Count  Dtype \n",
      "---  ------      --------------  ----- \n",
      " 0   COGEAMID    2211 non-null   object\n",
      " 1   PREMISESID  2211 non-null   object\n",
      " 2   Label_Name  2211 non-null   object\n",
      " 3   SUB_NAME    2211 non-null   object\n",
      "dtypes: object(4)\n",
      "memory usage: 69.2+ KB\n"
     ]
    }
   ],
   "source": [
    "premises.info()"
   ],
   "metadata": {
    "collapsed": false,
    "ExecuteTime": {
     "end_time": "2023-09-22T17:38:23.547338500Z",
     "start_time": "2023-09-22T17:38:23.513339500Z"
    }
   }
  },
  {
   "cell_type": "code",
   "execution_count": 349,
   "outputs": [],
   "source": [
    "mayfield_prem = work_orders.loc[work_orders.obj_code.isin(premises.PREMISESID), :]"
   ],
   "metadata": {
    "collapsed": false,
    "ExecuteTime": {
     "end_time": "2023-09-22T17:38:24.696452100Z",
     "start_time": "2023-09-22T17:38:24.664388700Z"
    }
   }
  },
  {
   "cell_type": "code",
   "execution_count": 350,
   "outputs": [
    {
     "name": "stdout",
     "output_type": "stream",
     "text": [
      "<class 'pandas.core.frame.DataFrame'>\n",
      "Index: 29 entries, 47948 to 180145\n",
      "Data columns (total 8 columns):\n",
      " #   Column        Non-Null Count  Dtype         \n",
      "---  ------        --------------  -----         \n",
      " 0   EVT_CODE      29 non-null     object        \n",
      " 1   date          29 non-null     datetime64[ns]\n",
      " 2   location      0 non-null      object        \n",
      " 3   obj_code      29 non-null     object        \n",
      " 4   gis_id        29 non-null     object        \n",
      " 5   obj_class     29 non-null     object        \n",
      " 6   labor_type    29 non-null     object        \n",
      " 7   booked_labor  29 non-null     float64       \n",
      "dtypes: datetime64[ns](1), float64(1), object(6)\n",
      "memory usage: 2.0+ KB\n"
     ]
    }
   ],
   "source": [
    "mayfield_prem.info()"
   ],
   "metadata": {
    "collapsed": false,
    "ExecuteTime": {
     "end_time": "2023-09-22T17:38:25.314215200Z",
     "start_time": "2023-09-22T17:38:25.261083200Z"
    }
   }
  },
  {
   "cell_type": "code",
   "execution_count": 351,
   "outputs": [
    {
     "data": {
      "text/plain": "       EVT_CODE                    date location    obj_code     gis_id  \\\n47948   1338745 2018-10-29 11:37:24.050     None  PRM0000649        nan   \n53912   1401582 2019-01-11 17:29:54.487     None  PRM0023292        nan   \n72502   1575438 2019-08-01 22:53:00.000     None  PRM0030692        nan   \n87349   1697655 2019-12-14 11:43:00.000     None  PRM0033613        nan   \n88002   1705146 2019-12-25 10:55:00.000     None  PRM0037107        nan   \n102422  1834271 2020-05-23 18:29:00.000     None  PRM0045747  100141815   \n108692  1885056 2020-07-23 21:49:00.000     None  PRM0027540        nan   \n111679  1907155 2020-08-20 19:35:00.000     None  PRM0027449        nan   \n111680  1907155 2020-08-20 19:35:00.000     None  PRM0027449        nan   \n127089  2029748 2021-01-15 08:04:00.000     None  PRM0024794        nan   \n132453  2092065 2021-03-18 07:15:06.007     None  PRM0024486        nan   \n152780  2370713 2021-12-20 08:31:43.340     None  PRM0036510        nan   \n159740  2465438 2022-04-08 13:57:00.000     None  PRM0025034        nan   \n164037  2514919 2022-06-04 11:14:00.000     None  PRM0028122        nan   \n170891  2562360 2022-08-19 15:46:00.000     None  PRM0035683        nan   \n171654  2569280 2022-08-30 09:30:31.060     None  PRM0042492        nan   \n172411  2578787 2022-09-07 16:46:00.000     None  PRM0062656  100189044   \n174855  2599708 2022-10-10 13:18:00.000     None  PRM0027993        nan   \n176425  2608774 2022-11-28 18:10:00.000     None  PRM0032444        nan   \n176518  2609657 2022-12-03 11:06:00.000     None  PRM0039828        nan   \n176996  2611573 2022-12-26 11:14:00.000     None  PRM0024025        nan   \n177936  2618799 2023-02-09 08:58:16.547     None  PRM0047523  100147507   \n178152  2620203 2023-02-16 08:09:32.420     None  PRM0038708        nan   \n178224  2620696 2023-02-19 09:23:00.000     None  PRM0026089        nan   \n178688  2624173 2023-03-09 17:20:00.000     None  PRM0026026        nan   \n178734  2624495 2023-03-13 08:41:37.817     None  PRM0032181        nan   \n178781  2624861 2023-03-15 08:20:30.233     None  PRM0034677        nan   \n179257  2628670 2023-04-12 07:10:00.000     None  PRM0022436        nan   \n180145  2639286 2023-06-05 08:36:02.820     None  PRM0032147        nan   \n\n       obj_class labor_type  booked_labor  \n47948   PREMISES          N           0.5  \n53912   PREMISES          N           6.5  \n72502   PREMISES          N           2.0  \n87349   PREMISES          N           5.0  \n88002   PREMISES          N           2.0  \n102422  PREMISES          O           2.0  \n108692  PREMISES          N           1.5  \n111679  PREMISES          N           2.0  \n111680  PREMISES          O           1.0  \n127089  PREMISES          N           1.0  \n132453  PREMISES          N           5.0  \n152780  PREMISES          N           1.0  \n159740  PREMISES          N           1.0  \n164037  PREMISES          N           1.0  \n170891  PREMISES          N           1.0  \n171654  PREMISES          N           2.0  \n172411  PREMISES          N           1.0  \n174855  PREMISES          N           1.0  \n176425  PREMISES          N           2.0  \n176518  PREMISES          O           1.0  \n176996  PREMISES          N           1.0  \n177936  PREMISES          N           1.0  \n178152  PREMISES          N           1.0  \n178224  PREMISES          N           1.0  \n178688  PREMISES          O           1.0  \n178734  PREMISES          N           1.0  \n178781  PREMISES          N           2.0  \n179257  PREMISES          N           1.0  \n180145  PREMISES          N           1.0  ",
      "text/html": "<div>\n<style scoped>\n    .dataframe tbody tr th:only-of-type {\n        vertical-align: middle;\n    }\n\n    .dataframe tbody tr th {\n        vertical-align: top;\n    }\n\n    .dataframe thead th {\n        text-align: right;\n    }\n</style>\n<table border=\"1\" class=\"dataframe\">\n  <thead>\n    <tr style=\"text-align: right;\">\n      <th></th>\n      <th>EVT_CODE</th>\n      <th>date</th>\n      <th>location</th>\n      <th>obj_code</th>\n      <th>gis_id</th>\n      <th>obj_class</th>\n      <th>labor_type</th>\n      <th>booked_labor</th>\n    </tr>\n  </thead>\n  <tbody>\n    <tr>\n      <th>47948</th>\n      <td>1338745</td>\n      <td>2018-10-29 11:37:24.050</td>\n      <td>None</td>\n      <td>PRM0000649</td>\n      <td>nan</td>\n      <td>PREMISES</td>\n      <td>N</td>\n      <td>0.5</td>\n    </tr>\n    <tr>\n      <th>53912</th>\n      <td>1401582</td>\n      <td>2019-01-11 17:29:54.487</td>\n      <td>None</td>\n      <td>PRM0023292</td>\n      <td>nan</td>\n      <td>PREMISES</td>\n      <td>N</td>\n      <td>6.5</td>\n    </tr>\n    <tr>\n      <th>72502</th>\n      <td>1575438</td>\n      <td>2019-08-01 22:53:00.000</td>\n      <td>None</td>\n      <td>PRM0030692</td>\n      <td>nan</td>\n      <td>PREMISES</td>\n      <td>N</td>\n      <td>2.0</td>\n    </tr>\n    <tr>\n      <th>87349</th>\n      <td>1697655</td>\n      <td>2019-12-14 11:43:00.000</td>\n      <td>None</td>\n      <td>PRM0033613</td>\n      <td>nan</td>\n      <td>PREMISES</td>\n      <td>N</td>\n      <td>5.0</td>\n    </tr>\n    <tr>\n      <th>88002</th>\n      <td>1705146</td>\n      <td>2019-12-25 10:55:00.000</td>\n      <td>None</td>\n      <td>PRM0037107</td>\n      <td>nan</td>\n      <td>PREMISES</td>\n      <td>N</td>\n      <td>2.0</td>\n    </tr>\n    <tr>\n      <th>102422</th>\n      <td>1834271</td>\n      <td>2020-05-23 18:29:00.000</td>\n      <td>None</td>\n      <td>PRM0045747</td>\n      <td>100141815</td>\n      <td>PREMISES</td>\n      <td>O</td>\n      <td>2.0</td>\n    </tr>\n    <tr>\n      <th>108692</th>\n      <td>1885056</td>\n      <td>2020-07-23 21:49:00.000</td>\n      <td>None</td>\n      <td>PRM0027540</td>\n      <td>nan</td>\n      <td>PREMISES</td>\n      <td>N</td>\n      <td>1.5</td>\n    </tr>\n    <tr>\n      <th>111679</th>\n      <td>1907155</td>\n      <td>2020-08-20 19:35:00.000</td>\n      <td>None</td>\n      <td>PRM0027449</td>\n      <td>nan</td>\n      <td>PREMISES</td>\n      <td>N</td>\n      <td>2.0</td>\n    </tr>\n    <tr>\n      <th>111680</th>\n      <td>1907155</td>\n      <td>2020-08-20 19:35:00.000</td>\n      <td>None</td>\n      <td>PRM0027449</td>\n      <td>nan</td>\n      <td>PREMISES</td>\n      <td>O</td>\n      <td>1.0</td>\n    </tr>\n    <tr>\n      <th>127089</th>\n      <td>2029748</td>\n      <td>2021-01-15 08:04:00.000</td>\n      <td>None</td>\n      <td>PRM0024794</td>\n      <td>nan</td>\n      <td>PREMISES</td>\n      <td>N</td>\n      <td>1.0</td>\n    </tr>\n    <tr>\n      <th>132453</th>\n      <td>2092065</td>\n      <td>2021-03-18 07:15:06.007</td>\n      <td>None</td>\n      <td>PRM0024486</td>\n      <td>nan</td>\n      <td>PREMISES</td>\n      <td>N</td>\n      <td>5.0</td>\n    </tr>\n    <tr>\n      <th>152780</th>\n      <td>2370713</td>\n      <td>2021-12-20 08:31:43.340</td>\n      <td>None</td>\n      <td>PRM0036510</td>\n      <td>nan</td>\n      <td>PREMISES</td>\n      <td>N</td>\n      <td>1.0</td>\n    </tr>\n    <tr>\n      <th>159740</th>\n      <td>2465438</td>\n      <td>2022-04-08 13:57:00.000</td>\n      <td>None</td>\n      <td>PRM0025034</td>\n      <td>nan</td>\n      <td>PREMISES</td>\n      <td>N</td>\n      <td>1.0</td>\n    </tr>\n    <tr>\n      <th>164037</th>\n      <td>2514919</td>\n      <td>2022-06-04 11:14:00.000</td>\n      <td>None</td>\n      <td>PRM0028122</td>\n      <td>nan</td>\n      <td>PREMISES</td>\n      <td>N</td>\n      <td>1.0</td>\n    </tr>\n    <tr>\n      <th>170891</th>\n      <td>2562360</td>\n      <td>2022-08-19 15:46:00.000</td>\n      <td>None</td>\n      <td>PRM0035683</td>\n      <td>nan</td>\n      <td>PREMISES</td>\n      <td>N</td>\n      <td>1.0</td>\n    </tr>\n    <tr>\n      <th>171654</th>\n      <td>2569280</td>\n      <td>2022-08-30 09:30:31.060</td>\n      <td>None</td>\n      <td>PRM0042492</td>\n      <td>nan</td>\n      <td>PREMISES</td>\n      <td>N</td>\n      <td>2.0</td>\n    </tr>\n    <tr>\n      <th>172411</th>\n      <td>2578787</td>\n      <td>2022-09-07 16:46:00.000</td>\n      <td>None</td>\n      <td>PRM0062656</td>\n      <td>100189044</td>\n      <td>PREMISES</td>\n      <td>N</td>\n      <td>1.0</td>\n    </tr>\n    <tr>\n      <th>174855</th>\n      <td>2599708</td>\n      <td>2022-10-10 13:18:00.000</td>\n      <td>None</td>\n      <td>PRM0027993</td>\n      <td>nan</td>\n      <td>PREMISES</td>\n      <td>N</td>\n      <td>1.0</td>\n    </tr>\n    <tr>\n      <th>176425</th>\n      <td>2608774</td>\n      <td>2022-11-28 18:10:00.000</td>\n      <td>None</td>\n      <td>PRM0032444</td>\n      <td>nan</td>\n      <td>PREMISES</td>\n      <td>N</td>\n      <td>2.0</td>\n    </tr>\n    <tr>\n      <th>176518</th>\n      <td>2609657</td>\n      <td>2022-12-03 11:06:00.000</td>\n      <td>None</td>\n      <td>PRM0039828</td>\n      <td>nan</td>\n      <td>PREMISES</td>\n      <td>O</td>\n      <td>1.0</td>\n    </tr>\n    <tr>\n      <th>176996</th>\n      <td>2611573</td>\n      <td>2022-12-26 11:14:00.000</td>\n      <td>None</td>\n      <td>PRM0024025</td>\n      <td>nan</td>\n      <td>PREMISES</td>\n      <td>N</td>\n      <td>1.0</td>\n    </tr>\n    <tr>\n      <th>177936</th>\n      <td>2618799</td>\n      <td>2023-02-09 08:58:16.547</td>\n      <td>None</td>\n      <td>PRM0047523</td>\n      <td>100147507</td>\n      <td>PREMISES</td>\n      <td>N</td>\n      <td>1.0</td>\n    </tr>\n    <tr>\n      <th>178152</th>\n      <td>2620203</td>\n      <td>2023-02-16 08:09:32.420</td>\n      <td>None</td>\n      <td>PRM0038708</td>\n      <td>nan</td>\n      <td>PREMISES</td>\n      <td>N</td>\n      <td>1.0</td>\n    </tr>\n    <tr>\n      <th>178224</th>\n      <td>2620696</td>\n      <td>2023-02-19 09:23:00.000</td>\n      <td>None</td>\n      <td>PRM0026089</td>\n      <td>nan</td>\n      <td>PREMISES</td>\n      <td>N</td>\n      <td>1.0</td>\n    </tr>\n    <tr>\n      <th>178688</th>\n      <td>2624173</td>\n      <td>2023-03-09 17:20:00.000</td>\n      <td>None</td>\n      <td>PRM0026026</td>\n      <td>nan</td>\n      <td>PREMISES</td>\n      <td>O</td>\n      <td>1.0</td>\n    </tr>\n    <tr>\n      <th>178734</th>\n      <td>2624495</td>\n      <td>2023-03-13 08:41:37.817</td>\n      <td>None</td>\n      <td>PRM0032181</td>\n      <td>nan</td>\n      <td>PREMISES</td>\n      <td>N</td>\n      <td>1.0</td>\n    </tr>\n    <tr>\n      <th>178781</th>\n      <td>2624861</td>\n      <td>2023-03-15 08:20:30.233</td>\n      <td>None</td>\n      <td>PRM0034677</td>\n      <td>nan</td>\n      <td>PREMISES</td>\n      <td>N</td>\n      <td>2.0</td>\n    </tr>\n    <tr>\n      <th>179257</th>\n      <td>2628670</td>\n      <td>2023-04-12 07:10:00.000</td>\n      <td>None</td>\n      <td>PRM0022436</td>\n      <td>nan</td>\n      <td>PREMISES</td>\n      <td>N</td>\n      <td>1.0</td>\n    </tr>\n    <tr>\n      <th>180145</th>\n      <td>2639286</td>\n      <td>2023-06-05 08:36:02.820</td>\n      <td>None</td>\n      <td>PRM0032147</td>\n      <td>nan</td>\n      <td>PREMISES</td>\n      <td>N</td>\n      <td>1.0</td>\n    </tr>\n  </tbody>\n</table>\n</div>"
     },
     "execution_count": 351,
     "metadata": {},
     "output_type": "execute_result"
    }
   ],
   "source": [
    "mayfield_prem"
   ],
   "metadata": {
    "collapsed": false,
    "ExecuteTime": {
     "end_time": "2023-09-22T17:38:26.053198Z",
     "start_time": "2023-09-22T17:38:25.934021800Z"
    }
   }
  },
  {
   "cell_type": "code",
   "execution_count": 352,
   "outputs": [
    {
     "name": "stdout",
     "output_type": "stream",
     "text": [
      "2023-09-22 12:38:27,387 INFO sqlalchemy.engine.Engine \n",
      "    SELECT ADD_CODE,\n",
      "    ADD_TEXT\n",
      "    FROM R5ADDETAILS AS dtl\n",
      "    JOIN R5EVENTS evt\n",
      "        ON evt.EVT_CODE = dtl.ADD_CODE\n",
      "    WHERE ADD_CODE IN (?, ?, ?, ?, ?, ?, ?, ?, ?, ?, ?, ?, ?, ?, ?, ?, ?, ?, ?, ?, ?, ?, ?, ?, ?, ?, ?, ?, ?)\n",
      "\n",
      "2023-09-22 12:38:27,387 INFO sqlalchemy.engine.Engine [raw sql] ('1338745', '1401582', '1575438', '1697655', '1705146', '1834271', '1885056', '1907155', '1907155', '2029748', '2092065', '2370713', '2465438', '2514919', '2562360', '2569280', '2578787', '2599708', '2608774', '2609657', '2611573', '2618799', '2620203', '2620696', '2624173', '2624495', '2624861', '2628670', '2639286')\n"
     ]
    }
   ],
   "source": [
    "evt_code_list = mayfield_prem.EVT_CODE.tolist()\n",
    "\n",
    "params = tuple(evt_code_list)\n",
    "\n",
    "mf_prem_query = '''\n",
    "    SELECT ADD_CODE,\n",
    "    ADD_TEXT\n",
    "    FROM R5ADDETAILS AS dtl\n",
    "    JOIN R5EVENTS evt\n",
    "        ON evt.EVT_CODE = dtl.ADD_CODE\n",
    "    WHERE ADD_CODE IN ({})\n",
    "'''.format(', '.join(['?'] * len(params)))\n",
    "\n",
    "mf_prem_comm = pd.read_sql_query(mf_prem_query, \n",
    "                                 eam_engine,\n",
    "                                 params=params)"
   ],
   "metadata": {
    "collapsed": false,
    "ExecuteTime": {
     "end_time": "2023-09-22T17:38:27.550717400Z",
     "start_time": "2023-09-22T17:38:27.387724900Z"
    }
   }
  },
  {
   "cell_type": "code",
   "execution_count": 353,
   "outputs": [
    {
     "name": "stdout",
     "output_type": "stream",
     "text": [
      "<class 'pandas.core.frame.DataFrame'>\n",
      "RangeIndex: 66 entries, 0 to 65\n",
      "Data columns (total 2 columns):\n",
      " #   Column    Non-Null Count  Dtype \n",
      "---  ------    --------------  ----- \n",
      " 0   ADD_CODE  66 non-null     object\n",
      " 1   ADD_TEXT  66 non-null     object\n",
      "dtypes: object(2)\n",
      "memory usage: 1.2+ KB\n"
     ]
    }
   ],
   "source": [
    "mf_prem_comm.info()"
   ],
   "metadata": {
    "collapsed": false,
    "ExecuteTime": {
     "end_time": "2023-09-22T17:38:29.070684600Z",
     "start_time": "2023-09-22T17:38:29.028247400Z"
    }
   }
  },
  {
   "cell_type": "code",
   "execution_count": 354,
   "outputs": [],
   "source": [
    "from bs4 import BeautifulSoup\n",
    "\n",
    "def remove_html_tags(html_string):\n",
    "    if pd.notna(html_string):\n",
    "        soup = BeautifulSoup(html_string, 'html.parser')\n",
    "        return soup.get_text()\n",
    "    else:\n",
    "        return ''\n",
    "\n"
   ],
   "metadata": {
    "collapsed": false,
    "ExecuteTime": {
     "end_time": "2023-09-22T17:38:30.318770700Z",
     "start_time": "2023-09-22T17:38:30.273774900Z"
    }
   }
  },
  {
   "cell_type": "code",
   "execution_count": 355,
   "outputs": [
    {
     "name": "stderr",
     "output_type": "stream",
     "text": [
      "C:\\Users\\Ckluge\\AppData\\Local\\Temp\\ipykernel_86456\\3279303279.py:5: MarkupResemblesLocatorWarning: The input looks more like a filename than markup. You may want to open this file and pass the filehandle into Beautiful Soup.\n",
      "  soup = BeautifulSoup(html_string, 'html.parser')\n"
     ]
    },
    {
     "data": {
      "text/plain": "   ADD_CODE                                           ADD_TEXT\n0   1885056  Customer prv was leaking informed customer and...\n1   1907155  Customer states we have been out there multipl...\n2   1907155  Need to replace this 24\" Manhole insert with a...\n3   1907155  scraped the manhole ring with a wire brush, a ...\n4   2465438  50psi on outside faucet. Customer stated certa...\n..      ...                                                ...\n61  2620203  Customer experiencing low water pressure for a...\n62  2620203  Checked customers house side faucet they are g...\n63  2620696  upon arrival I made contact with the customer....\n64  2624495  customer says he's getting low pressure - woul...\n65  2578787  contactor pulled off angle stop. pinched line ...\n\n[66 rows x 2 columns]",
      "text/html": "<div>\n<style scoped>\n    .dataframe tbody tr th:only-of-type {\n        vertical-align: middle;\n    }\n\n    .dataframe tbody tr th {\n        vertical-align: top;\n    }\n\n    .dataframe thead th {\n        text-align: right;\n    }\n</style>\n<table border=\"1\" class=\"dataframe\">\n  <thead>\n    <tr style=\"text-align: right;\">\n      <th></th>\n      <th>ADD_CODE</th>\n      <th>ADD_TEXT</th>\n    </tr>\n  </thead>\n  <tbody>\n    <tr>\n      <th>0</th>\n      <td>1885056</td>\n      <td>Customer prv was leaking informed customer and...</td>\n    </tr>\n    <tr>\n      <th>1</th>\n      <td>1907155</td>\n      <td>Customer states we have been out there multipl...</td>\n    </tr>\n    <tr>\n      <th>2</th>\n      <td>1907155</td>\n      <td>Need to replace this 24\" Manhole insert with a...</td>\n    </tr>\n    <tr>\n      <th>3</th>\n      <td>1907155</td>\n      <td>scraped the manhole ring with a wire brush, a ...</td>\n    </tr>\n    <tr>\n      <th>4</th>\n      <td>2465438</td>\n      <td>50psi on outside faucet. Customer stated certa...</td>\n    </tr>\n    <tr>\n      <th>...</th>\n      <td>...</td>\n      <td>...</td>\n    </tr>\n    <tr>\n      <th>61</th>\n      <td>2620203</td>\n      <td>Customer experiencing low water pressure for a...</td>\n    </tr>\n    <tr>\n      <th>62</th>\n      <td>2620203</td>\n      <td>Checked customers house side faucet they are g...</td>\n    </tr>\n    <tr>\n      <th>63</th>\n      <td>2620696</td>\n      <td>upon arrival I made contact with the customer....</td>\n    </tr>\n    <tr>\n      <th>64</th>\n      <td>2624495</td>\n      <td>customer says he's getting low pressure - woul...</td>\n    </tr>\n    <tr>\n      <th>65</th>\n      <td>2578787</td>\n      <td>contactor pulled off angle stop. pinched line ...</td>\n    </tr>\n  </tbody>\n</table>\n<p>66 rows × 2 columns</p>\n</div>"
     },
     "execution_count": 355,
     "metadata": {},
     "output_type": "execute_result"
    }
   ],
   "source": [
    "mf_prem_comm.ADD_TEXT = mf_prem_comm.ADD_TEXT.apply(remove_html_tags)\n",
    "\n",
    "mf_prem_comm"
   ],
   "metadata": {
    "collapsed": false,
    "ExecuteTime": {
     "end_time": "2023-09-22T17:38:31.061774300Z",
     "start_time": "2023-09-22T17:38:30.945770600Z"
    }
   }
  },
  {
   "cell_type": "code",
   "execution_count": 356,
   "outputs": [],
   "source": [
    "result = mf_prem_comm.groupby('ADD_CODE')['ADD_TEXT'].apply(lambda x: '\\n'.join(x)).reset_index()"
   ],
   "metadata": {
    "collapsed": false,
    "ExecuteTime": {
     "end_time": "2023-09-22T17:38:31.584776700Z",
     "start_time": "2023-09-22T17:38:31.511769800Z"
    }
   }
  },
  {
   "cell_type": "code",
   "execution_count": 357,
   "outputs": [
    {
     "data": {
      "text/plain": "   ADD_CODE                                           ADD_TEXT\n0   1338745  located in the City of Round Rock \\nCustomer D...\n1   1401582  Crew investigating.  In Wilco service area but...\n2   1575438  Issue resolved before I arrived apparently, to...\n3   1697655  recieved a page to turn water on on friday. cr...\n4   1705146  checked the pressure at the main,it was 100psi...\n5   1834271  leak on customer irraigtion had it shut off at...\n6   1885056  Customer prv was leaking informed customer and...\n7   1907155  Customer states we have been out there multipl...\n8   2029748  upon arrival customer stated that water has be...\n9   2092065  Smoothed out the dirt and laid 27 pieces of so...\n10  2370713  upon arrival house bib had 60 psi. also the me...\n11  2465438  50psi on outside faucet. Customer stated certa...\n12  2514919  Customer called back and canceled \\nMichael 95...\n13  2562360  called customer to inform them that i would be...\n14  2569280  Upon arrival, I spoke with the customer and sh...\n15  2578787  contactor pulled off angle stop. pinched line ...\n16  2599708  Water was turned off at the meter turned the s...\n17  2608774  It was actually a low pressure call, the custo...\n18  2609657  dist pressure 60 psipressure at the stop 60pre...\n19  2611573         Customer had water shut off when I arrived\n20  2618799  customer thinks he may have a leak - says he's...\n21  2620203  Talked to customer and he understood\\nCustomer...\n22  2620696  upon arrival I made contact with the customer....\n23  2624173  customer is reporting low water pressure \\nupo...\n24  2624495  checked outside faucet on house and got 70psi/...\n25  2624861  Customer is experiencing low water pressure.  ...\n26  2628670  customer stated his hot water heater was buste...\n27  2639286  Dead squirrel in the middle of the road in fro...",
      "text/html": "<div>\n<style scoped>\n    .dataframe tbody tr th:only-of-type {\n        vertical-align: middle;\n    }\n\n    .dataframe tbody tr th {\n        vertical-align: top;\n    }\n\n    .dataframe thead th {\n        text-align: right;\n    }\n</style>\n<table border=\"1\" class=\"dataframe\">\n  <thead>\n    <tr style=\"text-align: right;\">\n      <th></th>\n      <th>ADD_CODE</th>\n      <th>ADD_TEXT</th>\n    </tr>\n  </thead>\n  <tbody>\n    <tr>\n      <th>0</th>\n      <td>1338745</td>\n      <td>located in the City of Round Rock \\nCustomer D...</td>\n    </tr>\n    <tr>\n      <th>1</th>\n      <td>1401582</td>\n      <td>Crew investigating.  In Wilco service area but...</td>\n    </tr>\n    <tr>\n      <th>2</th>\n      <td>1575438</td>\n      <td>Issue resolved before I arrived apparently, to...</td>\n    </tr>\n    <tr>\n      <th>3</th>\n      <td>1697655</td>\n      <td>recieved a page to turn water on on friday. cr...</td>\n    </tr>\n    <tr>\n      <th>4</th>\n      <td>1705146</td>\n      <td>checked the pressure at the main,it was 100psi...</td>\n    </tr>\n    <tr>\n      <th>5</th>\n      <td>1834271</td>\n      <td>leak on customer irraigtion had it shut off at...</td>\n    </tr>\n    <tr>\n      <th>6</th>\n      <td>1885056</td>\n      <td>Customer prv was leaking informed customer and...</td>\n    </tr>\n    <tr>\n      <th>7</th>\n      <td>1907155</td>\n      <td>Customer states we have been out there multipl...</td>\n    </tr>\n    <tr>\n      <th>8</th>\n      <td>2029748</td>\n      <td>upon arrival customer stated that water has be...</td>\n    </tr>\n    <tr>\n      <th>9</th>\n      <td>2092065</td>\n      <td>Smoothed out the dirt and laid 27 pieces of so...</td>\n    </tr>\n    <tr>\n      <th>10</th>\n      <td>2370713</td>\n      <td>upon arrival house bib had 60 psi. also the me...</td>\n    </tr>\n    <tr>\n      <th>11</th>\n      <td>2465438</td>\n      <td>50psi on outside faucet. Customer stated certa...</td>\n    </tr>\n    <tr>\n      <th>12</th>\n      <td>2514919</td>\n      <td>Customer called back and canceled \\nMichael 95...</td>\n    </tr>\n    <tr>\n      <th>13</th>\n      <td>2562360</td>\n      <td>called customer to inform them that i would be...</td>\n    </tr>\n    <tr>\n      <th>14</th>\n      <td>2569280</td>\n      <td>Upon arrival, I spoke with the customer and sh...</td>\n    </tr>\n    <tr>\n      <th>15</th>\n      <td>2578787</td>\n      <td>contactor pulled off angle stop. pinched line ...</td>\n    </tr>\n    <tr>\n      <th>16</th>\n      <td>2599708</td>\n      <td>Water was turned off at the meter turned the s...</td>\n    </tr>\n    <tr>\n      <th>17</th>\n      <td>2608774</td>\n      <td>It was actually a low pressure call, the custo...</td>\n    </tr>\n    <tr>\n      <th>18</th>\n      <td>2609657</td>\n      <td>dist pressure 60 psipressure at the stop 60pre...</td>\n    </tr>\n    <tr>\n      <th>19</th>\n      <td>2611573</td>\n      <td>Customer had water shut off when I arrived</td>\n    </tr>\n    <tr>\n      <th>20</th>\n      <td>2618799</td>\n      <td>customer thinks he may have a leak - says he's...</td>\n    </tr>\n    <tr>\n      <th>21</th>\n      <td>2620203</td>\n      <td>Talked to customer and he understood\\nCustomer...</td>\n    </tr>\n    <tr>\n      <th>22</th>\n      <td>2620696</td>\n      <td>upon arrival I made contact with the customer....</td>\n    </tr>\n    <tr>\n      <th>23</th>\n      <td>2624173</td>\n      <td>customer is reporting low water pressure \\nupo...</td>\n    </tr>\n    <tr>\n      <th>24</th>\n      <td>2624495</td>\n      <td>checked outside faucet on house and got 70psi/...</td>\n    </tr>\n    <tr>\n      <th>25</th>\n      <td>2624861</td>\n      <td>Customer is experiencing low water pressure.  ...</td>\n    </tr>\n    <tr>\n      <th>26</th>\n      <td>2628670</td>\n      <td>customer stated his hot water heater was buste...</td>\n    </tr>\n    <tr>\n      <th>27</th>\n      <td>2639286</td>\n      <td>Dead squirrel in the middle of the road in fro...</td>\n    </tr>\n  </tbody>\n</table>\n</div>"
     },
     "execution_count": 357,
     "metadata": {},
     "output_type": "execute_result"
    }
   ],
   "source": [
    "result"
   ],
   "metadata": {
    "collapsed": false,
    "ExecuteTime": {
     "end_time": "2023-09-22T17:38:32.216664800Z",
     "start_time": "2023-09-22T17:38:32.157665800Z"
    }
   }
  },
  {
   "cell_type": "code",
   "execution_count": 358,
   "outputs": [
    {
     "name": "stdout",
     "output_type": "stream",
     "text": [
      "2023-09-22 12:38:32,679 INFO sqlalchemy.engine.Engine \n",
      "    SELECT ADD_CODE,\n",
      "    ADD_TEXT\n",
      "    FROM R5ADDETAILS AS dtl\n",
      "    JOIN R5EVENTS evt\n",
      "        ON evt.EVT_CODE = dtl.ADD_CODE\n",
      "    WHERE ADD_CODE IN (?, ?, ?, ?, ?, ?, ?, ?, ?, ?, ?, ?, ?, ?, ?, ?, ?, ?, ?, ?, ?, ?, ?, ?, ?, ?, ?, ?, ?, ?, ?, ?, ?, ?, ?, ?, ?, ?, ?, ?, ?, ?, ?, ?, ?, ?, ?, ?, ?, ?, ?, ?, ?, ?, ?, ?, ?, ?, ?, ?, ?, ?, ?, ?, ?, ?, ?, ?, ?, ?, ?, ?, ?, ?, ?, ?, ?, ?, ?, ?, ?, ?, ?, ?, ?, ?, ?, ?, ?, ?, ?, ?, ?, ?, ?, ?, ?, ?, ?, ?, ?, ?, ?, ?, ?, ?, ?, ?, ?, ?, ?, ?, ?, ?, ?, ?, ?, ?, ?, ?, ?, ?, ?, ?, ?, ?, ?, ?, ?, ?, ?, ?, ?, ?, ?, ?, ?, ?, ?, ?, ?, ?, ?, ?, ?, ?, ?, ?, ?, ?, ?, ?, ?, ?, ?, ?, ?, ?, ?, ?, ?, ?, ?, ?, ?, ?, ?, ?, ?, ?, ?, ?, ?, ?, ?, ?, ?, ?, ?, ?, ?, ?, ?, ?, ?, ?, ?, ?, ?, ?, ?, ?, ?, ?, ?, ?, ?, ?, ?, ?, ?, ?, ?, ?, ?, ?, ?, ?, ?, ?, ?, ?, ?, ?, ?, ?, ?, ?, ?, ?, ?, ?, ?, ?, ?, ?, ?, ?, ?, ?, ?, ?, ?, ?, ?, ?, ?, ?, ?, ?, ?, ?, ?, ?, ?, ?, ?, ?, ?, ?, ?, ?, ?, ?, ?, ?, ?, ?, ?, ?, ?, ?, ?, ?)\n",
      "\n",
      "2023-09-22 12:38:32,680 INFO sqlalchemy.engine.Engine [raw sql] ('164378', '164540', '164600', '164746', '165502', '168682', '173332', '176826', '176887', '181808', '181816', '182143', '183575', '183723', '197244', '210357', '213177', '215474', '219316', '222610', '223053', '223054', '244604', '244629', '261718', '266287', '268792', '275435', '281501', '281503', '281628', '285206', '285213', '285305', '285333', '288080', '288081', '291673', '291904', '294779', '295144', '295183', '295192', '295191', '298795', '298872', '301031', '302750', '302754', '302856', '307892', '308254', '316274', '317157', '317173', '318380', '322479', '322617', '323603', '327288', '327316', '331291', '334662', '335094', '339886', '341189', '346423', '346603', '352475', '352499', '353812', '357117', '357152', '361451', '361518', '364177', '369659', '370573', '373006', '393719', '396246', '400408', '414041', '415381', '422819', '422819', '425943', '429591', '431907', '431907', '435289', '439846', '443642', '444053', '446959', '447264', '450686', '451428', '470899', '475650', '479108', '484997', '485121', '489263', '491965', '493482', '494922', '497798', '497842', '497946', '501510', '501684', '502357', '504766', '505042', '510606', '512048', '519776', '522619', '522761', '525177', '525198', '529263', '533022', '534309', '534432', '546322', '547309', '547339', '553558', '558599', '558745', '565309', '576497', '596020', '596560', '596578', '601528', '602983', '620461', '629551', '634962', '636713', '636810', '647173', '647173', '650895', '650895', '650908', '651890', '651904', '652163', '652190', '656231', '656458', '656477', '657955', '659729', '661787', '661847', '676008', '682321', '682951', '684466', '684822', '689061', '695834', '697892', '699917', '703380', '703434', '706005', '710955', '710956', '711005', '714626', '715963', '718221', '720047', '723341', '727024', '728816', '731375', '731423', '735476', '735754', '764424', '774123', '777844', '778105', '778144', '782642', '786724', '787361', '787375', '789495', '789498', '793149', '793235', '797433', '799119', '800866', '800871', '807922', '809787', '813041', '816992', '819681', '933041', '952006', '997483', '1272246', '1272289', '1273883', '1284945', '1362122', '1362229', '1393502', '1393581', '1416942', '1420848', '1471077', '1492565', '1506585', '1514546', '1528732', '1575584', '1593257', '1632063', '1658989', '1698612', '1705138', '1711043', '1712243', '1720777', '1738441', '1785238', '1792062', '1802310', '1837445', '1839172', '1844729', '1860325', '1877430', '1880095', '1892079', '1925669', '1936644', '1941281', '1998582', '2004726', '2012115', '2014269', '2018025', '2111698', '2155337', '2155365', '2188100', '2193043', '2202636', '2230928', '2269065', '2318012', '2333768')\n"
     ]
    }
   ],
   "source": [
    "evt_code_list = mayfield_addr.EVT_CODE.tolist()\n",
    "\n",
    "params = tuple(evt_code_list)\n",
    "\n",
    "mf_addr_query = '''\n",
    "    SELECT ADD_CODE,\n",
    "    ADD_TEXT\n",
    "    FROM R5ADDETAILS AS dtl\n",
    "    JOIN R5EVENTS evt\n",
    "        ON evt.EVT_CODE = dtl.ADD_CODE\n",
    "    WHERE ADD_CODE IN ({})\n",
    "'''.format(', '.join(['?'] * len(params)))\n",
    "\n",
    "mf_addr_comm = pd.read_sql_query(\n",
    "    mf_addr_query,\n",
    "    eam_engine,\n",
    "    params=params\n",
    ")"
   ],
   "metadata": {
    "collapsed": false,
    "ExecuteTime": {
     "end_time": "2023-09-22T17:38:33.616128400Z",
     "start_time": "2023-09-22T17:38:32.679673600Z"
    }
   }
  },
  {
   "cell_type": "code",
   "execution_count": 359,
   "outputs": [
    {
     "name": "stderr",
     "output_type": "stream",
     "text": [
      "C:\\Users\\Ckluge\\AppData\\Local\\Temp\\ipykernel_86456\\3279303279.py:5: MarkupResemblesLocatorWarning: The input looks more like a filename than markup. You may want to open this file and pass the filehandle into Beautiful Soup.\n",
      "  soup = BeautifulSoup(html_string, 'html.parser')\n"
     ]
    }
   ],
   "source": [
    "mf_addr_comm.ADD_TEXT = mf_addr_comm.ADD_TEXT.apply(remove_html_tags)"
   ],
   "metadata": {
    "collapsed": false,
    "ExecuteTime": {
     "end_time": "2023-09-22T17:38:34.382069200Z",
     "start_time": "2023-09-22T17:38:34.298060Z"
    }
   }
  },
  {
   "cell_type": "code",
   "execution_count": 360,
   "outputs": [],
   "source": [
    "mf_addr_comm = mf_addr_comm.groupby('ADD_CODE')['ADD_TEXT'].apply(lambda x: '\\n'.join(x)).reset_index()"
   ],
   "metadata": {
    "collapsed": false,
    "ExecuteTime": {
     "end_time": "2023-09-22T17:38:35.071066100Z",
     "start_time": "2023-09-22T17:38:35.002059900Z"
    }
   }
  },
  {
   "cell_type": "code",
   "execution_count": 361,
   "outputs": [
    {
     "name": "stdout",
     "output_type": "stream",
     "text": [
      "Address Work Orders\n",
      "\n",
      "Work Order 1272246: \n",
      "3609 Kearney Cv - Water Leak - Simeon @ 512-461-4605\n",
      "leak was on the compression from the 2 in crossover. The compression wasn't installed correctly so the water made a hole in the brass.  We built a new 2\" brass compression to a Tee.  Backfilled with peagravel and dirt.  Will need a grass job Bermuda about a 4'x5' area. \n",
      "\n",
      "\n",
      "Work Order 1272289: \n",
      "\n",
      "Called to share that his water pressure at home is very\n",
      "low.  Been that way for an hour now.  In fact, for the last month,\n",
      "has times when there is low pressure, or no water at all. (Linda White)  Adam Quiroz (512) 554-6397\n",
      "\n",
      "Pressure was 120/20.  Customers prv went out.  Advised customer to call a plumber.\n",
      "\n",
      "\n",
      "Work Order 1273883: \n",
      "Called to share that his water pressure at home is very low.  Been that way for an hour now.  In fact, for the last month, has times when there is low pressure, or no water at all.\n",
      "Duplicate \n",
      "\n",
      "\n",
      "Work Order 1284945: \n",
      "For the last 2 weeks, our water pressure so low that it completely stops after a while in the morning and it is also low in the evenings. Can you tell me what’s going on and when it will be fixed? It’s inconvenient.\n",
      "We talked to customer and they said that some body already come out and fixed the issue. We put a pressure recorder on the hydrant across the street from the house to see what the pressure is over the next couple of days to make sure the problem is fixed.\n",
      "scheduled to pick up the recorders on 9/7\n",
      "Picked up pressure recorder\n",
      "\n",
      "\n",
      "Work Order 1362122: \n",
      "customers pressure at the meter was 80psi. the main had 88psi. ,at the hose bib was 80/20 customer has a prv ,i told him to have it adjusted or replaced\n",
      "\n",
      "\n",
      "Work Order 1362229: \n",
      "Customer, Herman states he has a water leak - 254-258-9823\n",
      "leak was on the customers side. I showed her the spinning meter and informed her to contact plumber for repair \n",
      "\n",
      "\n",
      "Work Order 1393502: \n",
      "Customer heard a large boom in rock quarry and houses shook.  Now they have a water main break they believe and water is gushing all over the place.  Also gushing at 3717 Herman St.  Meg @ 406-890-8936.  .....jtorres 0808\n",
      "Upon arrival there was a leak in front of 3762 and 3717, me and Spence shut valves at Ashberry and mason and shut valve at Gary and Herman which isolated both leaks, called in emergency locates and contact line maintenance to repair\n",
      "Leak was on the crossover line that poly blew out of the corp \n",
      "stop.  Pulled sidewalk up because corp stop was buried under it.  \n",
      "Exposed pipe and reconnected with brass.  No more leaks are visible at \n",
      "this time,  Filled in hole with pea gravel.  We also filled in the rest \n",
      "with road base and coned off so no one could walk in it.  Need an asphalt job.  Richard has dimensions and picture.\n",
      "All crews were on site because two on same street and we needed all the equipment to perform task and finish the job.\n",
      "Please add dimensions and pictures to the work order\n",
      "It was 15x10\n",
      "Sent to Myers concrete for repair.\n",
      "\n",
      "\n",
      "Work Order 1393581: \n",
      "Reporting leak right in front of property and another down the street streaming down to his property. Contact John at 512-426-5544\n",
      "Leak was on the crossover line that poly blew out of the corp stop.  Pulled sidewalk up because corp stop was buried under it.  Exposed pipe and reconnected with brass.  No more leaks are visible at this time,  Filled in hole with pea gravel.  We also filled in the rest with road base and coned off so no one could walk in it.  Need sidewalk sections replaced it was 48\" x 125\" x 4\"  sent picture to Ernest and dimensions as well.  \n",
      "All crews were on site because two on same street and we needed all the equipment to perform task and finish the job.  \n",
      "Sent to Myers concrete for repair.\n",
      "\n",
      "\n",
      "Work Order 1416942: \n",
      "105 Monahans Dr. - Water LeakDerek Gascon  512-337-7083Caller reported water leak by meter box and is not certain how to turn water off.\n",
      "Leak was behind the meter on the customers side. The stop is off on the city side and the customer will get a plumber to fix it. 112-67 was the truck that was used\n",
      "\n",
      "\n",
      "Work Order 1420848: \n",
      "Customer Tim Murphy called in to complain that Water Ops keep flushing a hydrant near his home and it is flooding his yard. Does Chris Graham know anything?  Customer requests a call back w/explanation. 512-930-2550\n",
      "Customers call back info is incorrect and I am unable to make contact. Number provided was for Permitting and Inspections at the City of Georgetown and nobody by the name of Tim Murphy works here.Email sent to customer care requesting the correct call back number and a technician will go by today to investigate. He was out previously this week performing flushing at the dead end hydrant near this customers house. \n",
      "Looks like it shouldn't hold water , it slopes toward the pond. The yard was completely dry the following day.\n",
      "Customers contact number is 480-455-2604.Pictures are attached to the work order and I made contact with the customer to explain the purpose of our flushing. Customer will call back if he has any other concerns\n",
      "\n",
      "\n",
      "Work Order 1471077: \n",
      "3750 Hermann St. - No WaterJames Bell  512-820-3967Caller reported no water in home. Also neighbors are reporting same issue of no water.\n",
      "12 \" leak contractor hit line with trencher they helped fix it sectioned in a 58\" piece of 12\" we used two 12\" Hymax from the rural trailer. line maintenance truck 112-67 directionally flushed then brought water back to the neighbor hood and flushed all over to try and get the air out if a any. spencer is going to grab a special  Bac-T  \n",
      "Also used a service truck. 108/33. I couldnt find bacT forms at the westside. I did get the sample but couldnt find any forms at the GMC either. The sample is by Chris's desk but someone can get another one in the morning. I took it from 3804 Broadway. Finished flushing around 3;15\n",
      "Ryan Sauls was able to take the sample to RR. SPencer will need to go to RR to sign the form when he gets back to work on 3/27 he is off on Monday and Tuesday.\n",
      "sample came back good. work order will be closed after spencer signs the form at RR\n",
      "spencer signed the form today\n",
      "\n",
      "\n",
      "Work Order 1492565: \n",
      "plumber stated roots are growing where the line taps in on city side.813-967-3030\n",
      "Roots are in the customer side by big tree called and talked with home owner and will also e mail him about what we found\n",
      "\n",
      "\n",
      "Work Order 1506585: \n",
      "4040 Flowstone Ln. - No WaterBrian Silveira  512-971-9195Caller reported no water inside home. Just returned from being out-of-town, checked all faucets and toilets and have very little water coming out. When asked, Customer does not have a water softener.\n",
      "Customer issue. Customer shut off valve had a split. Turned water off at the meter. Customer will get with a plumber for repairs, and will call back to have water turned on\n",
      "\n",
      "\n",
      "Work Order 1514546: \n",
      "207 Westfield Dr. - Water LeakAnthony  408-472-6458Caller reported water leaking from pipe by meter in yard.\n",
      "Customer leak, leaking at prv. Showed customer where the customer shut off valve is to turn off and on when repair will be made.\n",
      "\n",
      "\n",
      "Work Order 1528732: \n",
      "3761 Hermann St. - Low PressureGary Ray  281-798-1421Caller reported low pressure at home, since repair was made across street from address. Customer has water softener but states issue occurred shortly after repairs were made across street.\n",
      "The customer had 80/0 psi when I arrived. I pulled the meter and there were rocks in the line and the meter. The customer informed me that there had been a repair on the crossover valve months before. We had to remove the angle stop, there was about a foot of poly will gravel in it. We blew out the gravel and hooked everything back up. The new residual was 80/70. Will need about a 5 gallon bucket of dirt and some Bermuda seed.\n",
      "Spread out dirt and seed everything looks good.\n",
      "\n",
      "\n",
      "Work Order 1575584: \n",
      "Customer states that the flow and pressure to the house has decreased over the last day\n",
      "Shakun 518-410-2327\n",
      "Took pressure at the hose bib 50/48. So pressure was fine, told her it could be the water softener. We did talk to the customer \n",
      "\n",
      "\n",
      "Work Order 1593257: \n",
      "Address: 184 FORT COBB WAYGEORGETOWN, TX 78628Note: PremisesEquipment Location: Caller: SHARATH THEEPIREDDYAddress: 184 FORT COBB WAYGEORGETOWN, TX 78628Phone: 850-728-8646E-mail: Operator: NGUTIERR\n",
      "Water leak on customer side \n",
      "\n",
      "\n",
      "Work Order 1632063: \n",
      "Casey Soileau 337-526-9295\n",
      "The customer had a water leak on their side. When I arrived the customer had their water off already.\n",
      "\n",
      "\n",
      "Work Order 164378: \n",
      "PER GLENN DISHONG Please enter an EAM Call Center ticket for Debi’s address regarding air in lines.  Note that it occurred yesterday, but we need to go out and check/ flush in the area.  \n",
      "Pulled meter to flush service line for 5 minutes and noticed no air in line, took pressure and it was at 64 psi.  Flushed hydrant on the street for 10 minutes and didn't notice any air in the main line. Left door tag for customer letting her know what was done and what we found.\n",
      "\n",
      "\n",
      "Work Order 164540: \n",
      "CUSTOMER STATES HIS WATER PRESSURE AHS DROPPED 50% SINCE HE MOVED IN AND HIS SPRINKLERS WILL NOT COME UP DUE TO LOW PRESSURE\n",
      "ABULAZAL 512-830-9420\n",
      "psi is 85/80 customer has water softener and will call tech to service.\n",
      "\n",
      "\n",
      "Work Order 164600: \n",
      "CUST CALLED SAYS SHE'S EXPERIENCING LOW WATER PRESSURE. WOULD LIKE IT CHECKED.. CONTACT SHONDA 512-968-6929\n",
      "psi is 90/45. customer has PRV that has failed. they will replace PRV.\n",
      "\n",
      "\n",
      "Work Order 164746: \n",
      "CUSTOMER STATES THAT WE WENT OUT TO HIS HOME AND DID A PRESSURE CHECK WE SAID TO HAVE WATER SOFTNER LOOKED AT. THE IRRIGATION SYSTEM DOES NOT RUN THRU SOFTNER AND IS NOT THE ISSUE AND SAY NEIGHBOR IS HAVING SAME ISSUE. HE IS OFF TOMORROW, SHOW UP TOMORROW \n",
      "We checked the pressure 90 / 20 the prv was bad the max pressure on it is 75 psi the customer is going to replace the prv\n",
      "\n",
      "\n",
      "Work Order 165502: \n",
      "HAS VERY LOW WATER PRESSURE AND WANTS TO KNOW WHY.469-236-4773\n",
      "Customer has a PRV that is only allowing 54/40psi into the house. The Main pressure is 102psi. Neighbors house is 70/60 psi. Customer issue. \n",
      "\n",
      "\n",
      "Work Order 1658989: \n",
      "No water to any part of the house.\n",
      "Upon arrival customer was outside digging up the PRV. checked pressure at the house (41psi). Checked neighbor (50psi). Going to be a customer issue.  They will contact a plumber to check PRV and water softener\n",
      "\n",
      "\n",
      "Work Order 168682: \n",
      "FYI, when Zeke was reading meters today, he noticed that it appears this builder connected directly into the city water line.  See pictures attached.  The address is 133 Claiborne Lake Lane in Mayfield Ranch. Account number 317-5246-00.\n",
      "when we got there we noticed that there was connected with a meter all is good\n",
      "\n",
      "\n",
      "Work Order 1698612: \n",
      "624 Atlanta Park Dr. - Low PressureSharon Moore  301-520-0602Caller reported low water pressure in house, checked water softener and was good.\n",
      "upon arrival i checked pressure at the address and got (55psi), neighbor to the right had (70psi), and house to the left (60psi). believe the issue to be with customers water softner. they will have a plumber out to take a look at water softner and increase the PRV. \n",
      "\n",
      "\n",
      "Work Order 1705138: \n",
      "Address: 436 MONAHANS DRGEORGETOWN, TX 78628Note: PremisesEquipment Location: Caller: SHANNA AUTENAddress: 436 MONAHANS DRGEORGETOWN, TX 78628Phone: 512-994-5908E-mail: Operator: NGUTIERR\n",
      "Customer reported little to no water pressure to her house and several neighbors\n",
      "I checked the pressure at the main from the nearest hydrant to this address,it was 120 psi. I pulled the meter and checked pressure at the curb stop, it was 90 psi. , he bypassed the water softener and still had little to no pressure. I located his PRV and customer shut off which he didn’t know he had and  told him to have the prv adjusted or replaced\n",
      "\n",
      "\n",
      "Work Order 1711043: \n",
      "Mary Racino @ 512-293-3972\n",
      "Ran the sewer line from the city clean out to the main and camera the line from the customer clean out and didn’t see any debris or separations   \n",
      "\n",
      "\n",
      "Work Order 1712243: \n",
      "Customer is requesting to have a water meter moved to another location.  Need to meet with her and ask where she is wanting it moved and then tale to Harry to see if it is a possibility.\n",
      "Spoke to the customer. And what she wanted was the meter to be adjusted so that it could meet the plumbing that was being installed for her pool. Someone told her the pressure would be restricted if the plumber put a 90 in on the customer side of the meter. We informed her that was not the case and that the city does not tamper with the meter on the customer side.\n",
      "\n",
      "\n",
      "Work Order 1720777: \n",
      "Meet with Tony 512-844-2682 and confirm area needed for spot dig.\n",
      "we talked with Tony and showed him were the end of the line was at the flush valve and he said that the contractor would spot dig to find the flange before they trench for the water line and install the vault for the meter and PRV.\n",
      "\n",
      "\n",
      "Work Order 173332: \n",
      "METER READER NOTICED THAT THE METER IS BACKWARD.\n",
      "3/4\" METER 9704854.\n",
      "The meter that was backwards was actually at 113 Lady Bird Ln......Brian from the western distract and myself turned the meter around the right way \n",
      "\n",
      "\n",
      "Work Order 1738441: \n",
      "Customer Frederick Franklin would like for us to check his static and residual pressure and test his water quality. Customer would like to be home during the test and asked if we could call before heading that way. His contact number is 414-840-8726 and email address is Frederick_Franklin@yahoo.com Please check this after lunch at the customers request.\n",
      "Chlorine residual was tested at the house and nearby fire hydrant. The residual was at .94mg/l which is good.Pressure was also tested and the static pressure was 62 PSI/ Residual pressure 58PSI which is also good. Water Hardness = 307 mg/lAlkalinity = 275 mg/lPH = 7.46 @ 20.5 °c\n",
      "I have emailed this customer with the results and attached my manager to it to assist with any questions. \n",
      "\n",
      "\n",
      "Work Order 176826: \n",
      "EXPERIENCING LOW WATER PRESSURE ALL DAY IN LOWER LEVEL SHOWER, AND SINKS...WOULD LIKE WATER PRESSURE CHECKED\n",
      "CUSTOMER issue faulty PRV psi is 80 over 30. customer is aware of issue and will contact plumber. \n",
      "\n",
      "\n",
      "Work Order 176887: \n",
      "CUST IS EXPERIENCING EXTREME LOW WATER PRESSURE..WHEN HE TURNS ON MORE THAN ONE WATER SOURCE - PRESSURE GOES DOWN SIGNIFICANTLY. HE WOULD LIKE IT CHECKED\n",
      "CUSTOMERS PRV IS FAULTY. HOUSE IS LOSING FLOW. 310/316 RANA PRESSURE CHECK BEFORE THE METER AND FOUND THE PRESSURE TO BE 93/90 PSI. CREW INFORMED THE CUSTOMER TO CALL PLUMBER. \n",
      "\n",
      "\n",
      "Work Order 1785238: \n",
      "Barry 9783198981 called about a leak at the meter\n",
      "Arrived and met with customer and he told me that he found his shut off.  I notified him that he could fill up some pots until he could get valve repaired.  Valve mentioned is customer shut off, leak is on back side of valve body.  Customer to call when repairs are made to turn water back on.  \n",
      "\n",
      "\n",
      "Work Order 1792062: \n",
      "customer had black specs in line at the bath tub, hose bib was clear and rest of house was clear. instructed customer to have plumber come out and replace seats and gaskets in the tub spout.\n",
      "\n",
      "\n",
      "Work Order 1802310: \n",
      "Checked the customer side and it was 50/28 and the city side was 62/60 psi.. I did make contact with the customer and gave them a few suggestions \n",
      "\n",
      "\n",
      "Work Order 181808: \n",
      "CUST SAID HER WATER RUNS CLEAR FROM THE FAUCETS, HOWEVER AFTER IT SITS FOR AWHILE THE WATER TURNS PINK AND SLIMMY. SHE ALSO STATED HER DOGS HAVE GOTTEN SICK FROM THE WATER AND HAD TO BE TAKEN TO THE VET\n",
      "cust stated that she thinks the water softener pulls the chlorine out of the water witch makes the water turn pink. told here to talk with a water softener company \n",
      "\n",
      "\n",
      "Work Order 181816: \n",
      "Caller reported possible water leak from vacant lot across street, originally called in at 6:58\n",
      "Originally paged out to 391, referred to day crew for investigation\n",
      "city leak 2\" blew off 317/392 in route to come fix it. emergency locates where called in \n",
      "\n",
      "\n",
      "Work Order 182143: \n",
      "CUST SAYS HE STARTED EXPERIENCING LOW WATER PRESSURE IN THE UPPER PART OF THE HOME, MASTER BEDROOM RESTROOM AND KITCHEN..\n",
      "310/321 checked the pressure at the house and found the pressure to e 62/58psi. no one home crew left door hanger. area pressure in pressure plane is 62psi\n",
      "\n",
      "\n",
      "Work Order 183575: \n",
      "BUILDER CALLED STATING THEY HAVE NO WATER. BELIEVES MAYBE THE VALVE IS TURNED OFF ON THE CITY'S SIDE. SAID THE SURROUNDING HOMES HAVE WATER BUT THIS ONE IS ON CORNER LOT AND MAY BE CONNECTED TO A DIFFERENT VALVE. PLEASE CALL ERIC THOMAS AT 254-723-2027\n",
      "WATER WASS OFF AT THE CROSSOVER IN THE STREET. CONTRACTOR ONSITE AND NOTIFIED. \n",
      "\n",
      "\n",
      "Work Order 183723: \n",
      "HAS VERY LOW WATER PRESSURE\n",
      "78 PSI at outside hose bib. cust would not come to door left door tag with info to check PRV\n",
      "\n",
      "\n",
      "Work Order 1837445: \n",
      "Will need both of the\n",
      "8” valves off @ the intersection of Hermann St. and Flowstone for the work they\n",
      "are doing to tied in the interconnect from round rock. It will affect approx..\n",
      "5 houses and Tony has made contact with them already for the outage.  I will schedule this for 8:30 Friday morning.  Tony (512-844-2682) will be the contact for the city of Round Rock.\n",
      "Arrived at the location and turned the 2 valves off on the corner of Hermann and flowstone at 0830. Informed control of the valves and I.D numbers that are off and duration of the outage. Will return when Adam from round rock calls which should be in 3 hours.\n",
      "Recieved a call from personnel from round rock ready for water to be turned on. Turned valves # 44844 and 44845 back on at 1430 and informed control.\n",
      "\n",
      "\n",
      "Work Order 1839172: \n",
      "Meet with the city of RR employee's and close valves for them to install an inner connect.  Time they will perform is 11:30-12:30.\n",
      "Met with round rock employees and other entities of the city of Georgetown. Open the valve for the Georgetown / round rock interconnect.\n",
      "\n",
      "\n",
      "Work Order 1844729: \n",
      "Shelly Gallini  832-423-2385\n",
      "Checked pressure at the main. It was 54psi, pressure at the houses was 50psi. Customer had water softener. Had them bypass it and also informed them to have their prv checked.\n",
      "\n",
      "\n",
      "Work Order 1860325: \n",
      "Need to install 8\" meter for the Round Rock interconnect.\n",
      "Meter now installed, pressure tested no leaks found. Closed valve back down after pressure test.\n",
      "\n",
      "\n",
      "Work Order 1877430: \n",
      "This was a customer issue. Could not get a reading from the hose bib so I pulled meter and got 75/70 at the stop. Was probably his PRV and he was going to replace it \n",
      "\n",
      "\n",
      "Work Order 1880095: \n",
      "We are experiencing a yellow trigger for free ammonia out in the Parkside Mayfield area. The cause of this is primarily due to the age of the water. Regulatory recommends unidirectional flushing to resolve this problem. We will sample again after the flushing occurs. Thank You\n",
      "flushed 45,000 gallons, and got a 2.94 residual. Should be good to retake nitrifacation.\n",
      "I rechecked the ammonia levels 7/21/20 it was still at a 0.42. Recommend uni directional flushing in excess of 250,000 Gallons\n",
      "We checked nitrites and nitrates the results were: Nitrite - .002 and Nitrate - 3.8, the levels were good but we still had a .41 free ammonia. Jason Ellis flushed approx. 650,000 gallons. We rechecked the free ammonia and it was .37 which is in the normal operating parameters. We would still like to see Escalara EST lower to bring in newer water.\n",
      "\n",
      "\n",
      "Work Order 1892079: \n",
      "Customer called in notice a bad sewer smell coming out of the manhole at corner of garner park drive and Cobb way in the Mayfield park . This is in the Parkside at Mayfield Ranch subdivision.  (ksmith 6610) Service set on this account since no name or address given by customer.\n",
      "faint almost absent sewer smell coming out of the manhole, place an odor block in the manhole to mask smell\n",
      "\n",
      "\n",
      "Work Order 1925669: \n",
      "Michelle 512-422-7564 called about water coming out near the meter box\n",
      "leak is on the customer service line, instructed customer to call a plumber.\n",
      "\n",
      "\n",
      "Work Order 1936644: \n",
      "217 Caddo Lake Dr. - Water Meter LeakJoan Kaderka  512-751-0806Caller reported water meter is full of water and neighbors yard is flooded.\n",
      "Customer issue, customer has a small leak in their irrigation control box. Showed the customer where the irrigation control valve was so they could isolate it and maintain pressure in the house till it could be repaired.\n",
      "\n",
      "\n",
      "Work Order 1941281: \n",
      "GET METER NUMBERS AND READINGS FOR METERS LOCATED AT ROUND ROCK INTERCONNECT \n",
      "8” meter Serial 20806038Reading 0000000018” meterSerial 19603490Reading 040577992\n",
      "\n",
      "\n",
      "Work Order 197244: \n",
      "WANTS THE WATER TESTED HE JUST PURCHASED THE HOME WANTS TO KNOW IF HE CAN BE CALLED TO MEET THE GUYS AT THE HOME WHEN THEY GO DO THE TESTING BEC HE WANTS THE WATER TESTED FROM THE KITCHEN FAUCET 512590-5998\n",
      "he wanted to know the hardness of the water to install a water softener at his home the chlorine residual was at 1.92\n",
      "\n",
      "\n",
      "Work Order 1998582: \n",
      "customer reports Bad Sewer Odor coming from a man hole near the inter section of  Ft Cobb Way and Garner Park Leslie 512-931-9162\n",
      "Sewer Odor is happening when the Highlands lift station turns on. The manhole at Ft. Cobb and Garner Park is where it dumps into. Need to make sure that the order controls at the lift station are working correctly. If they aren’t need to have them fixed or adjusted to eliminate the smell. It is a very bad odor! Customer would like to be notified when the issue is corrected! Leslie 512-931-9162\n",
      "work is getting completed on another work order number 1980424\n",
      "\n",
      "\n",
      "Work Order 2004726: \n",
      "hydrant was hit and is missing.  We need to pull the complete stem out and get measurements to replace.  Will need to get the seat tool at Ferguson to remove it.  Will need to get a complete hydrant and replace I believe it is a 5' hydrant but we need to verify. \n",
      "replaced the old hydrant stem and seat with new. hydrant also was repainted.\n",
      "\n",
      "\n",
      "Work Order 2012115: \n",
      "Lisa Myers 512-915-1200  Customer reports No water and doesn't appear to be disconnected for non payment.\n",
      "Found water turned off at the customer shut off valve, turned it on for the customer and confirmed service was restored at the hose bib. Notified customer of the issue and showed her where to find the shutoff in the future, customer was unaware of how or who shut the valve.\n",
      "\n",
      "\n",
      "Work Order 2014269: \n",
      "Turned off water at angle stop. No one was home to inform customer of customer shutoff valve. Made contact via phone to inform I had turned water off.\n",
      "\n",
      "\n",
      "Work Order 2018025: \n",
      "water is turned back on \n",
      "\n",
      "\n",
      "Work Order 210357: \n",
      "CUST IS EXPERIENCING LOW WATER PRESSURE, WOULD LIKE PRESSURE CHECKED...\n",
      "i pulled meter and checked our side it was good pressure was 90/86. told customer to contact a plumber\n",
      "\n",
      "\n",
      "Work Order 2111698: \n",
      "Forest @ 512-639-5983\n",
      "Trees are in communications. Single phase is clear.\n",
      "\n",
      "\n",
      "Work Order 213177: \n",
      "REPLACE METER DUE TO NOT REGISTERING CONSUMPTION; ZEKE CHANGED OUT THE REGISTER AND STILL IS NOT WORKING 3/4\" METER# 9824609 SERIAL# 9442191 \n",
      "the old meter that was in the ground was installed backwards this is why the reading was wrong. i went ahead and installed a new meter anyway.\n",
      "\n",
      "\n",
      "Work Order 215474: \n",
      "CUSTOMER BELIEVES THERE IS A WATER LEAK AT THE METER AND WOULD LIKE IT LOOKED AT\n",
      "When I arrived i saw no water anywhere, I checked the meter and saw no water in the box the meter wasn't spinning either. Also checked the irrigation box and prv box and saw no water either. Didn't find any leak.\n",
      "\n",
      "\n",
      "Work Order 2155337: \n",
      "Address: 4013 GEARY STGEORGETOWN, TX 78628Note: PremisesEquipment Location: Caller: KARIE WILLIAMSAddress: 4013 GEARY STGEORGETOWN, TX 78628Phone: 210-422-1595E-mail: Operator: NGUTIERR\n",
      "Customer reported low pressure earlier in morning, others in neighborhood also allegedly reported same on social media\n",
      "Customer issue . They had 35 over 25 psi at the house . Neighbor had 65 . Pulled meter and found to have 85 \n",
      "Si at the angle stop. Told customer to change out prv.\n",
      "\n",
      "\n",
      "Work Order 2155365: \n",
      "Address: 3856 ASHBURY RDGEORGETOWN, TX 78628Note: PremisesEquipment Location: Caller: DAWN AMATOAddress: 3856 ASHBURY RDGEORGETOWN, TX 78628Phone: 512-921-4436E-mail: Operator: NGUTIERR\n",
      "Customer reported entire neighborhood is experiencing low pressure\n",
      "Pressure at house was 70 over 41. Pulled meter and at the angle stop was 88 over 81. Went to the fire hydrant down the street and it was 84 over 79 with a flow rate of 840. Tested blue . Told customer all the finding s and there where not convinced that there prv was the problem they said they would call in on Monday to complain. She stated that the whole neighborhood was complaining and we found no evidence of there problems.\n",
      "\n",
      "\n",
      "Work Order 2188100: \n",
      "Replace grass damaged from leak repair during the winter storm.See attached photographCustomer has Bermuda grass and will need to have around four squares of grass replaced and a few five gallon buckets of sandy loam back fill.  The affected area is located near the left-hand side of the driveway and the sidewalk. \n",
      "\n",
      "\n",
      "Work Order 2193043: \n",
      "339 Atlanta Park Dr - Water Turn OnCory 254-291-2716\n",
      "Water has been turned on\n",
      "\n",
      "\n",
      "Work Order 219316: \n",
      "LEAK\n",
      "There was no leak , the neighbor next door drained about 1000 gallons out of his pool. I talked to both customers.\n",
      "\n",
      "\n",
      "Work Order 2202636: \n",
      "Address: 665 PURTIS CREEK LNGEORGETOWN, TX 78628Note: PremisesEquipment Location: Caller: DUSTIN NASHAddress: 665 PURTIS CREEK LN GEORGETOWN, TX 78628Phone: 512-300-7736E-mail: Operator: NGUTIERR\n",
      "Caller reported they have had low pressure since previous night, water softener is not connected\n",
      "This is going to be a customer issue customer was getting 20/4 at the house and he was getting 80/78 at the stop.. helped the customer find his PRV that was buried and he is going to get it fixed\n",
      "\n",
      "\n",
      "Work Order 222610: \n",
      "CUSTOMER STATES THE WATER PRESSURE HAS BEEN LOW FOR ABOUT 2 MONTHS, SAYS THE NEIGHBORS ACROSS THE WAY HAVE HAD SAME ISSUE WITH PRESSURE BEING LOW, CUSTOMER WOULD LIKE TO BE NOTIFIED WHEN COMING TO HOUSE.\n",
      "YVETTE 5129610726\n",
      "customer had a reading 87 over 30 psi. customer had bad prv valve and will replace \n",
      "\n",
      "\n",
      "Work Order 223053: \n",
      "REPLACE 3/4\" WATER METER DUE TO NOT REGISTERING CONSUMPTION REP BELIEVES THERE MAY BE ROCKS IN THE METER METER# 9609642 SERIAL# 9230757 \n",
      "Sent back to staff to add comments\n",
      "swapped meter everything was fine  \n",
      "\n",
      "\n",
      "Work Order 223054: \n",
      "CUST CALLED SAYS WATER IS LEAKING AT HER METER BOX OUT FRONT..CTC PH#907-351-9336\n",
      "Customers cut off valve was broke we notified and she is going to call a plumber \n",
      "\n",
      "\n",
      "Work Order 2230928: \n",
      "Upon arrival customer already had there water back. Customer had 53 psi at there hose bib. Told them to check outside if it happens again to make sure it’s not the softener.\n",
      "\n",
      "\n",
      "Work Order 2269065: \n",
      "NAP Yellow Flag (.90 total , .29 Free Ammonia, .88 Mono) at sample location 208 Lake Livingston. Area needs to be flushed to try and achieve Goal levels of 2.8 Total CL2, .34 Free Ammonia, 2.70 Monochloramine then re-tested for Nitrite and Nitrate. NAP SOP and Current Action plan attached in documents for reference.\n",
      "Flushed at 117 Lake Mineral Wells Dr. CL2.36,  209 Battleship Dr. CL2.63,  341 Lake Livingston Dr. CL2.41,  108 Seminole Canyon Dr. CL2.33,  115 Lake Texana CT. CL2.30,  123 Warnock CT. CL2.41, and 126 Lake Whitney CT CL2.09.\n",
      "\n",
      "\n",
      "Work Order 2318012: \n",
      "\n",
      "3608\n",
      "  Hermann St - No water \n",
      "The customer had no water inside or outside the house so I pulled the meter meter was fine didn’t look like anything stuck in the meter. Then I opened up the angle stop and they have water coming to the meter from the service. I think the customers prv shutdown completely and that is the cause of no water. I talked to the customer and let him know what I found and he is going to get a plumber to come make the repair.\n",
      "\n",
      "\n",
      "Work Order 2333768: \n",
      "Customer 404-789-4321 called in with low water pressure.\n",
      "megan8717\n",
      "upon arrival house had 66psi. Neighbor had 62psi. After speaking with customer, the water softener had been serviced about 3 months ago. The issue is isolated to just the shower head. Informed customer about cleaning his screens to help the situation. Confirmed with control center.\n",
      "\n",
      "\n",
      "Work Order 244604: \n",
      "The Meter box lid needs to be replaced - Carlos Jorge @ 512-748-2986\n",
      "Replaced Meter Box lid.  \n",
      "\n",
      "\n",
      "Work Order 244629: \n",
      "CUSTOMER CALLED AND SAID HE AND HIS NEIGHBOR HAVE NO WATER. \n",
      "Systems engineering shut down 2 valves without doing a test first.  water is turned back on.  \n",
      "\n",
      "\n",
      "Work Order 261718: \n",
      "BAD ENCODER. PLEASE REPLACE METER 22201778 WITH A 3/4\" MASTER METER. \n",
      "there are no 3/4\" meters in stock, the meters that the warehouse has are new accounts only. Per billing the maintenance department is not allowed to get any of the 3/4\" meters. The meter swaps will have to be rescheduled\n",
      "swap the meter out due it having a bad decoder\n",
      "\n",
      "\n",
      "Work Order 266287: \n",
      "LOW PRESSURE\n",
      "Checked the customer pressure it was 42/36. Customer did have a PRV. Customer said that the flow of the water on the outside water hadn't changed. So we had him bypass his water softener and pressure in the house came back. He will be calling the softener company. \n",
      "control center did ask customer to bypass his water softener before send out tech but customer would not because he didn't think it could be his water softener causing the low pressure\n",
      "\n",
      "\n",
      "Work Order 268792: \n",
      "NICO W/HIGHLAND HOMES CALLED IN STATING THERE IS A BROKEN ANGLE STOP PREVENTING HIM TO INSTALL WATER METER TO CITY SIDE. MAY HAVE GOTTEN RUN OVER.PLEASE INVESTIGATE AND REPLACE\n",
      "254-238-1274 Nikko is the contact\n",
      "dug up the meter box to replace the angle stop did not fill it back in so that it could be ready for the plumber to install the meter\n",
      "\n",
      "\n",
      "Work Order 275435: \n",
      "LEAK\n",
      "ROBERT FIELDS 452-295-1507\n",
      "This was a customer leak about 5 feet from the house. I talked to the customer.\n",
      "\n",
      "\n",
      "Work Order 281501: \n",
      "Todd reports hydrant knocked over at the intersection of Fort Hood Ln and Fontainebleau. No water visible.\n",
      "hydrant has been picked up there is a cone on top of the barrel\n",
      "\n",
      "\n",
      "Work Order 281503: \n",
      "the hydrant is in the water bay , there is a cone on top of the barrel\n",
      "repaired with a traffic kit \n",
      "\n",
      "\n",
      "Work Order 281628: \n",
      "Customer does not have water. The meter is tied to city water but there is no water for the job trailer. \n",
      "MHI Homes      512-502-2050\n",
      "turn on the crossover valve for the meter\n",
      "\n",
      "\n",
      "Work Order 285206: \n",
      "CUST IS EXPERIENCING LOW WATER PRESSURE WOULD LIKE TO KNOW WHAT THE PRESSURE SHOULD BE IN HIS AREA....\n",
      "the pressure is 60/52 at the hose bib , I talked to the wife and told her everything is fine on our end\n",
      "\n",
      "\n",
      "Work Order 285213: \n",
      "CUST IS EXPERIENCING EXTREME LOW WATER PRESSURE....WOULD LIKE US TO CHECK AND FIND OUT WHAT IT SHOULD BE IN THAT AREA.\n",
      "customer has 70/60 at the hose Bib , he does have a PRV and a water softner the problem is going to be on the customer side\n",
      "\n",
      "\n",
      "Work Order 285305: \n",
      "CUST EXPERIENCING LOW WATER PRESSURE AND WOULD LIKE US TO CHECK..SAYS IT STARTED HAPPENING A FEW WEEKS AGO...AND SHE FINALLY CALLED IT IN...TRACEY JORGE @ 512-748-2986\n",
      "Checked pressure at the hose bib and it was 90/20, checked her neighbors house and it was 60. Customer has PRV so I advised her to have a plumber adjust or replace it.\n",
      "\n",
      "\n",
      "Work Order 285333: \n",
      "CUSTOMER STATES THEY HAVE LOW WATER PRESSURE AND ITS BEEN ONGOING, THEY HAVE TROUBLESHOT THE HOME.\n",
      "ROBERT\n",
      "Checked pressure at hose bib and it was at 40 psi, checked pressure at angle stop and it was 140/120. Customer has a PRV and I told him that he either needed to adjust it or have it replaced.\n",
      "\n",
      "\n",
      "Work Order 288080: \n",
      "CUST SAYS HE MAY HAVE HIGH WATER PRESSURE...SAYS PRV VALVE MAY HAVE BEEN DAMAGED... WOULD LIKE US TO CHECK AND LET HIM KNOW WHAT THE PRESSURE READINGS ARE..CTC PH#512-241-9107\n",
      "customer had a PSI of 100 over 10. his PRV would build up psi very slow and drop out when and demand was called for. customer was not home I did leave a door tag with the PSI recorded and to inform him of his PRV issue.\n",
      "\n",
      "\n",
      "Work Order 288081: \n",
      "PSI is 65 over 20 customer has a bad PRV he is calling a plumber.\n",
      "\n",
      "\n",
      "Work Order 291673: \n",
      "Customer has called numerous times about not having any water. We have already sent out a crew and they stated that it was on the customer side. The customer had a plumber go out and they told them that the city main is off. Can someone please double check\n",
      "The city crossover valve was off. The last time I came out I was on the wrong street due to 2 different streets having the same name. Turned crossover on and customer has water at the outside hose bib.\n",
      "\n",
      "\n",
      "Work Order 291904: \n",
      "CUST HAS VERY LOW WATER PRESSURE  NEIGHBORS IN THE BACK OF THE SUBDIVISION ARE EXPERIENCING THE SAME ISSUE\n",
      "checked pressure at house and it was 90/24, pulled meter and checked pressure at angle stop and it was 98/92. Told customer she needed to adjust her PRV\n",
      "\n",
      "\n",
      "Work Order 294779: \n",
      "NO WATER,CONSTRUCTION MANAGER THINKS THE WATER MAY BE OFF AT THE MAIN. THERE IS NO WATER TO THE HOUSE.TURN MAIN ON.\n",
      "the main cut off was turned off we turned it on and they have water to the meter. \n",
      "\n",
      "\n",
      "Work Order 295144: \n",
      "CUST HAS VERY LOW PRESSURE  SHE IS REQUESTING IT TO BE CHECKED\n",
      "Checked pressure at hose bib and it was 98/62, told customer to have her PRV adjusted or replaced\n",
      "\n",
      "\n",
      "Work Order 295183: \n",
      "REPLACE 3/4\" AMCO METER DUE TO BROKEN REGISTER METER# 22135697 SERIAL# 6830326 \n",
      "the meter is swapped out. \n",
      "\n",
      "\n",
      "Work Order 295191: \n",
      "CUST STATES HIGH PITCHED WHINING  NOISE IN PIPES WHEN WATER IS ON     COMING FROM NEAR THE METER    REQ PRESSURE TEST\n",
      "\n",
      " William Prescott @ 512-657-2863\n",
      "Checked pressure and it was 102/52, told customer to have PRV adjusted or replaced. The noise is also coming from the PRV\n",
      "\n",
      "\n",
      "Work Order 295192: \n",
      "METER IS INSTALLED BACKWARDS, NEED TO HAVE METER INSTALLED CORRECTLY METER# 10045380 SERIAL# 11123558 \n",
      "Took meter out and put it back in facing the right way. Meter reading was 99,909,073 when I switched it around\n",
      "\n",
      "\n",
      "Work Order 298795: \n",
      "BUILDER STATES THE CITY MAIN LINE IS CUTOFF AND WOULD LIKE IT TURNED ON. 234 & 104 LOCKHART LOOP BOTH HAVE NO WATER.\n",
      "JAMES 5128440748\n",
      "Main valve is on and the customer shut off was turned off. Left the customer shutoff turned off\n",
      "\n",
      "\n",
      "Work Order 298872: \n",
      "AROUND CUSTOMERS CUT OFF VALVE THERE IS A METAL SLEEVE THAT NEEDS TO BE LOWERED. IT IS IN THE MIDDLE OF DRIVEWAY...CTC BUTCH 512 369 2266 FOR FURTHER INFO....\n",
      "ISAAC HAS SENT AN EMAIL TO SYSTEM ENGINEERING TO VERIFY IF THIS IS STILL UNDER CONTRACTOR WARRANTY. PLEASE VIEW THE UPLOADED PICS IN THE DOCUMENTS FILE.\n",
      "PER KEN TAYLOR IN SYSTEM ENGINEERING, THE HOME BUILDER WILL BE REPAIRING THE DAMAGED VALVE STACK SINCE IT WAS DAMAGED IN THE BUILD OF THE HOME. WATER DEPARTMENT WILL NOT PROCEED WITH ANY FURTHER ACTION. \n",
      "\n",
      "\n",
      "Work Order 301031: \n",
      "CUST SAYS THEY EXPERIENCING VERY LOW WATER PRESSURE..WOULD LIKE US TO CHECK,.,.,\n",
      "customers water pressure was 110/20 i explained to her that it is her prv and told her she would have to call a plumber to come out to either adjust it or replace it. \n",
      "\n",
      "\n",
      "Work Order 302750: \n",
      "WATER COMING OUT THE GROUND ON ABOUT THIS INTERSECTION AREA.\n",
      "CRAIG 9092302171\n",
      "put the leak detector on the main valve and did not pick anything up. we also put it on the crossover valve and did not pick anything up either. it is not coming from the main water line. it is possible they have an irrigation problem. \n",
      "\n",
      "\n",
      "Work Order 302754: \n",
      "BUILDER STATES SOMEONE TOOK HIS WATER METER BOX. IF WE CAN REPLACE THE BLK WATER METER BOX PLEASE.\n",
      "BUTCH 5123692266\n",
      "upon arriving to change out the meter box the builder had the plumber replace it with another box from another address that was not under construction he requested for us to just leave it where the meter box was removed \n",
      "\n",
      "\n",
      "Work Order 302856: \n",
      "CUST SAID THERE IS A LEAK NOT SURE IF ITS HER ISSUE OR OURS. WATER IS COMING OUT OF THE GROUND.\n",
      "it was a soaker hose where the leak was coming from it was a customer issue spoke with the customer and showed her where it was leaking \n",
      "\n",
      "\n",
      "Work Order 307892: \n",
      "NO WATER SINCE SEPT 15TH PLUMBER SAID THE LINE HAD A BLOCKAGE\n",
      "customer did not have the water meter connected we connected it turned the cross valve on and then flushed the line from the outside faucet. \n",
      "\n",
      "\n",
      "Work Order 308254: \n",
      "REPLACE 3/4\" DUE TO NOT REG. CONSUMPTION; ZEKE REPLACED REGISTER AND STILL NOT SHOWING CONSUMPTION METER# 9797361 SERIAL# 9396552 \n",
      "the meter has been replaced we will have to return after lunch to replace the meter box because half of it is missing. \n",
      "\n",
      "\n",
      "Work Order 316274: \n",
      "HAS LOW WATER PRESSURE AND BELIES HE HAS LEAK.  CONTACT NUM IS 512-968-5466\n",
      "I did not notice a leak the meter was not spinning , the pressure at the hose bib was 60/40 he does have a water softner , it was serviced about 5 months ago I informed him to contact a plumber to have his PRV adjusted\n",
      "\n",
      "\n",
      "Work Order 317157: \n",
      "NEIGHBOR SAYS THERE IS WATER BUBBLING OUT OF 105 ABILENE LN, SAYS IT COULD BE CITY SIDE - HOMEOWNER IS NOT HOME WOULD LIKE US TO CHECK...CTC #512 470 4348\n",
      "the leak is on the city side of the meter on the service line , locates called in ,crew is in route to repair\n",
      "Used the vactor to excavate the area. Located the leak which was a pinhole in 1 inch poly running to 101 Abilene. Cut out and sectioned in a piece with a compression by compression. Also located the service valve, stacked and raised it.\n",
      "\n",
      "\n",
      "Work Order 317173: \n",
      "NO WATER AT THE LOCATION  MIGHT BE OFF AT THE VALVE. CREW WAS OUT THERE TODAY RELOCATING WATER METER BOX AT 3982, NO WATER.\n",
      "the cross over valve has a rock in the stack pipe and will not let it turn to open , I talked to Ken Taylor about it and he said that he would look at it on 10/8/2015 in the A.M.\n",
      "i have made contact with Ken Taylor and the water is back on. \n",
      "\n",
      "\n",
      "Work Order 318380: \n",
      "MISSING COVER ON THE WATER METER BOX WOULD LIKE ONE PUT ON \n",
      "meter box had a lid on it already\n",
      "\n",
      "\n",
      "Work Order 322479: \n",
      "PLUMBING CREW ON SITE TO DO WORK AND THEY NEED WATER OFF FOR REPAIRS. WATER METER LOCATED UNDER SECURE METAL DOORS.\n",
      "CHRIS 903-216-9168\n",
      "turned water off for plumber after locating the meter\n",
      "\n",
      "\n",
      "Work Order 322617: \n",
      "Cust called and says his plumber set water meter today and the plumber can NOT reach the turn on valve with his tools. He needs someone to come turn on the water to site. Contact Tony @210-620-2420 if needed.\n",
      "turned the valve on for the service at 205 fannin battleground ln. the angle stop has water\n",
      "\n",
      "\n",
      "Work Order 323603: \n",
      "HE IS CONCERNED WITH THE QUALITY OF THE WATER IT IS VERY HARD AND IT LEAVE A FILM ON HIS DISHES, SINK AND SHOWER. WANTS TO MAKE SURE IT IS SAFE TO DRINK SO HE WOULD LIKE FOR US TO TEST HIS WATER\n",
      "checked the customers chlorine residual , it was 2.34 at the hose bib , flushed a hydrant in front of the home\n",
      "\n",
      "\n",
      "Work Order 327288: \n",
      "WE WENT OUT ABOUT 3 WEEKS AGO FOR A WATER LEAK AND REPAIRED IT. THE DIRT AND GRASS WE HAVE PUT BACK HAVE SUNK AND NOW IS A HAZARD. HE WOULD LIKE US OUT TO FIX AND ALSO MAYBE TAKE SPRAY PAINT OFF CURB.\n",
      "JASON 5126261619\n",
      "hole that was not filled in with dirt. just need to add to 2 full buckets of dirt. \n",
      "hole filled in and ready for grass.Grass needed Bermuda \n",
      "WORK HAS BEEN SUBMITTED TO WE MOW IT PLUS. GRASS IS CURRENTLY BACK ORDERED AND CONTRACTOR IS WAITING.\n",
      "\n",
      "\n",
      "Work Order 327316: \n",
      "Customer reported leak at meter\n",
      "Found customer issue, shut water off, notified customer who will contact builder\n",
      "\n",
      "\n",
      "Work Order 331291: \n",
      "141 Fort Mabry Loop - Turn water off - Shane Latouf @ 512-966-2677\n",
      "customer had a broken pipe on his side. Turned water off\n",
      "\n",
      "\n",
      "Work Order 334662: \n",
      "CUST SAYS HE'S GETTING LOW WATER PRESSURE WOULD LIKE US TO CHECK..HE'S NOT SURE IF HE HAS A PRV ON HIS SIDE...CTC PH#512 843 4014\n",
      "Went to address and found out the customers PRV was bad. Did pressure test on water line before meter. 90 psi. Did static pressure test on house and it was 56 psi. Customer said he would notice sprinkler system lose pressure from time to time and also would experience same inside his house. Notified him that it was his problem and that he needed to call a plumber\n",
      "\n",
      "\n",
      "Work Order 335094: \n",
      "CUST REPORTING WATER COMING OUT OF THE GROUND IN BETWEEN 104 AND 108 ADMIRAL NIMITZ CT...CTC PH#214-515-8364\n",
      "Emergency Locate #1581583761 requested by SCC\n",
      "Appears to be a leak at the crossover, called in emergency leak. \n",
      "Worked carried over past midnight\n",
      "\n",
      "\n",
      "Work Order 339886: \n",
      "CUSTOMER HAS WATER COMING OUT THE GROUND NEAR HIS METER AND NEEDS TO KNOW IF HIS LEAK OR OURS. PLEASE LET HIM KNOW IF ITS HIS SO HE CAN CALL HIS BUILDER.\n",
      "CLAY 512-994-5844\n",
      "the customer PRV was leaking. informed him to contact builder\n",
      "\n",
      "\n",
      "Work Order 341189: \n",
      "CUSTOMER HAS VERY LOW PRESSURE INSIDE AND OUTSIDE THE HOME  HE IS REQUESTING A PRESSURE TEST AT THE METER   JOSH LOOMAN  512-695-3640\n",
      "pressure read at 45 psi at outside hose bib.  Customer was not present to consult with. Door tag was left at the house recommending to check the water softener for issues.\n",
      "\n",
      "\n",
      "Work Order 346423: \n",
      "CUSTOMER STATES HER HOUSE AND SOME NEIGHBORS ARE EXPERIENCING LOW WATER PRESSURE. KRISITI 512-913-3038\n",
      "left door hanger.  left a message at number givin. they have a bad PRV\n",
      "\n",
      "\n",
      "Work Order 346603: \n",
      "CUSTOMER STATES HIS WATER PRESSURE IS LOW AND HE SAYS ALL HIS NEIGHBORS HAVE BEEN EXPERIENCING LOW PRESSURE. CUSTOMER WOULD LIKE TO BE NOTIFIED ON ARRIVAL\n",
      "JONATHAN 281-740-3146\n",
      "took the pressure at the customer's house faucet it had 106 psi then it dropped to 20 psi, we then pulled the meter to take a pressure reading it had 110 psi at the angle stop. the customer has a p.r.v. we then informed him that he would need to get a plumber to come replace the p.r.v. \n",
      "\n",
      "\n",
      "Work Order 352475: \n",
      "CUST IS EXPERIENCING LOW WATER PRESSURE, SHE CANNOT RUN DISHWASHER AND OTHER WATER STUFF WITHOUT GETTING LOW TO DRIPPING WATER... PRV ON HER SIDE UNKOWN...CTC PH#512-809-1341\n",
      "checked hydrant had 110psi.  checked at the house had 48psi.  believe the problem is the PRV. informed customer of our findings and she will be getting with a plumber to resolve the cituation.\n",
      "\n",
      "\n",
      "Work Order 352499: \n",
      "CUSTOMER IS REQUESTING PRESSURE CHECK   ALSO THERE IS GREEN STUFF IN HOME FILTER SYSTEM  NOT LIKE ALGAE MORE LIKE PHLEGM   REPLACED FILTER AND 5 DAYS LATER IT IS GETTING CLOGGED AGAIN  HE WANTS TO KNOW WHAT IT IS   JASON FREELAND  254-715-2347 \n",
      "took hydrant reading 95psi. took house reading 54psi. took meter reading 95psi. issue is with the PRV. also flusehed hydrant for 10mins. customer will take care of the issue.\n",
      "\n",
      "\n",
      "Work Order 353812: \n",
      "CUSTOMER IS REPORTING A LOT OF WHITE PARTICLES IN HER WATER  EVEN WITH FILTERS  SHE DOESN'T THINK IT IS CALCIUM BECAUSE IT IS A BRAND NEW HOME AND HAVE LIVED THERE SINCE NOVEMBER  SHE IS REQ IT TO BE CHECKED  TRINA MAXEY  512-773-6228\n",
      "flushed the hydrant water was dirty then cleared.  \n",
      "\n",
      "\n",
      "Work Order 357117: \n",
      "CUSTOMERS PLUMBER IS HAVING ISSUES GETTING WATER AT THE METER   TONY HIGHLAND HOMES  210-620-2420\n",
      "pressure tested the house faucet.(58-60psi). pulled meter. pressure tested (80psi). contacted the home builder and informed him of what we did. let him know that they may have a PRV that needs to be readjusted. the house is still being built. is in the rough-in stage. happy new year!\n",
      "will need to replace the meter box and lid. was damaged prior to us working on it\n",
      "\n",
      "\n",
      "Work Order 357152: \n",
      "CUSTOMER REPORTING LEAK AT THE METER BOX ON COG SIDE    STANDING WATER AROUND METER BOX    KERRY ARP 512-228-0299\n",
      "Customer has a leak on the customer shut off. Spoke with the customer and showed him where the issue is. He is going to contact a plumber to get it repaired.\n",
      "\n",
      "\n",
      "Work Order 361451: \n",
      "NO WATER---WANDA SHANNON 512-635-7861\n",
      "customers prv has frozen shut. let them know and he will be getting a plumber to come fix the issue.\n",
      "\n",
      "\n",
      "Work Order 361518: \n",
      "CUST IS EXPERIENCING LOW WATER PRESSURE...WOULD LIKE US TO CHECK..HE HAS BYPASSED HIS WATER SOFTENER AND PRESSURE STILL LOW\n",
      "Customer issue. Customer has 15 / 12 psi at the hose bib. Pulled the meter and checked the pressure at the angle stop it was at 90 / 85.  Informed the customer he needs to get a plumber to replace the PRV.\n",
      "\n",
      "\n",
      "Work Order 364177: \n",
      "Contractor hit water line \n",
      "Water leak is at Ashbury and Kinsley - Contractor hit water line - Ranger Excavating - Contact Gus @ 512-695-7612\n",
      "contractor hit auto flusher  valve turned off to flusher only  ranger construction hit it   contact info is  bill 512-693-7614\n",
      "\n",
      "\n",
      "Work Order 369659: \n",
      "HAS BEEN NOTICING LOW WATER PRESURE FOR A COUPLE OF WEEKS BUT IT IS GETTING WORSE. 713-494-1888\n",
      "Customer issue. Customer had 52 / 42 psi at his house. I also checked two other houses in the area and they had similar pressure readings. All have a PRV. The fire hydrant 4 houses down has 90 psi.  The PRV needs to be adjusted . Spoke with the customer and he will have it adjusted.\n",
      "\n",
      "\n",
      "Work Order 370573: \n",
      "CUST HAS LOW WATER PRESSURE \n",
      "customer had 110 over 34 psi left door tag that they would need to change out the prv. \n",
      "\n",
      "\n",
      "Work Order 373006: \n",
      "City stop is off on the water and plumber cannot get it open. Please turn on water. Lot is at intersection of Galveston Island Ln, Guadalupe River Ln, and Lockhart Lp. \n",
      "water is on , when we got there the stop was open already\n",
      "\n",
      "\n",
      "Work Order 393719: \n",
      "CITY STOP IS OFF AND THE PLUMBER CANNOT GET IT OPEN. PLEASE TURN ON WATER FOR BUILDER. -  Chris Guthrie @ 512-970-2599\n",
      "City stop was on,  customer shutoff valve was turned off.  However, city line was shut down at a crossover valve.  Water is now on\n",
      "\n",
      "\n",
      "Work Order 396246: \n",
      "CUSTOMER REPORTING LOW PRESSURE INSIDE AND OUTSIDE   REQUESTS PRESSURE CHECKED AT THE METER   NEIGHBORS HAVE SAME ISSUE     SUZANNE  512-577-8619\n",
      "Customer had 40 PSI and has a PRV, neighbor had 80 PSI.  PRV may need to be adjusted or replaced.  Notified customer.\n",
      "\n",
      "\n",
      "Work Order 400408: \n",
      "CALLER CAN SEE LEAK FROM HER HOUSE IN THE COMMON AREA ON THE EAST SIDE OF THE COMMUNITY CENTER\n",
      "Repaired a 2\" male adapter with a 2\" brass nipple and himax . The clean up is done\n",
      "\n",
      "\n",
      "Work Order 414041: \n",
      "KEN TAYLOR SENT IN REQUEST TO HAVE WATER DEPT LOWER THE WATER VALVE BOX TO GRADE SO AREA CAN BE MOWED WITHOUT HITTING IT. CTC PERSON IS BUDDY AT 512-940-6988, WILL BROOKS IS ON SITE..\n",
      "STACK IS AT THE CORRECT GRADE WHEN CONSTRUCTED. HOME BUILDER HAS REMOVED EARTH FOR HOUSE BUILD OUT. KEN HAS INFORMED THE HOME BUILDER THAT THEY ARE NOW RESPONSIBLE FOR THE FIX.  NO FURTHER ACTION NEEDED. \n",
      "\n",
      "\n",
      "Work Order 415381: \n",
      "CUSTOMER REPORTING LOW PRESSURE INSIDE AND OUTSIDE HOME  REQUESTING PRESSURE CHECKED  YOLANDA AMORY  512-947-2718\n",
      "got a reading from the nearest hydrant it read 90 psi, i then pulled a reading from the customer's outside faucet it read 50 psi & then i pulled the meter to get a pressure reading before the customer p.r.v. it was 90 the same as the hydrant i then ask the customer if they had a softener they said yes i requested for them to get a technician to inspect their softener and to get a plumber to check their p.r.v. \n",
      "\n",
      "\n",
      "Work Order 422819: \n",
      "Tony with Highland Homes says there is water bubbling from underground, 5 feet from curb, near entryway to property. Contact Tony @210-620-2420 if needed.\n",
      "SCC requested Emergency Locate #1658202647\n",
      "LM crew will be going out to repair line today.\n",
      "The concrete crew ran over the crossover valve the valve has been closed it will be a 2 valve kill 1 onGoliath & fort Cobb way and the second is located fort Cobb way colder sac. The valves have been painted blue the customer 300 fort Cobb way has been informed about the repair will be done. The leak is about 3-4' down will need the vac truck and locates have been called in and painted in blue\n",
      "brass nipple between main and 2 inch valve was cracked in half. so we installed new 2 inch valve and hymaxed on to the 2 inch black poly\n",
      "\n",
      "\n",
      "Work Order 425943: \n",
      "CUSTOMER HAVING LOW WATER PRESSURE WAS REAL BAD LAST NIGHT CALL 512-767-5153 CESAR PEREZ\n",
      "assigned to wrong person\n",
      "this was check out by another technician PSI was good on city side   \n",
      "\n",
      "\n",
      "Work Order 429591: \n",
      "CUST HAS  A LEAK PLEASE CHECK METER PLEASE  CALL SCOTT  979-549-5006 HE WANTS TO MEET WITH THE TECH\n",
      "The customer's cutoff has a crack where it has been leaking a month or more . They also had a plumber come out and say that it was a city issue. I met with the customer in person and explain where our responsibility stop and the customer's responsibility started \n",
      "\n",
      "\n",
      "Work Order 431907: \n",
      "CUSTOMER REPORTING LEAK BETWEEN METER AND SIDEWALK  WATER BUBBLING OUT OF GROUND  BETWEEN 116 & 120 LAKE WHITNEY CT   SURINDER GULATI  860-644-5866 \n",
      "the two inch crossover is leaking going to the meters,the crew will need a chop saw to cut out the concrete sidewalk ,the vac truck to find the leak for repair and two inch dressers\n",
      "Schedule Locates Ticket 1659952537\n",
      "Customer at 120 Lake Whitney called, 390 went and re-checked leak\n",
      "sectioned in a small section of 2\" where it was rubbing on a gas line\n",
      "Needs sidewalk repair 1 section\n",
      "\n",
      "\n",
      "Work Order 435289: \n",
      "CUST REPORT NO WATER, ACCT IN GOOD STANDING, PLEASE INVESTIGATE. CONTACT STEVEN BISHOP - SUPER INTEDANT 832.718.5237\n",
      "I pulled the meter and checked the pressure at the angle stop,it was 110/100 . The home has a PRV and it needs to be adjusted.\n",
      "\n",
      "\n",
      "Work Order 439846: \n",
      "CONTACT BUDDY @512-940-6988. REPLACE CONCRETE AROUND THE WATER VALVES/SHUT OFFS. CUST TALKED TO SOMEONE BEFORE, HE WAS TOLD TO CONTACT COG WHEN READY TO REPLACE.\n",
      "ATTEMPTED CONTACT AND NO ONE ANSWERED.\n",
      "CONCRETE JOB SENT TO WALTER DIAZ\n",
      "PLEASE CUT DOWN THE STACKS AROUND  TO GROUND LEVEL.\n",
      "DISREGARD THIS WO. THIS IS A MULTIPLE WO. ORIGINAL WO IS 414041. KEN HAS TOLD THE HOME BUILDER THAT THIS IS HIS ISSUE AND THAT THE CITY IS NOT RESPONSIBLE FOR THE REPAIR. \n",
      "\n",
      "\n",
      "Work Order 443642: \n",
      "CUSTOMER WOULD LIKE THE WATER SHUT OFF TO MAKE REPAIRS. WESTIN 512-653-7051\n",
      "Showed customer where his shut off was. \n",
      "\n",
      "\n",
      "Work Order 444053: \n",
      "CUST MAY HAVE A LEAK OR MAY NOT KNOW IRRIGATION IS ON, WANTS SOMEONE TO ENSURE THERE IS NO LEAK ON OUR SIDE, TOLD IF IT REGISTERED ON METER IT WOULD BE HER SIDE, PLEASE CHECK ANYWAY\n",
      "Did not see meter spinning and while we were there the irrigation was not on. Called customer and left a message. Waiting to hear back from customer.\n",
      "\n",
      "\n",
      "Work Order 446959: \n",
      "Leak on customer side at the ball valve. He is having someone coming to repair it in the morning \n",
      "\n",
      "\n",
      "Work Order 447264: \n",
      "PLUMBER IS REPORTING THE THE CITY STOP IS OFF ON THE WATER AND THEY CANT GET THE WATER THRU THE YOKE. please turn on water today.\n",
      "Water was off at the corp stop. It is now on.\n",
      "\n",
      "\n",
      "Work Order 450686: \n",
      "CUST EXPERIENCING WATER PRESSURE ISSUES, PLEASE CALL CUSTOMER UPON ARRIVAL SHE HAS SOME QUESTIONS FOR THE TECH\n",
      "We checked the pressure at the outside hose bib and got 80 psi. We did a residual pressure check and got 80/55 psi. The prv seems to be going bad and I recommended to her that she may need to change it out to resolve any pressure issues if she can't adjust it. \n",
      "\n",
      "\n",
      "Work Order 451428: \n",
      "CUST SAYS WE LEFT A BIG PILE OF DIRT IN HIS FRONT YARD AFTER WE REPAIRED SIDEWALK AFTER REPAIRING A WATER LEAK..\n",
      "showed up to remove dirt and customer came out and said someone already came to pick up \n",
      "\n",
      "\n",
      "Work Order 470899: \n",
      "REPLACE 3/4\" METER, DUE TO REGISTER NOT SHOWING CONSUMPTION THIS IS THE 2ND TIME WE HAVE REPLACED THE ENTIRE METER, MAY NEED TO FLUSH THE LINE BEFORE INSTALLING METER 10394580 / 019-11155295 \n",
      "New mtr installed after I flushed the line to get any gravel out of service. Mtr registered fine.\n",
      "Mtr info in documents section\n",
      "\n",
      "\n",
      "Work Order 475650: \n",
      "REPORTING STANDING SEWER IN THE FRONT YARD   PLUMBER SAYS ISSUE ON COG SIDE   GEORGE  512-965-7608\n",
      "Viewed all of the sewer lines and they were clear and sealed. Told cust. And home builder that it was most likely a irrigation issue. \n",
      "\n",
      "\n",
      "Work Order 479108: \n",
      "CUSTOMER REPORTS LOW WATER PRESSURE INSIDE AND OUTSIDE THE HOME. PLEASE CONTACT VICKI 512-587-9257\n",
      "Left the customer a voicemail and a door hanger explaining what we did we took a pressure reading at the outside faucet it was 98/15psi, we then took a reading from the hydrant across the street it read 98/95 psi. Also told them to get their prv and softener checked due to the low psi\n",
      "\n",
      "\n",
      "Work Order 484997: \n",
      "LOW PRESSURE IN AND OUT, NO WATER SOFT\n",
      "Pressure was 90 at the hydrant. Pressure at home was 50/35 I advised home owner her prv needed to be adjusted\n",
      "\n",
      "\n",
      "Work Order 485121: \n",
      "Check water leak on fire hydrant meter that was recently placed. Cust says leaking at connection of meter to hydrant. \n",
      "Opened hydrant, found no leaks around the gasket areas. Closed hydrant and still found no leaks anywhere.\n",
      "\n",
      "\n",
      "Work Order 489263: \n",
      "CUSTOMER REPORTS A WHITE BROKEN PIPE IN BETWEEN HER AND HER NIEGHBORS YARD COMING OUT OF THE GROUND. NO LEAK BUT WOULD LIKE US TO INVESTIGATE.\n",
      "We replaced a 6\" cleanout cap that has been hit with a lawnmower \n",
      "\n",
      "\n",
      "Work Order 491965: \n",
      "This is a new residential build, they have a water meter but no water but customer states that they have no water. Please investigate. resubmitted from ticket#21590\n",
      "We turned on the valve to the service meters , they now have water\n",
      "\n",
      "\n",
      "Work Order 493482: \n",
      "Called out to a low pressure call static pressure was 114 psi.   Took off meter and checked flow.  Flow is good. We feel the customers PRV went out and that he needs to call a plumber\n",
      "\n",
      "\n",
      "Work Order 494922: \n",
      "CUSTOMER HAS LARGE HOLE IN HIS ROUND METAL UTILITY WATER COVER ON SIDEWALK NEAR THE METER, REQUEST TO HAVE IT REPLACED.\n",
      "hhenderson@mhinc.onmicrosoft.com\n",
      "Replaced valve lid. Mtr box is fine.\n",
      "\n",
      "\n",
      "Work Order 497798: \n",
      "Customer stated they returned from vacation and turned water on to a brownish color.  They opened up all faucets and it is clear and has been clear.  It is customer issue more than likely their water softener and sitting still for 3-4 days.  Flushed hydrant across the street and it is clear at this time.  Job is complete.\n",
      "\n",
      "\n",
      "Work Order 497842: \n",
      "Cust has very low water pressure inside and out side of the house, He would like to speak to you when you come out to his house . 512-944-5844 Please call him Clay Sykes. \n",
      "No pressure issue 60/68. Cust had air in the line from having a water softener installed.\n",
      "\n",
      "\n",
      "Work Order 497946: \n",
      "CUST HAS NO WATER PRESSURE \n",
      "Problem is on cust side. Pressure at hydrant 130psi. Pressure at house 45\n",
      "\n",
      "\n",
      "Work Order 501510: \n",
      "TODD REPORTS STONE DELIVERY TRUCK RAN OVER THE METER BOX AND BROKE PIPE ON THE CITY SIDE. WATER LEAKING INTO THE STREET, UNABLE TO SHUT OFF. \n",
      "393Water was already off when I arrived. You can see where someone backed over meter box. New house being built. Broke after the meter\n",
      "\n",
      "\n",
      "Work Order 501684: \n",
      "CUST REPORT LOW PRESSURE INSIDWE AN OUTSIDE, SPRINKLERS WONT EVEN POP UP ITS SO LOW    - CALL BACK\n",
      "Customer had 50 psi. She adjusted her prv and it is now 70 psi.  Line pressure is 90. \n",
      "\n",
      "\n",
      "Work Order 502357: \n",
      "CUSTOMER REPORTS LOW WATER PRESSURE INSIDE AND OUTSIDE THE HOUSE. WOULD LIKE TO CHECK LEVEL BEFORE CONTRACTING A PLUMMER. PLEASE CALL JAMES 512-633-6325\n",
      "Customer had 52 psi. He adjusted it while we where here it was 75. Main is 95 psi. \n",
      "\n",
      "\n",
      "Work Order 504766: \n",
      "Builder with Highland Homes states that he has a clean out at the front right that is broken and inside his city walk.  He needs it repaired and a metal cap provided. contact Tony @210-620-2420 if needed.\n",
      "INVESTIGATE AND DETERMINE IF  THIS WAS A RESULT OF HOME BUILDER EQUIPMENT OR AGE. \n",
      "SCHEDULED ON 8/8\n",
      "We put a 4\" riser on it. We got it flush with the surrounding sidewalk. It is now ready for concrete.\n",
      "\n",
      "\n",
      "Work Order 505042: \n",
      "Cust says he has a clean out at the front left that is broken and inside his city walk.  He needs it repaired and a metal cap provided. Contact Tony @210-620-2420.\n",
      "Going to need the vac truck or valve machine to excavate down to the valve to set the riser in properly. There is a two foot riser on site with a lid on site.\n",
      "Upper 70 extension was not even on valve stack it was about 6 inches off. We found valve stack and cleaned it out it was full of rock and dirt and re stacked it and filled it in\n",
      "\n",
      "\n",
      "Work Order 510606: \n",
      "CUST IS HAVING WATER PRESSURE ISSUES INSIDE AND OUTSIDE HOME  REQUESTS PRESSURE CHECKED  EVELYN GRAY  512-337-7699\n",
      "90 psi on city main. 55 psi at the house. PRV needs to be adjusted and water softener hasn't been maintained in over 6 years. I recommended her to service her softener and adjust PRV to resolve the issue.\n",
      "\n",
      "\n",
      "Work Order 512048: \n",
      "Called to water leak.   Original location was wrong that was given to dispatch found location to be on Parkside Pkwy about 80 yards from County Road 176  new construction area.   Contractor hit Brushy Creeks raw water line.   B.C. was on site when I arrived.  \n",
      "\n",
      "\n",
      "Work Order 519776: \n",
      "VERY LOW WATER PRESSURE FOR PAST COUPLE WEEKS 1-254-717-2072\n",
      "Took a pressure reading at the hydrant it was over a 100 psi, took a reading from the customer's outside faucet it was 80 psi .  The customer has a water softener, requested for her to switch the softener to bypass mode once she did, 384 requested for the customer to open some faucets to see if the pressure would increase it was a success inform her to contact a technician to come service the softener. Final pressure reading was 80/80\n",
      "\n",
      "\n",
      "\n",
      "\n",
      "Work Order 522619: \n",
      "Please see attached photo. The piece of concrete for water access is sticking up out of the ground and is a safety concern for nearby homeowners. Please send someone to make flush or remove. \n",
      "the valve is off the sidewalk in the yard at 105.  Looks like it was damaged when the landscaper company laid sod.  We removed the concrete around the valve.  It needs a concrete job, I think it was a 2'x2' square pad around the valve.  We have a cone over the valve marking where it is. \n",
      "\n",
      "\n",
      "Work Order 522761: \n",
      "The water has been turned on the customer was not present at the time but 384 spoke to the superintendent\n",
      "\n",
      "\n",
      "Work Order 525177: \n",
      "AT THE END OF HIS DRIVE WAY WHERE THE CONCRETE MEETS THE ASPHALT THE SEAM ALWAYS IS WET AND NOW IT IS GETTING SLIMEY. HE WOULD LIKE THIS CHECKED OUT \n",
      "Could not tell where the water is coming from since it has been raining, need to dig up the yard to install a valve cap on the crossover valve . Will come back when the rain clears\n",
      "Could not see or locate the water leak will need to leak detect the main to see where the leak is coming from we inform the customer at 3848 .the leak detecting will be from 3856 to 3848 sky view way\n",
      "water was running very little down the street. listen to the drive way and could here some gravel moving around. but couldn't make sure it is 100% it is a leak . did not have a test kit with the truck.\n",
      "Locates will be put out on 10-3-16 for line maintenance to expose the area to see if there is a leak\n",
      "im going to have Sam Cole come in and help find the leak my have to take out driveway of side walk don't want to do to much to the property \n",
      "line was investigated and was determined that this was ground water from irrigation the house is at the bottom of the hill.\n",
      "There is a half inch drip line under the cone in the front yard that needs repairs. Everything else has been cleaned up.\n",
      "\n",
      "\n",
      "Work Order 525198: \n",
      "CUST IS MISSING WATER METER LID\n",
      "The lid was damaged replaced it with a good lid\n",
      "\n",
      "\n",
      "Work Order 529263: \n",
      "BUS DRIVER CALLED IN SAYING WATER WAS GUSHING OUT OF THE MEDIAN AND RUNNING DOWN THE ROAD NEAR ASHBURY MARYA WELCH 512-868-7625\n",
      "I walked around the intersection of Mayfield Ranch and Ashbury and did not discover any leaks of any kind. I then drove from one end of Ashbury to the other, still no leaks found. I then drove to the end of Mayfield Ranch and back to the intersection of Ashbury and still found no leaks.\n",
      "\n",
      "\n",
      "Work Order 533022: \n",
      "CUSTOMER REPORTS LOW WATER PRESSURE. HAS HAD TWO PLUMMERS OUT AND WATER SOFTNER SERVICED. PLUMMER SUGGESTED TO CHECK PRESSURE AT THE METER.\n",
      "Customer pressure was at 48/52 psi seems to be a water softener issue \n",
      "\n",
      "\n",
      "Work Order 534309: \n",
      "LOW PRESSURE INSIDE AND OUT COUPLE WEEKS NOW\n",
      "Customer issue PRV  pressure on hydrant  was 88 psi and same as house pressure on hose bib\n",
      "\n",
      "\n",
      "Work Order 534432: \n",
      "missing a cover for a water meter box. contact tony bonnema @210-620-2420 if needed.\n",
      "There is a meter box lid on the box when we arrived, tried calling the number and it went to voicemail. \n",
      "\n",
      "\n",
      "Work Order 546322: \n",
      "fire hydrant was knocked over onto customers yard. please replace hydrant at 229 galveston island.\n",
      "Fire hydrant is a American darling b84b it needs a traffic kit. I staked up a out of service bag over hole and hydrant will be on floor in water bay at gmc\n",
      "fixed\n",
      "\n",
      "\n",
      "Work Order 547309: \n",
      "TONY WITH HIGHLAND HOMES SAYS WATER HAS NOT BEEN TURNED ON. Customer stated Monday morning turn on would be satisfactory.\n",
      "Water is turned on at this address \n",
      "\n",
      "\n",
      "Work Order 547339: \n",
      "WE WENT OUT TO CUSTOMER HOUSE AND DUG HOLES LOOKING FOR CONTROL VALVE, BACKFILLED HOLE BUT DID NOT PACK IT DOWN NOW WITH RAIN IT IS SINKING, CUST REQUEST ADDITIONAL DIRT TO LEVEL\n",
      "Line maintenance needs to come fill in with more dirt at this address \n",
      "It's the hole between 3852 and 3848\n",
      "leak cleaned up.\n",
      "\n",
      "\n",
      "Work Order 553558: \n",
      "LEAK ON CITY SIDE OF METER  JAMES  512-844-0748  \n",
      "City leak can't tell where from pretty sure on service line you can hear it when you open meter box and it had a residual of 1.53 \n",
      "\n",
      "Ticket# 1682366489\n",
      "leak repaired. needs 20 pcs of st Augustine.\n",
      "SPOKE WITH THE HOME BUILDER & THE BUILDER WILL REPLACE THE GRASS AT THIS LOCATION. NO FURTHER ACTION IS NEEDED\n",
      "\n",
      "\n",
      "Work Order 558599: \n",
      "INSPECTOR REPORT NO WATER ON TO INSPECT REQ TURN ON\n",
      "Meter was not installed, installed meter and turned on water.\n",
      "Need info from the meter if a new meter was installed\n",
      "\n",
      "\n",
      "Work Order 558745: \n",
      "RAISE CLEAN OUT TO GRADE- IN MIDDLE OF DRIVEWAY AT 509 GARNER PARK DR. CONTACT TONY @210-620-2420 IF NEEDED.\n",
      "clean out raised to grade. will need to back with valve machine to clean out valve stack after concrete is laid.\n",
      "\n",
      "\n",
      "Work Order 565309: \n",
      "CUSTOMER REPORTS NO WATER AT THIS ADDRESS, REQUEST WATER TURN ON\n",
      "Turned water on at the crossover\n",
      "\n",
      "\n",
      "Work Order 576497: \n",
      "THE CUST SAYS THAT THE FIRE HYDRANT IN HIS FRONT YARD IS LEAKING WATER. \n",
      "Went ahead and turned fire hydrant off and put out of service until next week going to see if it dries up around the fire hydrant couldn't tell if it leak was coming from the hydrant or notThe fire hydrant is off at the valve\n",
      "Rescheduled for Jan 3rd to recheck hydrant for leaks.\n",
      "Arrived at the house and the grass was still very wet. It is wet all along curb going towards house.  We think it is irrigation and talked with the customer about getting a plumber out to inspect that. Hydrant is still bagged until the irrigation is looked at. We are also going to turn in a leak detection in to make sure it's not leaking on our side also. \n",
      "no leak on hydrant, valve, or service line. Talked to customer and told him it looked like his neighbor or his house has an irrigation leak. \n",
      "\n",
      "\n",
      "Work Order 596020: \n",
      "Per Builder- Need city valve turned on. There is not water currently supplied to the meter and meter box. Valve is located 4 ft from the meter box.\n",
      "Turn water on \n",
      "\n",
      "\n",
      "Work Order 596560: \n",
      "CUSTOMER REPORTS LOW WATER PRESSURE INSIDE AND OUTSIDE THE HOUSE.\n",
      "Pressure was at 58/38 psi main hydrant was at 58 psi customer issue PRV\n",
      "\n",
      "\n",
      "Work Order 596578: \n",
      "CUSTOMER REPORTS BROWN WATER INSIDE AND OUTSIDE THE HOUSE. \n",
      "Did not see any brown water on outside faucet but went ahead and flushed some hydrants customer issue \n",
      "\n",
      "\n",
      "Work Order 601528: \n",
      "CUST HAS HIGH WATER PRESSURE. BRIAN GRISWOLD 512-203-2548\n",
      "Hose bib pressure was 100/20. Hydrant tested at 112. Inform customer that their PRV was malfunctioning.\n",
      "\n",
      "\n",
      "Work Order 602983: \n",
      "CUST REPORT WATER LEAK COMING OUT OF A CAP WITH A 'W' ON IT ON SIDEWALK TO RIGHT OF HOME, WATER IS GUSHING OUT\n",
      "Scheduled locates, 2 inch crossover about 6 ft deep. \n",
      "Male adapter broke replaced will brass nipple and I max .buried with dirt needs 5 pieces of burmeda grass\n",
      "\n",
      "\n",
      "Work Order 620461: \n",
      "SEWER CHOKE CALLED PER JUSTIN SPAULDING WITH MUSTANG PLUMBING @ 512.799.2139 \n",
      "We cleared the choke from the city clean out. It seemed to have a rock or plastic stuck in it between there and the city main. The clean out was missing the cap so we figured something was put in there. We put a new cap on it so it shouldn't happen again.\n",
      "\n",
      "\n",
      "Work Order 629551: \n",
      "Customer having water pressure issues inside his home, at dish washer. Plumber has been to home and was certain problem is on city side.\n",
      "customer had pressure at hose bib 50 over 35 said he hasn't serviced water softner in 3 years we bypassed it and pressure went to 55 over 45 said he would contact plumber to service softner \n",
      "\n",
      "\n",
      "Work Order 634962: \n",
      "LOW PRESSURE INSIDE AND OUTSIDE HOME  REQUESTING PRESSURE CHECKED  CRYSTAL TAYLOR  512-554-5051 \n",
      "Customer had 56/42. The hydrant had 96 psi. Everything was good on our end she does have a PRV that could be causing the issue \n",
      "\n",
      "\n",
      "Work Order 636713: \n",
      "CUST SAYS THAT HE IS HAVING PRESSURE ISSUES INSIDE AND OUTSIDE THE HOME. HE SAYS THAT IT IS VERY LOW WATER PRESSURE AND WOULD LIKE US TO CALL HIM WHEN WE ARE ON OUR WAY TO HIS HOME. 512-636-0144\n",
      "Checked pressure at meter and was 82/80.  Notified customer, he is gonna get plumber to come check his prv.\n",
      "\n",
      "\n",
      "Work Order 636810: \n",
      "CUST CALLED TO SAY HE THINKS HE HAS A LEAK AND THAT HE WANTS US TO COME CHECK I EXPLAINED THAT WE ONLY GO TO THE METER. HE WANTS US TO CALL HIM AND LET HIM KNOW WHAT HIS NEXT STEPS ARE. \n",
      "Customer thought they had a water leak but it's not anywhere near service line or neighbors service line I explained to them it could be drainage from neighbors sprinklers since theirs is off or a broken head. \n",
      "\n",
      "\n",
      "Work Order 647173: \n",
      "When cutting for the sidewalk, the pre-poured pad w/ the cover for water line valve has been relocated, the housing that sits in the ground is missing. Concrete contractor will leave this panel open for service. RESET SLEEVE FOR VALVE.SPENCER 512-635-4313\n",
      "Installed a 70 and contacted contractor. Concrete will be pored 6/20/2017.\n",
      "\n",
      "\n",
      "Work Order 650895: \n",
      "RYAN CALLED SAYING THAT THERE IS WATER COMING FROM THE MAIN WATER LINE TO   METER BOX . 512-968-0190\n",
      "checked leak this area has no water right now do to a main break off of FM 2243 will have to recheck when water comes back up\n",
      "leak was fixed needs to be filled in\n",
      "\n",
      "\n",
      "Work Order 650908: \n",
      "A special Bac-t was grabbed at this location at the leak on Leander rd. There was a residual of 2.83.\n",
      "\n",
      "\n",
      "Work Order 651890: \n",
      "CUST REPORT WATER GUSHING OUT OF A SILVER BOX IN FRONT OF PARKSIDE ELEMENTARY SCHOOL\n",
      "Schools back flow preventer is leaking. Had dispatch contact school and let them know\n",
      "Control center was unable to contact anyone from the school district. Water was turned off at the meter to stop the leak until the school can have the repairs done.\n",
      "\n",
      "\n",
      "Work Order 651904: \n",
      "CUST REPORT CLOUDY WATER SINCE OUTTAGE, REQUEST CHECK OR FLUSH\n",
      "Customer had some air in the line. Flushed hydrant to remove air.\n",
      "\n",
      "\n",
      "Work Order 652163: \n",
      "AFTER THE LINE BREAK CUSTOMERS WATER IS STILL CLOUDY. SHE RAN WATER THROUGH THE LINES BUT IT IS NOT CLEARING UP. 512-497-5236\n",
      "Water had air in the line, flushed a hydrant up the road. Checked the outside hose bib after flushing and the water has cleared up.\n",
      "\n",
      "\n",
      "Work Order 652190: \n",
      "CUSTOMER REPORTS CLOUDY WATER, REQUEST WE CHECK WATER QUALITY. PLEASE CONTACT FREDRICK AT 414-840-8726\n",
      "residual was 1.61 mg/l and no signs of air in the line Eleazar flushed from the customers hose bib and a nearby hydrant.\n",
      "\n",
      "\n",
      "Work Order 656231: \n",
      "CUSTOMER REPORTS BLACK PARTICLES IN WATER FROM MULTIPLE FAUCETS. REQUEST WE CHECK WATER QUALITY.\n",
      "MONIFA CAMBRELEN 402-730-1920\n",
      "Took a couple water samples and it was all clear, took a chlorine res. Was .68, i pulled the meter and it was all clear.\n",
      "\n",
      "\n",
      "Work Order 656458: \n",
      "METER BOX WAS HIT AND WATER IS STREAMING DOWN THE STREET\n",
      "NO METER HAS BEEN  INSTALLED YET\n",
      "DESIREE - MUSTANG PLUMBING   512-733-1110\n",
      "Trapper/ Eleazar repaired the service line and replaced the anglestop\n",
      "\n",
      "\n",
      "Work Order 656477: \n",
      "Contractor damaged the angle stop @ 240 Fort Cobb way and Trapper/ Eleazar were unable to get a wrench on the crossover valve. They think that there is concrete inside.Stack is in the middle of a driveway Approx. 5 ft in depth.Locates submitted on 7-5-17 @ 4:55pm by Trapper S.\n",
      "locate number 1768652944\n",
      "Job could not be completed due to emergency leaks.\n",
      "Sucked out valve stack\n",
      "\n",
      "\n",
      "Work Order 657955: \n",
      "WOULD LIKE THE HOLE FILLED UP AFTER FIXING THE LEAK. 512-968-0190\n",
      "RYAN FICKEL.\n",
      "we backfilled the hole with pea gravel,it still needs dirt and a 70 ,did not finish due to a emergency leak that was called in\n",
      "hole has been filled in ,no grass needed, contractor is landscaping\n",
      "\n",
      "\n",
      "Work Order 659729: \n",
      "Need to install a new 1\" meter so Brittan can install and test a new back flow preventer. \n",
      "New meter is installed so plumber can come do his thing and hook up to the meter and I also let mike know so his guys can come install an ert for the meter\n",
      "Meter is located on right hand side of 336 lake Livingston and top of box has cog in white paint\n",
      "\n",
      "\n",
      "Work Order 661787: \n",
      "CUSTOMER REQUESTS LINES FLUSHED\n",
      "BROWN TINT TO WATER BOTH INSIDE AND OUTSIDE HOME\n",
      "NATHAN FOX  919-622-0216\n",
      "We flushed from two different hydrants and they were both clear but we flushed them for awhile anyways the main was at a 2.44 residual and there house was 2.24 residual and customer said they noticed a difference and was happy about it\n",
      "\n",
      "\n",
      "Work Order 661847: \n",
      "LOW PRESSURE BOTH INSIDE AND OUTSIDE HOME,\n",
      "KNOCK ON DOOR TO SPEAK TO MAT WHEN THERE\n",
      "we pulled meter and city side was 96/90 psi and customers house was 90/15 psi and we knocked on the door and no one was home so we left a door tag\n",
      "\n",
      "\n",
      "Work Order 676008: \n",
      "Customer reported that a manhole was making noise behind the pool off the walking trail. It is an air release valve .\n",
      "\n",
      "\n",
      "Work Order 682321: \n",
      "Customer had small drip coming from the meter adapter.  Replaced and it is leak free at this time.  JOP IS COMPLETE.\n",
      "\n",
      "\n",
      "Work Order 682951: \n",
      "LOW PRESSURE IN AND OUT\n",
      "Customer had really low pressure on their outside faucet so I pulled the meter and it was 100/100 I also checked the hydrant and it was at 100/100 I called the customer to let them know they needed to call a plumber because their PRV was causing the low pressure issue. \n",
      "\n",
      "\n",
      "Work Order 684466: \n",
      "PLEASE CHANGE OUT 3/4\" MASTER WATER METER. POSSIBLE ROCKS IN WATER PER TECH 10716622/019-12916303 \n",
      "I could not find this location on the maps.  I called Mike M. and he said it was in the Highland subdivision.\n",
      "Changed out meter\n",
      "\n",
      "\n",
      "Work Order 684822: \n",
      "PLEASE CHANGE OUT 3/4\" MASTER WATER METER. POSSIBLE ROCKS IN WATER PER TECH 10394396/019-11155374 \n",
      "Pull and inspect meter.  Flush line in case of debris.\n",
      "we pulled the meter and flushed it out but could not get it to register. so we need to swap out the meter \n",
      "Changed out meter \n",
      "\n",
      "\n",
      "Work Order 689061: \n",
      "Decorative Rock Cover and Base are housed @ the GMC in the water bay next to the arrow board. The base will need to be buried and a track may be needed  This cover is for the backflow preventer on the Water Meter that feeds Mayfield L.S. \n",
      "Installed PRV cover\n",
      "\n",
      "\n",
      "Work Order 695834: \n",
      "DOING A REPAIR. NEED WATER OFF AROUND 1:30. TODAY AND IF YOU COULD SHOW CUSTOMER WHERE THE WATER SHUT OFF IS. OR CALL BEFORE YOU SHOW UP HE WOULD APPRECIATE IT. 646-407-9190 HE WOULD NEED IT BACK ON LATER IN THE DAY. \n",
      "Customer called and canceled.\n",
      "priority changed due to closure due date. work was completed on time\n",
      "\n",
      "\n",
      "Work Order 697892: \n",
      "CUST SAID THAT THE STREET LIGHT ACROSS THE STREET FROM 304 AND 308 ATLANTA PARK DR IS OUT\n",
      "not city of Georgetowns light.\n",
      "\n",
      "\n",
      "Work Order 699917: \n",
      "CUST RECIEVED A CALL FROM NEIGHBOR STATING SHE HAS A LEAK IN FRONT YARD, COULDNT TELL ME WHERE IT IS COMING FROM, PLEASE INVESTIGATE AND SEE IF IT IS ON CITY OR CUST SIDE, IF ON CUST SIDE PLEASE SHUT OFF WATER TO PREVENT LARGE BILL\n",
      "Leak is on the customer side.  Talked with customer and she asked us to leave water on.  She will get someone to fix.  Job is complete.  \n",
      "\n",
      "\n",
      "Work Order 703380: \n",
      "LOW WATER PRESSURE\n",
      "Customer issue psi on house was 50/30 psi on city side 120/110 advised customer to replace prv\n",
      "\n",
      "\n",
      "Work Order 703434: \n",
      "Customer would like for us to test the water quality in her home. \n",
      "Customer has no water softener .  White on pots and the fridge has hard water stains. Customer is looking into getting a water softening unit now. Residual at hose bib is 1.81. Job complete.\n",
      "\n",
      "\n",
      "Work Order 706005: \n",
      "CUSTOMER IS REQUESTING THE WATER TESTED AT THE METER FOR NITRATES\n",
      "SHE IS REQUESTING A CALL BACK WITH THE RESULTS\n",
      "JOY EPSTEIN  512-426-6489 \n",
      "Ran the water at the customer house, the results were.\n",
      "Total 2.41\n",
      "Mono 2.45\n",
      "FA 0.45\n",
      "Nitrite 0.003\n",
      "Nitrate 3.18\n",
      "Water was good including the nitrates level, spoke to the customer informer her of this and the state requirement. \n",
      "\n",
      "\n",
      "Work Order 710955: \n",
      "NOTICED THAT THE WATER IN TOILET IS BLACK AFTER HE HAS FLUSHED THE TOILET. CAN YOU CHECK AND MAYBE FLUSH LINE. NO WHERE ELSE IS IT BLACK. ASKED IF HE RAN THE WATER AND HE HAS BUT STILL BLACK\n",
      "Checked residual at outside spigot and received a reading of 1.95, customer said problem was local to just guest bathroom. Suggested that the customer call a plumber if the problem persisted.\n",
      "\n",
      "\n",
      "Work Order 710956: \n",
      "NOTICED 3 DAYS AGO A BAD SEWER SMELL COMING FROM BACK OF HIS PROPERTY WOULD LIKE THIS CHECK OUT.\n",
      "Could not detect odor told customer to call back when odor was present so we could try to investigate at that time\n",
      "\n",
      "\n",
      "Work Order 711005: \n",
      "CUST SAYS THAT THE METER BOX IS DEFORMED AND THE LID DOES NOT FIT PROPERLY WOULD LIKE US TO CHANGE IT OUT FOR HIM/\n",
      "Box has been deformed since house was built.  It was missed on inspection. Changed out it is good now.  Picture of final install in documents section.  \n",
      "\n",
      "\n",
      "Work Order 714626: \n",
      "WATER METER COVER AND BOX ARE BROKEN. WOULD LIKE THE WHOLE THING REPLACED. 512-431-5530\n",
      "Changed out busted meter box.  Job complete.  \n",
      "\n",
      "\n",
      "Work Order 715963: \n",
      "Customer is complaining about very low water pressure. \n",
      "Pulled meter and pressure on our side is 110/110 psi.  Checked his house it was 50/32 psi.  I had him adjust PRV and it is 72/50 psi.  He says he cant use more than one fixture at a time.  He has had softner and appliance checked out.  I told him his PRV is going out.  The pressure once it drops slowly climbs back up to 70 psi.  He will get plumber out to replace the PRV.  Job is complete.  \n",
      "\n",
      "\n",
      "Work Order 718221: \n",
      "CUST SAID THE METER BOX LID IS BROKEN AND NEEDS TO BE REPLACED\n",
      "Meter box lid has been replaced\n",
      "\n",
      "\n",
      "Work Order 720047: \n",
      "SUPERINTENDENT IS REPORTING A POSSIBLE LEAK ON THE CITY SIDE. THERE'S A WET SPOT IN FRONT OF THE HOUSE THAT WILL NOT DRY OUT.\n",
      "Noticed water but looks like it can be from the contractors washing out concrete trucks didn’t see anything bubbling told contractor to keep watching and if it doesn’t clear up we would leak Detect\n",
      "\n",
      "\n",
      "Work Order 723341: \n",
      "117 Inks Lake Dr - No water - Bruce Alexander @ 512-897-8910 - customer checked outside, checked screens inside, just a dribble coming out.\n",
      "Water came back on just before I arrived and I checked with customer we found the PRV that was buried and he said he might play with it or have it changed.   No water softener.  Customer issue \n",
      "\n",
      "\n",
      "Work Order 727024: \n",
      "CUSTOMER HAS NO WATER INSIDE OR OUTSIDE HOME\n",
      "IMTIAZ SAIYED  512-660-0387\n",
      "CUSTOMERS LINE IS FROZEN AND IS GOING TO WAIT TILL IT THAWS OUT WE PULLED METER TO MAKE SURE THEY HAD WATER AND THEY DID \n",
      "\n",
      "\n",
      "Work Order 728816: \n",
      "CUST AT 101 AND 105 HAVE STANDING WATER THEY SAID IT RUNS DOWN TO THE STREET. THE GRASS IS VERY SOGGY THEY HAVE CHECKED THE IRRIG SYSTEM AND THEY HAVE NO LEAKS THEY SAID THE  CITY HAS HAD LINE ISSUES AT THAT ADDRESS BEFORE.. PLEASE INVESTIGATE.. THANKS\n",
      "Leak is going to be a customer leak......I informed homeowner at 105 but leak is at 101 the gentleman said he would let his neighbor no\n",
      "\n",
      "\n",
      "Work Order 731375: \n",
      "Customer reported city leak at meter, confirmed by plumber\n",
      "Leak was a customer issue, it was a small leak on the customer irrigation system. Informed customer of the leak and shut off there backflow for her.\n",
      "\n",
      "\n",
      "Work Order 731423: \n",
      "CUST SAYS FRIDAY HE NOTICE LOW WATER PRESSURE INSIDE AND OUT SIDE HIS HOME. HE DOES NOT HAVE A WATER SOFTENER. \n",
      "Checked pressure at meter and it read 110/100. Attempted to check hose bib but was frozen. Suspect prv. Customer will be call plumber.\n",
      "\n",
      "\n",
      "Work Order 735476: \n",
      "PLEASE TURN ON WATER, HE WILL HAVE A PLUMBER OUT TO DIAGNOSE THE ISSUE\n",
      "There was a pinhole in the meter nipple.  Who ever shut the water off earlier today should have seen it.  I put a new one on and no more are leaks are visible.  Job is complete.  \n",
      "\n",
      "\n",
      "Work Order 735754: \n",
      "CUSTOMER REQUESTING PRESSURE CHECKED\n",
      "STARTS OUT STRONG INSIDE AND OUTSIDE AND AFTER A FEW MINUTES THE PRESSURE IS REDUCED BY ABOUT 60% \n",
      "REQUESTS CALL WHEN EN ROUTE\n",
      "PRESTON LIKE  512-633-9463\n",
      "customer had 100/2 at hose bib and 100/100 at meter they are going to contact plumber \n",
      "\n",
      "\n",
      "Work Order 764424: \n",
      "CUSTOMER CALLED SAYS THEY'RE EXPERIENCING LOW WATER PRESSURE....CUST @ 4104 PRESIDIO LN, LETICIA SMIRL, PH#904-571-2864\n",
      "Checked pressure at meter and got 98/100 psi and a static reading of 70 at outside hose bib, informed customer if they were experiencing a drop off of pressure it would be on the private side\n",
      "\n",
      "\n",
      "Work Order 774123: \n",
      "CUST MAY HAVE A SWEAGE BACKUP ISSUE, PLEASE CONTACT HIM UPON ARRIVAL, 512.931.9170\n",
      "No sewer backup, customer had standing water in back yard but there was no backup found in customer line.  Possible irrigation leak.\n",
      "\n",
      "\n",
      "Work Order 777844: \n",
      "CUST REPORT BROKEN PIPE IN NEIGHBORING LOT TO 3605 KEARNEY CV, SAYS IT IS A CITY PIPE, WATER GUSHING\n",
      "Ticket Number: 580755891\n",
      "Locates called in , crews in route 2 in crossover blown out\n",
      "replaced tee job complete\n",
      "\n",
      "\n",
      "Work Order 778105: \n",
      "CUSTOMER REPORTING VERY LOW WATER PRESSURE. WOULD LIKE CHECKED.\n",
      "Psi at meter was 89/85 customer issue bad prv\n",
      "\n",
      "\n",
      "Work Order 778144: \n",
      "FOR THE PAST WEEK THEY HAVE NOTICED A SULFUR SMELL. WOULD LIKE IT CHECK.\n",
      "Customer issue has water softener and 2.64 residual.has water softener company coming out Wednesday \n",
      "Customer issue has water softener and 2.64 residual.has water softener company coming out Wednesday \n",
      "\n",
      "\n",
      "Work Order 782642: \n",
      "REPORT METER BOX IS BROKE, REQUEST TO HAVE IT  REPLACED, KID FELL THROUGH AND GOT HURT\n",
      "Replaced broken meter box \n",
      "\n",
      "\n",
      "Work Order 786724: \n",
      "Customer reported that water was turned OFF on wrong date, was scheduled for 04/27/2018.\n",
      "Customer has emailed the confirmation email to me, in which I have confirmed the cut-off date to be 04/27/2018. Made 3 unsuccessful attempts at contacting Israel Esquilln. Mike Maldonado was informed and made the decision to page-out water services to turn water ON to the Customer. Will follow up with email to Customer Care & Mike Maldonado, with confirmation email attached.\n",
      "water has been turned back on.\n",
      "\n",
      "\n",
      "Work Order 787361: \n",
      "Trip hazard valve cover missing.\n",
      "CUSTOMER CARE. PLEASE CONTACT CUSTOMER AND NOTIFY THEM OF OUR FINDINGSASK THEM TO GET A HOLD OF THE HOME BUILDER TO REPAIR THE SIDE WALK. THE TRIP ISSUE DOES NOT BELONG TO  THE WATER DEPARTMENT. AFTER INVESTIGATION WE COULD NOT FIND ANY REASON FOR THE WATER DEPARTMENT TO CLAINM RESPONSIBILITY FOR THIS ISSUECUSTOMER CARE; IF YOU HAVE ANY OTHER QUESTION OR NEED FURTHER CLARIFICATION. PLEASE CONTACT RYAN SAULS IN THE WATER DEPARTMENT. (512) 563-8367\n",
      "\n",
      "\n",
      "Work Order 787375: \n",
      "ELECTRIC VAULT ON CORNER IS CRACKED AND CUST FEELS IT IS A SAFETY ISSUE, PLEASE REVIEW\n",
      "Not our service area.\n",
      "\n",
      "\n",
      "Work Order 789495: \n",
      "CUSTOMER REQUESTING WATER TESTED FOR ARCENIC\n",
      "HIS DR SAYS 90% OF TIME IT IS WATER BORNE\n",
      "HIS IS ELEVATED 5 X'S NORMAL\n",
      "GERALD WOLTRING  916-712-0688\n",
      "Waiting for sample bottles from LCRA, will collect and submit once received.\n",
      "went to customers house and took a sample out of the kitchen sink. then took the sample to LCRA labs.\n",
      "Just got the results from LCRA, and everything came back good. sent an email to customer and contacted him by phone.\n",
      "\n",
      "\n",
      "Work Order 789498: \n",
      "LOW WATER PRESSURE FOR A FEW WEEKS\n",
      "Checked pressure. 105/0.  Could not see if it was water softener cause customer was not home.  Possibly prv also. Informed customer.\n",
      "what was the static/residual pressure at the stop?\n",
      "105/85 at the stop\n",
      "\n",
      "\n",
      "Work Order 793149: \n",
      "Customer had the water off when I arrived,the leak is on his irrigation,water to the home is still on ,the irrigation is off\n",
      "\n",
      "\n",
      "Work Order 793235: \n",
      "MISSING WATER CAP IN STREET NEAR STOP SIGN AT \n",
      "INTERSECTION OF HAIGHT ST  & STANYON DR\n",
      "IRIS WHEATLEY  NO PHONE # - EMAIL REQUEST\n",
      "We put a mushroom cap on it and it fit perfectly.\n",
      "\n",
      "\n",
      "Work Order 797433: \n",
      "LOW WATER PRESSURE INSIDE/OUTSIDE CONTACT MELISSA 281-919-5833\n",
      "Customer issue PRV is not working they will have it replaced Pressure was 65 static 40 residual\n",
      "\n",
      "\n",
      "Work Order 799119: \n",
      "There was grease on the floats,that made the high level alarm go off,I blasted the wet well and cleaned the floats. Everything is running fine now,the wet well needs to be cleaned \n",
      "\n",
      "\n",
      "Work Order 800866: \n",
      "CUST REPORT NO WATER AT ALL AT 3825 AND 3829 BAINBRIDGE CV\n",
      "Water was on at 3829 no water at 3825. Pulled meter. No water coming from stop. There was a quarter turn valve at the curb that was closed. Turned on the valve house now has water. \n",
      "\n",
      "\n",
      "Work Order 800871: \n",
      "LOW WATER PRESSURE - GIFFORD @512-563-0708\n",
      "Checked the hydrant on the street and it had 110 psi. checked the house and the house had 72 psi then the secondary pressure dropped to 10 psi. pulled the meter checked the pressure and the pressure was 100 psi. the customer said he had no pressure at all in the house so I talked to him and told him the prv was bad. he is having a plumber come out and install a new water softner and he is going to have him fix the prv also.\n",
      "\n",
      "\n",
      "Work Order 807922: \n",
      "CUST INQ ON THE PRESSURE, SAYS IT IS LOW INSIDE AND OUT, PLEASE NOTE WHAT YOU MEASURE THIS AT\n",
      "The static/residual pressure for this house was 50/20. I talked to the customer on the phone and he said that he thought his PRV was bad, and this confirmed it, he said he will call a plumber.\n",
      "\n",
      "\n",
      "Work Order 809787: \n",
      "CUST REPORT VERY LOW PRESSURE INSIDE AND OUT\n",
      "Checked pressure at the meter was coming in around 86 psi. Checked his outside hose bib and discovered that he was only getting 40 psi. Found that customer had a prv and informed him that it was probably a prv failure.\n",
      "\n",
      "\n",
      "Work Order 813041: \n",
      "LOW WATER PRESSURE\n",
      "Tested the pressure, it was 28/10.  By passed water softener still same pressure.  Informed customer that it was their prv and to call a plumber.\n",
      "\n",
      "\n",
      "Work Order 816992: \n",
      "My water pressure has been very low in the last few days and my automatic sprinklers are trickling\n",
      "There is no issue the customer just had his prv replaced and pressure is fine. He just emailed the city to see if anyone in the area has had low pressure around him. \n",
      "\n",
      "\n",
      "Work Order 819681: \n",
      "LOW WATER PRESSURE FOR A COUPLE OF WEEKS - KEITH AT 512-260-5114\n",
      "Checked hydrant on city main pressure was 102. Checked customer spigot on the side of garage and got 52/42. Confirmed that it wasn’t the water softener so customer is having his prv replaced.\n",
      "\n",
      "\n",
      "Work Order 933041: \n",
      "Customer needs meter box replaced. box broken. \n",
      "Replaced meter box.\n",
      "\n",
      "\n",
      "Work Order 952006: \n",
      "LOW WATER PRESSURE \n",
      "REQUESTING CHECKED AT METER\n",
      "CRYSTAL STEVENSON  512-796-1128 \n",
      "Talked to customer and she informed us that a technician came out last week and informed her that her pressure 55/50. Also that she changed out her shower heads to the bath and it increased the pressure.\n",
      "\n",
      "\n",
      "Work Order 997483: \n",
      "LOW WATER PRESSURE THROUGHOUT THE HOUSE AT ALL TIME - GLEN @ 512-989-3231\n",
      "Pressure to the meter showed 100psi and at customers hose bib showed 50/10psi. Informed him that his prv was probably bad.\n"
     ]
    }
   ],
   "source": [
    "print('Address Work Orders\\n')\n",
    "for index, row in mf_addr_comm.iterrows():\n",
    "    add_code = row['ADD_CODE']\n",
    "    text = row['ADD_TEXT']\n",
    "    \n",
    "    print(f'Work Order {add_code}: ')\n",
    "    print(text)\n",
    "    print('\\n')"
   ],
   "metadata": {
    "collapsed": false,
    "ExecuteTime": {
     "end_time": "2023-09-22T17:38:35.890265Z",
     "start_time": "2023-09-22T17:38:35.791202400Z"
    }
   }
  },
  {
   "cell_type": "code",
   "execution_count": 362,
   "outputs": [
    {
     "name": "stdout",
     "output_type": "stream",
     "text": [
      "Premises Work Orders\n",
      "\n",
      "Work Order 1338745: \n",
      "located in the City of Round Rock \n",
      "Customer Dominick Broussard called stating that there is a lot to the right of his house when facing his home that belongs to the city and needs to be landscaped. He mentioned there is brush growing along the side of his fence that is very thick. Contact# 512.576.6610 **** Raymond\n",
      "\n",
      "\n",
      "Work Order 1401582: \n",
      "Crew investigating.  In Wilco service area but crew repaired lid. \n",
      "Drainage lid right in front of property if off. Customer is concerned because kids are around.  Contact Clay at 512-994-5844 -Karina G\n",
      "\n",
      "\n",
      "Work Order 1575438: \n",
      "Issue resolved before I arrived apparently, took a pressure reading and got 50/48. Customer explained issues during the day and I explained fluctuations were probably due to high usage during the day and if his pressure dropped out again during the day to try and get us out again so we could narrow down the problem.\n",
      "Shakun @ 518-410-2327\n",
      "\n",
      "\n",
      "Work Order 1697655: \n",
      "recieved a page to turn water on on friday. crew had already been out friday aftrnoon to turn water off due to a leak on the customer side. was leaking from the customer shutoff valve. recieved another page to turn water off a few hours later. turned water off for repairs. recieved anopther page to turn water on this morning. a little after i arrived the plumber was on sight. waited for the repair to be done to turn water back on.\n",
      "Rajan Ashok @ 515-451-4391\n",
      "\n",
      "\n",
      "Work Order 1705146: \n",
      "checked the pressure at the main,it was 100psi, pulled the meter and checked pressure at the curb stop ,it was 90psi. The pressure at the hose bib was 20psi. The customer had a water softener installed about a month ago. I showed them where the prv was and while I was there with my gauge they adjusted the prv and was happy with the outcome \n",
      "\n",
      "\n",
      "Work Order 1834271: \n",
      "leak on customer irraigtion had it shut off at meter . tod them to contact a plumber.\n",
      "3921 Stanyan Dr. - Water LeakKeisha Towles  254-432-2875Caller reported leak at meter in front yard. Unable to stop water flowing.\n",
      "\n",
      "\n",
      "Work Order 1885056: \n",
      "Customer prv was leaking informed customer and he will get plumber out to make repair.\n",
      "water leak  Bob 512-415-7455\n",
      "\n",
      "\n",
      "Work Order 1907155: \n",
      "Customer states we have been out there multiple times. \n",
      "Need to replace this 24\" Manhole insert with a new one that has a new seal. Add an odor block if needed.\n",
      "scraped the manhole ring with a wire brush, a new insert was installed with a gasket as well. And a Oder block was put in.\n",
      "The man ho,e needs an insert that will seal the insert in there is old and does not have the foam seal around the edge. Before the new insert is put in the ring needs to be cleaned wit a wire brush to get all the rust off. Pictures In documents. \n",
      "leslie Keppler @ 512-931-9162\n",
      "\n",
      "\n",
      "Work Order 2029748: \n",
      "upon arrival customer stated that water has been restored\n",
      "customer states they have no Water \n",
      "\n",
      "\n",
      "Work Order 2092065: \n",
      "Smoothed out the dirt and laid 27 pieces of sod to complete the job.\n",
      "No address??\n",
      "dirt work and 30 pieces of sod\n",
      "\n",
      "\n",
      "Work Order 2370713: \n",
      "upon arrival house bib had 60 psi. also the meter was spinning. mad contact with the customer and let him know of my findings and he will be getting with a plumber to locate the leak. customer issue. confirmed with control center\n",
      "Customer says low water pressure since Saturday.\n",
      "Tom Brick 512-656-3329\n",
      "\n",
      "\n",
      "Work Order 2465438: \n",
      "50psi on outside faucet. Customer stated certain showers and faucets had low pressure, told them to call plumber.\n",
      "Lyn 512-633-2216 called stating that there is no water in the house\n",
      "\n",
      "\n",
      "Work Order 2514919: \n",
      "Customer called back and canceled \n",
      "Michael 951-225-5442 called about not having water inside and out of the house\n",
      "\n",
      "\n",
      "Work Order 2562360: \n",
      "called customer to inform them that i would be on my way after a repair that need to be done. made repair and when i called back customer had gotten the water back. she said there was some construction done on her street. appears they may have turned off her water and then turned it back on. confirmed with control center\n",
      "customer calls to report low water pressure Mandy [972-693-8400]\n",
      "called customer to inform them that i would be on my way after a repair that need to be done. made repair and when i called back customer had gotten the water back. she said there was some construction done on her street. appears they may have turned off her water and then turned it back on. confirmed with control center\n",
      "\n",
      "\n",
      "Work Order 2569280: \n",
      "Upon arrival, I spoke with the customer and she told me that if she flushed a toilet, the pressure on every other water source would drop. So I checked the pressure at the faucet by the garage, it was 63psi. With the faucet still on, I asked her to turn on the faucet at the back of the house. The pressure dropped to 50psi. I then pulled the meter and tested the pressure from there, it was 65/60psi. I show the customer what we had and suggested that they call a plumber. Called control and told them what my findings was.\n",
      "add water loss \n",
      "Pressure issues within their home \n",
      "Vivek Jain \n",
      "+1.980.254.3258\n",
      "\n",
      "\n",
      "Work Order 2578787: \n",
      "contactor pulled off angle stop. pinched line and installed new angle stop. no meter to be found. not sure if one was there. job complete\n",
      "\n",
      "\n",
      "Work Order 2599708: \n",
      "Water was turned off at the meter turned the stop back on \n",
      "Address was at 240 Fort Cobb Way\n",
      "customer called to report no water Customer contact : 737-900-9646\n",
      "\n",
      "\n",
      "Work Order 2608774: \n",
      "It was actually a low pressure call, the customer states that there was low pressure inside the house. I took the pressure at the hose bib and got 72 psi. So I pulled the meter and got 86/83 psi. I told the customer to have a plumber look at it\n",
      "add water loss\n",
      "3 gallons \n",
      "add water loss\n",
      " LeMetrios – 843-327-0380 states that she is having pressure and coloration issues since the city changed her meter\n",
      "\n",
      "\n",
      "Work Order 2609657: \n",
      "dist pressure 60 psipressure at the stop 60pressure at the spicket 50/42customer is experiencing low pressure in the kitchenadvised customer to have his prv examined by a professional.\n",
      "add water loss\n",
      "add water loss\n",
      "add water loss\n",
      "CUSTOMER CALLED IN TO REPORT NO WATER / LOW WATER PRESSURE \n",
      "CUSTOMER\n",
      "  CONTACT : 512-669-6033\n",
      "\n",
      "\n",
      "Work Order 2611573: \n",
      "Customer had water shut off when I arrived\n",
      "\n",
      "\n",
      "Work Order 2618799: \n",
      "customer thinks he may have a leak - says he's shut off all water but meter dial is moving...he's not sure if its on city side or his side - would like us to double check...\n",
      "\n",
      "Caller: George\n",
      "Party Mobile\n",
      "(408) 410-1068\n",
      "\n",
      "Israel x8499\n",
      "There was no leak found, customer had pressure issues and told him to check his prv or get his water softener serviced, has not had it serviced since installation. \n",
      "\n",
      "\n",
      "Work Order 2620203: \n",
      "Talked to customer and he understood\n",
      "Customer experiencing low water pressure for about 1 wk. \n",
      "VENKATA PHANI CHODISETTI  512-484-6349\n",
      "Amber 2546\n",
      "Checked customers house side faucet they are getting 70/65psi. Customer has a water softener and I recommended he got it serviced.\n",
      "\n",
      "\n",
      "Work Order 2620696: \n",
      "upon arrival I made contact with the customer.  Customer was unaware of where their customer cutoff valve was since it was covered in grass.  Once located they shut the water off on their valve in order to fix a leak they have in their house.\n",
      "\n",
      "\n",
      "Work Order 2624173: \n",
      "customer is reporting low water pressure \n",
      "upon arrival made contact with customer over the phone. they are having little to no water in the kitchen sink. they have water softener but it has not been serviced since they bought the house. checked hose bib and got 44/42 psi. checked neighbor's hose bib and got 44/40 psi. informed customer of my findings. they will have a water softener tech out for servicing. confirmed with control center.\n",
      "upon arrival made contact with customer over the phone. they are having little to no water in the kitchen sink. they have water softener but it has not been serviced since they bought the house. checked hose bib and got 44/42 psi. checked neighbor's hose bib and got 44/40 psi. informed customer of my findings. they will have a water softener tech out for servicing. confirmed with control center.\n",
      "\n",
      "\n",
      "Work Order 2624495: \n",
      "checked outside faucet on house and got 70psi/65psi. talk to customer and found his shut-off and prv. explained to him he would have to get a plumber to service his prv. customer has not replaced prv since living there for over 3 years. \n",
      "customer says he's getting low pressure - would like us to check if it's his side or city side\n",
      "\n",
      "Mr. Sigler \n",
      "512-688-9525\n",
      "------------------\n",
      "CSR/Israel \n",
      "Teams Work#512-333-0619\n",
      "\n",
      "\n",
      "Work Order 2624861: \n",
      "Customer is experiencing low water pressure.  Moved into home a week ago and has been low since.  \n",
      "Pragati Banda  856-298-0591\n",
      "Amber 2546\n",
      "checked pressure at outside faucet and we got 50psi/48psi, we also checked neighbors house and got same pressures. talk to customer and told them to get prv or water softener checked.\n",
      "\n",
      "\n",
      "Work Order 2628670: \n",
      "customer stated his hot water heater was busted inside the home and he would contact a plumber. all city side utilities are on , no actions were taking.\n",
      "\n",
      "\n",
      "Work Order 2639286: \n",
      "Dead squirrel in the middle of the road in front of my home   \n",
      "Kaylea (512) 731-0007\n",
      "Jira 76275 Jackie D\n",
      "squirrel has been removed .\n"
     ]
    }
   ],
   "source": [
    "print('Premises Work Orders\\n')\n",
    "\n",
    "for index, row in result.iterrows():\n",
    "    add_code = row['ADD_CODE']\n",
    "    text = row['ADD_TEXT']\n",
    "    \n",
    "    print (f'Work Order {add_code}: ')\n",
    "    print (text)\n",
    "    print('\\n')"
   ],
   "metadata": {
    "collapsed": false,
    "ExecuteTime": {
     "end_time": "2023-09-22T17:38:37.112142600Z",
     "start_time": "2023-09-22T17:38:37.054140600Z"
    }
   }
  },
  {
   "cell_type": "code",
   "execution_count": 363,
   "outputs": [
    {
     "name": "stdout",
     "output_type": "stream",
     "text": [
      "2023-09-22 12:38:37,739 INFO sqlalchemy.engine.Engine \n",
      "    SELECT ADD_CODE,\n",
      "    ADD_TEXT\n",
      "    FROM R5ADDETAILS AS dtl\n",
      "    JOIN R5EVENTS evt\n",
      "        ON evt.EVT_CODE = dtl.ADD_CODE\n",
      "    WHERE ADD_CODE IN (?, ?, ?, ?, ?, ?, ?, ?, ?, ?, ?, ?, ?, ?, ?, ?, ?, ?, ?, ?, ?, ?, ?, ?, ?, ?, ?, ?, ?, ?, ?, ?, ?, ?, ?, ?, ?, ?, ?, ?, ?, ?, ?, ?, ?, ?, ?, ?, ?, ?, ?, ?, ?, ?, ?, ?, ?, ?, ?, ?, ?, ?, ?, ?, ?, ?, ?, ?, ?, ?, ?, ?, ?, ?, ?, ?, ?, ?, ?, ?, ?, ?, ?, ?, ?, ?, ?, ?, ?, ?, ?, ?, ?, ?, ?, ?, ?, ?, ?, ?, ?, ?, ?, ?, ?, ?, ?, ?, ?, ?, ?, ?, ?, ?, ?, ?, ?, ?, ?, ?, ?, ?, ?, ?, ?, ?, ?, ?, ?, ?, ?, ?, ?, ?, ?, ?, ?, ?, ?, ?, ?, ?, ?, ?, ?, ?, ?, ?, ?, ?, ?, ?, ?, ?, ?, ?, ?, ?, ?, ?, ?, ?, ?, ?, ?, ?, ?, ?, ?, ?, ?, ?, ?, ?, ?, ?, ?, ?, ?, ?, ?, ?, ?, ?, ?, ?, ?, ?, ?, ?, ?, ?, ?, ?, ?, ?, ?, ?, ?, ?, ?, ?, ?, ?, ?, ?, ?, ?, ?, ?, ?, ?, ?, ?, ?, ?, ?, ?, ?, ?, ?, ?, ?, ?, ?, ?, ?, ?, ?, ?, ?, ?, ?, ?, ?, ?, ?, ?, ?, ?, ?, ?, ?, ?, ?, ?, ?, ?, ?, ?, ?, ?, ?, ?, ?, ?, ?, ?, ?, ?, ?, ?, ?)\n",
      "\n",
      "2023-09-22 12:38:37,739 INFO sqlalchemy.engine.Engine [raw sql] ('162802', '164167', '164225', '164880', '165056', '165915', '165989', '166238', '173412', '173816', '173851', '174130', '174194', '174356', '174414', '176457', '176704', '176841', '212928', '222622', '229066', '230196', '236777', '236799', '238368', '278519', '278537', '278829', '281449', '305658', '311455', '331292', '349375', '349519', '352521', '353834', '366599', '366601', '373553', '373554', '393755', '393755', '400324', '411674', '433551', '439790', '450887', '460427', '467196', '467196', '468749', '470904', '473960', '489212', '497797', '497800', '505109', '506477', '507494', '514494', '514627', '519822', '522544', '522552', '522640', '531820', '540305', '540331', '544891', '547378', '553265', '553267', '560165', '576499', '624950', '626861', '633150', '634867', '636913', '644090', '645482', '645566', '645566', '647229', '647711', '648857', '656255', '656476', '657573', '657799', '657817', '657944', '659667', '659740', '659818', '661503', '661527', '663535', '682935', '685338', '685550', '694644', '697765', '697813', '701615', '728487', '728748', '730412', '730414', '735812', '743948', '744019', '759257', '759258', '762493', '768099', '771556', '771557', '772683', '793147', '793148', '799111', '799156', '799204', '807811', '807816', '807978', '809646', '809646', '811676', '811698', '815356', '819493', '882513', '1284471', '1295485', '1298834', '1336227', '1336306', '1344967', '1344973', '1354960', '1381883', '1385948', '1394027', '1394086', '1408033', '1408059', '1408062', '1453712', '1493816', '1494300', '1508503', '1514035', '1514599', '1517652', '1519316', '1521787', '1535101', '1546460', '1548160', '1548187', '1548187', '1549645', '1552755', '1566490', '1566616', '1566616', '1566687', '1572165', '1576959', '1577171', '1582185', '1586156', '1617186', '1632425', '1673396', '1676363', '1681904', '1681923', '1681923', '1681940', '1682633', '1682830', '1683126', '1683126', '1683134', '1698081', '1698975', '1700572', '1700572', '1712180', '1764603', '1792045', '1797765', '1813964', '1835293', '1838445', '1873479', '1873479', '1879718', '1886586', '1900394', '1911622', '1915921', '1918158', '1924087', '1932180', '1937176', '1969080', '1995433', '2001381', '2001622', '2024172', '2042953', '2068053', '2068103', '2072043', '2080106', '2127140', '2165195', '2165404', '2170496', '2176532', '2197145', '2209951', '2214302', '2267370', '2295896', '2377268', '2389438', '2442097', '2448081', '2464688', '2491135', '2491154', '2520667', '2523615', '2523619', '2524395', '2524401', '2526993', '2555763', '2569429', '2584932', '2607909', '2609754', '2609758', '2609760', '2613915', '2616134', '2616135', '2616139', '2617573', '2618812', '2620197', '2626996', '2633761', '2633768', '2634102', '2634118', '2641051', '2651217')\n"
     ]
    }
   ],
   "source": [
    "evt_code_list = mayfield_ls.EVT_CODE.tolist()\n",
    "\n",
    "params = tuple(evt_code_list)\n",
    "\n",
    "mf_ls_query = '''\n",
    "    SELECT ADD_CODE,\n",
    "    ADD_TEXT\n",
    "    FROM R5ADDETAILS AS dtl\n",
    "    JOIN R5EVENTS evt\n",
    "        ON evt.EVT_CODE = dtl.ADD_CODE\n",
    "    WHERE ADD_CODE IN ({})\n",
    "'''.format(', '.join(['?'] * len(params)))\n",
    "\n",
    "mf_ls_comm = pd.read_sql_query(\n",
    "    mf_ls_query,\n",
    "    eam_engine,\n",
    "    params=params\n",
    ")"
   ],
   "metadata": {
    "collapsed": false,
    "ExecuteTime": {
     "end_time": "2023-09-22T17:38:38.436261500Z",
     "start_time": "2023-09-22T17:38:37.739779500Z"
    }
   }
  },
  {
   "cell_type": "code",
   "execution_count": 365,
   "outputs": [
    {
     "name": "stdout",
     "output_type": "stream",
     "text": [
      "Lift Station Work Orders\n",
      "\n",
      "Work Order 1284471: \n",
      "Need to order a new base for high lv alarm . Station is working and sends alarm but has no audible or light.\n",
      "Relay base will be ordered today\n",
      "The audible alarm has a short in it and trips the breaker when high level float is tipped. I have disconnected the audible alarm and tested station. We received alarm in control center and have a visual light at station.\n",
      "\n",
      "\n",
      "Work Order 1295485: \n",
      "Pumps #1, 2 run simultaneously instead of alternating\n",
      "The lead float was bad, so when the level reached the lag float both pumps would run simultaneously. We replaced the lead float, it is working normally now.\n",
      "\n",
      "\n",
      "Work Order 1298834: \n",
      "Kate Cubillan3949 Vallarta LnRound Rock, Tx 78681512-413-1422Caller complains the outdoor light at the LS was left on and it shines into her home.\n",
      "While checking the station on 9/18 the crew turned the light off\n",
      "\n",
      "\n",
      "Work Order 1336227: \n",
      "Opened panel and checked all fuses and relays, ran amps on both pumps and those read normal, checked all floats and float panel and all was normal, found water dripping in from high level light and dripping inside over all relays and fuses and inside control panel, contacted pumps and motors to seal light and contacted scada for low level alarm\n",
      "Problem fix d\n",
      "Problem fixed. Was from water leaking threw light\n",
      "\n",
      "\n",
      "Work Order 1336306: \n",
      "Overtemp or Seal Fail alarm\n",
      "the pump had an over temp light on due to water getting in from the top of panel where the light is.......need pumps and motors to go out and fix......I placed a trash bag over top the panel so water won’t get in and the light cleared \n",
      "Put plumbers putty and rtv around light should keep water out\n",
      "\n",
      "\n",
      "Work Order 1344967: \n",
      "Communication has been out since 09:13 on 11/02/18, was originally attributed to thermal inversion by SCADA, was ignored after that\n",
      "I was able to restore communication by resetting the plc and had to push the cable that connects the antenna to the plc back into place. I believe that the cable needs to be replaced. I Spoke with Damian from scada and informed him of the damage. They will send someone out on Monday to repair.\n",
      "Damian created another work order for the work and the job is complete.\n",
      "\n",
      "\n",
      "Work Order 1344973: \n",
      "Pump #2 shows no starts since midnight vs 15 starts for Pump #1\n",
      "Had to reset the over load because pump wouldn’t come on in hand or auto when I reset it it work fine didn’t have an amp meter to test to see what the amps are. Wet is very dirty will need to be cleaned this week. \n",
      "\n",
      "\n",
      "Work Order 1354960: \n",
      "P1  24/1.1hrs, P2 4/.1hrs\n",
      "NEED TO VAC OUT WET WELL. Tons of rags tangled around floats.\n",
      "This is a repeat work order.  This work is scheduled to be done today.\n",
      "\n",
      "\n",
      "Work Order 1381883: \n",
      "High level float fell off of hook and was caught up n all the debri from wet well which wasn't allowing pumps to alternate, cleaned off float and made sure other floats were working properly, station was working in normal operating mode when we left. \n",
      "\n",
      "\n",
      "Work Order 1385948: \n",
      "Pumps not alternating at station\n",
      "The lag float was lower then the lead. reset the floats. station is working correctly now.\n",
      "\n",
      "\n",
      "Work Order 1394027: \n",
      "Will need to contact the generator tech to come and check the generator to see why the vid trips when trying to run one of the pumps in the hand position.\n",
      "Meet the generator tech\n",
      "Is the work complete? Need to add comments \n",
      "Met with the SCADA dept. we switched over to generator power to test the v f d on 1&2 they both tripped. We then switched the v f d Passover to the off mode, once again we test ran the pumps this time they ran off the v f d, SCADA then proceeded to investigate the contacts on each starter they seemed to not be operating 100%. We will have to contact the hud personnel so that we can have an outside source come out to see if they find the same issue as us.\n",
      "Met with Jason w/ t. Morales to troubleshoot the issue that is occurring when the v f d trips when the switch is on the bypass. The cause is the phase monitor Jason will be sending Ernest a quote to replace the equipment.\n",
      "Jason w/ t. Morales replaced the phase monitor, everything works now, it still chatters when it engages, Jason said that was because the generator is too small. But everything will still work \n",
      "\n",
      "\n",
      "Work Order 1394086: \n",
      "Mayfield Ranch LS - High Wet Well.\n",
      "When I got to the station the wet well had drop down under the high level float ,I reset the high level alarm,everything was fine.\n",
      "\n",
      "\n",
      "Work Order 1408033: \n",
      "Mayfield Ranch LS - High Wet Well.\n",
      "Seems to be a ghost alarm the high wet well is cleared by the time I get to station\n",
      "\n",
      "\n",
      "Work Order 1408059: \n",
      "Mayfield Ranch LS - High Wet Well.\n",
      "Seems to be a ghost alarm by the time I get to the call the high wet well is gone \n",
      "\n",
      "\n",
      "Work Order 1408062: \n",
      "High wet well\n",
      "Hvae been called out numerous times for high wet well. We ended up putting a bucket of red hot to break up the the grease because there was so much grease and rags. Everything seem to be working the way it was suppose to be  but are gonna have pumps and motors come vac it out Tuesday. I sat and watched the level come up to the high level float and both pumps kicked on and about 5min it pumped it back down. Not sure if grease and rags are messing with floats\n",
      "Crew cleaned wet well with Vactor.\n",
      "\n",
      "\n",
      "Work Order 1453712: \n",
      "JC recommends the following steps\n",
      "to be performed to inspect the District’s Force Main for leaks in compliance\n",
      "with TCEQ testing requirements. \n",
      " \n",
      "1.       City\n",
      "of Georgetown Utility System Operations Staff (GUS) is to meet onsite with JC and\n",
      "split into three groups with at least two members to each group, if available.\n",
      "Group 1 is to observe the lift station in operation at the lift station site.\n",
      "Group 2 is to observe the air release valve location. Group 3 is to observe the\n",
      "discharge point into the manhole. The groups must communicate via cell phone or\n",
      "walkie talkie throughout the duration of the inspection. GUS will be\n",
      "requested to provide lift station access and operation for Group 1, ARV\n",
      "vault access for Group 2, and manhole lid removal and temporary traffic control\n",
      "for Group 3. \n",
      " \n",
      "2.       All\n",
      "groups observe their respective facilities during the lift stations normal run\n",
      "cycle time. \n",
      " \n",
      "3.       Following\n",
      "an observed lift station cycle, Group 1 is to shut down the lift station and\n",
      "turn off the pumps to allow the wet well to fill to the high-level float or to\n",
      "the invert, while monitoring for changes in pressure gauge static conditions in\n",
      "the force main. Group 2 is to simultaneously monitor the air release valve,\n",
      "looking for signs of any leak and listening for sounds of air (vacuum) entering\n",
      "the line.  Group 3 is to monitor manhole, observing any abnormal flows or\n",
      "reverberations from the force main discharge into the manhole. Logs of\n",
      "observations vs time shall be made, noting anything that indicates the force main\n",
      "vacating during the “off” cycle.\n",
      " \n",
      "4.        Each\n",
      "Group is to note any changes in pressure or vacuum relief, or note that no\n",
      "audible and visible changes in pressure were observed. All Groups shall\n",
      "rendezvous via telephone of hand held radio prior to enabling pumps.  \n",
      " \n",
      "5.       Once\n",
      "the wet well volume reaches the predetermined level, Group 1 is to enable the\n",
      "pumps.  As the wet well is vacated, Group 1 is observe the wet well walls\n",
      "for signs of coating failure and seeps. Group 2 is to observe the air\n",
      "release/vacuum valve location for release of air pockets (indicating a large\n",
      "amount of air entered the system). Group 3 is to observe the force main\n",
      "discharge, noting any large air pockets discharged entering during the run\n",
      "cycle. \n",
      " \n",
      "6.       Group\n",
      "1 is to note and photograph the conditions of the wet well, Group 2 is to photo\n",
      "and document access to the ARV within the vault, including the isolation valve,\n",
      "and Group 3 is to photo the manhole conditions, including looking for any signs\n",
      "of advanced corrosion. \n",
      " \n",
      "7.       Each\n",
      "Group is to document and discuss any necessary actions needed for further\n",
      "investigation, or repair. JC will summarize the exercise and report to the\n",
      "District and the TCEQ.    \n",
      "All tests went well and all is good\n",
      "\n",
      "\n",
      "Work Order 1493816: \n",
      "Customer is reporting a substation alarm going off on the corner of Mayfield ranch and artirio ranch. rg\n",
      "We have lost 3 phase power to the liftstation. At the moment it is running off the onsite generator. Talk to PEC about why we dont have power. JC Communications hit an underground electrical service earlier in the day. PEC was only able to reroute residential power. Supervisor from PEC told me that a crew would be out in the morning to try to repair and restore service to the liftstation. He also said that he would call me with more information tomorrow about what happened.\n",
      "Talked to Tim for PEC (512) 360-4289 and was told to bill PEC and that they would turn around and bill JC communications for the cost. The contractor from JC communications name is Mike (512)7485829\n",
      "PEC has finished the reapir. Power was returned to the station. Confirmed that all phases are working and that everything at the station is running properly\n",
      "Throughout the day we have used pumped roughly 150 gallons of diesel to keep the generator topped off\n",
      "\n",
      "\n",
      "Work Order 1494300: \n",
      "Power has been returned to the station and everything is working properly\n",
      "\n",
      "\n",
      "Work Order 1508503: \n",
      "vacuumed out wet well\n",
      "\n",
      "\n",
      "Work Order 1514035: \n",
      "As of 05:30Pump #1 had 6 starts for 0.3 hrsPump #2 had 0 starts for 0.0 hrsPrevious dayPump #1 had 28 starts for 1.1 hrsPump #2 had 7 starts for 0.3 hrs\n",
      "Pump 2 was tripped showing undervoltage. Reset and tested. Pump ran normally\n",
      "\n",
      "\n",
      "Work Order 1514599: \n",
      "As of 07:30Pump #1 had 9 starts for 0.4 hrsPump #2 had 0 starts for 0.0 hrsPrevious dayPump #1 had 37 starts for 1.4 hrsPump #2 had 5 starts for 0.2 hrs\n",
      "VFD fault to ground reset checks out fine control center would like pumps and motor to go out and check sense  it did this last week as well \n",
      "Transducer and floats were working against each other and we raised the off float so it doesn’t throw a low level lock out \n",
      "\n",
      "\n",
      "Work Order 1517652: \n",
      "As of 07:30Pump #1 had 12 starts for 0.4 hrsPump #2 had 0 starts for 0.0 hrsPrevious dayPump #1 had 37 starts for 1.1 hrsPump #2 had 15 starts for 0.3 hrs\n",
      "Pumps is going to check out this VFD see why it is tripping \n",
      "I reset the VFD ,waited for the pump to turn off and turned it off per Jeff D. Until pumps and motors can look at it\n",
      "replaced fan inside of pannel\n",
      "\n",
      "\n",
      "Work Order 1519316: \n",
      "Pump #2 has not run in at least two days.\n",
      "Vfd is showing earth fault so we turned off pump for now until pumps and motor can take a look. Also the lead is short cycling and turn on before it's set point to pump down.\n",
      "Per tomechek this pump will need to be replaced. Will need to get approval from Highlands \n",
      "Working on finding a replacement pump for Highlands to approve\n",
      "\n",
      "\n",
      "Work Order 1521787: \n",
      "HOA switches where in auto, reset scada.\n",
      "\n",
      "\n",
      "Work Order 1535101: \n",
      "As of 19:00Pump #1 had 19 starts for 1.0 hrsPump #2 had 16 starts for 3.6 hrsPrevious dayPump #1 had 24 starts for 1.2 hrsPump #2 had 26 starts for 5.0 hrs\n",
      "De-rag #2 and pump started operating properly, and amps were 11.5. \n",
      "\n",
      "\n",
      "Work Order 1546460: \n",
      "Comm fail was caused by escalera losing power.  PEC had an outage from dB woods to Ronald Reagan.  Station was operating normally.\n",
      "\n",
      "\n",
      "Work Order 1548160: \n",
      "Transducer was covered in grease, was not triggering the off set point.  After cleaning the transducer and testing all floats, transducer would not read correctly.  Station is in float mode.  Had to blast wet well to get floats positioned.  Needs wet well cleaning and transducer needs to be inspected.\n",
      "Transducer was ordered and will be here on Wednesday the 10th.  SCADA will install and program.\n",
      "Transducer installed by scads\n",
      "\n",
      "\n",
      "Work Order 1548187: \n",
      "Cleaned wet well, floats were sitting on top of grease.  Will still need to have transducer checked by SCADA \n",
      "Tested the level pressure transducer and found it to be bad. Ordered new transducer and it will be here next week on Wednesday.\n",
      "New transducer installed and working correctly\n",
      "\n",
      "\n",
      "Work Order 1549645: \n",
      "pump 1 - 7 starts- .3 hourspump 2 - 16 starts- 0.6 hours\n",
      "Wetwell needs cleaned, floats had grease and rags on them \n",
      "Wet well clean \n",
      "\n",
      "\n",
      "Work Order 1552755: \n",
      "Alarm had cleared by the time I got there\n",
      "\n",
      "\n",
      "Work Order 1566490: \n",
      "No alarms at station and pump cycled fine. \n",
      "\n",
      "\n",
      "Work Order 1566616: \n",
      "Com is lost because of two things.1 the antenna is a little to low and needs to be raised. 2 the RTU panel get to hot being in direct sun light during hot summer days. I was able to cool box down and get com back. There is a small thermoelectric ac on side of panel that is not working, if we replace the ac unit it should be able to cool the panel and stop all of these unnecessary com fails. The ac unit is a EIC Solutions model AAC-140B-4XT serial #28457 voltage 120 vac amp 2. There is a website for it that I have asked for a price quote. Www.EICSolutions.com phone # 215-443-5190.\n",
      "Ac unit has been ordered will be replaced when it comes in.\n",
      "AC unit has been ordered. \n",
      "Unit has been installed. \n",
      "\n",
      "\n",
      "Work Order 1566687: \n",
      "There seems to be a communication error. The pump is auto and working properly  scada is going to come out and take a look at the radio and everything on their end\n",
      "\n",
      "\n",
      "Work Order 1572165: \n",
      "Went and checked the station and couldn’t find anything so I call Damien and he said there’s nothing they can do it because of the heat. I let Chis Graham know and he said to let control center know so they can Paige someone out to check the station\n",
      "this issue has been happening during the summer months where the heat causes this issue. I believe that we have already tried to get approval from Parkside at Mayfield to have an awning installed but they denied it.The station runs fine but the heat effects the comm. \n",
      "Parts on order per Jeff Deleon to get the fan replaced \n",
      "\n",
      "\n",
      "Work Order 1576959: \n",
      "Opened the scada panel and pump control panel and called control center to see what they can see. Control interigated as we turned the hoa switch and control said it had cleared the com fail. Been having issues with the heat causing comm fail.\n",
      "\n",
      "\n",
      "Work Order 1577171: \n",
      "Per Justin there is a build up of grease. Need to take a bucket of red hot and use the water to clean and pump down the station.\n",
      "Didn't bring enough red hot to do to the job will need to come back out and bring more.\n",
      "Dumped another 2 full buckets of red hot. Broke up a lot of the grease but still has a lot of rags and needs to be vac out. Spoke with Chris about it\n",
      "this wet well is on a cleaning schedule and will be cleaned with the vac truck on the PM\n",
      "\n",
      "\n",
      "Work Order 1582185: \n",
      "Transducer was sitting on top of grease and rags and was giving a false reading, stayed and broke grease up to let transducer drop to the bottom, stayed and made sure pump cycled \n",
      "\n",
      "\n",
      "Work Order 1586156: \n",
      "Station was in com failure,resented rtu and station was back to normal\n",
      "\n",
      "\n",
      "Work Order 1617186: \n",
      "Tripped a breaker in the scada panel \n",
      "\n",
      "\n",
      "Work Order 162802: \n",
      "Need site checked out Per 306 10 Oct 2014 06:54:49 PMCase CompletionFacility Repairs completed:All cases were ....Facility RepairsChris PoussonWork has been completedFacility Repairs completed:All cases were closed in ACR and a new WO was opened in INFOR EAM. 10 Oct 2014 06:54:49 PMAction Code (Case)Close: CloseFacility RepairsChris PoussonClose: CloseCase - Close 06 Oct 2014 08:53:12 AMCase AssignmentCase ID: 80559 has been assigned to Supervis....Facility RepairsClarence GuidrySystemCase ID: 80559 has been assigned to Supervisor IV (Ochoa, Pete). 06 Oct 2014 08:53:12 AMChange Case TypeCase type changed from PS Water to Facility ....Facility RepairsChris PoussonOtherCase type changed from PS Water to Facility Repairsper oncall crew need to look station over. Crew does not believe it is operating properly. 06 Oct 2014 08:50:41 AMCase AssignmentCase ID: 80559 has been assigned to Operatio....PS WaterChris PoussonSystemCase ID: 80559 has been assigned to Operations Specialist II (Pousson, Chris). 05 Oct 2014 11:27:01 PMCase NotificationCase was notified to Crew Leader I(Hamilton,....PS WaterClarence GuidrySystemCase was notified to Crew Leader I(Hamilton, Charles), Operations Specialist(Young, Adam), Operations Specialist II(Pousson, Chris). 05 Oct 2014 11:27:01 PMCase SubmissionCase was submitted by Clarence Guidry.PS WaterClarence GuidrySystemCase was submitted by Clarence Guidry.\n",
      "\n",
      "           \n",
      "22:13 – 23:23   \n",
      "            306\n",
      "Scada Alarm - Highland LS - Phase\n",
      "fail - Dispatch did not get a Phase Fail alarm for the station , Crew\n",
      "found pump 1 with VFD Fault , pump 2 ok , Crew reset alarms \n",
      "VFD Fault did not clear, Crew\n",
      "said that the site should be running in LCC but will not run in LCC , Crew\n",
      "found the site running off the floats , Level was not showing a correct\n",
      "reading, \n",
      "Crew was able to clear the VFD\n",
      "fault, Crew turn off all breakers and that reset  alarm, Scada still\n",
      "showing phase fail - Both pumps are in auto – WO# 80559Note from SCC Report\n",
      "\n",
      "Please gather generator information from the generator onsite. Generator Model # and Serial Number and Engine Model and Serial Number.\n",
      "Once  you switch the selector switch to LLC the system alarms \"high level\" and turns both pumps on.  The level is fine and still comes on.  The \"seal fails\" 1 and 2 blink on and off.  Need to call CPUSA for them to trouble shoot the LLC.\n",
      "Emailed Cathy Mitchell with Jones & Carter. I have asked them to contact the contractor to come out and repair this station due to it being under warranty still.\n",
      "The owner of the lift station called the contractor to look at the station due to it being under warranty. The transducer was bad and was replaced by the contractor under warranty. The station is back up and running.\n",
      "\n",
      "\n",
      "Work Order 1632425: \n",
      "During the station check Marcus used Red Hot and tried to pump it down but it will need the vac truck to clean it out properly.\n",
      "Vac out wet well\n",
      "\n",
      "\n",
      "Work Order 164225: \n",
      "No meter has been installed for liftstation yet. <AB>\n",
      "\n",
      "\n",
      "Work Order 164880: \n",
      "SCADA Alarm for P1 initiated at 21:01, cleared at 21:26 while 394 was enroute\n",
      "received page in route to lift station everything cleared pump running fine per dispatch\n",
      "\n",
      "\n",
      "Work Order 165056: \n",
      "Highland LS - Checking for loud noise - Crew found nertronics sending false signals causing loud noise - Crew switch the system to the floats and the site is running ok -  Crew request that the nertro ... Expand Full Text >>Highland LS - Checking for loud noise - Crew found nertronics sending false signals causing loud noise - Crew switch the system to the floats and the site is running ok -  Crew request that the nertronics be checked out  - Unit 314,382 \n",
      "OtherFacility Repairs completed:amy is suppose to get an electrician to work on the light and the miltronics\n",
      "\n",
      "\n",
      "Work Order 165915: \n",
      "reset alarm ran on hand to see if it would trip again did not and amps was running normal put back to auto. did trigger low level alarm\n",
      "\n",
      "\n",
      "Work Order 165989: \n",
      "Relay switch                                     Details:                                 Replace relay switch for high level alarm. Per 387Location:                                 MAYFIELD RANCH LS\n",
      "29 May 2012 02:41:19 PMCase CompletionFacility Repairs completed:Justin replaced....Facility RepairsPete OchoaWork has been completedFacility Repairs completed:Justin replaced the relay the week of 5/21 - 5/25\n",
      "\n",
      "\n",
      "Work Order 166238: \n",
      "Currently offset of start times, pump #2 is running 2-3 times more then pump #1 currently we have 3/21 on start times (1/2)\n",
      "Check floats and cycled pumps. Found no issue\n",
      "\n",
      "\n",
      "Work Order 1673396: \n",
      "Daryl Smith (512-809-2520) with Pump Solutions will be onsite to install a new pump.  \n",
      "Pump is back in operation\n",
      "\n",
      "\n",
      "Work Order 1676363: \n",
      "Investigate low coolant.\n",
      "We couldn't find a br\n",
      "We couldn't find a breaker or reset for the coolant alarm,need someone to come look at it\n",
      "\n",
      "\n",
      "Work Order 1681904: \n",
      "Vfd was tripped. Reset it and its working   Watched it cycle and was ok\n",
      "Turned vfd off on # 2. Getting a ground fault\n",
      "\n",
      "\n",
      "Work Order 1681923: \n",
      "Couldn’t get fail to go away. Talked with scada and tried to do what they suggested but didn’t work. Scada going to look into problem\n",
      "WiMax radio system has failed. SCADA group is working to get system replaced. \n",
      "Removed WiMax radio system from service and replaced with point to point MDS iNet 900 radio system.  \n",
      "\n",
      "\n",
      "Work Order 1681940: \n",
      "SCADA is down hence com is down. Need tech to check levels. \n",
      "Station was working \n",
      "\n",
      "\n",
      "Work Order 1682633: \n",
      "Highland LS - Power Fail.\n",
      "station lost power had to reset station and wait for wet well to pump down\n",
      "\n",
      "\n",
      "Work Order 1682830: \n",
      "tripped breaker reset think it’s the vfd ground faulting pump two with Which is tripping station out team morales is going to check the vfd \n",
      "\n",
      "\n",
      "Work Order 1683126: \n",
      "Highland LS - Power Fail.\n",
      "breakers tripped again t morales is coming out today to look at it\n",
      "Main breakers are tripping and lose power to the station. If has happened 3 times since Saturday jason from t morales came out tested the wires from junction bow to panel and the are grounded out . New wire needs to be pulled to fix the problem. He is sending a quote to Ernest \n",
      "\n",
      "\n",
      "Work Order 1683134: \n",
      "need to get a contractor to investigate the coolant low temp alarm \n",
      "Tech from Austin Generator will be there today to take a look at it.\n",
      "met with Austin generator. Checked generator found a 2pole 20 amp square D breaker to be the issue. In the off position tech was still getting 125 volts on one of the legs. Will be replacing the breaker on 12/5/19\n",
      "wasn’t able to get breaker needed for the generator. Will need to get from Dealers electric.  Will attempt to get breaker and do repair as soon as possible\n",
      "replaced the 2 pole 20 amp breaker. found that there was still 125 volts kicking back to the breaker. used meter to trace lines and found that the panel in the generator was wired incorrect. re wired to the right locations. rechecked voltage on all breakers and we are good to go. everything is working properly\n",
      "\n",
      "\n",
      "Work Order 1698081: \n",
      "Station has been intermittently in low level alarm for four hours\n",
      "Float was sitting on grease and rags \n",
      "\n",
      "\n",
      "Work Order 1698975: \n",
      "float were hung up with some grease cleared floats and every thing is now working properly \n",
      "\n",
      "\n",
      "Work Order 1700572: \n",
      "Floats were adjusted earlier in day, trend shows flat line at about 9.75 feet ever since until about 22:30. No pumps running.\n",
      "We have station in float mode. We have the liquid level control unplug, we also pulled the low level wire out of relay near bottom of the panel. Control center cannot see wet well level at this time. Need to have SCADA personal go back during the day to pin point issue.\n",
      "Went back today and investigated the problem some more. Found that the Low Level Float is going bad and intermittently working. Needs to be replaced.Also found the floats need to be readjusted to the proper heights or double checked to see if at proper height. LLC and Floats work together. High Level float has to be above the High-level setpoint - 13.5'Lag float has to be above the LAG setpoint - 12.5'Lead float has to be above the LEAD setpoint - 11.5'Off float has to be below the OFF setpoint - 6.75'Low Level float has to be below LOW LEVEL setpoint - 5.75'\n",
      "Replaced the low level float.\n",
      "\n",
      "\n",
      "Work Order 1712180: \n",
      "Highland LS - High Wet Well. Station Phase Fail Alarm.\n",
      "Omh the fuses they were good found the phase monitor with a fault, replaced the phase monitor will need to order another phase monitor part number slu-190-asa diversified electronics, reset the control panel all of the alarms cleared. The reason for the high wet well was because of the phase monitor which serves 110 power to the controls and level indicators\n",
      "\n",
      "\n",
      "Work Order 173412: \n",
      "Found that pump #2 would kick on for about 10 seconds and then shut off.  Checked the amps and found that it was pulling 76 amps when it's only suppose to pull 12. Pulled pump to see if it was clogged and found no clog, megged the motor and it showed bad. Talked to John and Pete and informed them of what was going on and was told to pull the pump and put in the back of the truck so it can be taken to Taylor to be looked at on Monday\n",
      "\n",
      "\n",
      "Work Order 173816: \n",
      "Pump number 2 successfully installed at Mayfield.  Overload for number 2 is bad, work order will be generated for new overload.\n",
      "\n",
      "\n",
      "Work Order 173851: \n",
      "the starter shows where it got hot on both the a & b phases plus contact trips with in 5-10 seconds  \n",
      "\n",
      "\n",
      "Work Order 174130: \n",
      "Checked all floats and all were good. Figured out that the alternating relay was and is bad. I wouldn't send power to the #1 starter when the floats called for pump 1 to turn on. It would work for pump 2 but not pump 1. Also found out that the seal for pump 2 that connects pump to the discharge pipe in the wet well is blown out and needs to be replaced.\n",
      "\n",
      "\n",
      "Work Order 174194: \n",
      "Please order a new alternating relay for mayfield LS. Chad sent a picture of the part numbers to you by phone.\n",
      "Part is on order.\n",
      "393, 305 we changed out Alternator Relay. The new relay was different from old relay. Couldn't figure out how to wire in new relay to make it work properly. For now, its running in a lead and lag situation.Putting on hold until a contractor can come in.\n",
      "The  CPUSA technician came out  and wired up the alternator correctly. The station now operates properly with the pumps alternating like they are supposed to.  \n",
      "\n",
      "\n",
      "Work Order 174356: \n",
      "power outage in area power was restored by the time I got to the lift station every thing is working properly. although the generator didn't come on \n",
      "\n",
      "\n",
      "Work Order 174414: \n",
      "pump 2 was tripped out and would not start up. keep tripping the breaker. also alt was hot and has a burnt prong.\n",
      "\n",
      "\n",
      "Work Order 176457: \n",
      "check to see if contactor can be repaired, may need to be replaced\n",
      "393, 305 We changed out pump #2 motor starter. The old motor starter had bad contact(A Phase) \n",
      "\n",
      "\n",
      "Work Order 1764603: \n",
      "upon arrival the off float was on. control center had called and said the high level had cleared. off float was sitting on top of solids.  need to get pumps and motors to suck  out and clean wet well. ran water to break up an area for the floats to manuver. also pump down wet well to clear the alarm. confirmed with cotrol center on my findings.\n",
      "This wet well is on the cleaning list\n",
      "\n",
      "\n",
      "Work Order 176704: \n",
      "alternator was shorting out all of 110 v . replaced alternator with another which is allowing it to run off lead and lag but that's it there is no alternating between pumps.\n",
      "\n",
      "\n",
      "Work Order 176841: \n",
      "Pump #2 running non-stopboth pumps are in Auto, \n",
      "pump #2 was running when i got there but not pumping checked amps and the check arm to see if it was air locked but could not get seal to break did not want to break check arm so i left 2 off and 1 is in auto\n",
      "\n",
      "\n",
      "Work Order 1792045: \n",
      "Both of the VFD’s trip during the storm that came through this morning that is the reason for the high alarm reset both VFD’s and turn the pumps in the auto mode so that they would pump down the wet well. Every thing check out good \n",
      "\n",
      "\n",
      "Work Order 1797765: \n",
      "There was an issue with pump 2 run time. It was thought to be ragged up, so. When I arrived and did some test to assure it was not. Turn on pump 1 and 2 1 at a time to make sure they both pumped, pumped the well down easily with both pumps and checked the check arm to make sure it was operating, and it was. Everything checked out to be operating as it should. Informed control and cleared.\n",
      "\n",
      "\n",
      "Work Order 1813964: \n",
      "Need to clean wet well\n",
      "Wet well is clean.\n",
      "\n",
      "\n",
      "Work Order 1835293: \n",
      "upon arrival there were no visible alarms in the panel. Ran generator and it ran fine. Checked floats and and cleared area of the floats with water hose. Pushed reset button in the panel. Called control center and the alarm had already cleared before I got there. Confirmed there was no alarms.\n",
      "\n",
      "\n",
      "Work Order 1838445: \n",
      "Both pumps running, pumping down from about 9 feet\n",
      "Station was working properly I watched it cycle twice and didn’t hit high level. Amps on pumps where good. \n",
      "\n",
      "\n",
      "Work Order 1873479: \n",
      "The phase monitor went out and would not allow pumps to come on. After I had pumped station down by holding in a power relay I replaced the monitor. Pump 1 VFD took a hit and will not operate. The power going to it is good. We will need to get team morales out to look at VFD. Pump 1 is in VFD bypass at this time.\n",
      "Jason came out and got the VFD back in operation \n",
      "\n",
      "\n",
      "Work Order 1879718: \n",
      "We cleaned wet well \n",
      "\n",
      "\n",
      "Work Order 1886586: \n",
      "As of 19:45Pump #1 had 89 starts for 1.2 hrsPump #2 had 46 starts for 1.0 hrsPrevious dayPump #1 had 63 starts for 1.6 hrsPump #2 had 63 starts for 1.6 hrs\n",
      "Arrived and found lead and off float sitting on solids.  There was a lot of rags in wet well.  Used pumps to suck out most of rags and adjusted all floats.  Watched and let pumps circulate and all is working at this time.\n",
      "\n",
      "\n",
      "Work Order 1900394: \n",
      "when testing the high level alarm the light did not come on. Will need pumps and motor to investigate it further. Allen Brantley was informed of this by Martin\n",
      "Went out and light was working. Operations came out to pull it like they did yesterday and it works. Light is working just fine \n",
      "\n",
      "\n",
      "Work Order 1911622: \n",
      " Start and run time imbalancePump 1 - 49 starts 1.4 runtimePump 2  - 26 stars .6 runtime\n",
      "Lead float was loaded down with rags causing lag float to run station instant of normal sequence, cleaned floats and made sure station ran a complete cycle in auto and cleared with station running in normal status\n",
      "\n",
      "\n",
      "Work Order 1915921: \n",
      "Mayfield LS - Pump #2 High Start Times.\n",
      "station had high amounts of flow due to rain water. checked pump opperation and all was good.\n",
      "\n",
      "\n",
      "Work Order 1918158: \n",
      "Dispatch says pump #2 has high run times arrived and found wet well was full of solids and grease.  Pumped station out and let cycle on its own and it did not alternate.  Checked floats and floats did not signal to switch.  Alternator needs replacing and then check operation with floats.\n",
      "Checked floats and everything is alternating fine. \n",
      "\n",
      "\n",
      "Work Order 1924087: \n",
      "Mayfield LS - High starts and no pump rotation\n",
      "lead on float was hung upside down over an invert pipe, adjusted the location of the float to assure this doesn’t happen again. Reset the alarms and observed the station.\n",
      "\n",
      "\n",
      "Work Order 1932180: \n",
      "As of 18:30Pump #1 had 15 starts for 0.4 hrsPump #2 had 44 starts for 1.5 hrsPrevious dayPump #1 had 47 starts for 1.7 hrsPump #2 had 43 starts for 1.5 hrs\n",
      "Cleaned wet well. Pulled pump 2 and removed rags. Checked float and alternator for consistent operation. \n",
      "\n",
      "\n",
      "Work Order 1937176: \n",
      "Pump 2 has no starts since midnight, while pump 1 has had 89 starts\n",
      "Lead float was ragged up, cleared rags and tested system good.\n",
      "\n",
      "\n",
      "Work Order 1969080: \n",
      "As of 19:20Pump #1 had 13 starts for 0.4 hrsPump #2 had 158 starts for 1.7 hrsPrevious dayPump #1 had 40 starts for 1.5 hrsPump #2 had 40 starts for 1.5 hrs\n",
      "The level of the wetwell was pumped down almost all the way because the lead float was hanging on the umbilical of pump 1 when it would barely get hit by the incoming flow it would trigger it to come on and shut right off causing it to short cycle. Fixed the float everything was working fine \n",
      "\n",
      "\n",
      "Work Order 1995433: \n",
      "bioxide tank is empty, need to get with HOA to order more.\n",
      "EVOQUA IS SCHEDULED TO RE-FEILL BIOXIDE\n",
      "\n",
      "\n",
      "Work Order 2001381: \n",
      "Checked panels for any breaks in communications and did not find anything. Contacted Damien and he is headed out to Escalera to check communications from there.\n",
      "Network issues were being caused from a PLC network setting in the BlueHole LS PLC. It was set as network Supervisor and caused the issues with all radios. \n",
      "\n",
      "\n",
      "Work Order 2001622: \n",
      "Mayfield LS - Check station status. No Comms\n",
      "THe comms were down I had to monitor the station throughout the night. \n",
      "\n",
      "\n",
      "Work Order 2024172: \n",
      "\n",
      "Mayfield\n",
      "  Ranch LS - Pump 2 Seal fail/OverTemp Alarm\n",
      "\n",
      "When I got out here there was not a seal fail. Watched it cycle for an hour and it didn’t do it again. \n",
      "\n",
      "\n",
      "Work Order 2042953: \n",
      "Communication Fail\n",
      "Turn off then on cpu Had glitch\n",
      "\n",
      "\n",
      "Work Order 2068053: \n",
      "No Comm. please check station \n",
      "Checking every four hours do to no comms.  \n",
      "\n",
      "\n",
      "Work Order 2068103: \n",
      "Station is good. Still no com\n",
      "Station checked at 8:30 am.  Running. Could use cleaning\n",
      "\n",
      "\n",
      "Work Order 2072043: \n",
      "I think the reason for the low wet well is there is a bunch of grease down at the bottom of the wet well causing the floats to sit on top and not do what they are supposed to do. Jason Ellis has said he’s made numerous work orders do you have backed out and still has not happened. I was going to spray with water hose but the PRV is busted and has not been fixed yet. I will get with Chris Graham and figure out what we can get over here to blast and clean this wet well\n",
      "It’s clean. \n",
      "\n",
      "\n",
      "Work Order 2080106: \n",
      "Generator failed due to no fuel.  Generator has been fueled.\n",
      "\n",
      "\n",
      "Work Order 2127140: \n",
      "Mayfield Ranch LS - Pump #1 HOA.\n",
      "Arrived and found no alarms at station checked HOA with dispatch and coms were good.   But I did find panel and wet well not locked.\n",
      "\n",
      "\n",
      "Work Order 212928: \n",
      "Highland LS - Pump #1 Fault alarm - Pump #2 currently running\n",
      "inspected the station I found that when the #2 pump is turnrd to hand that the seal fail alarm shows up and within seconds it clears itself\n",
      "\n",
      "\n",
      "Work Order 2165195: \n",
      "*Fuel hose is leaking and needs to be repairedWill make a seperate work order for the following:*Chain needs to be installed on the gate with a lock for added security\n",
      "replaced fuel hose with new. No leaks\n",
      "\n",
      "\n",
      "Work Order 2165404: \n",
      "upon arrival there appears to be fuel splattered in the generator, most likely due to over filling of the fuel tank.  checked oil resevoir and its good. ran generator and runs fine. also looked at the gate and it seems fine to me. \n",
      "\n",
      "\n",
      "Work Order 2170496: \n",
      "Highlands LS - Running on Generator. Tech said he might need to go out after main power comes back online\n",
      "Running on main power now.  \n",
      "\n",
      "\n",
      "Work Order 2176532: \n",
      "high wet well both pumps running \n",
      "We arrived and checked wet well and found it at first on float level .   Wet well was full of grease and solids.  We believe floats laid on top until reaching high alarm.  We pumped down and cleaned well out.  If operations can pump it down weekly this would help in not being called out.\n",
      "\n",
      "\n",
      "Work Order 2197145: \n",
      "upon arrival wet well was not at high level. This happens a lot and pumps and motors is aware. Confirmed with control center and cleared alarms.\n",
      "\n",
      "\n",
      "Work Order 2209951: \n",
      "Checked the amps on both pumps and everything was within normal range. The floats where ragged up cleaned them and everything is running normally.\n",
      "\n",
      "\n",
      "Work Order 2214302: \n",
      "Pulled pump 2 and found it ragged up, deragged and tested system good.\n",
      "\n",
      "\n",
      "Work Order 222622: \n",
      "wet well was not bad can wait for quarterly cleaning\n",
      "\n",
      "\n",
      "Work Order 2267370: \n",
      "Pump #2 has not started in at least two days\n",
      "Pumps were not alternating every time.  Manipulated floats a few times until pumps started alternating.  \n",
      "\n",
      "\n",
      "Work Order 229066: \n",
      "Lift station backup generator failed to start after a Phase fail.\n",
      "reprimed fuel line\n",
      "\n",
      "\n",
      "Work Order 2295896: \n",
      "Pump 1 is showing 10 startsPump 2 is showing 98 starts\n",
      "The floats were all tangled up and off the hooks, put everything back. The station is running normally. \n",
      "\n",
      "\n",
      "Work Order 230196: \n",
      "Technician was checking station and the high float did not come through on SCADA. He tried it three times and held it open for over a minute. The alarm is working at the station.\n",
      "When the high float is activated it \"pops\" the status input on the RTU, tried it three time with three different input with the same result. Will get with the wastewater group and have them replace the float to see if the helps.\n",
      "Wastewater tech replaced high level float and tested, no result on SCADA\n",
      "The Low Low relay was sending a 124VAC signal to the wrong pin of the High wet well relay and causing the problem.  Relay was re-wired and the problem corrected.\n",
      "\n",
      "\n",
      "Work Order 236777: \n",
      "Pump # 1 Showing in Hand on SCADA .  Pump is in Auto at the station. Tried to interrogate several times with no change. \n",
      "Found a bad connection in wiring harness where it attaches to I/O card.  Removed and reseated connector and status appears to be holding steady.\n",
      "\n",
      "\n",
      "Work Order 236799: \n",
      "Everything was in order, a crew had cleaned the wet well earlier and caused a low level. There is hardly any flow out there right now so it stayed low for a while\n",
      "\n",
      "\n",
      "Work Order 2377268: \n",
      "pump1 has seal fail.\n",
      "Pulled pump 1. It has seal fail. Took pump to Tomacek for repairs.\n",
      "Received the motor and placed inside the building\n",
      "last comment was for different pump. We have sent the quote for a new pump to the HOA. When they approve the purchase we will order a new pump.\n",
      "Pump #1 pulled and taken to Tomacek.\n",
      "\n",
      "\n",
      "Work Order 238368: \n",
      "Need to adjust the off float due to pumping down to far and sending low level alarm.\n",
      "The low level alarm is programed in the LLC to alarm at 5.75'.\n",
      "The off float is programed in the LLC to engage at 6.75'.\n",
      "The LLC controls the low level, off, and high alarm.  Only floats that work are the lead and lag while in LLC mode.\n",
      "\n",
      "\n",
      "Work Order 2389438: \n",
      "Received both Pump #2 and station phase failure alarms.\n",
      "At 13:25 received a Pump #2 fault and phase fail alarm.\n",
      "Control power breaker was tripped.Investigated panel, floats, took amp reading on pump 2. The only thing I found was a loose hot wire to the cabinet exhaust fan at the terminal block. Relanded wire and tightened it down. Watched lift station cycle thru a couple of times and worked properly.\n",
      "\n",
      "\n",
      "Work Order 2442097: \n",
      "Scada is showing that pump 2 HOA is off\n",
      "When I showed up, before touching anything I called into control center to check status and Scotty stated that pump 2 was showing in auto.\n",
      "\n",
      "\n",
      "Work Order 2448081: \n",
      "Mayfield Ranch LS - Comm Fail\n",
      "Everything had power in the panel. Checked scada panel and had power also. Talked with dispatch and found out that the alarm was a PLC Comm Fail. Rebooted the power in scada panel. Alarm still didn't go away. Started looking for loose connection. Disconnected Ethernet cable from 4RF radio and plugged it back in. The signal came back and the alarm went away.\n",
      "\n",
      "\n",
      "Work Order 2464688: \n",
      "Mayfield LS Pump 2 not rotating\n",
      "operations put a soap block in the way of floats and caused off float and lead float to not work. relocated the block \n",
      "\n",
      "\n",
      "Work Order 2491135: \n",
      "cleaned wetwell. Pics in the documents. \n",
      "cleaned wetwell. Pics in the documents. \n",
      "\n",
      "\n",
      "Work Order 2491154: \n",
      "cleaned wetwell\n",
      "cleaned wetwell\n",
      "\n",
      "\n",
      "Work Order 2520667: \n",
      "Station Check since communications have been out for over 30 minutes\n",
      "\n",
      "\n",
      "Work Order 2523615: \n",
      "clean pics in documents \n",
      "\n",
      "\n",
      "Work Order 2523619: \n",
      "clean pictures in documents \n",
      "\n",
      "\n",
      "Work Order 2524395: \n",
      "\n",
      "River\n",
      "  Vista - low wet well\n",
      "Found the off float ripped of its cable. Re-pulled new float and landed it on terminal. Set the height to where its supposed to be at.\n",
      "\n",
      "\n",
      "Work Order 2524401: \n",
      "highland ls -comm fial\n",
      "Checked for power in both RTU and Pump panel. Power was good. Level and pumps were working how they should. Communication fail has to do with the heat. Scada issue.\n",
      "\n",
      "\n",
      "Work Order 2526993: \n",
      "comm fail please check station\n",
      "Pump is working how it should. Communication fail is due to the heat and is a Scada issue.\n",
      "\n",
      "\n",
      "Work Order 2555763: \n",
      "Highland LS - Comm Fail.\n",
      "fixxed the comm fail by resetting the rtu panel\n",
      "\n",
      "\n",
      "Work Order 2569429: \n",
      "Pulled float and inspected it \n",
      "\n",
      "\n",
      "Work Order 2584932: \n",
      "gen had dead and bad battery, we pulled and replaced with a new one\n",
      "\n",
      "\n",
      "Work Order 2607909: \n",
      "Pump 2 high starts\n",
      "Found the floats all ragged up and out of order. Fixed problem and put floats back in the hanging order their supposed to be.\n",
      "\n",
      "\n",
      "Work Order 2609754: \n",
      "The lag float was broken. Came out and replaced it.\n",
      "\n",
      "\n",
      "Work Order 2609758: \n",
      "Motor starter for pump two is burnt out and stuck on. need a new one.Pictures are already sent to Jeff and one is being ordered\n",
      "put in a new motor starter and new auxiliary contact  found and the GMC. Tested the new contacts by running the pump in hand and tested the pump by letting it run in auto and everything is running as it should.\n",
      "\n",
      "\n",
      "Work Order 2609760: \n",
      "Generator has a hard time starting. I dont think the battery charger works cuz there is a low battery voltage alarm. Also when trying to start the generator you have to crank it quite a bit. It says low engine speed then shuts off. \n",
      "CONTRACTOR HAS REPLACED BATTERY\n",
      "\n",
      "\n",
      "Work Order 2613915: \n",
      "\n",
      "Mayfield\n",
      "  Ranch Ls - High Start Times \n",
      "Off-float was missing weight. We replaced the weight.\n",
      "\n",
      "\n",
      "Work Order 2616134: \n",
      "removed battery and took in to interstate for recharge then re installed\n",
      "\n",
      "\n",
      "Work Order 2616135: \n",
      "after installing the new battery the generator failed to start\n",
      "Contractor getting parts for generator\n",
      "\n",
      "\n",
      "Work Order 2616139: \n",
      "turn water off Per 303\n",
      "Spoke with Damian in pump and motor and told him where the water meter was and he turned it off until repairs are made to the water line headed to the lift station.\n",
      "\n",
      "\n",
      "Work Order 2617573: \n",
      "\n",
      "Highland\n",
      "  Ls - Comm Fail \n",
      "Antenna iced over causing comms fail, station checked and running properly\n",
      "\n",
      "\n",
      "Work Order 2618812: \n",
      "\n",
      "\n",
      "\n",
      "Work Order 2620197: \n",
      "Cleaned wetwells.\n",
      "\n",
      "\n",
      "Work Order 2626996: \n",
      "\n",
      "Mayfield\n",
      "  Ranch LS - Both Pumps High Start Times\n",
      "wet well had tons of rags. floats were just siting on top of them. used pump 1 to blast and clean wet well.\n",
      "\n",
      "\n",
      "Work Order 2633761: \n",
      "Didnt havd to go out there. The power came back on before i could leave the house and control said they got good comms back and pump was pumping\n",
      "Didnt havd to go out there. The power came back on before i could leave the house and control said they got good comms back and pump was pumping\n",
      "\n",
      "\n",
      "Work Order 2633768: \n",
      "The grease in the wetwell wouldnt allow the floats to operate correctly. I pumped the station down in hand, Cleaned each float, and pumped the station low enough to where some of the thick grease moved around to where the floats would  operate.\n",
      "The grease in the wetwell wouldnt allow the floats to operate correctly. I pumped the station down in hand, Cleaned each float, and pumped the station low enough to where some of the thick grease moved around to where the floats would  operate.\n",
      "\n",
      "\n",
      "Work Order 2634102: \n",
      "SCADA ALARM :\n",
      "BC\n",
      "  HIGHLAND LS - GEN RUN / ATS IN EMERGENCY ALARMS \n",
      "PEC lost a phase on their end, which caused the station to go into emergency back up generator mode. Also the emergency generator needed refueling so that was done as well. The lost phase from PEC was fixed and station transferred back to normal power\n",
      "PEC lost a phase on their end, which caused the station to go into emergency back up generator mode. Also the emergency generator needed refueling so that was done as well. The lost phase from PEC was fixed and station transferred back to normal power\n",
      "\n",
      "\n",
      "Work Order 2634118: \n",
      "SCADA ALARM :HIGHLAND LS - HIGH WET WELL\n",
      "HOA switch was left in the off position and all I did was go and put the switch back in auto and it pumped it back down\n",
      "HOA switch was left in the off position and all I did was go and put the switch back in auto and it pumped it back down\n",
      "\n",
      "\n",
      "Work Order 2641051: \n",
      "we went there and opened the door to the SCADA Panel and let some heat out and the comms started coming back on and the PLC had power and at the lift station everything was working properly.\n",
      "\n",
      "\n",
      "Work Order 2651217: \n",
      "pump 1 high run times checked  amps and where good. control could not see pump 2 on auto . after investigating hoa switch had a wire come off re attached confimed pump 2 in auto . pump 2 was not coming on due to hoa switch\n",
      "pump 1 high run times checked  amps and where good. control could not see pump 2 on auto . after investigating hoa switch had a wire come off re attached confimed pump 2 in auto . pump 2 was not coming on due to hoa switch\n",
      "\n",
      "\n",
      "Work Order 278519: \n",
      "The transducer appears to be malfunctioning. When I arrived at the station every alarm light was on, high level, low level, lead pump, and lag pump. The level showed 18 feet and rising, but when I looked in the wet well I could see the top of the pumps, and no floats were under water. I then switch it to run off of the floats instead of the transducer, which turned off all of the lights except for the low level light. \n",
      "\n",
      "\n",
      "Work Order 278537: \n",
      "The transducer appears to be malfunctioning. When I arrived at the station every alarm light was on, high level, low level, lead pump, and lag pump. The level showed 18 feet and rising, but when I looked in the wet well I could see the top of the pumps, and no floats were under water. I then switch it to run off of the floats instead of the transducer, which turned off all of the lights except for the low level light. \n",
      "Ryan S is waiting on bids from CP Usa\n",
      "CP Usa will be here the 18th of August per Isaac\n",
      "CP Usa rescheduled till tomorrow\n",
      "CP USA came out and replaced the defective parts and the station is working normally. CP USA tech did mention that the transducer cable is getting some interference from being in the same conduit as the main leads.\n",
      "\n",
      "\n",
      "Work Order 278829: \n",
      "received both a high and low level alarm at the same time-after about five minutes both pumps came on for a few seconds, high alarm cleared then alarmed again with a high level--wet well level on scada is showing 32.0 ft.\n",
      "The transducer started malfunctioning again, it was showing a fluctuation in depth from 26ft to 28ft and then back down. I switched it over to be run on the floats. \n",
      "\n",
      "\n",
      "Work Order 281449: \n",
      "Water department is having control panels usa replace broken equipment. \n",
      "\n",
      "\n",
      "Work Order 305658: \n",
      "382 and 386 came out to remove Plumbers balls from the wet well and to replace latch on wet well door.  All complete\n",
      "\n",
      "\n",
      "Work Order 311455: \n",
      "Highland LS - Pump 1 & 2 fault alarm Showed pump 2 running, once the pump went off, the alarms cleared, seems each time a pump attempts to come on it alarms. had rapid succession of alarms\n",
      "Placed into Priority 2, On-call wanted to have SCC monitor to see if the alarms came back, they didn't. Sending work order to SCADA to see if there a timing problem with the pumps\n",
      "Both VFDs had faults at approximately same time period as alarms, you can look at these by way of the display. There is no timing issue, SCADA checked good. Water/Waste-water Department should be notified to look into the events from the VFDs.\n",
      "\n",
      "\n",
      "Work Order 331292: \n",
      "Mayfield LS - Phase Fail - Both pumps off\n",
      "The power went out, and it tripped a 110 breaker and I just rest it.\n",
      "\n",
      "\n",
      "Work Order 349375: \n",
      "Pump #2 is alternating between Hand and Auto statuses for no apparent reason\n",
      "inspected the h.o.a. switch it's a little lose which could be causing the intermittent  384 took pictures of both 1 & 2 switches\n",
      "tighten up the switch, pulled the pumps and inspected them also blasted the wetwell\n",
      "\n",
      "\n",
      "Work Order 349519: \n",
      "Mayfield Ranch LS - Pump #2 HOA Status ChangesPump #2 keeps going from OFF, ON and AUTO\n",
      "met with pump & motors technician to trouble shoot the switch, we also had the scada technician come out to the station to see if it was not their equipment scada did not find anything wrong. the next step is to replace the switch. pump & motors have ordered the switch\n",
      "New switch ordered.\n",
      "393,396We replaced the old HOA switch with a new one. \n",
      "\n",
      "\n",
      "Work Order 352521: \n",
      "Mayfield Ranch LS - excessive run times on pump #2pump    starts    runtimes1            13            0.22            13            6.8\n",
      "Checked function of both pumps, both seemed to be pumping fine.\n",
      "\n",
      "\n",
      "Work Order 353834: \n",
      "Current Day:Pump #1 24 starts for 0.5 hr, Pump #2 17 starts for 7 hrPrevious Day:Pump #1 23 starts for 0.5 hr, Pump #2 13 starts for 14.6 hr\n",
      "pulled pump 2 and found that the o-ring on the outlet flange was damaged.  had no replacement so it was siliconed back in place.  \n",
      "\n",
      "\n",
      "Work Order 366599: \n",
      "Highland LS - Phase fail - no power at station -\n",
      "the main breaker on the in comeing power was trippit and the generator did not come on, we reset the breaker and put the pumps back in auto\n",
      "\n",
      "\n",
      "Work Order 366601: \n",
      "Today so far:Pump #1 - 55 starts for 0.0 hrsPump #2 - 38 starts for 0.1 hrPrevious day:Pump #1 - 110 starts for 0.4 hrsPump #2 - 39 starts for 0.2 hr\n",
      "Pumps and Motors was on site doing a PM . They figured out that there is a problem with the level indicator. This needs to be assigned to Damian H.  and Bubba V. \n",
      "We inspected the floats and everything was fine.  With the power issue this past weekend we noticed the LLC was out of adjustment.  Need to contact someone to come and reset it.  We have bypassed the LLC for now and the station is running off the floats.  \n",
      "We noticed the pumps would send a seal fail alarm while they were in the VFD mode when the pumps ran.  When we bypassed the VFD there was no alarm.  Seemed to us that the SF1 relay was bad and needs to be replaced.\n",
      "\n",
      "\n",
      "Work Order 373553: \n",
      "Highland LS - No Comm -  SCADA Notified\n",
      "Tech did not have a computer to close WO--I closed it for him.\n",
      "per 320--reset\n",
      "\n",
      "\n",
      "Work Order 373554: \n",
      "Highland LS - No Comm - for an extended time, water on call have been paged out as well\n",
      "Radio was locked up. Reset power, everything back to normal\n",
      "\n",
      "\n",
      "Work Order 393755: \n",
      "No Control Power in Panel\n",
      "A coil was bad for the VFDs.  Contractor came in and bypassed the VFDs.  Station is back in service.\n",
      "Myself ( Ernest ) and David were there from 4:30pm until 2:30 am with the vac truck.  Bill was there from 4:30pm to 7pm.  He had to leave and check another call.\n",
      "Level transmitter was found to be bad on Jan.28th and needed replacement as well.\n",
      "\n",
      "\n",
      "Work Order 400324: \n",
      "Install new coils in VFD Starters\n",
      "The coils were found to be bad at an earlier date but the station has been running with out issue on the secondary set of starters. This work order was created to document the installation of the new coils for the VFD`s\n",
      "393,396We replaced the bad motor starter coils with new ones. Both starters are working properly.\n",
      "\n",
      "\n",
      "Work Order 411674: \n",
      "BLAST AND VAC THE WET WELL \n",
      "Cleaned wet well of debris.  No grease this time just lots of rags and feminine products. Took materials and dumped at SGWWTP.\n",
      "\n",
      "\n",
      "Work Order 433551: \n",
      "need to order new alternator\n",
      "Existing Alternator is obsolete. Need to replace with alternate relay\n",
      "393,308Replaced alternator. Everything is working\n",
      "\n",
      "\n",
      "Work Order 439790: \n",
      "When I got to the ls there was no issues \n",
      "\n",
      "\n",
      "Work Order 450887: \n",
      "393, 308,  390, 318Vac'd out wet well due to real bad grease\n",
      "\n",
      "\n",
      "Work Order 460427: \n",
      "Phase Fail Alarm and both pumps out of Auto\n",
      "WO not completed\n",
      "393Breaker for control panel power was tripped.. Checked incoming Voltage, voltage on load side of motor starter, Amped both pumps, checked all floats for proper operation. Everything was operating how it should be.\n",
      "\n",
      "\n",
      "Work Order 467196: \n",
      "WiMax outage at Escalara EST to Mayfield LS. Replaced Wimax radio at site and communications were not restored. Reconfigured Escalara EST to use old 900mz radio system and comm to EST site was restored. Mayfield will be out of comm until Wimax is corrected on Tuesday. \n",
      "Mayfield LS to be monitored on site every 4 hours overnight until issue corrected\n",
      "Checked LS for proper function.  Everything is pumping good at this time.  No alarms are present at this time.\n",
      "Checked the lift station due to scada being lost.  Everything is working fine.\n",
      "Checked lift station because SCADA still not working.  Everything checks out good at this time.  \n",
      "I checked the station at 6 pm and everything was fine.\n",
      "Checked the station and everything was fine.  \n",
      "Heckled the the station at 12:00 am pump #2 amen on while I was there and tested pump #1 .  Turned all pumps back in auto.  Everything is good at this time.\n",
      "I checked the pumps at 4:30 am and everything was working fine.\n",
      "\n",
      "\n",
      "Work Order 468749: \n",
      "Highland LS - No Comm\n",
      "Went to station. Everything looked good at site. Told control to contact scada since we could not see any issues on our end.\n",
      "we have put in a Omnia for scada and the site is talking scada will get a new antenna and put it up not sure when it will come in ron is going to let me know \n",
      "all back up scada fix everything\n",
      "\n",
      "\n",
      "Work Order 470904: \n",
      "Omni Autodialer General Trouble Alarm received at 21:03\n",
      "The overloads were tripped due to the storm.  I reset them and returned the pumps back to service.\n",
      "\n",
      "\n",
      "Work Order 473960: \n",
      "Wet Well was extremely dirty, 3 feet + of grease.  All floats were sitting on top of grease.  Blasted a hole for the floats to hang in.  Will need to be cleaned ASAP\n",
      "this Work order will be closed ICONDE has released the quarterly WET WELL CLEANING in advance.\n",
      "\n",
      "\n",
      "Work Order 489212: \n",
      "Pump #1 has 17 starts for 0.3 hrPump #2 has 23 starts for 6.4 hr\n",
      "pulled and deragged pump 2. had a piece of 2\" metal hose fitting\n",
      "\n",
      "\n",
      "Work Order 497797: \n",
      "There were no alarms showing up on arrival I cleared the alarm do the reset button on the control panel operated pomps by hand and clear the alarm through skada. Station is operating correctly check valves were opening at pumps were pumping\n",
      "\n",
      "\n",
      "Work Order 497800: \n",
      "There are no alarm showing at the station I blasted the station cleaned all the floats and put it down to a low level alarm I then filled the station to clear the low-level alarm and let the pumps cycle cycle correctly and pumped properly no alarms were showing.The alarm that is showing in The control room is a communication alarm skada has been notified and will be coming out to investigate the problem.\n",
      "Communication has been restored to the station pumps are auto no alarms\n",
      "\n",
      "\n",
      "Work Order 505109: \n",
      "Checked all the power and fuses at station and no issue was found.\n",
      "\n",
      "\n",
      "Work Order 506477: \n",
      "Tried to reset the communication and it still failed to clear the comm fail. Need to get scada out here to look at it.\n",
      "SPOKE WITH RON MARROW AND HE SAID IT IS DUE TO THE HEAT AND THE SUN SHINNING DIRECTLY ON THE PANEL--WILL CLEAR WHEN IT COOLS OFF---ALSO SPOKE WITH ONCALL IF ALARM DOES NOT CLEAR BY 18:30 WILL PAGE HIM OUT\n",
      "\n",
      "\n",
      "Work Order 507494: \n",
      "No comm since 14:23, SCADA advised nothing to be done due to equipment malfunctioning in high heat environment, need to verify station operating properly\n",
      "WO was not completed \n",
      "Comm loss is due to the scada panel being in the direct sunlight and not having an exhaust fan to help remove heat\n",
      "\n",
      "\n",
      "Work Order 514494: \n",
      "Pump 2 has a seal fail alarm but only at the station. Control center does not see the alarm.\n",
      "393\n",
      "Not able to get truck back to lift station due to the construction. \n",
      "393,318,390\n",
      "Pulled pump2 and found  big piece of asphalt and a lot of rages. Cleared it. \n",
      "\n",
      "\n",
      "Work Order 514627: \n",
      "Alarm cleared when I got there\n",
      "\n",
      "\n",
      "Work Order 519822: \n",
      "Everything is working and communicating fine no problem found.\n",
      "\n",
      "\n",
      "Work Order 522544: \n",
      "393\n",
      "Used Flir camera to take heat  signature of the inside of the panel. Some of the components were as hot as 170 degrees. Have been called out for this situation 3 times this week. Wonder if we can get Scada out here to figure out something to prevent these call outs in future. Everything was working when I got out here\n",
      "\n",
      "\n",
      "Work Order 522552: \n",
      "393\n",
      "Comm fail due the heat in the panel. \n",
      "\n",
      "\n",
      "Work Order 522640: \n",
      "Comm has been failed since 15:07\n",
      "  Went out to check out station.  Damian asked me to check one thing before we reset the breaker.  He had me shake the antenna to see if it cleared.  I called dispatch and they said the alarm cleared.  I then proceeded to verify SCADA was reading correctly.  Found a VFD fault on Pump #1.  Looked at menu and reset the VFD.  Alarm cleared.  VFD menu said OVERCURRENT.\n",
      "\n",
      "\n",
      "I talked to dispatch  and the were reading the correct status of the pumps at this time.  He also stated that pump #1 had not run all day.  This is the info off the VFD at the time of the fault.\n",
      "\n",
      "FREQUENCY @ Fault  55HZ\n",
      "SPEED @ Fault            1633 RPM\n",
      "TORQUE % @ Fault     30.6%\n",
      "CURRENT @ Fault       60.5 Amps\n",
      "Voltage @ Fault           600.1 Volts\n",
      "Fault occurred at 22:30 according to the VFD\n",
      "\n",
      "Diagnostic Check for the following:\n",
      "\n",
      "Excessive motor load\n",
      "Insufficient accel time\n",
      "Faulty motor\n",
      "Motor cable and connections.\n",
      "\n",
      "\n",
      "Ran pump #1 in hand and it pumped down all the way, and ran without any issues.  There may be a need for SCADA to go out and check all connections on antenna at the top of the pole.  They will need a bucket trucks to do it.  \n",
      "\n",
      "\n",
      "Work Order 531820: \n",
      "Highland LS - Com Fail\n",
      "Pulled all floats to see if any alarm would go off only one was the high float.  Reset all alarms.  Still has a com alarm. Need to contact SCATA.\n",
      "\n",
      "\n",
      "Work Order 540305: \n",
      "Per Jeff Dixon the wet well is pretty bad and needs to be cleaned out \n",
      "The wet well had a large quantity of grease and rags\n",
      "\n",
      "\n",
      "Work Order 540331: \n",
      "Per Jeff Dixon the wet well has a bunch of grease and rags and needs to be cleaned out\n",
      "Cleaned went well with the vacuum truck grease and rags\n",
      "\n",
      "\n",
      "Work Order 544891: \n",
      "Vactor will be needed. We will also be shutting down the bioxide\n",
      "We blasted and vaced out the wet well. We also turned off the bioxide inside the control panel for it. \n",
      "\n",
      "\n",
      "Work Order 547378: \n",
      "Per Jeff Dixon the high level alarm does not clear unless you reset the power at the station\n",
      "We tested the high level float and it tested good. We checked the relays and they both tested good. We ran a couple cycles through by pulling the high level float up and activating the alarm and we were able to clear the alarm without turning the breaker off to the station. Everything tested out fine.\n",
      "\n",
      "\n",
      "Work Order 553265: \n",
      "Wet well is not a bad as it has been but needs to be cleaned per Jeff Dixon\n",
      "Vacuum the wet well free of grease and debris\n",
      "\n",
      "\n",
      "Work Order 553267: \n",
      "Wet well has a bunch of rags and needs to be cleaned per Jeff Dixon\n",
      "Vacuum the wet well free of rags\n",
      "\n",
      "\n",
      "Work Order 560165: \n",
      "Wet well needs to be cleaned per dixon\n",
      "Blasted and cleaned the wet well \n",
      "\n",
      "\n",
      "Work Order 576499: \n",
      "Pumps exceed 100 starts per day with less than 1 hour total run time\n",
      "Pump the pumps down all the way and noticed that a float was wrapped a round the cord to pump causing the pumps to come on and off we cleaned out tank and adjusted floats hopefully problem is fixed\n",
      "\n",
      "\n",
      "Work Order 624950: \n",
      "Water is leaking out of the bottom of the backflow when in operation. Will need to get a contractor in to repair it.\n",
      "We removed the backflow, and have the water off to the station at the meter. Just waiting on parts to be ordered to reinstall.\n",
      "Backflow is on order. Planner and schedulers are finding a BPAT tech to come out and test it upon installation.\n",
      "Install new backflow, leave off until it has been tested.\n",
      "new backflow has been installed. water is still off to station at meter. backflow needs to be tested before it can be put back online.\n",
      "Backflow has been tested, paperwork is in and service is on.\n",
      "\n",
      "\n",
      "Work Order 626861: \n",
      "wet well is getting so thick with grease we can't hardly blast it anymore to get floats back down in\n",
      "clean now\n",
      "\n",
      "\n",
      "Work Order 633150: \n",
      "Mayfield Ranch LS - High Wet Well Level.\n",
      "Pump 2 was ragged up very bad and finally tripped out so flow must of got really high for the other pump when it kicked on finally and plus someone had the first on float down where the off float should be so no pumps would come on until it got up to the off float and lag float the off and lead floats were backwards\n",
      "\n",
      "\n",
      "Work Order 634867: \n",
      "Mayfield LS - High Wet Well - both pumps running - Both pumps were running, alarm cleared and pumps are off (in auto), intermittent comm fail - 2nd time, paged out to investigate lift station\n",
      "Floats are getting caught up on grease in wet well. Need to be vac out.\n",
      "cleaned wet well floats operate correctly \n",
      "\n",
      "\n",
      "Work Order 636913: \n",
      "Mayfield Ranch LS - Pump #2 High Run Time.\n",
      "Deragged pump 2 and reset it. Working fine. \n",
      "\n",
      "\n",
      "Work Order 644090: \n",
      "Low alarm came in but the level spiked to 32 ft\n",
      "When we arrived operations had station up and running. I think that the LLC may be going out   It does have some corrosion on the housing and some moisture drops on the outside of it. This was passed on to Ernest    We will continue to watch this station\n",
      "Low level light, off float and lead float was all on when we showed up. The level indicator said it was at -7.6 feet. Checked and cleaned the floats and LLC everything was fine. Switched it from LLC to float and the pumps kicked on it registered at 10 feet pumped down to 6.6 and everything shut off and cleared all the alarms. While it was pumping down we switched it back to LLC and it continued to pump down. All alarms are cleared and the station is working properly at the moment.  \n",
      "\n",
      "\n",
      "Work Order 645482: \n",
      "Level indicator is throwing al kind of issues low level, high levels when wet well is not there need to be checked further and if needed to be replaced\n",
      "Switched from LLC to floats mode in control panel\n",
      "Scada crew came out found a loose wire coming from the transducer( level indicator) might have fixed the issue\n",
      "Switched back to LLC from Floats after the wire was connected properly per Eleazar\n",
      "Alarms are still coming in for low wet well \n",
      "\n",
      "\n",
      "Work Order 645566: \n",
      "The transducer wasn't working right. I switched it to work on the floats.\n",
      "Issues with the transducer occurred on Friday 6-2-17 as well. Scada found one of the wires that was loose but when tightened it did not correct the problem. Will need to investigate further.\n",
      "looks like the transducer is not working and display is not coming on I think the display screen is out which hold set points for transducer might need reprogramed \n",
      "need to replace screen. I have pics of unit and model #\n",
      "Kevin with CPUSA will be at the station on Friday @ 9am.\n",
      "Time has changed to 1 pm on Friday.\n",
      "CPUSA replaced a relay.  Station is running on LLC again.\n",
      "\n",
      "\n",
      "Work Order 647229: \n",
      "Low wet well alarm constantly coming in and out\n",
      "Couldn't find any problem, there wasn't enough flow to cause the station cycle. So I turned off the level indicator and switch it to run on the floats instead.\n",
      "\n",
      "work order changed to priority 2 due to the work being done on the weekend and Control Center did not close it.\n",
      "\n",
      "\n",
      "Work Order 647711: \n",
      "Isaiah with CP USA will be at the Lift station to install new surge protector on 6/16 @ 8am.\n",
      "Transducer was tested and passed. Display module was tested and failed. Also replaced surge protector. CP USA will preset the display for us to install. They will contact Ernest or Pete when product is ready. \n",
      "met with justin and keith from the scada dept. to ask about the scada going into sleep mode to see if it would affect the communications between the station and the control center and to see why the control center did not receive a high level alarm over the weekend. we flipped the float to engaged the high level alarm it came on at the station justin then contacted the control center to see if they had received the alarm their response was yes. the conclusion of the test is that the float is doing it's job \n",
      "Picked up new screen, Justin with scada set the parameters and is working on LLC mode. Checked with control and they were seeing the correct level.\n",
      "\n",
      "\n",
      "Work Order 648857: \n",
      "Resident called in alarm. \n",
      "When I arrived the water level was about 4' from the top of the wet well.  The switch was still set to run of the LLC transducer.  It is bad and has been unplugged by CP USA earlier today.  Switched over to run off the floats and everything is running fine at this time.  All alarms cleared and pumps are in auto.  \n",
      "\n",
      "\n",
      "Work Order 656255: \n",
      "Comm Failure\n",
      "Reset the CPU in the scada panel \n",
      "\n",
      "\n",
      "Work Order 656476: \n",
      "I went out and reset the CPU in the scada panel, I think that it is getting too hot inside the panel,after reseting everything lit up but there was no communication on scada at the control center. after about 7:30 it cleared while the sun was going down and cooling off\n",
      "\n",
      "\n",
      "Work Order 657573: \n",
      "Reset the CPU in the scada panel\n",
      "\n",
      "\n",
      "Work Order 657799: \n",
      "Comm fail alarm is coming on due to high heat we got a tarp put over it for shade and the exhaust fan that blows cool air in the filter on it was completely clogged up so it wasn't getting much air in there so we got that taken care of \n",
      "Work order changed to a priority 2 due to the closure due date\n",
      "\n",
      "\n",
      "Work Order 657817: \n",
      "Got shade over scada box now and going to get with supervisors to get a awning built over it and possibly a second exhaust fan installed \n",
      "\n",
      "\n",
      "Work Order 657944: \n",
      "We readjusted the tarp covering the scada box so no sun from noon to sun set should shine on the box\n",
      "\n",
      "\n",
      "Work Order 659667: \n",
      "Pump #1 has not run in at least two days\n",
      "We arrived and checked floats they checked out good.  We then checked panel and found soft start had tripped reset and working good at this time\n",
      "Dispatch reports pump had not run for a few days   This may also be from excessive heat at panel. Panel has no cover and is in direct heat of the sun\n",
      "\n",
      "\n",
      "Work Order 659740: \n",
      "Needs more shade or ventilation in scada box it is getting to hot. It has been working better since we cleaned the filters for the fans but some days it gets just too hot\n",
      "We added solar insulation to the outside  and the inside on the top to see if that will help. If it doesn't a extra fan will need to be installed.\n",
      "\n",
      "\n",
      "Work Order 659818: \n",
      "Called out for a comm. fail.  Checked cpu and found no lights on .   Dispatch called Justin and he had me reset cpu.  Dispatch still does not have comm.   Justin to check if comm. does not return in 30 minutes.   Station pumps are working at this time\n",
      "\n",
      "\n",
      "Work Order 661503: \n",
      "Common alarm due to the heat\n",
      "\n",
      "\n",
      "Work Order 661527: \n",
      "after investigation and checking station operation, no problem was found.  Apparently there is an as yet un-diagnosed issue with the station throwing a common alarm when the temperature becomes to high.\n",
      "\n",
      "\n",
      "Work Order 663535: \n",
      "Comm fail due to continuing heat issues in scada panel.  Investigated for issues at the station to ensure proper operation.\n",
      "\n",
      "\n",
      "Work Order 682935: \n",
      "per Eleazar/Dustin\n",
      "Cleaned\n",
      "\n",
      "\n",
      "Work Order 685338: \n",
      "The alarm that came in was from the Omni site that's not located at mayfield, it has to be assigned to the correct lift station (interceptor) \n",
      "Need to rename the OMNI site for Interceptor LS\n",
      "Omni site renamed back to Interceptor as of 9/8/17.Also I will be making an SOP on the process to change it.\n",
      "\n",
      "\n",
      "Work Order 685550: \n",
      "Need to clean the wet well.\n",
      "cleaned\n",
      "\n",
      "\n",
      "Work Order 694644: \n",
      "Crew vac'ed wet well out\n",
      "\n",
      "\n",
      "Work Order 697765: \n",
      "Run times as of 0830:Pump #1 - 5 for 0.2 hrPump #2 - 8 for 0.3 hrPrevious Day:Pump #1 - 11 for 0.4 hrPump #2 - 30 for 1.3 hr\n",
      "Pulled all floats verified correct operation. Floats are free and clear of debris. Both pumps 1 & 2 cycled properly after testing multiple times. Both pumps 1 & 2 read 12.5 amps when checked. Normal amps was marked on door at 12.8 amps. Will continue to monitor, if it continues will contact pumps and motors to investigate. \n",
      "\n",
      "\n",
      "Work Order 697813: \n",
      "Battery has only 1.6 volts to it.  Generator will not start.  Ray EOQ Yanez said the just changed the battery out.  The trickle charger on the generator needs to be looked at by the technician.  Peanut said will need to be looked at by the generator tech.  Need to schedule it out.  \n",
      "Need to see if we can fix this or if I need to contact Holt\n",
      "Contact holt generator\n",
      "I contacted Steve with Holt and he will have someone out Friday @ 9 am.\n",
      "Holt tech removed charger to replace with new one\n",
      "\n",
      "\n",
      "Work Order 701615: \n",
      "wet well is cleaned\n",
      "\n",
      "\n",
      "Work Order 728487: \n",
      "Need to replace the RPZ that froze.\n",
      "I contacted Brittan plumbing to do the repair.\n",
      "We let contractor in and he repaired it\n",
      "\n",
      "\n",
      "Work Order 728748: \n",
      "Per E. Vidaure, need to let contractor in to Highland LS to work on RPZ.\n",
      "Contractor is in\n",
      "\n",
      "\n",
      "Work Order 730412: \n",
      "Need to clean wet well\n",
      "Used red hot in wet well pictures are in documents \n",
      "\n",
      "\n",
      "Work Order 730414: \n",
      "Need to clean wet well.\n",
      "We tested the new product \"Red hot\" at the station. Pictures are in the document section.\n",
      "\n",
      "\n",
      "Work Order 735812: \n",
      "PRV is broke.  This is the second time that the PRV has broken.  Please winterize when repairs have been made.\n",
      "I have contacted Brittan plumbing and they will send someone out.\n",
      "Prv ruptured due to freezing weather. Awaiting replacement parts.\n",
      "prv has been replaced and turned off at prv \n",
      "\n",
      "\n",
      "Work Order 743948: \n",
      "Wet well is horrible floats riding on rags and paper.  Talked with Peanut he will get someone out this afternoon to clean wet well.  \n",
      "Wet well is nice and clean, shinny. Vacced out\n",
      "\n",
      "\n",
      "Work Order 744019: \n",
      "Only Pump #1 is cycling, Pump #2 is failing to start at all\n",
      "There was a float that got knocked down due to vaccing out wet well earlier in the day \n",
      "\n",
      "\n",
      "Work Order 759257: \n",
      "Shiny wet well is vac out\n",
      "\n",
      "\n",
      "Work Order 759258: \n",
      "Nice and shiny. Wet well is vacced out\n",
      "\n",
      "\n",
      "Work Order 762493: \n",
      "As of 0900:Pump #1 had 59 starts for 0.3 hrsPump #2 had 44 starts for 0.3 hrsPrevious day:Pump #1 had 158 starts for 0.8 hrsPump #2 had 163 starts for 1.0 hrs\n",
      "Off float was going bad so we replaced it with a new float \n",
      "\n",
      "\n",
      "Work Order 768099: \n",
      "the station is clean\n",
      "\n",
      "\n",
      "Work Order 771556: \n",
      "Fluid meter will be testing the backflow device at the lift\n",
      "station\n",
      "Let contractor into lift station\n",
      "\n",
      "\n",
      "Work Order 771557: \n",
      "Fluid meter will be testing the backflow device at the lift\n",
      "station\n",
      "Showed contractor to RPZ at 334 lake livingston\n",
      "\n",
      "\n",
      "Work Order 772683: \n",
      "HOA was in auto. Nothing wrong \n",
      "\n",
      "\n",
      "Work Order 793147: \n",
      "Arrived at station alarm was flashing and sounding. I reset alarm.  Floats were sitting on grease so I blasted and alternated the pumps and they worked correctly.\n",
      "\n",
      "\n",
      "Work Order 793148: \n",
      "Wet well needs to be cleaned out floats were hanging up on grease.\n",
      "Wet well has been vaced out\n",
      "\n",
      "\n",
      "Work Order 799111: \n",
      "The station was running fine, I couldn't find any loud noise \n",
      "\n",
      "\n",
      "Work Order 799156: \n",
      "No alarm when we showed up.  We hit the alarm reset and it cleared the alarm from scada.\n",
      "\n",
      "\n",
      "Work Order 799204: \n",
      "Pump shows on SCADA to have not run in more than two days\n",
      "I pulled the floats for both pumps,they alternated and ran fine but pump 2 shows no run time\n",
      "Referred to SCADA for further action - no apparent telemetry from Pump #2\n",
      "SCADA found no issues with pump #2. Pump is showing both starts and run times. \n",
      "\n",
      "\n",
      "Work Order 807811: \n",
      "Checked the floats and they seemed to be operating properly but the wet well had a lot of grease. Dropped red hot and blasted the wet well to break up the grease\n",
      "\n",
      "\n",
      "Work Order 807816: \n",
      "Mayfield Ranch LS - Power blink from PEC, check pumpsMay need to check panels as well\n",
      "High-level alarm was flashing when I got there so I cleared the alarm and manually checked all the floats to make sure the pump came on and everything is working normal.\n",
      "\n",
      "\n",
      "Work Order 807978: \n",
      "Mayfield Ranch LS - Pump #1 fail, over temp\n",
      "When we reached there. There was no over temp or any other alarm. We reset just incase and manually ran pump 1 to check the amps. 12.2 amps compared to the 12.5 written on the panel. All seemed normal and operational\n",
      "\n",
      "\n",
      "Work Order 809646: \n",
      "Customer called in Alarm at Highland L/S\n",
      "Arrived and found both pumps tripped on the VFD .    Reset both and running.  Wet well does need to be cleaned.\n",
      "\n",
      "\n",
      "Work Order 811676: \n",
      "Mayfield Ranch LS - High Wet Well.\n",
      "There was no alarm or anything when I got here and everything seems to be ok\n",
      "\n",
      "\n",
      "Work Order 811698: \n",
      "Mayfield Ranch LS - High Wet Well.\n",
      "The high wet well has gone off multiple times today.Checked everything seems to be working fine going to have pump and motors come out and check the transducer and clean it to see if that will fix the problem.\n",
      "Wet well needs to be vaced out also\n",
      "Wet well had lots of rag in it the float would just sit on top of them. We cleaned wet well and float are now clear.\n",
      "\n",
      "\n",
      "Work Order 819493: \n",
      "Communication failure. We reset the power to the cook box and called SCADA to verify that everything was working. They confirmed that everything seemed to be working properly but because of the excessive. Highland LS comma failed routinely during the heat\n",
      "\n",
      "\n",
      "Work Order 882513: \n",
      "need to add comments and close the work order\n",
      "com-fail cleared when in route.\n"
     ]
    },
    {
     "name": "stderr",
     "output_type": "stream",
     "text": [
      "C:\\Users\\Ckluge\\AppData\\Local\\Temp\\ipykernel_86456\\3279303279.py:5: MarkupResemblesLocatorWarning: The input looks more like a filename than markup. You may want to open this file and pass the filehandle into Beautiful Soup.\n",
      "  soup = BeautifulSoup(html_string, 'html.parser')\n"
     ]
    }
   ],
   "source": [
    "mf_ls_comm.ADD_TEXT = mf_ls_comm.ADD_TEXT.apply(remove_html_tags)\n",
    "mf_ls_comm = mf_ls_comm.groupby('ADD_CODE')['ADD_TEXT'].apply(lambda x: '\\n'.join(x)).reset_index()\n",
    "print('Lift Station Work Orders\\n')\n",
    "for index, row in mf_ls_comm.iterrows():\n",
    "    add_code = row['ADD_CODE']\n",
    "    text = row['ADD_TEXT']\n",
    "    \n",
    "    print(f'Work Order {add_code}: ')\n",
    "    print(text)\n",
    "    print('\\n')"
   ],
   "metadata": {
    "collapsed": false,
    "ExecuteTime": {
     "end_time": "2023-09-22T17:38:43.331814500Z",
     "start_time": "2023-09-22T17:38:43.212813500Z"
    }
   }
  },
  {
   "cell_type": "code",
   "execution_count": 366,
   "outputs": [
    {
     "name": "stdout",
     "output_type": "stream",
     "text": [
      "['1492565', '1711043', '1892079', '1998582', '475650', '504766', '558745', '620461', '676008', '710956', '774123', '799119'] ['1907155']\n"
     ]
    }
   ],
   "source": [
    "addr_sewer_calls = ['1492565',\n",
    "                    '1711043',\n",
    "                    '1892079',\n",
    "                    '1998582',\n",
    "                    '475650',\n",
    "                    '504766',\n",
    "                    '558745',\n",
    "                    '620461',\n",
    "                    '676008',\n",
    "                    '710956',\n",
    "                    '774123',\n",
    "                    '799119',  # Lift station callout...\n",
    "                    ]\n",
    "prem_sewer_calls = ['1907155']\n",
    "\n",
    "print(addr_sewer_calls, prem_sewer_calls)\n"
   ],
   "metadata": {
    "collapsed": false,
    "ExecuteTime": {
     "end_time": "2023-09-22T17:38:44.633288Z",
     "start_time": "2023-09-22T17:38:44.605288400Z"
    }
   }
  },
  {
   "cell_type": "code",
   "execution_count": 367,
   "outputs": [],
   "source": [
    "mf_prem_out = mayfield_prem.loc[mayfield_prem.EVT_CODE.isin(prem_sewer_calls)]\n",
    "mf_addr_out = mayfield_addr.loc[mayfield_addr.EVT_CODE.isin(addr_sewer_calls)]"
   ],
   "metadata": {
    "collapsed": false,
    "ExecuteTime": {
     "end_time": "2023-09-22T17:38:45.554494300Z",
     "start_time": "2023-09-22T17:38:45.503489800Z"
    }
   }
  },
  {
   "cell_type": "code",
   "execution_count": 368,
   "outputs": [
    {
     "data": {
      "text/plain": "       EVT_CODE                date location    obj_code gis_id obj_class  \\\n111679  1907155 2020-08-20 19:35:00     None  PRM0027449    nan  PREMISES   \n111680  1907155 2020-08-20 19:35:00     None  PRM0027449    nan  PREMISES   \n\n       labor_type  booked_labor  \n111679          N           2.0  \n111680          O           1.0  ",
      "text/html": "<div>\n<style scoped>\n    .dataframe tbody tr th:only-of-type {\n        vertical-align: middle;\n    }\n\n    .dataframe tbody tr th {\n        vertical-align: top;\n    }\n\n    .dataframe thead th {\n        text-align: right;\n    }\n</style>\n<table border=\"1\" class=\"dataframe\">\n  <thead>\n    <tr style=\"text-align: right;\">\n      <th></th>\n      <th>EVT_CODE</th>\n      <th>date</th>\n      <th>location</th>\n      <th>obj_code</th>\n      <th>gis_id</th>\n      <th>obj_class</th>\n      <th>labor_type</th>\n      <th>booked_labor</th>\n    </tr>\n  </thead>\n  <tbody>\n    <tr>\n      <th>111679</th>\n      <td>1907155</td>\n      <td>2020-08-20 19:35:00</td>\n      <td>None</td>\n      <td>PRM0027449</td>\n      <td>nan</td>\n      <td>PREMISES</td>\n      <td>N</td>\n      <td>2.0</td>\n    </tr>\n    <tr>\n      <th>111680</th>\n      <td>1907155</td>\n      <td>2020-08-20 19:35:00</td>\n      <td>None</td>\n      <td>PRM0027449</td>\n      <td>nan</td>\n      <td>PREMISES</td>\n      <td>O</td>\n      <td>1.0</td>\n    </tr>\n  </tbody>\n</table>\n</div>"
     },
     "execution_count": 368,
     "metadata": {},
     "output_type": "execute_result"
    }
   ],
   "source": [
    "mf_prem_out"
   ],
   "metadata": {
    "collapsed": false,
    "ExecuteTime": {
     "end_time": "2023-09-22T17:38:46.235770Z",
     "start_time": "2023-09-22T17:38:46.147769100Z"
    }
   }
  },
  {
   "cell_type": "code",
   "execution_count": 369,
   "outputs": [
    {
     "data": {
      "text/plain": "       EVT_CODE                    date location  obj_code     gis_id  \\\n13966    475650 2016-06-16 14:22:16.080     None  C4AD1897  100052605   \n15330    504766 2016-08-05 10:24:53.550     None  AA964484  100053410   \n18193    558745 2016-11-30 09:01:30.383     None  109F022C  100053436   \n20630    620461 2017-03-17 16:44:28.433     None  24EC8254  100053454   \n24391    676008 2017-08-02 21:43:21.850     None  7FE1A367  100053463   \n27579    710956 2017-11-06 14:57:37.707     None  A6AA3666  100004896   \n31362    774123 2018-03-16 16:37:11.137     None  5A7E8492  100085391   \n33412    799119 2018-05-28 14:00:23.717     None  2D4C9F1D  100005411   \n61404   1492565 2019-04-15 11:28:04.530     None  DE3F239B  100004823   \n88659   1711043 2020-01-02 18:34:00.000     None  A7C6C242  100113539   \n110087  1892079 2020-08-05 12:22:49.070     None  F5711975  100053409   \n123425  1998582 2020-12-06 12:15:00.000     None  5A7E8492  100085391   \n\n       obj_class labor_type  booked_labor  \n13966    ADDRESS          N           2.0  \n15330    ADDRESS          N           2.0  \n18193    ADDRESS          N           1.0  \n20630    ADDRESS          O           3.0  \n24391    ADDRESS          O           1.0  \n27579    ADDRESS          N           3.0  \n31362    ADDRESS          O           4.0  \n33412    ADDRESS          N           2.0  \n61404    ADDRESS          N           2.0  \n88659    ADDRESS          N           6.0  \n110087   ADDRESS          N           2.0  \n123425   ADDRESS          N           1.0  ",
      "text/html": "<div>\n<style scoped>\n    .dataframe tbody tr th:only-of-type {\n        vertical-align: middle;\n    }\n\n    .dataframe tbody tr th {\n        vertical-align: top;\n    }\n\n    .dataframe thead th {\n        text-align: right;\n    }\n</style>\n<table border=\"1\" class=\"dataframe\">\n  <thead>\n    <tr style=\"text-align: right;\">\n      <th></th>\n      <th>EVT_CODE</th>\n      <th>date</th>\n      <th>location</th>\n      <th>obj_code</th>\n      <th>gis_id</th>\n      <th>obj_class</th>\n      <th>labor_type</th>\n      <th>booked_labor</th>\n    </tr>\n  </thead>\n  <tbody>\n    <tr>\n      <th>13966</th>\n      <td>475650</td>\n      <td>2016-06-16 14:22:16.080</td>\n      <td>None</td>\n      <td>C4AD1897</td>\n      <td>100052605</td>\n      <td>ADDRESS</td>\n      <td>N</td>\n      <td>2.0</td>\n    </tr>\n    <tr>\n      <th>15330</th>\n      <td>504766</td>\n      <td>2016-08-05 10:24:53.550</td>\n      <td>None</td>\n      <td>AA964484</td>\n      <td>100053410</td>\n      <td>ADDRESS</td>\n      <td>N</td>\n      <td>2.0</td>\n    </tr>\n    <tr>\n      <th>18193</th>\n      <td>558745</td>\n      <td>2016-11-30 09:01:30.383</td>\n      <td>None</td>\n      <td>109F022C</td>\n      <td>100053436</td>\n      <td>ADDRESS</td>\n      <td>N</td>\n      <td>1.0</td>\n    </tr>\n    <tr>\n      <th>20630</th>\n      <td>620461</td>\n      <td>2017-03-17 16:44:28.433</td>\n      <td>None</td>\n      <td>24EC8254</td>\n      <td>100053454</td>\n      <td>ADDRESS</td>\n      <td>O</td>\n      <td>3.0</td>\n    </tr>\n    <tr>\n      <th>24391</th>\n      <td>676008</td>\n      <td>2017-08-02 21:43:21.850</td>\n      <td>None</td>\n      <td>7FE1A367</td>\n      <td>100053463</td>\n      <td>ADDRESS</td>\n      <td>O</td>\n      <td>1.0</td>\n    </tr>\n    <tr>\n      <th>27579</th>\n      <td>710956</td>\n      <td>2017-11-06 14:57:37.707</td>\n      <td>None</td>\n      <td>A6AA3666</td>\n      <td>100004896</td>\n      <td>ADDRESS</td>\n      <td>N</td>\n      <td>3.0</td>\n    </tr>\n    <tr>\n      <th>31362</th>\n      <td>774123</td>\n      <td>2018-03-16 16:37:11.137</td>\n      <td>None</td>\n      <td>5A7E8492</td>\n      <td>100085391</td>\n      <td>ADDRESS</td>\n      <td>O</td>\n      <td>4.0</td>\n    </tr>\n    <tr>\n      <th>33412</th>\n      <td>799119</td>\n      <td>2018-05-28 14:00:23.717</td>\n      <td>None</td>\n      <td>2D4C9F1D</td>\n      <td>100005411</td>\n      <td>ADDRESS</td>\n      <td>N</td>\n      <td>2.0</td>\n    </tr>\n    <tr>\n      <th>61404</th>\n      <td>1492565</td>\n      <td>2019-04-15 11:28:04.530</td>\n      <td>None</td>\n      <td>DE3F239B</td>\n      <td>100004823</td>\n      <td>ADDRESS</td>\n      <td>N</td>\n      <td>2.0</td>\n    </tr>\n    <tr>\n      <th>88659</th>\n      <td>1711043</td>\n      <td>2020-01-02 18:34:00.000</td>\n      <td>None</td>\n      <td>A7C6C242</td>\n      <td>100113539</td>\n      <td>ADDRESS</td>\n      <td>N</td>\n      <td>6.0</td>\n    </tr>\n    <tr>\n      <th>110087</th>\n      <td>1892079</td>\n      <td>2020-08-05 12:22:49.070</td>\n      <td>None</td>\n      <td>F5711975</td>\n      <td>100053409</td>\n      <td>ADDRESS</td>\n      <td>N</td>\n      <td>2.0</td>\n    </tr>\n    <tr>\n      <th>123425</th>\n      <td>1998582</td>\n      <td>2020-12-06 12:15:00.000</td>\n      <td>None</td>\n      <td>5A7E8492</td>\n      <td>100085391</td>\n      <td>ADDRESS</td>\n      <td>N</td>\n      <td>1.0</td>\n    </tr>\n  </tbody>\n</table>\n</div>"
     },
     "execution_count": 369,
     "metadata": {},
     "output_type": "execute_result"
    }
   ],
   "source": [
    "mf_addr_out"
   ],
   "metadata": {
    "collapsed": false,
    "ExecuteTime": {
     "end_time": "2023-09-22T17:38:46.945940300Z",
     "start_time": "2023-09-22T17:38:46.885934300Z"
    }
   }
  },
  {
   "cell_type": "code",
   "execution_count": 370,
   "outputs": [],
   "source": [
    "mf_ls_out = mayfield_ls"
   ],
   "metadata": {
    "collapsed": false,
    "ExecuteTime": {
     "end_time": "2023-09-22T17:38:47.598401200Z",
     "start_time": "2023-09-22T17:38:47.544407100Z"
    }
   }
  },
  {
   "cell_type": "code",
   "execution_count": 400,
   "outputs": [],
   "source": [
    "df_out = pd.concat([mf_prem_out, mf_addr_out, mf_ls_out])"
   ],
   "metadata": {
    "collapsed": false,
    "ExecuteTime": {
     "end_time": "2023-09-22T17:47:58.269150500Z",
     "start_time": "2023-09-22T17:47:58.226155200Z"
    }
   }
  },
  {
   "cell_type": "code",
   "execution_count": 401,
   "outputs": [
    {
     "name": "stdout",
     "output_type": "stream",
     "text": [
      "<class 'pandas.core.frame.DataFrame'>\n",
      "Index: 277 entries, 111679 to 181703\n",
      "Data columns (total 8 columns):\n",
      " #   Column        Non-Null Count  Dtype         \n",
      "---  ------        --------------  -----         \n",
      " 0   EVT_CODE      277 non-null    object        \n",
      " 1   date          277 non-null    datetime64[ns]\n",
      " 2   location      263 non-null    object        \n",
      " 3   obj_code      277 non-null    object        \n",
      " 4   gis_id        277 non-null    object        \n",
      " 5   obj_class     277 non-null    object        \n",
      " 6   labor_type    277 non-null    object        \n",
      " 7   booked_labor  277 non-null    float64       \n",
      "dtypes: datetime64[ns](1), float64(1), object(6)\n",
      "memory usage: 19.5+ KB\n"
     ]
    }
   ],
   "source": [
    "df_out.info()"
   ],
   "metadata": {
    "collapsed": false,
    "ExecuteTime": {
     "end_time": "2023-09-22T17:47:59.114128200Z",
     "start_time": "2023-09-22T17:47:59.042122200Z"
    }
   }
  },
  {
   "cell_type": "code",
   "execution_count": 421,
   "outputs": [],
   "source": [
    "from dateutil import relativedelta\n",
    "from datetime import datetime"
   ],
   "metadata": {
    "collapsed": false,
    "ExecuteTime": {
     "end_time": "2023-09-22T17:50:13.900227400Z",
     "start_time": "2023-09-22T17:50:13.876247600Z"
    }
   }
  },
  {
   "cell_type": "code",
   "execution_count": 575,
   "outputs": [],
   "source": [
    "now = datetime.now()"
   ],
   "metadata": {
    "collapsed": false,
    "ExecuteTime": {
     "end_time": "2023-09-25T16:58:06.358988700Z",
     "start_time": "2023-09-25T16:58:06.327148600Z"
    }
   }
  },
  {
   "cell_type": "code",
   "execution_count": 576,
   "outputs": [],
   "source": [
    "then = now - relativedelta.relativedelta(months=12)"
   ],
   "metadata": {
    "collapsed": false,
    "ExecuteTime": {
     "end_time": "2023-09-25T16:58:07.134569100Z",
     "start_time": "2023-09-25T16:58:07.068561800Z"
    }
   }
  },
  {
   "cell_type": "code",
   "execution_count": 531,
   "outputs": [],
   "source": [
    "def is_after_hours(timestamp):\n",
    "    time = timestamp.time()\n",
    "    day_of_week = timestamp.dayofweek\n",
    "    return (time > pd.to_datetime('16:00').time() or\n",
    "            time < pd.to_datetime('07:00').time() or\n",
    "            day_of_week in [0, 7])"
   ],
   "metadata": {
    "collapsed": false,
    "ExecuteTime": {
     "end_time": "2023-09-25T16:00:16.820867400Z",
     "start_time": "2023-09-25T16:00:16.762856600Z"
    }
   }
  },
  {
   "cell_type": "code",
   "execution_count": 577,
   "outputs": [],
   "source": [
    "df_out['after_hours'] = df_out['date'].apply(is_after_hours)"
   ],
   "metadata": {
    "collapsed": false,
    "ExecuteTime": {
     "end_time": "2023-09-25T16:58:10.287281Z",
     "start_time": "2023-09-25T16:58:10.173280900Z"
    }
   }
  },
  {
   "cell_type": "code",
   "execution_count": 578,
   "outputs": [],
   "source": [
    "df_out['eligible'] = (df_out.after_hours == True) & (df_out.date >= then)"
   ],
   "metadata": {
    "collapsed": false,
    "ExecuteTime": {
     "end_time": "2023-09-25T16:58:11.086532800Z",
     "start_time": "2023-09-25T16:58:10.932529900Z"
    }
   }
  },
  {
   "cell_type": "code",
   "execution_count": 579,
   "outputs": [
    {
     "data": {
      "text/plain": "       EVT_CODE                    date location            obj_code  \\\n111679  1907155 2020-08-20 19:35:00.000     None          PRM0027449   \n111680  1907155 2020-08-20 19:35:00.000     None          PRM0027449   \n20630    620461 2017-03-17 16:44:28.433     None            24EC8254   \n24391    676008 2017-08-02 21:43:21.850     None            7FE1A367   \n27579    710956 2017-11-06 14:57:37.707     None            A6AA3666   \n...         ...                     ...      ...                 ...   \n177765  2617573 2023-02-01 04:53:00.000      HML            S-CS-HML   \n179083  2626996 2023-03-31 18:00:00.000      MFL            S-CS-MFL   \n179889  2633761 2023-05-20 00:15:00.000      HML            S-CS-HML   \n179896  2633768 2023-05-20 20:41:00.000      HML       S-CS-HML-WTWL   \n181703  2651217 2023-08-26 19:43:00.000      MFL  S-CS-MFL-DRWL-PMP1   \n\n           gis_id obj_class labor_type  booked_labor  after_hours  eligible  \\\n111679        nan  PREMISES          N           2.0         True     False   \n111680        nan  PREMISES          O           1.0         True     False   \n20630   100053454   ADDRESS          O           3.0         True     False   \n24391   100053463   ADDRESS          O           1.0         True     False   \n27579   100004896   ADDRESS          N           3.0         True     False   \n...           ...       ...        ...           ...          ...       ...   \n177765        nan   STATION          N           1.0         True      True   \n179083        nan   STATION          O           2.0         True      True   \n179889        nan   STATION          N           1.0         True      True   \n179896        nan   WETWELL          N           3.0         True      True   \n181703        nan      PUMP          N           1.0         True      True   \n\n        fee    cost  \n111679  600   73.28  \n111680  600   57.69  \n20630   600  173.07  \n24391   600   57.69  \n27579   600  109.92  \n...     ...     ...  \n177765  600   36.64  \n179083  600  115.38  \n179889  600   36.64  \n179896  600  109.92  \n181703  600   36.64  \n\n[150 rows x 12 columns]",
      "text/html": "<div>\n<style scoped>\n    .dataframe tbody tr th:only-of-type {\n        vertical-align: middle;\n    }\n\n    .dataframe tbody tr th {\n        vertical-align: top;\n    }\n\n    .dataframe thead th {\n        text-align: right;\n    }\n</style>\n<table border=\"1\" class=\"dataframe\">\n  <thead>\n    <tr style=\"text-align: right;\">\n      <th></th>\n      <th>EVT_CODE</th>\n      <th>date</th>\n      <th>location</th>\n      <th>obj_code</th>\n      <th>gis_id</th>\n      <th>obj_class</th>\n      <th>labor_type</th>\n      <th>booked_labor</th>\n      <th>after_hours</th>\n      <th>eligible</th>\n      <th>fee</th>\n      <th>cost</th>\n    </tr>\n  </thead>\n  <tbody>\n    <tr>\n      <th>111679</th>\n      <td>1907155</td>\n      <td>2020-08-20 19:35:00.000</td>\n      <td>None</td>\n      <td>PRM0027449</td>\n      <td>nan</td>\n      <td>PREMISES</td>\n      <td>N</td>\n      <td>2.0</td>\n      <td>True</td>\n      <td>False</td>\n      <td>600</td>\n      <td>73.28</td>\n    </tr>\n    <tr>\n      <th>111680</th>\n      <td>1907155</td>\n      <td>2020-08-20 19:35:00.000</td>\n      <td>None</td>\n      <td>PRM0027449</td>\n      <td>nan</td>\n      <td>PREMISES</td>\n      <td>O</td>\n      <td>1.0</td>\n      <td>True</td>\n      <td>False</td>\n      <td>600</td>\n      <td>57.69</td>\n    </tr>\n    <tr>\n      <th>20630</th>\n      <td>620461</td>\n      <td>2017-03-17 16:44:28.433</td>\n      <td>None</td>\n      <td>24EC8254</td>\n      <td>100053454</td>\n      <td>ADDRESS</td>\n      <td>O</td>\n      <td>3.0</td>\n      <td>True</td>\n      <td>False</td>\n      <td>600</td>\n      <td>173.07</td>\n    </tr>\n    <tr>\n      <th>24391</th>\n      <td>676008</td>\n      <td>2017-08-02 21:43:21.850</td>\n      <td>None</td>\n      <td>7FE1A367</td>\n      <td>100053463</td>\n      <td>ADDRESS</td>\n      <td>O</td>\n      <td>1.0</td>\n      <td>True</td>\n      <td>False</td>\n      <td>600</td>\n      <td>57.69</td>\n    </tr>\n    <tr>\n      <th>27579</th>\n      <td>710956</td>\n      <td>2017-11-06 14:57:37.707</td>\n      <td>None</td>\n      <td>A6AA3666</td>\n      <td>100004896</td>\n      <td>ADDRESS</td>\n      <td>N</td>\n      <td>3.0</td>\n      <td>True</td>\n      <td>False</td>\n      <td>600</td>\n      <td>109.92</td>\n    </tr>\n    <tr>\n      <th>...</th>\n      <td>...</td>\n      <td>...</td>\n      <td>...</td>\n      <td>...</td>\n      <td>...</td>\n      <td>...</td>\n      <td>...</td>\n      <td>...</td>\n      <td>...</td>\n      <td>...</td>\n      <td>...</td>\n      <td>...</td>\n    </tr>\n    <tr>\n      <th>177765</th>\n      <td>2617573</td>\n      <td>2023-02-01 04:53:00.000</td>\n      <td>HML</td>\n      <td>S-CS-HML</td>\n      <td>nan</td>\n      <td>STATION</td>\n      <td>N</td>\n      <td>1.0</td>\n      <td>True</td>\n      <td>True</td>\n      <td>600</td>\n      <td>36.64</td>\n    </tr>\n    <tr>\n      <th>179083</th>\n      <td>2626996</td>\n      <td>2023-03-31 18:00:00.000</td>\n      <td>MFL</td>\n      <td>S-CS-MFL</td>\n      <td>nan</td>\n      <td>STATION</td>\n      <td>O</td>\n      <td>2.0</td>\n      <td>True</td>\n      <td>True</td>\n      <td>600</td>\n      <td>115.38</td>\n    </tr>\n    <tr>\n      <th>179889</th>\n      <td>2633761</td>\n      <td>2023-05-20 00:15:00.000</td>\n      <td>HML</td>\n      <td>S-CS-HML</td>\n      <td>nan</td>\n      <td>STATION</td>\n      <td>N</td>\n      <td>1.0</td>\n      <td>True</td>\n      <td>True</td>\n      <td>600</td>\n      <td>36.64</td>\n    </tr>\n    <tr>\n      <th>179896</th>\n      <td>2633768</td>\n      <td>2023-05-20 20:41:00.000</td>\n      <td>HML</td>\n      <td>S-CS-HML-WTWL</td>\n      <td>nan</td>\n      <td>WETWELL</td>\n      <td>N</td>\n      <td>3.0</td>\n      <td>True</td>\n      <td>True</td>\n      <td>600</td>\n      <td>109.92</td>\n    </tr>\n    <tr>\n      <th>181703</th>\n      <td>2651217</td>\n      <td>2023-08-26 19:43:00.000</td>\n      <td>MFL</td>\n      <td>S-CS-MFL-DRWL-PMP1</td>\n      <td>nan</td>\n      <td>PUMP</td>\n      <td>N</td>\n      <td>1.0</td>\n      <td>True</td>\n      <td>True</td>\n      <td>600</td>\n      <td>36.64</td>\n    </tr>\n  </tbody>\n</table>\n<p>150 rows × 12 columns</p>\n</div>"
     },
     "execution_count": 579,
     "metadata": {},
     "output_type": "execute_result"
    }
   ],
   "source": [
    "df_out.loc[df_out.after_hours == True, :]"
   ],
   "metadata": {
    "collapsed": false,
    "ExecuteTime": {
     "end_time": "2023-09-25T16:58:11.925080700Z",
     "start_time": "2023-09-25T16:58:11.802081800Z"
    }
   }
  },
  {
   "cell_type": "code",
   "execution_count": 581,
   "outputs": [],
   "source": [
    "def calculate_cost(row):\n",
    "    avg_n_rate = 36.64\n",
    "    avg_o_rate = 57.69\n",
    "    \n",
    "    if row.labor_type == 'N':\n",
    "        product = row.booked_labor * avg_n_rate\n",
    "    else:\n",
    "        product = row.booked_labor * avg_o_rate\n",
    "    \n",
    "    return product"
   ],
   "metadata": {
    "collapsed": false,
    "ExecuteTime": {
     "end_time": "2023-09-25T16:58:16.366201400Z",
     "start_time": "2023-09-25T16:58:16.300619600Z"
    }
   }
  },
  {
   "cell_type": "code",
   "execution_count": 582,
   "outputs": [],
   "source": [
    "df_out['fee'] = 0\n",
    "df_out.loc[df_out['after_hours'] == True, 'fee'] = 600"
   ],
   "metadata": {
    "collapsed": false,
    "ExecuteTime": {
     "end_time": "2023-09-25T16:58:16.926702Z",
     "start_time": "2023-09-25T16:58:16.862702300Z"
    }
   }
  },
  {
   "cell_type": "code",
   "execution_count": 583,
   "outputs": [
    {
     "data": {
      "text/plain": "       EVT_CODE                    date location    obj_code     gis_id  \\\n111679  1907155 2020-08-20 19:35:00.000     None  PRM0027449        nan   \n111680  1907155 2020-08-20 19:35:00.000     None  PRM0027449        nan   \n13966    475650 2016-06-16 14:22:16.080     None    C4AD1897  100052605   \n15330    504766 2016-08-05 10:24:53.550     None    AA964484  100053410   \n18193    558745 2016-11-30 09:01:30.383     None    109F022C  100053436   \n\n       obj_class labor_type  booked_labor  after_hours  eligible  fee   cost  \n111679  PREMISES          N           2.0         True     False  600  73.28  \n111680  PREMISES          O           1.0         True     False  600  57.69  \n13966    ADDRESS          N           2.0        False     False    0  73.28  \n15330    ADDRESS          N           2.0        False     False    0  73.28  \n18193    ADDRESS          N           1.0        False     False    0  36.64  ",
      "text/html": "<div>\n<style scoped>\n    .dataframe tbody tr th:only-of-type {\n        vertical-align: middle;\n    }\n\n    .dataframe tbody tr th {\n        vertical-align: top;\n    }\n\n    .dataframe thead th {\n        text-align: right;\n    }\n</style>\n<table border=\"1\" class=\"dataframe\">\n  <thead>\n    <tr style=\"text-align: right;\">\n      <th></th>\n      <th>EVT_CODE</th>\n      <th>date</th>\n      <th>location</th>\n      <th>obj_code</th>\n      <th>gis_id</th>\n      <th>obj_class</th>\n      <th>labor_type</th>\n      <th>booked_labor</th>\n      <th>after_hours</th>\n      <th>eligible</th>\n      <th>fee</th>\n      <th>cost</th>\n    </tr>\n  </thead>\n  <tbody>\n    <tr>\n      <th>111679</th>\n      <td>1907155</td>\n      <td>2020-08-20 19:35:00.000</td>\n      <td>None</td>\n      <td>PRM0027449</td>\n      <td>nan</td>\n      <td>PREMISES</td>\n      <td>N</td>\n      <td>2.0</td>\n      <td>True</td>\n      <td>False</td>\n      <td>600</td>\n      <td>73.28</td>\n    </tr>\n    <tr>\n      <th>111680</th>\n      <td>1907155</td>\n      <td>2020-08-20 19:35:00.000</td>\n      <td>None</td>\n      <td>PRM0027449</td>\n      <td>nan</td>\n      <td>PREMISES</td>\n      <td>O</td>\n      <td>1.0</td>\n      <td>True</td>\n      <td>False</td>\n      <td>600</td>\n      <td>57.69</td>\n    </tr>\n    <tr>\n      <th>13966</th>\n      <td>475650</td>\n      <td>2016-06-16 14:22:16.080</td>\n      <td>None</td>\n      <td>C4AD1897</td>\n      <td>100052605</td>\n      <td>ADDRESS</td>\n      <td>N</td>\n      <td>2.0</td>\n      <td>False</td>\n      <td>False</td>\n      <td>0</td>\n      <td>73.28</td>\n    </tr>\n    <tr>\n      <th>15330</th>\n      <td>504766</td>\n      <td>2016-08-05 10:24:53.550</td>\n      <td>None</td>\n      <td>AA964484</td>\n      <td>100053410</td>\n      <td>ADDRESS</td>\n      <td>N</td>\n      <td>2.0</td>\n      <td>False</td>\n      <td>False</td>\n      <td>0</td>\n      <td>73.28</td>\n    </tr>\n    <tr>\n      <th>18193</th>\n      <td>558745</td>\n      <td>2016-11-30 09:01:30.383</td>\n      <td>None</td>\n      <td>109F022C</td>\n      <td>100053436</td>\n      <td>ADDRESS</td>\n      <td>N</td>\n      <td>1.0</td>\n      <td>False</td>\n      <td>False</td>\n      <td>0</td>\n      <td>36.64</td>\n    </tr>\n  </tbody>\n</table>\n</div>"
     },
     "execution_count": 583,
     "metadata": {},
     "output_type": "execute_result"
    }
   ],
   "source": [
    "df_out.head()"
   ],
   "metadata": {
    "collapsed": false,
    "ExecuteTime": {
     "end_time": "2023-09-25T16:58:17.401796800Z",
     "start_time": "2023-09-25T16:58:17.323794Z"
    }
   }
  },
  {
   "cell_type": "code",
   "execution_count": 584,
   "outputs": [],
   "source": [
    "df_out['cost'] = df_out.apply(calculate_cost, axis=1)"
   ],
   "metadata": {
    "collapsed": false,
    "ExecuteTime": {
     "end_time": "2023-09-25T16:58:18.259609800Z",
     "start_time": "2023-09-25T16:58:18.172610100Z"
    }
   }
  },
  {
   "cell_type": "code",
   "execution_count": 585,
   "outputs": [
    {
     "data": {
      "text/plain": "       EVT_CODE                    date location    obj_code     gis_id  \\\n111679  1907155 2020-08-20 19:35:00.000     None  PRM0027449        nan   \n111680  1907155 2020-08-20 19:35:00.000     None  PRM0027449        nan   \n13966    475650 2016-06-16 14:22:16.080     None    C4AD1897  100052605   \n15330    504766 2016-08-05 10:24:53.550     None    AA964484  100053410   \n18193    558745 2016-11-30 09:01:30.383     None    109F022C  100053436   \n\n       obj_class labor_type  booked_labor  after_hours  eligible  fee   cost  \n111679  PREMISES          N           2.0         True     False  600  73.28  \n111680  PREMISES          O           1.0         True     False  600  57.69  \n13966    ADDRESS          N           2.0        False     False    0  73.28  \n15330    ADDRESS          N           2.0        False     False    0  73.28  \n18193    ADDRESS          N           1.0        False     False    0  36.64  ",
      "text/html": "<div>\n<style scoped>\n    .dataframe tbody tr th:only-of-type {\n        vertical-align: middle;\n    }\n\n    .dataframe tbody tr th {\n        vertical-align: top;\n    }\n\n    .dataframe thead th {\n        text-align: right;\n    }\n</style>\n<table border=\"1\" class=\"dataframe\">\n  <thead>\n    <tr style=\"text-align: right;\">\n      <th></th>\n      <th>EVT_CODE</th>\n      <th>date</th>\n      <th>location</th>\n      <th>obj_code</th>\n      <th>gis_id</th>\n      <th>obj_class</th>\n      <th>labor_type</th>\n      <th>booked_labor</th>\n      <th>after_hours</th>\n      <th>eligible</th>\n      <th>fee</th>\n      <th>cost</th>\n    </tr>\n  </thead>\n  <tbody>\n    <tr>\n      <th>111679</th>\n      <td>1907155</td>\n      <td>2020-08-20 19:35:00.000</td>\n      <td>None</td>\n      <td>PRM0027449</td>\n      <td>nan</td>\n      <td>PREMISES</td>\n      <td>N</td>\n      <td>2.0</td>\n      <td>True</td>\n      <td>False</td>\n      <td>600</td>\n      <td>73.28</td>\n    </tr>\n    <tr>\n      <th>111680</th>\n      <td>1907155</td>\n      <td>2020-08-20 19:35:00.000</td>\n      <td>None</td>\n      <td>PRM0027449</td>\n      <td>nan</td>\n      <td>PREMISES</td>\n      <td>O</td>\n      <td>1.0</td>\n      <td>True</td>\n      <td>False</td>\n      <td>600</td>\n      <td>57.69</td>\n    </tr>\n    <tr>\n      <th>13966</th>\n      <td>475650</td>\n      <td>2016-06-16 14:22:16.080</td>\n      <td>None</td>\n      <td>C4AD1897</td>\n      <td>100052605</td>\n      <td>ADDRESS</td>\n      <td>N</td>\n      <td>2.0</td>\n      <td>False</td>\n      <td>False</td>\n      <td>0</td>\n      <td>73.28</td>\n    </tr>\n    <tr>\n      <th>15330</th>\n      <td>504766</td>\n      <td>2016-08-05 10:24:53.550</td>\n      <td>None</td>\n      <td>AA964484</td>\n      <td>100053410</td>\n      <td>ADDRESS</td>\n      <td>N</td>\n      <td>2.0</td>\n      <td>False</td>\n      <td>False</td>\n      <td>0</td>\n      <td>73.28</td>\n    </tr>\n    <tr>\n      <th>18193</th>\n      <td>558745</td>\n      <td>2016-11-30 09:01:30.383</td>\n      <td>None</td>\n      <td>109F022C</td>\n      <td>100053436</td>\n      <td>ADDRESS</td>\n      <td>N</td>\n      <td>1.0</td>\n      <td>False</td>\n      <td>False</td>\n      <td>0</td>\n      <td>36.64</td>\n    </tr>\n  </tbody>\n</table>\n</div>"
     },
     "execution_count": 585,
     "metadata": {},
     "output_type": "execute_result"
    }
   ],
   "source": [
    "df_out.head()"
   ],
   "metadata": {
    "collapsed": false,
    "ExecuteTime": {
     "end_time": "2023-09-25T16:58:19.090613600Z",
     "start_time": "2023-09-25T16:58:18.972612600Z"
    }
   }
  },
  {
   "cell_type": "code",
   "execution_count": 586,
   "outputs": [
    {
     "data": {
      "text/plain": "7800"
     },
     "execution_count": 586,
     "metadata": {},
     "output_type": "execute_result"
    }
   ],
   "source": [
    "df_out.loc[df_out.eligible == True, 'fee'].sum()"
   ],
   "metadata": {
    "collapsed": false,
    "ExecuteTime": {
     "end_time": "2023-09-25T16:58:20.458158700Z",
     "start_time": "2023-09-25T16:58:20.397150600Z"
    }
   }
  },
  {
   "cell_type": "code",
   "execution_count": 587,
   "outputs": [
    {
     "data": {
      "text/plain": "1110.1200000000001"
     },
     "execution_count": 587,
     "metadata": {},
     "output_type": "execute_result"
    }
   ],
   "source": [
    "df_out.loc[df_out.eligible == True, 'cost'].sum()"
   ],
   "metadata": {
    "collapsed": false,
    "ExecuteTime": {
     "end_time": "2023-09-25T16:58:21.161798800Z",
     "start_time": "2023-09-25T16:58:21.053782800Z"
    }
   }
  },
  {
   "cell_type": "code",
   "execution_count": 588,
   "outputs": [
    {
     "data": {
      "text/plain": "45197.765073279996"
     },
     "execution_count": 588,
     "metadata": {},
     "output_type": "execute_result"
    }
   ],
   "source": [
    "df_out.cost.sum()"
   ],
   "metadata": {
    "collapsed": false,
    "ExecuteTime": {
     "end_time": "2023-09-25T16:58:22.251385400Z",
     "start_time": "2023-09-25T16:58:22.173372100Z"
    }
   }
  },
  {
   "cell_type": "code",
   "execution_count": 589,
   "outputs": [
    {
     "ename": "PermissionError",
     "evalue": "[Errno 13] Permission denied: '../data/20230925_eligible_service_calls.csv'",
     "output_type": "error",
     "traceback": [
      "\u001B[1;31m---------------------------------------------------------------------------\u001B[0m",
      "\u001B[1;31mPermissionError\u001B[0m                           Traceback (most recent call last)",
      "Cell \u001B[1;32mIn[589], line 1\u001B[0m\n\u001B[1;32m----> 1\u001B[0m \u001B[43mdf_out\u001B[49m\u001B[38;5;241;43m.\u001B[39;49m\u001B[43mloc\u001B[49m\u001B[43m[\u001B[49m\u001B[43mdf_out\u001B[49m\u001B[43m[\u001B[49m\u001B[38;5;124;43m'\u001B[39;49m\u001B[38;5;124;43meligible\u001B[39;49m\u001B[38;5;124;43m'\u001B[39;49m\u001B[43m]\u001B[49m\u001B[43m,\u001B[49m\u001B[43m \u001B[49m\u001B[43m:\u001B[49m\u001B[43m]\u001B[49m\u001B[38;5;241;43m.\u001B[39;49m\u001B[43mto_csv\u001B[49m\u001B[43m(\u001B[49m\u001B[38;5;124;43m'\u001B[39;49m\u001B[38;5;124;43m../data/20230925_eligible_service_calls.csv\u001B[39;49m\u001B[38;5;124;43m'\u001B[39;49m\u001B[43m)\u001B[49m\n",
      "File \u001B[1;32m~\\AppData\\Local\\anaconda3\\envs\\mayfield_workorders_analysis\\lib\\site-packages\\pandas\\core\\generic.py:3772\u001B[0m, in \u001B[0;36mNDFrame.to_csv\u001B[1;34m(self, path_or_buf, sep, na_rep, float_format, columns, header, index, index_label, mode, encoding, compression, quoting, quotechar, lineterminator, chunksize, date_format, doublequote, escapechar, decimal, errors, storage_options)\u001B[0m\n\u001B[0;32m   3761\u001B[0m df \u001B[38;5;241m=\u001B[39m \u001B[38;5;28mself\u001B[39m \u001B[38;5;28;01mif\u001B[39;00m \u001B[38;5;28misinstance\u001B[39m(\u001B[38;5;28mself\u001B[39m, ABCDataFrame) \u001B[38;5;28;01melse\u001B[39;00m \u001B[38;5;28mself\u001B[39m\u001B[38;5;241m.\u001B[39mto_frame()\n\u001B[0;32m   3763\u001B[0m formatter \u001B[38;5;241m=\u001B[39m DataFrameFormatter(\n\u001B[0;32m   3764\u001B[0m     frame\u001B[38;5;241m=\u001B[39mdf,\n\u001B[0;32m   3765\u001B[0m     header\u001B[38;5;241m=\u001B[39mheader,\n\u001B[1;32m   (...)\u001B[0m\n\u001B[0;32m   3769\u001B[0m     decimal\u001B[38;5;241m=\u001B[39mdecimal,\n\u001B[0;32m   3770\u001B[0m )\n\u001B[1;32m-> 3772\u001B[0m \u001B[38;5;28;01mreturn\u001B[39;00m \u001B[43mDataFrameRenderer\u001B[49m\u001B[43m(\u001B[49m\u001B[43mformatter\u001B[49m\u001B[43m)\u001B[49m\u001B[38;5;241;43m.\u001B[39;49m\u001B[43mto_csv\u001B[49m\u001B[43m(\u001B[49m\n\u001B[0;32m   3773\u001B[0m \u001B[43m    \u001B[49m\u001B[43mpath_or_buf\u001B[49m\u001B[43m,\u001B[49m\n\u001B[0;32m   3774\u001B[0m \u001B[43m    \u001B[49m\u001B[43mlineterminator\u001B[49m\u001B[38;5;241;43m=\u001B[39;49m\u001B[43mlineterminator\u001B[49m\u001B[43m,\u001B[49m\n\u001B[0;32m   3775\u001B[0m \u001B[43m    \u001B[49m\u001B[43msep\u001B[49m\u001B[38;5;241;43m=\u001B[39;49m\u001B[43msep\u001B[49m\u001B[43m,\u001B[49m\n\u001B[0;32m   3776\u001B[0m \u001B[43m    \u001B[49m\u001B[43mencoding\u001B[49m\u001B[38;5;241;43m=\u001B[39;49m\u001B[43mencoding\u001B[49m\u001B[43m,\u001B[49m\n\u001B[0;32m   3777\u001B[0m \u001B[43m    \u001B[49m\u001B[43merrors\u001B[49m\u001B[38;5;241;43m=\u001B[39;49m\u001B[43merrors\u001B[49m\u001B[43m,\u001B[49m\n\u001B[0;32m   3778\u001B[0m \u001B[43m    \u001B[49m\u001B[43mcompression\u001B[49m\u001B[38;5;241;43m=\u001B[39;49m\u001B[43mcompression\u001B[49m\u001B[43m,\u001B[49m\n\u001B[0;32m   3779\u001B[0m \u001B[43m    \u001B[49m\u001B[43mquoting\u001B[49m\u001B[38;5;241;43m=\u001B[39;49m\u001B[43mquoting\u001B[49m\u001B[43m,\u001B[49m\n\u001B[0;32m   3780\u001B[0m \u001B[43m    \u001B[49m\u001B[43mcolumns\u001B[49m\u001B[38;5;241;43m=\u001B[39;49m\u001B[43mcolumns\u001B[49m\u001B[43m,\u001B[49m\n\u001B[0;32m   3781\u001B[0m \u001B[43m    \u001B[49m\u001B[43mindex_label\u001B[49m\u001B[38;5;241;43m=\u001B[39;49m\u001B[43mindex_label\u001B[49m\u001B[43m,\u001B[49m\n\u001B[0;32m   3782\u001B[0m \u001B[43m    \u001B[49m\u001B[43mmode\u001B[49m\u001B[38;5;241;43m=\u001B[39;49m\u001B[43mmode\u001B[49m\u001B[43m,\u001B[49m\n\u001B[0;32m   3783\u001B[0m \u001B[43m    \u001B[49m\u001B[43mchunksize\u001B[49m\u001B[38;5;241;43m=\u001B[39;49m\u001B[43mchunksize\u001B[49m\u001B[43m,\u001B[49m\n\u001B[0;32m   3784\u001B[0m \u001B[43m    \u001B[49m\u001B[43mquotechar\u001B[49m\u001B[38;5;241;43m=\u001B[39;49m\u001B[43mquotechar\u001B[49m\u001B[43m,\u001B[49m\n\u001B[0;32m   3785\u001B[0m \u001B[43m    \u001B[49m\u001B[43mdate_format\u001B[49m\u001B[38;5;241;43m=\u001B[39;49m\u001B[43mdate_format\u001B[49m\u001B[43m,\u001B[49m\n\u001B[0;32m   3786\u001B[0m \u001B[43m    \u001B[49m\u001B[43mdoublequote\u001B[49m\u001B[38;5;241;43m=\u001B[39;49m\u001B[43mdoublequote\u001B[49m\u001B[43m,\u001B[49m\n\u001B[0;32m   3787\u001B[0m \u001B[43m    \u001B[49m\u001B[43mescapechar\u001B[49m\u001B[38;5;241;43m=\u001B[39;49m\u001B[43mescapechar\u001B[49m\u001B[43m,\u001B[49m\n\u001B[0;32m   3788\u001B[0m \u001B[43m    \u001B[49m\u001B[43mstorage_options\u001B[49m\u001B[38;5;241;43m=\u001B[39;49m\u001B[43mstorage_options\u001B[49m\u001B[43m,\u001B[49m\n\u001B[0;32m   3789\u001B[0m \u001B[43m\u001B[49m\u001B[43m)\u001B[49m\n",
      "File \u001B[1;32m~\\AppData\\Local\\anaconda3\\envs\\mayfield_workorders_analysis\\lib\\site-packages\\pandas\\io\\formats\\format.py:1186\u001B[0m, in \u001B[0;36mDataFrameRenderer.to_csv\u001B[1;34m(self, path_or_buf, encoding, sep, columns, index_label, mode, compression, quoting, quotechar, lineterminator, chunksize, date_format, doublequote, escapechar, errors, storage_options)\u001B[0m\n\u001B[0;32m   1165\u001B[0m     created_buffer \u001B[38;5;241m=\u001B[39m \u001B[38;5;28;01mFalse\u001B[39;00m\n\u001B[0;32m   1167\u001B[0m csv_formatter \u001B[38;5;241m=\u001B[39m CSVFormatter(\n\u001B[0;32m   1168\u001B[0m     path_or_buf\u001B[38;5;241m=\u001B[39mpath_or_buf,\n\u001B[0;32m   1169\u001B[0m     lineterminator\u001B[38;5;241m=\u001B[39mlineterminator,\n\u001B[1;32m   (...)\u001B[0m\n\u001B[0;32m   1184\u001B[0m     formatter\u001B[38;5;241m=\u001B[39m\u001B[38;5;28mself\u001B[39m\u001B[38;5;241m.\u001B[39mfmt,\n\u001B[0;32m   1185\u001B[0m )\n\u001B[1;32m-> 1186\u001B[0m \u001B[43mcsv_formatter\u001B[49m\u001B[38;5;241;43m.\u001B[39;49m\u001B[43msave\u001B[49m\u001B[43m(\u001B[49m\u001B[43m)\u001B[49m\n\u001B[0;32m   1188\u001B[0m \u001B[38;5;28;01mif\u001B[39;00m created_buffer:\n\u001B[0;32m   1189\u001B[0m     \u001B[38;5;28;01massert\u001B[39;00m \u001B[38;5;28misinstance\u001B[39m(path_or_buf, StringIO)\n",
      "File \u001B[1;32m~\\AppData\\Local\\anaconda3\\envs\\mayfield_workorders_analysis\\lib\\site-packages\\pandas\\io\\formats\\csvs.py:240\u001B[0m, in \u001B[0;36mCSVFormatter.save\u001B[1;34m(self)\u001B[0m\n\u001B[0;32m    236\u001B[0m \u001B[38;5;250m\u001B[39m\u001B[38;5;124;03m\"\"\"\u001B[39;00m\n\u001B[0;32m    237\u001B[0m \u001B[38;5;124;03mCreate the writer & save.\u001B[39;00m\n\u001B[0;32m    238\u001B[0m \u001B[38;5;124;03m\"\"\"\u001B[39;00m\n\u001B[0;32m    239\u001B[0m \u001B[38;5;66;03m# apply compression and byte/text conversion\u001B[39;00m\n\u001B[1;32m--> 240\u001B[0m \u001B[38;5;28;01mwith\u001B[39;00m \u001B[43mget_handle\u001B[49m\u001B[43m(\u001B[49m\n\u001B[0;32m    241\u001B[0m \u001B[43m    \u001B[49m\u001B[38;5;28;43mself\u001B[39;49m\u001B[38;5;241;43m.\u001B[39;49m\u001B[43mfilepath_or_buffer\u001B[49m\u001B[43m,\u001B[49m\n\u001B[0;32m    242\u001B[0m \u001B[43m    \u001B[49m\u001B[38;5;28;43mself\u001B[39;49m\u001B[38;5;241;43m.\u001B[39;49m\u001B[43mmode\u001B[49m\u001B[43m,\u001B[49m\n\u001B[0;32m    243\u001B[0m \u001B[43m    \u001B[49m\u001B[43mencoding\u001B[49m\u001B[38;5;241;43m=\u001B[39;49m\u001B[38;5;28;43mself\u001B[39;49m\u001B[38;5;241;43m.\u001B[39;49m\u001B[43mencoding\u001B[49m\u001B[43m,\u001B[49m\n\u001B[0;32m    244\u001B[0m \u001B[43m    \u001B[49m\u001B[43merrors\u001B[49m\u001B[38;5;241;43m=\u001B[39;49m\u001B[38;5;28;43mself\u001B[39;49m\u001B[38;5;241;43m.\u001B[39;49m\u001B[43merrors\u001B[49m\u001B[43m,\u001B[49m\n\u001B[0;32m    245\u001B[0m \u001B[43m    \u001B[49m\u001B[43mcompression\u001B[49m\u001B[38;5;241;43m=\u001B[39;49m\u001B[38;5;28;43mself\u001B[39;49m\u001B[38;5;241;43m.\u001B[39;49m\u001B[43mcompression\u001B[49m\u001B[43m,\u001B[49m\n\u001B[0;32m    246\u001B[0m \u001B[43m    \u001B[49m\u001B[43mstorage_options\u001B[49m\u001B[38;5;241;43m=\u001B[39;49m\u001B[38;5;28;43mself\u001B[39;49m\u001B[38;5;241;43m.\u001B[39;49m\u001B[43mstorage_options\u001B[49m\u001B[43m,\u001B[49m\n\u001B[0;32m    247\u001B[0m \u001B[43m\u001B[49m\u001B[43m)\u001B[49m \u001B[38;5;28;01mas\u001B[39;00m handles:\n\u001B[0;32m    248\u001B[0m     \u001B[38;5;66;03m# Note: self.encoding is irrelevant here\u001B[39;00m\n\u001B[0;32m    249\u001B[0m     \u001B[38;5;28mself\u001B[39m\u001B[38;5;241m.\u001B[39mwriter \u001B[38;5;241m=\u001B[39m csvlib\u001B[38;5;241m.\u001B[39mwriter(\n\u001B[0;32m    250\u001B[0m         handles\u001B[38;5;241m.\u001B[39mhandle,\n\u001B[0;32m    251\u001B[0m         lineterminator\u001B[38;5;241m=\u001B[39m\u001B[38;5;28mself\u001B[39m\u001B[38;5;241m.\u001B[39mlineterminator,\n\u001B[1;32m   (...)\u001B[0m\n\u001B[0;32m    256\u001B[0m         quotechar\u001B[38;5;241m=\u001B[39m\u001B[38;5;28mself\u001B[39m\u001B[38;5;241m.\u001B[39mquotechar,\n\u001B[0;32m    257\u001B[0m     )\n\u001B[0;32m    259\u001B[0m     \u001B[38;5;28mself\u001B[39m\u001B[38;5;241m.\u001B[39m_save()\n",
      "File \u001B[1;32m~\\AppData\\Local\\anaconda3\\envs\\mayfield_workorders_analysis\\lib\\site-packages\\pandas\\io\\common.py:859\u001B[0m, in \u001B[0;36mget_handle\u001B[1;34m(path_or_buf, mode, encoding, compression, memory_map, is_text, errors, storage_options)\u001B[0m\n\u001B[0;32m    854\u001B[0m \u001B[38;5;28;01melif\u001B[39;00m \u001B[38;5;28misinstance\u001B[39m(handle, \u001B[38;5;28mstr\u001B[39m):\n\u001B[0;32m    855\u001B[0m     \u001B[38;5;66;03m# Check whether the filename is to be opened in binary mode.\u001B[39;00m\n\u001B[0;32m    856\u001B[0m     \u001B[38;5;66;03m# Binary mode does not support 'encoding' and 'newline'.\u001B[39;00m\n\u001B[0;32m    857\u001B[0m     \u001B[38;5;28;01mif\u001B[39;00m ioargs\u001B[38;5;241m.\u001B[39mencoding \u001B[38;5;129;01mand\u001B[39;00m \u001B[38;5;124m\"\u001B[39m\u001B[38;5;124mb\u001B[39m\u001B[38;5;124m\"\u001B[39m \u001B[38;5;129;01mnot\u001B[39;00m \u001B[38;5;129;01min\u001B[39;00m ioargs\u001B[38;5;241m.\u001B[39mmode:\n\u001B[0;32m    858\u001B[0m         \u001B[38;5;66;03m# Encoding\u001B[39;00m\n\u001B[1;32m--> 859\u001B[0m         handle \u001B[38;5;241m=\u001B[39m \u001B[38;5;28;43mopen\u001B[39;49m\u001B[43m(\u001B[49m\n\u001B[0;32m    860\u001B[0m \u001B[43m            \u001B[49m\u001B[43mhandle\u001B[49m\u001B[43m,\u001B[49m\n\u001B[0;32m    861\u001B[0m \u001B[43m            \u001B[49m\u001B[43mioargs\u001B[49m\u001B[38;5;241;43m.\u001B[39;49m\u001B[43mmode\u001B[49m\u001B[43m,\u001B[49m\n\u001B[0;32m    862\u001B[0m \u001B[43m            \u001B[49m\u001B[43mencoding\u001B[49m\u001B[38;5;241;43m=\u001B[39;49m\u001B[43mioargs\u001B[49m\u001B[38;5;241;43m.\u001B[39;49m\u001B[43mencoding\u001B[49m\u001B[43m,\u001B[49m\n\u001B[0;32m    863\u001B[0m \u001B[43m            \u001B[49m\u001B[43merrors\u001B[49m\u001B[38;5;241;43m=\u001B[39;49m\u001B[43merrors\u001B[49m\u001B[43m,\u001B[49m\n\u001B[0;32m    864\u001B[0m \u001B[43m            \u001B[49m\u001B[43mnewline\u001B[49m\u001B[38;5;241;43m=\u001B[39;49m\u001B[38;5;124;43m\"\u001B[39;49m\u001B[38;5;124;43m\"\u001B[39;49m\u001B[43m,\u001B[49m\n\u001B[0;32m    865\u001B[0m \u001B[43m        \u001B[49m\u001B[43m)\u001B[49m\n\u001B[0;32m    866\u001B[0m     \u001B[38;5;28;01melse\u001B[39;00m:\n\u001B[0;32m    867\u001B[0m         \u001B[38;5;66;03m# Binary mode\u001B[39;00m\n\u001B[0;32m    868\u001B[0m         handle \u001B[38;5;241m=\u001B[39m \u001B[38;5;28mopen\u001B[39m(handle, ioargs\u001B[38;5;241m.\u001B[39mmode)\n",
      "\u001B[1;31mPermissionError\u001B[0m: [Errno 13] Permission denied: '../data/20230925_eligible_service_calls.csv'"
     ]
    }
   ],
   "source": [
    "df_out.loc[df_out['eligible'], :].to_csv('../data/20230925_eligible_service_calls.csv')"
   ],
   "metadata": {
    "collapsed": false,
    "ExecuteTime": {
     "end_time": "2023-09-25T16:58:23.211391500Z",
     "start_time": "2023-09-25T16:58:23.073377100Z"
    }
   }
  },
  {
   "cell_type": "code",
   "execution_count": 591,
   "outputs": [],
   "source": [
    "df_vis = df_out.groupby([df_out.date.dt.year, 'labor_type', 'after_hours', 'eligible']).sum('booked_labor').reset_index()"
   ],
   "metadata": {
    "collapsed": false,
    "ExecuteTime": {
     "end_time": "2023-09-25T16:59:31.832620800Z",
     "start_time": "2023-09-25T16:59:31.773150500Z"
    }
   }
  },
  {
   "cell_type": "code",
   "execution_count": 592,
   "outputs": [
    {
     "data": {
      "text/plain": "    date labor_type  after_hours  eligible  booked_labor    fee         cost\n0   2014          N        False     False     26.000000      0   952.640000\n1   2014          N         True     False     21.500000   3000   787.760000\n2   2014          O         True     False     25.000000   3000  1442.250000\n3   2015          N        False     False     42.000000      0  1538.880000\n4   2015          N         True     False     21.500000   4200   787.760000\n5   2015          O         True     False     15.000000   3600   865.350000\n6   2016          N        False     False     49.000000      0  1795.360000\n7   2016          N         True     False     66.000000   9000  2418.240000\n8   2016          O        False     False     36.000000      0  2076.840000\n9   2016          O         True     False     38.500000   5400  2221.065000\n10  2017          N        False     False     50.000000      0  1832.000000\n11  2017          N         True     False     54.000000   9000  1978.560000\n12  2017          O        False     False      5.000000      0   288.450000\n13  2017          O         True     False     15.000000   3600   865.350000\n14  2018          N        False     False     72.500000      0  2656.400000\n15  2018          N         True     False     45.333334   9000  1661.013358\n16  2018          O        False     False      8.000000      0   461.520000\n17  2018          O         True     False      7.000000   1800   403.830000\n18  2019          N        False     False    112.500000      0  4122.000000\n19  2019          N         True     False     61.666668  10800  2259.466716\n20  2019          O        False     False     34.000000      0  1961.460000\n21  2019          O         True     False     20.000000   4200  1153.800000\n22  2020          N        False     False     50.000000      0  1832.000000\n23  2020          N         True     False     16.000000   3000   586.240000\n24  2020          O         True     False     25.000000   4200  1442.250000\n25  2021          N        False     False     21.500000      0   787.760000\n26  2021          N         True     False     23.500000   2400   861.040000\n27  2021          O        False     False      3.000000      0   173.070000\n28  2021          O         True     False      8.000000   1800   461.520000\n29  2022          N        False     False     14.000000      0   512.960000\n30  2022          N         True     False     48.000000   3000  1758.720000\n31  2022          N         True      True      5.000000   1800   183.200000\n32  2022          O        False     False      6.000000      0   346.140000\n33  2022          O         True     False      3.000000   1200   173.070000\n34  2022          O         True      True      2.000000    600   115.380000\n35  2023          N        False     False     17.000000      0   622.880000\n36  2023          N         True      True     19.000000   4800   696.160000\n37  2023          O         True      True      2.000000    600   115.380000",
      "text/html": "<div>\n<style scoped>\n    .dataframe tbody tr th:only-of-type {\n        vertical-align: middle;\n    }\n\n    .dataframe tbody tr th {\n        vertical-align: top;\n    }\n\n    .dataframe thead th {\n        text-align: right;\n    }\n</style>\n<table border=\"1\" class=\"dataframe\">\n  <thead>\n    <tr style=\"text-align: right;\">\n      <th></th>\n      <th>date</th>\n      <th>labor_type</th>\n      <th>after_hours</th>\n      <th>eligible</th>\n      <th>booked_labor</th>\n      <th>fee</th>\n      <th>cost</th>\n    </tr>\n  </thead>\n  <tbody>\n    <tr>\n      <th>0</th>\n      <td>2014</td>\n      <td>N</td>\n      <td>False</td>\n      <td>False</td>\n      <td>26.000000</td>\n      <td>0</td>\n      <td>952.640000</td>\n    </tr>\n    <tr>\n      <th>1</th>\n      <td>2014</td>\n      <td>N</td>\n      <td>True</td>\n      <td>False</td>\n      <td>21.500000</td>\n      <td>3000</td>\n      <td>787.760000</td>\n    </tr>\n    <tr>\n      <th>2</th>\n      <td>2014</td>\n      <td>O</td>\n      <td>True</td>\n      <td>False</td>\n      <td>25.000000</td>\n      <td>3000</td>\n      <td>1442.250000</td>\n    </tr>\n    <tr>\n      <th>3</th>\n      <td>2015</td>\n      <td>N</td>\n      <td>False</td>\n      <td>False</td>\n      <td>42.000000</td>\n      <td>0</td>\n      <td>1538.880000</td>\n    </tr>\n    <tr>\n      <th>4</th>\n      <td>2015</td>\n      <td>N</td>\n      <td>True</td>\n      <td>False</td>\n      <td>21.500000</td>\n      <td>4200</td>\n      <td>787.760000</td>\n    </tr>\n    <tr>\n      <th>5</th>\n      <td>2015</td>\n      <td>O</td>\n      <td>True</td>\n      <td>False</td>\n      <td>15.000000</td>\n      <td>3600</td>\n      <td>865.350000</td>\n    </tr>\n    <tr>\n      <th>6</th>\n      <td>2016</td>\n      <td>N</td>\n      <td>False</td>\n      <td>False</td>\n      <td>49.000000</td>\n      <td>0</td>\n      <td>1795.360000</td>\n    </tr>\n    <tr>\n      <th>7</th>\n      <td>2016</td>\n      <td>N</td>\n      <td>True</td>\n      <td>False</td>\n      <td>66.000000</td>\n      <td>9000</td>\n      <td>2418.240000</td>\n    </tr>\n    <tr>\n      <th>8</th>\n      <td>2016</td>\n      <td>O</td>\n      <td>False</td>\n      <td>False</td>\n      <td>36.000000</td>\n      <td>0</td>\n      <td>2076.840000</td>\n    </tr>\n    <tr>\n      <th>9</th>\n      <td>2016</td>\n      <td>O</td>\n      <td>True</td>\n      <td>False</td>\n      <td>38.500000</td>\n      <td>5400</td>\n      <td>2221.065000</td>\n    </tr>\n    <tr>\n      <th>10</th>\n      <td>2017</td>\n      <td>N</td>\n      <td>False</td>\n      <td>False</td>\n      <td>50.000000</td>\n      <td>0</td>\n      <td>1832.000000</td>\n    </tr>\n    <tr>\n      <th>11</th>\n      <td>2017</td>\n      <td>N</td>\n      <td>True</td>\n      <td>False</td>\n      <td>54.000000</td>\n      <td>9000</td>\n      <td>1978.560000</td>\n    </tr>\n    <tr>\n      <th>12</th>\n      <td>2017</td>\n      <td>O</td>\n      <td>False</td>\n      <td>False</td>\n      <td>5.000000</td>\n      <td>0</td>\n      <td>288.450000</td>\n    </tr>\n    <tr>\n      <th>13</th>\n      <td>2017</td>\n      <td>O</td>\n      <td>True</td>\n      <td>False</td>\n      <td>15.000000</td>\n      <td>3600</td>\n      <td>865.350000</td>\n    </tr>\n    <tr>\n      <th>14</th>\n      <td>2018</td>\n      <td>N</td>\n      <td>False</td>\n      <td>False</td>\n      <td>72.500000</td>\n      <td>0</td>\n      <td>2656.400000</td>\n    </tr>\n    <tr>\n      <th>15</th>\n      <td>2018</td>\n      <td>N</td>\n      <td>True</td>\n      <td>False</td>\n      <td>45.333334</td>\n      <td>9000</td>\n      <td>1661.013358</td>\n    </tr>\n    <tr>\n      <th>16</th>\n      <td>2018</td>\n      <td>O</td>\n      <td>False</td>\n      <td>False</td>\n      <td>8.000000</td>\n      <td>0</td>\n      <td>461.520000</td>\n    </tr>\n    <tr>\n      <th>17</th>\n      <td>2018</td>\n      <td>O</td>\n      <td>True</td>\n      <td>False</td>\n      <td>7.000000</td>\n      <td>1800</td>\n      <td>403.830000</td>\n    </tr>\n    <tr>\n      <th>18</th>\n      <td>2019</td>\n      <td>N</td>\n      <td>False</td>\n      <td>False</td>\n      <td>112.500000</td>\n      <td>0</td>\n      <td>4122.000000</td>\n    </tr>\n    <tr>\n      <th>19</th>\n      <td>2019</td>\n      <td>N</td>\n      <td>True</td>\n      <td>False</td>\n      <td>61.666668</td>\n      <td>10800</td>\n      <td>2259.466716</td>\n    </tr>\n    <tr>\n      <th>20</th>\n      <td>2019</td>\n      <td>O</td>\n      <td>False</td>\n      <td>False</td>\n      <td>34.000000</td>\n      <td>0</td>\n      <td>1961.460000</td>\n    </tr>\n    <tr>\n      <th>21</th>\n      <td>2019</td>\n      <td>O</td>\n      <td>True</td>\n      <td>False</td>\n      <td>20.000000</td>\n      <td>4200</td>\n      <td>1153.800000</td>\n    </tr>\n    <tr>\n      <th>22</th>\n      <td>2020</td>\n      <td>N</td>\n      <td>False</td>\n      <td>False</td>\n      <td>50.000000</td>\n      <td>0</td>\n      <td>1832.000000</td>\n    </tr>\n    <tr>\n      <th>23</th>\n      <td>2020</td>\n      <td>N</td>\n      <td>True</td>\n      <td>False</td>\n      <td>16.000000</td>\n      <td>3000</td>\n      <td>586.240000</td>\n    </tr>\n    <tr>\n      <th>24</th>\n      <td>2020</td>\n      <td>O</td>\n      <td>True</td>\n      <td>False</td>\n      <td>25.000000</td>\n      <td>4200</td>\n      <td>1442.250000</td>\n    </tr>\n    <tr>\n      <th>25</th>\n      <td>2021</td>\n      <td>N</td>\n      <td>False</td>\n      <td>False</td>\n      <td>21.500000</td>\n      <td>0</td>\n      <td>787.760000</td>\n    </tr>\n    <tr>\n      <th>26</th>\n      <td>2021</td>\n      <td>N</td>\n      <td>True</td>\n      <td>False</td>\n      <td>23.500000</td>\n      <td>2400</td>\n      <td>861.040000</td>\n    </tr>\n    <tr>\n      <th>27</th>\n      <td>2021</td>\n      <td>O</td>\n      <td>False</td>\n      <td>False</td>\n      <td>3.000000</td>\n      <td>0</td>\n      <td>173.070000</td>\n    </tr>\n    <tr>\n      <th>28</th>\n      <td>2021</td>\n      <td>O</td>\n      <td>True</td>\n      <td>False</td>\n      <td>8.000000</td>\n      <td>1800</td>\n      <td>461.520000</td>\n    </tr>\n    <tr>\n      <th>29</th>\n      <td>2022</td>\n      <td>N</td>\n      <td>False</td>\n      <td>False</td>\n      <td>14.000000</td>\n      <td>0</td>\n      <td>512.960000</td>\n    </tr>\n    <tr>\n      <th>30</th>\n      <td>2022</td>\n      <td>N</td>\n      <td>True</td>\n      <td>False</td>\n      <td>48.000000</td>\n      <td>3000</td>\n      <td>1758.720000</td>\n    </tr>\n    <tr>\n      <th>31</th>\n      <td>2022</td>\n      <td>N</td>\n      <td>True</td>\n      <td>True</td>\n      <td>5.000000</td>\n      <td>1800</td>\n      <td>183.200000</td>\n    </tr>\n    <tr>\n      <th>32</th>\n      <td>2022</td>\n      <td>O</td>\n      <td>False</td>\n      <td>False</td>\n      <td>6.000000</td>\n      <td>0</td>\n      <td>346.140000</td>\n    </tr>\n    <tr>\n      <th>33</th>\n      <td>2022</td>\n      <td>O</td>\n      <td>True</td>\n      <td>False</td>\n      <td>3.000000</td>\n      <td>1200</td>\n      <td>173.070000</td>\n    </tr>\n    <tr>\n      <th>34</th>\n      <td>2022</td>\n      <td>O</td>\n      <td>True</td>\n      <td>True</td>\n      <td>2.000000</td>\n      <td>600</td>\n      <td>115.380000</td>\n    </tr>\n    <tr>\n      <th>35</th>\n      <td>2023</td>\n      <td>N</td>\n      <td>False</td>\n      <td>False</td>\n      <td>17.000000</td>\n      <td>0</td>\n      <td>622.880000</td>\n    </tr>\n    <tr>\n      <th>36</th>\n      <td>2023</td>\n      <td>N</td>\n      <td>True</td>\n      <td>True</td>\n      <td>19.000000</td>\n      <td>4800</td>\n      <td>696.160000</td>\n    </tr>\n    <tr>\n      <th>37</th>\n      <td>2023</td>\n      <td>O</td>\n      <td>True</td>\n      <td>True</td>\n      <td>2.000000</td>\n      <td>600</td>\n      <td>115.380000</td>\n    </tr>\n  </tbody>\n</table>\n</div>"
     },
     "execution_count": 592,
     "metadata": {},
     "output_type": "execute_result"
    }
   ],
   "source": [
    "df_vis"
   ],
   "metadata": {
    "collapsed": false,
    "ExecuteTime": {
     "end_time": "2023-09-25T16:59:32.688491200Z",
     "start_time": "2023-09-25T16:59:32.526486Z"
    }
   }
  },
  {
   "cell_type": "code",
   "execution_count": 593,
   "outputs": [
    {
     "name": "stdout",
     "output_type": "stream",
     "text": [
      "<class 'pandas.core.frame.DataFrame'>\n",
      "RangeIndex: 38 entries, 0 to 37\n",
      "Data columns (total 7 columns):\n",
      " #   Column        Non-Null Count  Dtype  \n",
      "---  ------        --------------  -----  \n",
      " 0   date          38 non-null     int32  \n",
      " 1   labor_type    38 non-null     object \n",
      " 2   after_hours   38 non-null     bool   \n",
      " 3   eligible      38 non-null     bool   \n",
      " 4   booked_labor  38 non-null     float64\n",
      " 5   fee           38 non-null     int64  \n",
      " 6   cost          38 non-null     float64\n",
      "dtypes: bool(2), float64(2), int32(1), int64(1), object(1)\n",
      "memory usage: 1.5+ KB\n"
     ]
    }
   ],
   "source": [
    "df_vis.info()"
   ],
   "metadata": {
    "collapsed": false,
    "ExecuteTime": {
     "end_time": "2023-09-25T16:59:36.785588500Z",
     "start_time": "2023-09-25T16:59:36.709577300Z"
    }
   }
  },
  {
   "cell_type": "code",
   "execution_count": 594,
   "outputs": [],
   "source": [
    "df_vis['cost'] = df_vis.apply(calculate_cost, axis=1)"
   ],
   "metadata": {
    "collapsed": false,
    "ExecuteTime": {
     "end_time": "2023-09-25T16:59:37.400527900Z",
     "start_time": "2023-09-25T16:59:37.340915100Z"
    }
   }
  },
  {
   "cell_type": "code",
   "execution_count": 595,
   "outputs": [
    {
     "data": {
      "text/plain": "   date labor_type  after_hours  eligible  booked_labor   fee     cost\n0  2014          N        False     False          26.0     0   952.64\n1  2014          N         True     False          21.5  3000   787.76\n2  2014          O         True     False          25.0  3000  1442.25\n3  2015          N        False     False          42.0     0  1538.88\n4  2015          N         True     False          21.5  4200   787.76",
      "text/html": "<div>\n<style scoped>\n    .dataframe tbody tr th:only-of-type {\n        vertical-align: middle;\n    }\n\n    .dataframe tbody tr th {\n        vertical-align: top;\n    }\n\n    .dataframe thead th {\n        text-align: right;\n    }\n</style>\n<table border=\"1\" class=\"dataframe\">\n  <thead>\n    <tr style=\"text-align: right;\">\n      <th></th>\n      <th>date</th>\n      <th>labor_type</th>\n      <th>after_hours</th>\n      <th>eligible</th>\n      <th>booked_labor</th>\n      <th>fee</th>\n      <th>cost</th>\n    </tr>\n  </thead>\n  <tbody>\n    <tr>\n      <th>0</th>\n      <td>2014</td>\n      <td>N</td>\n      <td>False</td>\n      <td>False</td>\n      <td>26.0</td>\n      <td>0</td>\n      <td>952.64</td>\n    </tr>\n    <tr>\n      <th>1</th>\n      <td>2014</td>\n      <td>N</td>\n      <td>True</td>\n      <td>False</td>\n      <td>21.5</td>\n      <td>3000</td>\n      <td>787.76</td>\n    </tr>\n    <tr>\n      <th>2</th>\n      <td>2014</td>\n      <td>O</td>\n      <td>True</td>\n      <td>False</td>\n      <td>25.0</td>\n      <td>3000</td>\n      <td>1442.25</td>\n    </tr>\n    <tr>\n      <th>3</th>\n      <td>2015</td>\n      <td>N</td>\n      <td>False</td>\n      <td>False</td>\n      <td>42.0</td>\n      <td>0</td>\n      <td>1538.88</td>\n    </tr>\n    <tr>\n      <th>4</th>\n      <td>2015</td>\n      <td>N</td>\n      <td>True</td>\n      <td>False</td>\n      <td>21.5</td>\n      <td>4200</td>\n      <td>787.76</td>\n    </tr>\n  </tbody>\n</table>\n</div>"
     },
     "execution_count": 595,
     "metadata": {},
     "output_type": "execute_result"
    }
   ],
   "source": [
    "df_vis.head()"
   ],
   "metadata": {
    "collapsed": false,
    "ExecuteTime": {
     "end_time": "2023-09-25T16:59:38.241609500Z",
     "start_time": "2023-09-25T16:59:38.120524600Z"
    }
   }
  },
  {
   "cell_type": "code",
   "execution_count": 596,
   "outputs": [],
   "source": [
    "df_vis = df_vis.groupby('date').sum().reset_index()"
   ],
   "metadata": {
    "collapsed": false,
    "ExecuteTime": {
     "end_time": "2023-09-25T16:59:39.405934800Z",
     "start_time": "2023-09-25T16:59:39.300076200Z"
    }
   }
  },
  {
   "cell_type": "code",
   "execution_count": 619,
   "outputs": [
    {
     "data": {
      "text/plain": "   date labor_type  after_hours  eligible  booked_labor    fee         cost\n0  2014        NNO            2         0     72.500000   6000  3182.650000\n1  2015        NNO            2         0     78.500000   7800  3191.990000\n2  2016       NNOO            2         0    189.500000  14400  8511.505000\n3  2017       NNOO            2         0    124.000000  12600  4964.360000\n4  2018       NNOO            2         0    132.833334  10800  5182.763358\n5  2019       NNOO            2         0    228.166668  15000  9496.726716\n6  2020        NNO            2         0     91.000000   7200  3860.490000\n7  2021       NNOO            2         0     56.000000   4200  2283.390000\n8  2022     NNNOOO            4         2     78.000000   6600  3089.470000\n9  2023        NNO            2         2     38.000000   5400  1434.420000",
      "text/html": "<div>\n<style scoped>\n    .dataframe tbody tr th:only-of-type {\n        vertical-align: middle;\n    }\n\n    .dataframe tbody tr th {\n        vertical-align: top;\n    }\n\n    .dataframe thead th {\n        text-align: right;\n    }\n</style>\n<table border=\"1\" class=\"dataframe\">\n  <thead>\n    <tr style=\"text-align: right;\">\n      <th></th>\n      <th>date</th>\n      <th>labor_type</th>\n      <th>after_hours</th>\n      <th>eligible</th>\n      <th>booked_labor</th>\n      <th>fee</th>\n      <th>cost</th>\n    </tr>\n  </thead>\n  <tbody>\n    <tr>\n      <th>0</th>\n      <td>2014</td>\n      <td>NNO</td>\n      <td>2</td>\n      <td>0</td>\n      <td>72.500000</td>\n      <td>6000</td>\n      <td>3182.650000</td>\n    </tr>\n    <tr>\n      <th>1</th>\n      <td>2015</td>\n      <td>NNO</td>\n      <td>2</td>\n      <td>0</td>\n      <td>78.500000</td>\n      <td>7800</td>\n      <td>3191.990000</td>\n    </tr>\n    <tr>\n      <th>2</th>\n      <td>2016</td>\n      <td>NNOO</td>\n      <td>2</td>\n      <td>0</td>\n      <td>189.500000</td>\n      <td>14400</td>\n      <td>8511.505000</td>\n    </tr>\n    <tr>\n      <th>3</th>\n      <td>2017</td>\n      <td>NNOO</td>\n      <td>2</td>\n      <td>0</td>\n      <td>124.000000</td>\n      <td>12600</td>\n      <td>4964.360000</td>\n    </tr>\n    <tr>\n      <th>4</th>\n      <td>2018</td>\n      <td>NNOO</td>\n      <td>2</td>\n      <td>0</td>\n      <td>132.833334</td>\n      <td>10800</td>\n      <td>5182.763358</td>\n    </tr>\n    <tr>\n      <th>5</th>\n      <td>2019</td>\n      <td>NNOO</td>\n      <td>2</td>\n      <td>0</td>\n      <td>228.166668</td>\n      <td>15000</td>\n      <td>9496.726716</td>\n    </tr>\n    <tr>\n      <th>6</th>\n      <td>2020</td>\n      <td>NNO</td>\n      <td>2</td>\n      <td>0</td>\n      <td>91.000000</td>\n      <td>7200</td>\n      <td>3860.490000</td>\n    </tr>\n    <tr>\n      <th>7</th>\n      <td>2021</td>\n      <td>NNOO</td>\n      <td>2</td>\n      <td>0</td>\n      <td>56.000000</td>\n      <td>4200</td>\n      <td>2283.390000</td>\n    </tr>\n    <tr>\n      <th>8</th>\n      <td>2022</td>\n      <td>NNNOOO</td>\n      <td>4</td>\n      <td>2</td>\n      <td>78.000000</td>\n      <td>6600</td>\n      <td>3089.470000</td>\n    </tr>\n    <tr>\n      <th>9</th>\n      <td>2023</td>\n      <td>NNO</td>\n      <td>2</td>\n      <td>2</td>\n      <td>38.000000</td>\n      <td>5400</td>\n      <td>1434.420000</td>\n    </tr>\n  </tbody>\n</table>\n</div>"
     },
     "execution_count": 619,
     "metadata": {},
     "output_type": "execute_result"
    }
   ],
   "source": [
    "df_vis"
   ],
   "metadata": {
    "collapsed": false,
    "ExecuteTime": {
     "end_time": "2023-09-25T17:22:49.901369200Z",
     "start_time": "2023-09-25T17:22:49.814023400Z"
    }
   }
  },
  {
   "cell_type": "code",
   "execution_count": 600,
   "outputs": [
    {
     "data": {
      "text/plain": "<Figure size 640x480 with 1 Axes>",
      "image/png": "[encoded data removed]"
     },
     "metadata": {},
     "output_type": "display_data"
    }
   ],
   "source": [
    "import matplotlib.pyplot as plt\n",
    "date = df_vis.date\n",
    "cost = df_vis.fee\n",
    "\n",
    "fig, ax = plt.subplots()\n",
    "ax.vlines(x=2022.89, ymin=0, ymax=max(cost), colors='r', linestyles='--', label='12-month')\n",
    "ax.set_title('Highlands/Parkside Wastewater After-Hours Work', loc='left', style='italic')\n",
    "ax.plot(date, cost)\n",
    "plt.suptitle('Highlands/Parkside Wastewater After-Hours Work')\n",
    "plt.title('Sum of Potential Fees by Year', loc='left', fontsize='small', style='italic')\n",
    "plt.show()\n",
    "# df_vis.plot(x='date', y='cost', title='Mayfield Booked Labor Cost by Year')"
   ],
   "metadata": {
    "collapsed": false,
    "ExecuteTime": {
     "end_time": "2023-09-25T17:02:08.972533Z",
     "start_time": "2023-09-25T17:02:08.838524100Z"
    }
   }
  },
  {
   "cell_type": "code",
   "execution_count": 495,
   "outputs": [
    {
     "data": {
      "text/plain": "9496.72671552"
     },
     "execution_count": 495,
     "metadata": {},
     "output_type": "execute_result"
    }
   ],
   "source": [
    "min(cost)"
   ],
   "metadata": {
    "collapsed": false,
    "ExecuteTime": {
     "start_time": "2023-09-22T18:30:44.556046900Z"
    }
   }
  },
  {
   "cell_type": "code",
   "execution_count": 427,
   "outputs": [
    {
     "name": "stderr",
     "output_type": "stream",
     "text": [
      "C:\\Users\\Ckluge\\AppData\\Local\\Temp\\ipykernel_86456\\1475910105.py:2: SettingWithCopyWarning: \n",
      "A value is trying to be set on a copy of a slice from a DataFrame.\n",
      "Try using .loc[row_indexer,col_indexer] = value instead\n",
      "\n",
      "See the caveats in the documentation: https://pandas.pydata.org/pandas-docs/stable/user_guide/indexing.html#returning-a-view-versus-a-copy\n",
      "  df_eligible['cost'] = df_eligible.apply(calculate_cost, axis = 1)\n"
     ]
    }
   ],
   "source": [
    "df_eligible = df_out.loc[df_out.date >= then, :]\n",
    "df_eligible['cost'] = df_eligible.apply(calculate_cost, axis = 1) "
   ],
   "metadata": {
    "collapsed": false,
    "ExecuteTime": {
     "start_time": "2023-09-22T17:54:08.665769300Z"
    }
   }
  },
  {
   "cell_type": "code",
   "execution_count": 447,
   "outputs": [
    {
     "data": {
      "text/plain": "Timestamp('2022-11-22 18:00:00')"
     },
     "execution_count": 447,
     "metadata": {},
     "output_type": "execute_result"
    }
   ],
   "source": [
    "df_eligible.date.min()"
   ],
   "metadata": {
    "collapsed": false,
    "ExecuteTime": {
     "start_time": "2023-09-22T18:08:57.645832600Z"
    }
   }
  },
  {
   "cell_type": "code",
   "execution_count": 442,
   "outputs": [
    {
     "data": {
      "text/plain": "1733.0"
     },
     "execution_count": 442,
     "metadata": {},
     "output_type": "execute_result"
    }
   ],
   "source": [
    "df_eligible.cost.sum()"
   ],
   "metadata": {
    "collapsed": false,
    "ExecuteTime": {
     "start_time": "2023-09-22T18:01:29.521870400Z"
    }
   }
  },
  {
   "cell_type": "code",
   "execution_count": 441,
   "outputs": [],
   "source": [
    "df_eligible.to_csv('../data/mayfield_eligible_service_calls.csv')"
   ],
   "metadata": {
    "collapsed": false,
    "ExecuteTime": {
     "start_time": "2023-09-22T17:57:45.516211600Z"
    }
   }
  },
  {
   "cell_type": "code",
   "execution_count": 438,
   "outputs": [],
   "source": [
    "revenue_lost = abs(df_vis.cost.sum() - df_eligible.cost.sum())"
   ],
   "metadata": {
    "collapsed": false,
    "ExecuteTime": {
     "start_time": "2023-09-22T17:56:40.380939200Z"
    }
   }
  },
  {
   "cell_type": "code",
   "execution_count": 439,
   "outputs": [
    {
     "name": "stdout",
     "output_type": "stream",
     "text": [
      "Revenue lost = 43464.76507327999\n"
     ]
    }
   ],
   "source": [
    "print(f'Revenue lost = {revenue_lost}')"
   ],
   "metadata": {
    "collapsed": false,
    "ExecuteTime": {
     "start_time": "2023-09-22T17:56:42.297294100Z"
    }
   }
  },
  {
   "cell_type": "code",
   "execution_count": 512,
   "outputs": [
    {
     "data": {
      "text/plain": "2250.0"
     },
     "execution_count": 512,
     "metadata": {},
     "output_type": "execute_result"
    }
   ],
   "source": [
    "df_eligible.booked_labor.sum() / 2 * 100"
   ],
   "metadata": {
    "collapsed": false,
    "ExecuteTime": {
     "start_time": "2023-09-22T18:47:02.220347700Z"
    }
   }
  },
  {
   "cell_type": "code",
   "execution_count": 510,
   "outputs": [
    {
     "data": {
      "text/plain": "544.250001"
     },
     "execution_count": 510,
     "metadata": {},
     "output_type": "execute_result"
    }
   ],
   "source": [
    "df_vis.booked_labor.sum()"
   ],
   "metadata": {
    "collapsed": false,
    "ExecuteTime": {
     "start_time": "2023-09-22T18:44:43.316432900Z"
    }
   }
  },
  {
   "cell_type": "code",
   "execution_count": 508,
   "outputs": [
    {
     "name": "stdout",
     "output_type": "stream",
     "text": [
      "Trucks approx.: 54425.0001\n"
     ]
    }
   ],
   "source": [
    "print(f'Trucks approx.: {df_vis.booked_labor.sum() / 2 * 100}')"
   ],
   "metadata": {
    "collapsed": false,
    "ExecuteTime": {
     "start_time": "2023-09-22T18:41:38.855813700Z"
    }
   }
  },
  {
   "cell_type": "code",
   "execution_count": 604,
   "outputs": [
    {
     "data": {
      "text/plain": "location\nHML    81\nMFL    60\nName: count, dtype: int64"
     },
     "execution_count": 604,
     "metadata": {},
     "output_type": "execute_result"
    }
   ],
   "source": [
    "df_out.loc[df_out.after_hours == True, :].location.value_counts()"
   ],
   "metadata": {
    "collapsed": false,
    "ExecuteTime": {
     "end_time": "2023-09-25T17:10:17.403718400Z",
     "start_time": "2023-09-25T17:10:17.331483400Z"
    }
   }
  },
  {
   "cell_type": "code",
   "execution_count": 606,
   "outputs": [
    {
     "name": "stdout",
     "output_type": "stream",
     "text": [
      "<class 'pandas.core.frame.DataFrame'>\n",
      "Index: 150 entries, 111679 to 181703\n",
      "Data columns (total 12 columns):\n",
      " #   Column        Non-Null Count  Dtype         \n",
      "---  ------        --------------  -----         \n",
      " 0   EVT_CODE      150 non-null    object        \n",
      " 1   date          150 non-null    datetime64[ns]\n",
      " 2   location      141 non-null    object        \n",
      " 3   obj_code      150 non-null    object        \n",
      " 4   gis_id        150 non-null    object        \n",
      " 5   obj_class     150 non-null    object        \n",
      " 6   labor_type    150 non-null    object        \n",
      " 7   booked_labor  150 non-null    float64       \n",
      " 8   after_hours   150 non-null    bool          \n",
      " 9   eligible      150 non-null    bool          \n",
      " 10  fee           150 non-null    int64         \n",
      " 11  cost          150 non-null    float64       \n",
      "dtypes: bool(2), datetime64[ns](1), float64(2), int64(1), object(6)\n",
      "memory usage: 13.2+ KB\n"
     ]
    }
   ],
   "source": [
    "df_out.loc[df_out.after_hours == True, :]. info()"
   ],
   "metadata": {
    "collapsed": false,
    "ExecuteTime": {
     "end_time": "2023-09-25T17:11:23.510836600Z",
     "start_time": "2023-09-25T17:11:23.443573600Z"
    }
   }
  },
  {
   "cell_type": "code",
   "execution_count": 633,
   "outputs": [],
   "source": [
    "hml_vis = df_out[(df_out.after_hours == True) & (df_out.location == 'HML')]\n",
    "mfl_vis = df_out[(df_out.after_hours == True) & (df_out.location == 'MFL')]"
   ],
   "metadata": {
    "collapsed": false,
    "ExecuteTime": {
     "end_time": "2023-09-25T17:38:36.810116500Z",
     "start_time": "2023-09-25T17:38:36.739222100Z"
    }
   }
  },
  {
   "cell_type": "code",
   "execution_count": 647,
   "outputs": [
    {
     "data": {
      "text/plain": "       EVT_CODE                    date location       obj_code gis_id  \\\n48       162802 2014-10-12 02:25:11.890      HML       S-CS-HML    nan   \n85       164167 2014-10-13 13:58:00.000      HML       S-CS-HML    nan   \n281      164880 2014-10-23 01:42:00.000      HML          11421    nan   \n381      165056 2014-10-27 14:47:00.000      HML       S-CS-HML    nan   \n748      165915 2014-11-12 17:31:00.000      HML          11421    nan   \n...         ...                     ...      ...            ...    ...   \n169911  2555763 2022-08-08 16:08:00.000      HML       S-CS-HML    nan   \n177564  2616139 2023-01-23 10:48:00.000      HML       S-CS-HML    nan   \n177765  2617573 2023-02-01 04:53:00.000      HML       S-CS-HML    nan   \n179889  2633761 2023-05-20 00:15:00.000      HML       S-CS-HML    nan   \n179896  2633768 2023-05-20 20:41:00.000      HML  S-CS-HML-WTWL    nan   \n\n       obj_class labor_type  booked_labor  after_hours  eligible  fee    cost  \n48       STATION          N           4.0         True     False  600  146.56  \n85       STATION          N           0.5         True     False  600   18.32  \n281         PUMP          O           1.0         True     False  600   57.69  \n381      STATION          N           2.0         True     False  600   73.28  \n748         PUMP          O           2.0         True     False  600  115.38  \n...          ...        ...           ...          ...       ...  ...     ...  \n169911   STATION          N           2.0         True     False  600   73.28  \n177564   STATION          N           1.0         True      True  600   36.64  \n177765   STATION          N           1.0         True      True  600   36.64  \n179889   STATION          N           1.0         True      True  600   36.64  \n179896   WETWELL          N           3.0         True      True  600  109.92  \n\n[81 rows x 12 columns]",
      "text/html": "<div>\n<style scoped>\n    .dataframe tbody tr th:only-of-type {\n        vertical-align: middle;\n    }\n\n    .dataframe tbody tr th {\n        vertical-align: top;\n    }\n\n    .dataframe thead th {\n        text-align: right;\n    }\n</style>\n<table border=\"1\" class=\"dataframe\">\n  <thead>\n    <tr style=\"text-align: right;\">\n      <th></th>\n      <th>EVT_CODE</th>\n      <th>date</th>\n      <th>location</th>\n      <th>obj_code</th>\n      <th>gis_id</th>\n      <th>obj_class</th>\n      <th>labor_type</th>\n      <th>booked_labor</th>\n      <th>after_hours</th>\n      <th>eligible</th>\n      <th>fee</th>\n      <th>cost</th>\n    </tr>\n  </thead>\n  <tbody>\n    <tr>\n      <th>48</th>\n      <td>162802</td>\n      <td>2014-10-12 02:25:11.890</td>\n      <td>HML</td>\n      <td>S-CS-HML</td>\n      <td>nan</td>\n      <td>STATION</td>\n      <td>N</td>\n      <td>4.0</td>\n      <td>True</td>\n      <td>False</td>\n      <td>600</td>\n      <td>146.56</td>\n    </tr>\n    <tr>\n      <th>85</th>\n      <td>164167</td>\n      <td>2014-10-13 13:58:00.000</td>\n      <td>HML</td>\n      <td>S-CS-HML</td>\n      <td>nan</td>\n      <td>STATION</td>\n      <td>N</td>\n      <td>0.5</td>\n      <td>True</td>\n      <td>False</td>\n      <td>600</td>\n      <td>18.32</td>\n    </tr>\n    <tr>\n      <th>281</th>\n      <td>164880</td>\n      <td>2014-10-23 01:42:00.000</td>\n      <td>HML</td>\n      <td>11421</td>\n      <td>nan</td>\n      <td>PUMP</td>\n      <td>O</td>\n      <td>1.0</td>\n      <td>True</td>\n      <td>False</td>\n      <td>600</td>\n      <td>57.69</td>\n    </tr>\n    <tr>\n      <th>381</th>\n      <td>165056</td>\n      <td>2014-10-27 14:47:00.000</td>\n      <td>HML</td>\n      <td>S-CS-HML</td>\n      <td>nan</td>\n      <td>STATION</td>\n      <td>N</td>\n      <td>2.0</td>\n      <td>True</td>\n      <td>False</td>\n      <td>600</td>\n      <td>73.28</td>\n    </tr>\n    <tr>\n      <th>748</th>\n      <td>165915</td>\n      <td>2014-11-12 17:31:00.000</td>\n      <td>HML</td>\n      <td>11421</td>\n      <td>nan</td>\n      <td>PUMP</td>\n      <td>O</td>\n      <td>2.0</td>\n      <td>True</td>\n      <td>False</td>\n      <td>600</td>\n      <td>115.38</td>\n    </tr>\n    <tr>\n      <th>...</th>\n      <td>...</td>\n      <td>...</td>\n      <td>...</td>\n      <td>...</td>\n      <td>...</td>\n      <td>...</td>\n      <td>...</td>\n      <td>...</td>\n      <td>...</td>\n      <td>...</td>\n      <td>...</td>\n      <td>...</td>\n    </tr>\n    <tr>\n      <th>169911</th>\n      <td>2555763</td>\n      <td>2022-08-08 16:08:00.000</td>\n      <td>HML</td>\n      <td>S-CS-HML</td>\n      <td>nan</td>\n      <td>STATION</td>\n      <td>N</td>\n      <td>2.0</td>\n      <td>True</td>\n      <td>False</td>\n      <td>600</td>\n      <td>73.28</td>\n    </tr>\n    <tr>\n      <th>177564</th>\n      <td>2616139</td>\n      <td>2023-01-23 10:48:00.000</td>\n      <td>HML</td>\n      <td>S-CS-HML</td>\n      <td>nan</td>\n      <td>STATION</td>\n      <td>N</td>\n      <td>1.0</td>\n      <td>True</td>\n      <td>True</td>\n      <td>600</td>\n      <td>36.64</td>\n    </tr>\n    <tr>\n      <th>177765</th>\n      <td>2617573</td>\n      <td>2023-02-01 04:53:00.000</td>\n      <td>HML</td>\n      <td>S-CS-HML</td>\n      <td>nan</td>\n      <td>STATION</td>\n      <td>N</td>\n      <td>1.0</td>\n      <td>True</td>\n      <td>True</td>\n      <td>600</td>\n      <td>36.64</td>\n    </tr>\n    <tr>\n      <th>179889</th>\n      <td>2633761</td>\n      <td>2023-05-20 00:15:00.000</td>\n      <td>HML</td>\n      <td>S-CS-HML</td>\n      <td>nan</td>\n      <td>STATION</td>\n      <td>N</td>\n      <td>1.0</td>\n      <td>True</td>\n      <td>True</td>\n      <td>600</td>\n      <td>36.64</td>\n    </tr>\n    <tr>\n      <th>179896</th>\n      <td>2633768</td>\n      <td>2023-05-20 20:41:00.000</td>\n      <td>HML</td>\n      <td>S-CS-HML-WTWL</td>\n      <td>nan</td>\n      <td>WETWELL</td>\n      <td>N</td>\n      <td>3.0</td>\n      <td>True</td>\n      <td>True</td>\n      <td>600</td>\n      <td>109.92</td>\n    </tr>\n  </tbody>\n</table>\n<p>81 rows × 12 columns</p>\n</div>"
     },
     "execution_count": 647,
     "metadata": {},
     "output_type": "execute_result"
    }
   ],
   "source": [
    "hml_vis.sort_values('date')"
   ],
   "metadata": {
    "collapsed": false,
    "ExecuteTime": {
     "end_time": "2023-09-25T17:50:31.444631200Z",
     "start_time": "2023-09-25T17:50:31.328628900Z"
    }
   }
  },
  {
   "cell_type": "code",
   "execution_count": 638,
   "outputs": [
    {
     "data": {
      "text/plain": "<Figure size 640x480 with 1 Axes>",
      "image/png": "[encoded data removed]"
     },
     "metadata": {},
     "output_type": "display_data"
    }
   ],
   "source": [
    "plt.plot(hml_vis.date.dt.year, label = 'Highlands Lift Station')\n",
    "plt.plot(mfl_vis.date.dt.year, label = 'Parkside/Mayfield Lift Station')\n",
    "\n",
    "plt.xlabel('Year')\n",
    "plt.ylabel('Work Orders')\n",
    "plt.legend()\n",
    "\n",
    "plt.show()"
   ],
   "metadata": {
    "collapsed": false,
    "ExecuteTime": {
     "end_time": "2023-09-25T17:43:32.049094200Z",
     "start_time": "2023-09-25T17:43:31.881092Z"
    }
   }
  },
  {
   "cell_type": "code",
   "execution_count": 644,
   "outputs": [
    {
     "data": {
      "text/plain": "<Figure size 640x480 with 1 Axes>",
      "image/png": "[encoded data removed]"
     },
     "metadata": {},
     "output_type": "display_data"
    }
   ],
   "source": [
    "ls_vis = df_out.groupby([df_out.date.dt.year, 'location']).size().unstack(fill_value=0)\n",
    "\n",
    "ls_vis.plot()\n",
    "plt.xlabel('Year')\n",
    "plt.ylabel('Count')\n",
    "plt.title('Count of Work Orders by Year and Lift Station')\n",
    "plt.legend(title='Category')\n",
    "\n",
    "plt.show()"
   ],
   "metadata": {
    "collapsed": false,
    "ExecuteTime": {
     "end_time": "2023-09-25T17:48:39.569755Z",
     "start_time": "2023-09-25T17:48:39.370743500Z"
    }
   }
  }
 ],
 "metadata": {
  "kernelspec": {
   "display_name": "Python 3",
   "language": "python",
   "name": "python3"
  },
  "language_info": {
   "codemirror_mode": {
    "name": "ipython",
    "version": 2
   },
   "file_extension": ".py",
   "mimetype": "text/x-python",
   "name": "python",
   "nbconvert_exporter": "python",
   "pygments_lexer": "ipython2",
   "version": "2.7.6"
  }
 },
 "nbformat": 4,
 "nbformat_minor": 0
}
